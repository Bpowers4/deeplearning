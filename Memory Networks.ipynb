{
 "cells": [
  {
   "cell_type": "markdown",
   "metadata": {},
   "source": [
    "### Memory Network\n",
    "\n",
    "- Seq2Seq & Attention: General many-to-many problems\n",
    "    - input length != output length\n",
    "    - Applications: translation, chatbot\n",
    "\n",
    "- The problem:\n",
    "- you are given:\n",
    "    - A story(containing facts)\n",
    "    - A question(about the story)\n",
    "- You predict\n",
    "    - The answer to the question\n",
    "- This is also \"question answering\" but different from the single input-response type        "
   ]
  },
  {
   "cell_type": "markdown",
   "metadata": {},
   "source": [
    "### bAbI dataset\n",
    "- Original research done by Facebook Research(extra_reading.txt)\n",
    "- Different from datasets we've seen so far\n",
    "- Each \"sample\" is not simply an input sentence + output sentence\n",
    "- Instead we have:\n",
    "    - Story(multiple sentence)\n",
    "    - Question(single sentence)\n",
    "    - Answer"
   ]
  },
  {
   "cell_type": "markdown",
   "metadata": {},
   "source": [
    "#### bAbI dataset example\n",
    "\n",
    "- Story\n",
    "    - \"Mary moved to the bathroom\"\n",
    "    - \"John went to the hallway\"\n",
    "- Question\n",
    "    - \"where is Mary?\"\n",
    "- Answer\n",
    "    - \"bathroom\"\n",
    "    "
   ]
  },
  {
   "cell_type": "markdown",
   "metadata": {},
   "source": [
    "#### Single Supporting Fact\n",
    "- Story\n",
    "    - \"Mary moved to the bathroom\"\n",
    "    - \"John went to the hallway\"\n",
    "- Question\n",
    "    - \"where is Mary?\"\n",
    "\n",
    "- Only 1 sentence(fact) in the story is required to answer the question\n",
    "- Should remind you of attention?: which sentence should I pay attention to?\n"
   ]
  },
  {
   "cell_type": "markdown",
   "metadata": {},
   "source": [
    "#### Two supporting Fact\n",
    "- Tough task, will require a more complex model\n",
    "\n",
    "- John went to the hallway\n",
    "- John put down the football\n",
    "- where is the football? hallway\n"
   ]
  },
  {
   "cell_type": "markdown",
   "metadata": {},
   "source": [
    "### data\n",
    "- facebook data"
   ]
  },
  {
   "cell_type": "markdown",
   "metadata": {},
   "source": [
    "### Memory Networks\n",
    "\n",
    "- Not deep -> very fast\n",
    "- Recall: a story is a list of sentences\n",
    "- Simplest thing: sum up all word vectors to get a sentence vector(bag of words)\n"
   ]
  },
  {
   "cell_type": "markdown",
   "metadata": {},
   "source": [
    "- turn story(list of sentences) into the a list of sentence vectors\n",
    "- should remind you of attention\n",
    "- let's weight each sentence. and then use softmax\n"
   ]
  },
  {
   "cell_type": "markdown",
   "metadata": {},
   "source": [
    "### sentence weights\n",
    "\n",
    "-[memory network impl](https://yerevann.github.io/2016/02/05/implementing-dynamic-memory-networks/)  \n",
    "\n",
    "![](https://yerevann.github.io/public/2016-02-06/memn2n.png)"
   ]
  },
  {
   "cell_type": "markdown",
   "metadata": {},
   "source": [
    "![](https://image.slidesharecdn.com/1reasoning-160317105004/95/deep-reasoning-6-638.jpg?cb=1458211896)"
   ]
  },
  {
   "cell_type": "markdown",
   "metadata": {},
   "source": [
    "[memory network paper](https://cs224d.stanford.edu/reports/StrohMathur.pdf)  "
   ]
  },
  {
   "cell_type": "markdown",
   "metadata": {},
   "source": [
    "### Memory Network simple architecture\n",
    "\n",
    "![](./pictures/memoryNetworkGRU.png)"
   ]
  },
  {
   "cell_type": "markdown",
   "metadata": {},
   "source": [
    "### Two supporting fact\n",
    "- Why doesn't our existing model work?\n",
    "- Softmax can only pick 1 thing\n",
    "- In addition, order matters\n",
    "    - John goes to the kitchen\n",
    "    - John goes to the hallway\n",
    "    - where is John? Depends on which order the story happend\n",
    "    "
   ]
  },
  {
   "cell_type": "markdown",
   "metadata": {},
   "source": [
    "### Sentence weights\n",
    "\n",
    "- convert question to a vector(bag of words)\n",
    "    - note: uses its own embedding\n",
    "- Dot question with each story sentence, then softmax\n",
    "    - $w_{i} = softmax(q^{T}s_{i})$\n",
    "\n",
    "[memory network blog](https://jhui.github.io/2017/03/15/Memory-network/)  \n",
    "\n",
    "$p_{i} = softmax(u^T m_{i}).$\n",
    "\n",
    "![](https://jhui.github.io/assets/mem/max11.png)  \n",
    "$c_{i} = embedding_C(x_{i})$\n",
    "$o = \\sum_{i} p_{i} c_{i} $  \n",
    "![](https://jhui.github.io/assets/mem/max12.png)  \n",
    "$\\hat{a} = softmax(W(o + u))$  \n",
    "![](https://jhui.github.io/assets/mem/max13.png)  \n",
    "\n",
    "[facebook babi memory network explaination](http://www.thespermwhale.com/jaseweston/icml2016/icml2016-memnn-tutorial.pptx)      \n"
   ]
  },
  {
   "cell_type": "markdown",
   "metadata": {},
   "source": [
    "#### Strategy\n",
    "- Simply make 2 of the same block\n",
    "- 1 designed to find the first fact, 1 designed to find the 2nd fact\n",
    "- Pass the ouput of first block to the second\n",
    "\n",
    "\n",
    "$ (S_1 -> W_1 \\cdot q,...,S_T -> W_T \\cdot q) \\rightarrow{output_{first}}$  \n",
    "$ output_{first}\\rightarrow (S_1 -> V_1 \\cdot output_{first},...,S_T -> V_T \\cdot output_{first}) \\rightarrow softmax$ \n"
   ]
  },
  {
   "cell_type": "markdown",
   "metadata": {},
   "source": [
    "#### Small deatils\n",
    "- Where do we need story embedding?\n",
    "- Tip: use two separate embeddings\n",
    "    - Pass 2nd embedding from 1st hop to be used for creating weights in 2nd hop\n",
    "- Tip: add dense layer as part of hop,after getting weighted sum of sentence vector($S_{relevant}$)    "
   ]
  },
  {
   "cell_type": "markdown",
   "metadata": {},
   "source": [
    "#### Model interpretation\n",
    "- Similar to attention, we can save the weights of each story line\n",
    "- which line the model found most important\n",
    "- very fast training even on CPU"
   ]
  }
 ],
 "metadata": {
  "kernelspec": {
   "display_name": "Python 3",
   "language": "python",
   "name": "python3"
  },
  "language_info": {
   "codemirror_mode": {
    "name": "ipython",
    "version": 3
   },
   "file_extension": ".py",
   "mimetype": "text/x-python",
   "name": "python",
   "nbconvert_exporter": "python",
   "pygments_lexer": "ipython3",
   "version": "3.5.2"
  },
  "toc": {
   "base_numbering": 1,
   "nav_menu": {},
   "number_sections": true,
   "sideBar": true,
   "skip_h1_title": false,
   "title_cell": "Table of Contents",
   "title_sidebar": "Contents",
   "toc_cell": false,
   "toc_position": {},
   "toc_section_display": true,
   "toc_window_display": false
  },
  "varInspector": {
   "cols": {
    "lenName": 16,
    "lenType": 16,
    "lenVar": 40
   },
   "kernels_config": {
    "python": {
     "delete_cmd_postfix": "",
     "delete_cmd_prefix": "del ",
     "library": "var_list.py",
     "varRefreshCmd": "print(var_dic_list())"
    },
    "r": {
     "delete_cmd_postfix": ") ",
     "delete_cmd_prefix": "rm(",
     "library": "var_list.r",
     "varRefreshCmd": "cat(var_dic_list()) "
    }
   },
   "types_to_exclude": [
    "module",
    "function",
    "builtin_function_or_method",
    "instance",
    "_Feature"
   ],
   "window_display": false
  }
 },
 "nbformat": 4,
 "nbformat_minor": 2
}
