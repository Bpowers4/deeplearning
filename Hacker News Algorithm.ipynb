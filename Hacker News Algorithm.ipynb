{
 "cells": [
  {
   "cell_type": "markdown",
   "metadata": {},
   "source": [
    "### Balancing popularity with age\n",
    "\n",
    "\n",
    "\\begin{equation*}\n",
    "\\frac{f(popularity)}{g(age)}\n",
    "\\end{equation*}\n",
    "\n"
   ]
  },
  {
   "cell_type": "markdown",
   "metadata": {},
   "source": [
    "### Hacker News Formula\n",
    "\n",
    "\\begin{equation*}\n",
    "score\\ = \\frac{(ups - downs -1)^{0.8}}{(age + 2)^{gravity}} \\times penalty\n",
    "\\end{equation*}  \n",
    "\n",
    "- gravity = 1.8\n",
    "- penalty = multiplier to implement business rules(penalize self-posts,controversial posts, ...)\n",
    "\n",
    "\n"
   ]
  },
  {
   "cell_type": "markdown",
   "metadata": {},
   "source": [
    "- gravity = 1.8 > 0.8 \n",
    "- Denominator grows faster than numerator\n",
    "- Age always overtakes popularity"
   ]
  },
  {
   "cell_type": "markdown",
   "metadata": {},
   "source": [
    "### Power Law  \n",
    "\n",
    "\n",
    "![](http://kingsolutions.org.uk/wordpress/wp-content/uploads/power-law.jpg)\n",
    "\n",
    "- Link popularity has been found to follow power law/long tail\n",
    "- Few articles get lots of votes, many get a few\n",
    "- Same idea for words: some words like \"the\" get used very often, but most words are used rarely"
   ]
  },
  {
   "cell_type": "markdown",
   "metadata": {},
   "source": [
    "- __If Score grew linearly with popularity then they would be very spread out__\n",
    "     - Most articles would have only 1-2 votes\n",
    "     - just a few articles would have 500,1000+ votes\n",
    "- Similar idea appears in Reddit ranking\n",
    "- Hacker News uses this same ranking formula for both links and comments"
   ]
  },
  {
   "cell_type": "markdown",
   "metadata": {},
   "source": [
    "[hacker news algorithm](http://www.righto.com/2013/11/how-hacker-news-ranking-really-works.html)"
   ]
  },
  {
   "cell_type": "markdown",
   "metadata": {},
   "source": []
  }
 ],
 "metadata": {
  "kernelspec": {
   "display_name": "Python 3",
   "language": "python",
   "name": "python3"
  },
  "language_info": {
   "codemirror_mode": {
    "name": "ipython",
    "version": 3
   },
   "file_extension": ".py",
   "mimetype": "text/x-python",
   "name": "python",
   "nbconvert_exporter": "python",
   "pygments_lexer": "ipython3",
   "version": "3.5.2"
  },
  "toc": {
   "base_numbering": 1,
   "nav_menu": {},
   "number_sections": true,
   "sideBar": true,
   "skip_h1_title": false,
   "title_cell": "Table of Contents",
   "title_sidebar": "Contents",
   "toc_cell": false,
   "toc_position": {},
   "toc_section_display": true,
   "toc_window_display": false
  },
  "varInspector": {
   "cols": {
    "lenName": 16,
    "lenType": 16,
    "lenVar": 40
   },
   "kernels_config": {
    "python": {
     "delete_cmd_postfix": "",
     "delete_cmd_prefix": "del ",
     "library": "var_list.py",
     "varRefreshCmd": "print(var_dic_list())"
    },
    "r": {
     "delete_cmd_postfix": ") ",
     "delete_cmd_prefix": "rm(",
     "library": "var_list.r",
     "varRefreshCmd": "cat(var_dic_list()) "
    }
   },
   "types_to_exclude": [
    "module",
    "function",
    "builtin_function_or_method",
    "instance",
    "_Feature"
   ],
   "window_display": false
  }
 },
 "nbformat": 4,
 "nbformat_minor": 2
}
