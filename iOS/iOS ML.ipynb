{
 "cells": [
  {
   "cell_type": "markdown",
   "metadata": {},
   "source": [
    "## Swift for TensorFlow\n",
    "\n",
    "> Swift for TensorFlow: No boundaries.\n",
    "\n",
    "Swift for TensorFlow is a next-generation platform for machine learning,\n",
    "incorporating the latest research across machine learning, compilers,\n",
    "differentiable programming, systems design, and beyond. This is an early-stage\n",
    "project: it is not feature-complete nor production-ready, but it is ready for\n",
    "_pioneers_ to try in projects, give feedback, and help shape the future!\n",
    "\n",
    "The Swift for TensorFlow project is currently focusing on 2 kinds of users:\n",
    "\n",
    "1. **Advanced ML researchers** who are limited by current ML frameworks. Swift\n",
    "   for TensorFlow's advantages include a seamless integration with a modern\n",
    "   general-purpose language, allowing for more dynamic and sophisticated models.\n",
    "   Fast abstractions can be developed \"in user-space\" (as opposed to in C/C++\n",
    "   aka \"framework-space\"), resulting in modular APIs that can be easily\n",
    "   customized.\n",
    "\n",
    "2. **ML learners** who are just getting started with machine learning. Thanks to\n",
    "   Swift's support for quality tooling (e.g. context-aware autocomplete), Swift\n",
    "   for TensorFlow can be one of the most productive ways to get started learning\n",
    "   the fundamentals of machine learning.\n",
    "   \n",
    "\n",
    "\n",
    "[Swift for Tensorflow](https://github.com/tensorflow/swift)  \n"
   ]
  },
  {
   "cell_type": "markdown",
   "metadata": {},
   "source": [
    "## [swift for tensorflow](https://www.tensorflow.org/swift)"
   ]
  },
  {
   "cell_type": "markdown",
   "metadata": {},
   "source": [
    "## [Integrating TensorFlow Model in an iOS App](https://hackernoon.com/integrating-tensorflow-model-in-an-ios-app-cecf30b9068d)"
   ]
  },
  {
   "cell_type": "markdown",
   "metadata": {},
   "source": [
    "## [TensorFlow to CoreML Conversion and Model Inspection](https://medium.com/towards-artificial-intelligence/tensorflow-to-coreml-conversion-and-model-inspection-8a30123b1289)\n"
   ]
  },
  {
   "cell_type": "markdown",
   "metadata": {},
   "source": []
  }
 ],
 "metadata": {
  "kernelspec": {
   "display_name": "Python 3",
   "language": "python",
   "name": "python3"
  },
  "language_info": {
   "codemirror_mode": {
    "name": "ipython",
    "version": 3
   },
   "file_extension": ".py",
   "mimetype": "text/x-python",
   "name": "python",
   "nbconvert_exporter": "python",
   "pygments_lexer": "ipython3",
   "version": "3.5.2"
  },
  "toc": {
   "base_numbering": 1,
   "nav_menu": {},
   "number_sections": true,
   "sideBar": true,
   "skip_h1_title": false,
   "title_cell": "Table of Contents",
   "title_sidebar": "Contents",
   "toc_cell": false,
   "toc_position": {},
   "toc_section_display": true,
   "toc_window_display": false
  },
  "varInspector": {
   "cols": {
    "lenName": 16,
    "lenType": 16,
    "lenVar": 40
   },
   "kernels_config": {
    "python": {
     "delete_cmd_postfix": "",
     "delete_cmd_prefix": "del ",
     "library": "var_list.py",
     "varRefreshCmd": "print(var_dic_list())"
    },
    "r": {
     "delete_cmd_postfix": ") ",
     "delete_cmd_prefix": "rm(",
     "library": "var_list.r",
     "varRefreshCmd": "cat(var_dic_list()) "
    }
   },
   "types_to_exclude": [
    "module",
    "function",
    "builtin_function_or_method",
    "instance",
    "_Feature"
   ],
   "window_display": false
  }
 },
 "nbformat": 4,
 "nbformat_minor": 2
}
