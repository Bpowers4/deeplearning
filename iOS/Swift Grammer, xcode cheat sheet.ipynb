{
 "cells": [
  {
   "cell_type": "markdown",
   "metadata": {},
   "source": [
    "```swift\n",
    "var a = 5\n",
    "var b = 8\n",
    "var c = a\n",
    "a = b\n",
    "b = c\n",
    "print(\"a: \\(a)\")\n",
    "print(\"b: \\(b)\")\n",
    "```"
   ]
  },
  {
   "cell_type": "markdown",
   "metadata": {},
   "source": [
    "![](https://img.docer.pl/photo/l/nv8vvcs.png)"
   ]
  },
  {
   "cell_type": "markdown",
   "metadata": {},
   "source": [
    "![](https://i.redd.it/pfzrl20wyh221.png)"
   ]
  },
  {
   "cell_type": "markdown",
   "metadata": {},
   "source": [
    "![](http://3.bp.blogspot.com/-MfLioEJz5T0/VHgNpvyJ7TI/AAAAAAAAC1Y/JgTi1ElcK2I/s1600/Swift%2BCheat%2BSheet%2B-%2BOOP.png)"
   ]
  },
  {
   "cell_type": "markdown",
   "metadata": {},
   "source": [
    "![](http://4.bp.blogspot.com/-7EgbFjh_G2w/VHgNpsp_qXI/AAAAAAAAC1c/pi0MhgyWUU0/s1600/Swift%2BCheat%2BSheet%2B-%2BBasics.png)"
   ]
  },
  {
   "cell_type": "markdown",
   "metadata": {},
   "source": [
    "![](https://www.iphoneness.com/wp-content/uploads/2013/11/xcode-cheatsheet.jpg)"
   ]
  },
  {
   "cell_type": "markdown",
   "metadata": {},
   "source": [
    "![](https://i.pinimg.com/originals/7f/1e/77/7f1e771a4729ace071cab67e1b11fe0c.jpg)"
   ]
  },
  {
   "cell_type": "markdown",
   "metadata": {},
   "source": [
    "![](https://ayeshakdotblog.files.wordpress.com/2017/12/screen-shot-2017-12-21-at-12-12-10-am.png?w=525)"
   ]
  }
 ],
 "metadata": {
  "kernelspec": {
   "display_name": "Python 3",
   "language": "python",
   "name": "python3"
  },
  "language_info": {
   "codemirror_mode": {
    "name": "ipython",
    "version": 3
   },
   "file_extension": ".py",
   "mimetype": "text/x-python",
   "name": "python",
   "nbconvert_exporter": "python",
   "pygments_lexer": "ipython3",
   "version": "3.7.4"
  }
 },
 "nbformat": 4,
 "nbformat_minor": 2
}
