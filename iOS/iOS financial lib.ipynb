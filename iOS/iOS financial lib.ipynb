{
 "cells": [
  {
   "cell_type": "markdown",
   "metadata": {},
   "source": [
    "### [ Daltron/BigBoard](https://github.com/Daltron/BigBoard)  \n",
    "\n",
    "\n",
    "## Features\n",
    "- [x] Retreive a stock based on a stock symbol\n",
    "- [x] Retrieve multiple stocks at the same time based on multiple stock symbols\n",
    "- [x] Retrieve an RSS Feed with the 25 most recent items for a stock symbol\n",
    "- [x] Retrieve an RSS Feed with the 25 most recent items for multiple stock symbols\n",
    "- [x] Retrieve historical data for a stock for any custom date range\n",
    "- [x] Retrieve chart data information for a stock that can easily be used in many charting libraries\n",
    "- [x] Retrieve graph images with custom trendlines\n",
    "- [x] Retrieve a list of stocks based on a search term\n",
    "- [x] Comprehensive unit test coverage\n",
    "- [x] Extensive documentation\n"
   ]
  },
  {
   "cell_type": "markdown",
   "metadata": {},
   "source": [
    "### [A Swift financial markets library for accessing Yahoo! Finance APIs](https://github.com/ackleymi/SwiftStock)\n",
    "\n",
    "![](https://raw.githubusercontent.com/ackleymi/SwiftStock/master/assets/demo.gif)"
   ]
  },
  {
   "cell_type": "markdown",
   "metadata": {},
   "source": [
    "### [Stocks App for iOS](https://github.com/MauriceArikoglu/stocks-ios)  \n",
    "\n",
    "![](https://raw.githubusercontent.com/MauriceArikoglu/stocks-ios/master/Stocks/Screenshot.png)"
   ]
  },
  {
   "cell_type": "markdown",
   "metadata": {},
   "source": []
  }
 ],
 "metadata": {
  "kernelspec": {
   "display_name": "Python 3",
   "language": "python",
   "name": "python3"
  },
  "language_info": {
   "codemirror_mode": {
    "name": "ipython",
    "version": 3
   },
   "file_extension": ".py",
   "mimetype": "text/x-python",
   "name": "python",
   "nbconvert_exporter": "python",
   "pygments_lexer": "ipython3",
   "version": "3.7.4"
  },
  "toc": {
   "base_numbering": 1,
   "nav_menu": {},
   "number_sections": true,
   "sideBar": true,
   "skip_h1_title": false,
   "title_cell": "Table of Contents",
   "title_sidebar": "Contents",
   "toc_cell": false,
   "toc_position": {},
   "toc_section_display": true,
   "toc_window_display": false
  },
  "varInspector": {
   "cols": {
    "lenName": 16,
    "lenType": 16,
    "lenVar": 40
   },
   "kernels_config": {
    "python": {
     "delete_cmd_postfix": "",
     "delete_cmd_prefix": "del ",
     "library": "var_list.py",
     "varRefreshCmd": "print(var_dic_list())"
    },
    "r": {
     "delete_cmd_postfix": ") ",
     "delete_cmd_prefix": "rm(",
     "library": "var_list.r",
     "varRefreshCmd": "cat(var_dic_list()) "
    }
   },
   "types_to_exclude": [
    "module",
    "function",
    "builtin_function_or_method",
    "instance",
    "_Feature"
   ],
   "window_display": false
  }
 },
 "nbformat": 4,
 "nbformat_minor": 2
}
