{
 "cells": [
  {
   "cell_type": "markdown",
   "metadata": {},
   "source": [
    "# [elatedcode/RealtimeChat](https://github.com/relatedcode/RealtimeChat/blob/master/README.md)  \n",
    "\n",
    "\n",
    "This is a native iOS Messenger app, with audio/video calls and realtime chat conversations (full offline support).\n",
    "\n",
    "---\n",
    "\n",
    "<img src=\"https://relatedcode.com/screen52/chat03.png\" width=\"290\">.<img src=\"https://relatedcode.com/screen52/call1.png\" width=\"290\">.<img src=\"https://relatedcode.com/screen52/chats01.png\" width=\"290\">\n",
    "<img src=\"https://relatedcode.com/screen52/settings2.png\" width=\"290\">.<img src=\"https://relatedcode.com/screen52/chats02.png\" width=\"290\">.<img src=\"https://relatedcode.com/screen52/chat07.png\" width=\"290\">\n",
    "\n",
    "---\n",
    "\n",
    "## ADDITIONAL FEATURES\n",
    "\n",
    "- Full source code is available for all features\n",
    "- Video call (in-app video calling over data connection)\n",
    "- Audio call (in-app audio calling over data connection)\n",
    "- Message queue (creating new messages while offline)\n",
    "- User last active (or currently online) status info\n",
    "- Spotlight search for users\n",
    "- Media download network settings (Wi-Fi, Cellular or Manual)\n",
    "- Cache settings for media messages (automatic/manual cleanup)\n",
    "- Media message re-download option\n",
    "- Dynamic password generation\n",
    "- Block users\n",
    "- Forward messages\n",
    "- Mute push notifications\n",
    "- Home screen quick actions\n",
    "- Share media message content\n",
    "\n",
    "## KEY FEATURES\n",
    "\n",
    "- AI powered chat interface\n",
    "- Firebase backend (full realtime actions)\n",
    "- Realm local database (full offline availability)\n",
    "- AES-256 encryption\n",
    "\n",
    "## FEATURES\n",
    "\n",
    "- Live chat between multiple devices\n",
    "- Private chat functionality\n",
    "- Group chat functionality\n",
    "- Push notification support\n",
    "- No backend programming is needed\n",
    "- Native and easy to customize user interface\n",
    "- Login with Email\n",
    "- Login with SMS\n",
    "- Sending text messages\n",
    "- Sending pictures\n",
    "- Sending videos\n",
    "- Sending audio messages\n",
    "- Sending current location\n",
    "- Sending stickers\n",
    "- Sending large emojis\n",
    "- Media file local cache\n",
    "- Load earlier messages\n",
    "- Typing indicator\n",
    "- Message delivery receipt\n",
    "- Message read receipt\n",
    "- Save picture messages to device\n",
    "- Save video messages to device\n",
    "- Save audio messages to device\n",
    "- Delete read and unread messages\n",
    "- Realtime conversation view for ongoing chats\n",
    "- Archived conversation view for archived chats\n",
    "- All media view for chat media files\n",
    "- Picture view for multiple pictures\n",
    "- Map view for shared locations\n",
    "- Basic Settings view included\n",
    "- Basic Profile view for users\n",
    "- Edit Profile view for changing user details\n",
    "- Onboarding view on signup\n",
    "- Wallpaper backgrounds for Chat view\n",
    "- Call history view\n",
    "- Privacy Policy view\n",
    "- Terms of Service view\n",
    "- Video length limit possibility\n",
    "- Copy and paste text messages\n",
    "- Arbitrary message sizes\n",
    "- Send/Receive sound effects\n",
    "- Deployment target: iOS 11.0+\n",
    "- Supported devices: iPhone 5s, SE, 6, 6 Plus, 6s, 6s Plus, 7, 7 Plus, 8, 8 Plus, iPhone X, XS, XR, XS Max"
   ]
  },
  {
   "cell_type": "markdown",
   "metadata": {},
   "source": [
    "# [iOS Swift Chat App (Includes 100% Ready UI)](https://github.com/cometchat-pro-samples/ios-swift-chat-app)\n",
    "\n",
    "![](https://github.com/cometchat-pro-samples/ios-swift-chat-app/blob/master/Screenshots/Screenshots.png)\n",
    "\n",
    "## Customizing the UI\n",
    " \n",
    "We have provided three themes with our sample app namely **PersianBlue, MountainMeadow, AzureRadiance**. To apply the themes:\n",
    " \n",
    "   - Go to CometChatPro-swift-sampleApp -->  **CometChat-info.plist**\n",
    "    \n",
    "   - In UIApperance, enter the **Theme** name as shown below: \n",
    "   \n",
    "![](https://github.com/cometchat-pro/ios-swift-chat-app/blob/master/Screenshots/Theme.png)\n",
    " \n"
   ]
  }
 ],
 "metadata": {
  "kernelspec": {
   "display_name": "Python 3",
   "language": "python",
   "name": "python3"
  },
  "language_info": {
   "codemirror_mode": {
    "name": "ipython",
    "version": 3
   },
   "file_extension": ".py",
   "mimetype": "text/x-python",
   "name": "python",
   "nbconvert_exporter": "python",
   "pygments_lexer": "ipython3",
   "version": "3.5.2"
  },
  "toc": {
   "base_numbering": 1,
   "nav_menu": {},
   "number_sections": true,
   "sideBar": true,
   "skip_h1_title": false,
   "title_cell": "Table of Contents",
   "title_sidebar": "Contents",
   "toc_cell": false,
   "toc_position": {},
   "toc_section_display": true,
   "toc_window_display": false
  },
  "varInspector": {
   "cols": {
    "lenName": 16,
    "lenType": 16,
    "lenVar": 40
   },
   "kernels_config": {
    "python": {
     "delete_cmd_postfix": "",
     "delete_cmd_prefix": "del ",
     "library": "var_list.py",
     "varRefreshCmd": "print(var_dic_list())"
    },
    "r": {
     "delete_cmd_postfix": ") ",
     "delete_cmd_prefix": "rm(",
     "library": "var_list.r",
     "varRefreshCmd": "cat(var_dic_list()) "
    }
   },
   "types_to_exclude": [
    "module",
    "function",
    "builtin_function_or_method",
    "instance",
    "_Feature"
   ],
   "window_display": false
  }
 },
 "nbformat": 4,
 "nbformat_minor": 2
}
