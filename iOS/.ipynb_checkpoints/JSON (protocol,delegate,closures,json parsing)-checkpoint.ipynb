{
 "cells": [
  {
   "cell_type": "markdown",
   "metadata": {},
   "source": [
    "# Protocol"
   ]
  },
  {
   "cell_type": "markdown",
   "metadata": {},
   "source": [
    "```swift\n",
    "protocol classa {\n",
    "   var marks: Int { get set }\n",
    "   var result: Bool { get }\n",
    "   \n",
    "   func attendance() -> String\n",
    "   func markssecured() -> String\n",
    "}\n",
    "\n",
    "protocol classb: classa {\n",
    "   var present: Bool { get set }\n",
    "   var subject: String { get set }\n",
    "   var stname: String { get set }\n",
    "}\n",
    "\n",
    "class classc: classb {\n",
    "   var marks = 96\n",
    "   let result = true\n",
    "   var present = false\n",
    "   var subject = \"Swift 4 Protocols\"\n",
    "   var stname = \"Protocols\"\n",
    "\n",
    "   func attendance() -> String {\n",
    "      return \"The \\(stname) has secured 99% attendance\"\n",
    "   }\n",
    "   func markssecured() -> String {\n",
    "      return \"\\(stname) has scored \\(marks)\"\n",
    "   }\n",
    "}\n",
    "\n",
    "let studdet = classc()\n",
    "studdet.stname = \"Swift 4\"\n",
    "studdet.marks = 98\n",
    "studdet.markssecured()\n",
    "\n",
    "print(studdet.marks)\n",
    "print(studdet.result)\n",
    "print(studdet.present)\n",
    "print(studdet.subject)\n",
    "print(studdet.stname)\n",
    "```"
   ]
  },
  {
   "cell_type": "markdown",
   "metadata": {},
   "source": [
    "# Delegate"
   ]
  },
  {
   "cell_type": "markdown",
   "metadata": {},
   "source": [
    "[Swift From Scratch: Delegation and Properties](https://code.tutsplus.com/tutorials/swift-from-scratch-delegation-and-properties--cms-23445) : textfield"
   ]
  },
  {
   "cell_type": "markdown",
   "metadata": {},
   "source": [
    "![](https://www.appcoda.com/wp-content/uploads/2018/02/image-3.png)"
   ]
  },
  {
   "cell_type": "markdown",
   "metadata": {},
   "source": [
    "```swift\n",
    "class BubbleView: UIView {\n",
    "    override init(frame: CGRect) {\n",
    "        super.init(frame: frame)\n",
    "        setup()\n",
    "    }\n",
    "    required init?(coder aDecoder: NSCoder) {\n",
    "        super.init(coder: aDecoder)\n",
    "        setup()\n",
    "    }\n",
    "    private func setup() {\n",
    "        self.isUserInteractionEnabled = true\n",
    "        let tapGestureRecognizer = UITapGestureRecognizer(target: self, action: #selector(BubbleView.didTapIntoButton))\n",
    "        self.addGestureRecognizer(tapGestureRecognizer)\n",
    "    }\n",
    "    \n",
    "    @objc func didTapIntoButton(_ sender: UITapGestureRecognizer) {\n",
    "    }\n",
    "}\n",
    "\n",
    "\n",
    "protocol BubbleViewDelegate: class {\n",
    "    func userDidTap(into bubbleView: BubbleView)\n",
    "}\n",
    "\n",
    "class BubbleView: UIView {\n",
    "    { ... }\n",
    "    weak var delegate: BubbleViewDelegate?\n",
    "\n",
    "    @objc func didTapIntoButton(_ sender: UITapGestureRecognizer) {\n",
    "        delegate?.userDidTap(into: self)\n",
    "    }\n",
    "}\n",
    "\n",
    "class ContainerViewController: UIViewController {\n",
    "\n",
    "    lazy var bubbleView: BubbleView = {\n",
    "        let bubbleView = BubbleView(frame: CGRect(x: 80, y: 0, width: 160, height: 160))\n",
    "        bubbleView.backgroundColor = .blue\n",
    "        bubbleView.layer.cornerRadius = 80\n",
    "        bubbleView.delegate = self\n",
    "        return bubbleView\n",
    "    }()\n",
    "    override func loadView() {\n",
    "        super.loadView()\n",
    "        view.addSubview(bubbleView)\n",
    "    }\n",
    "}\n",
    "extension ContainerViewController: BubbleViewDelegate {\n",
    "    func userDidTap(into bubbleView: BubbleView) {\n",
    "        let currentBounds = view.bounds\n",
    "        UIView.animate(withDuration: 1.5) {\n",
    "            var frame = bubbleView.frame\n",
    "            frame.origin.y = currentBounds.height\n",
    "            bubbleView.frame = frame\n",
    "        }\n",
    "    }\n",
    "}\n",
    "```"
   ]
  }
 ],
 "metadata": {
  "kernelspec": {
   "display_name": "Python 3",
   "language": "python",
   "name": "python3"
  },
  "language_info": {
   "codemirror_mode": {
    "name": "ipython",
    "version": 3
   },
   "file_extension": ".py",
   "mimetype": "text/x-python",
   "name": "python",
   "nbconvert_exporter": "python",
   "pygments_lexer": "ipython3",
   "version": "3.5.2"
  },
  "toc": {
   "base_numbering": 1,
   "nav_menu": {},
   "number_sections": true,
   "sideBar": true,
   "skip_h1_title": false,
   "title_cell": "Table of Contents",
   "title_sidebar": "Contents",
   "toc_cell": false,
   "toc_position": {},
   "toc_section_display": true,
   "toc_window_display": false
  },
  "varInspector": {
   "cols": {
    "lenName": 16,
    "lenType": 16,
    "lenVar": 40
   },
   "kernels_config": {
    "python": {
     "delete_cmd_postfix": "",
     "delete_cmd_prefix": "del ",
     "library": "var_list.py",
     "varRefreshCmd": "print(var_dic_list())"
    },
    "r": {
     "delete_cmd_postfix": ") ",
     "delete_cmd_prefix": "rm(",
     "library": "var_list.r",
     "varRefreshCmd": "cat(var_dic_list()) "
    }
   },
   "types_to_exclude": [
    "module",
    "function",
    "builtin_function_or_method",
    "instance",
    "_Feature"
   ],
   "window_display": false
  }
 },
 "nbformat": 4,
 "nbformat_minor": 2
}
