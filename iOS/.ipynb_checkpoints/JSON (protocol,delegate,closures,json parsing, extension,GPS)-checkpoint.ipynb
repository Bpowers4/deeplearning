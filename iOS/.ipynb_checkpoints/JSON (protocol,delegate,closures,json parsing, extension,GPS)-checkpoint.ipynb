{
 "cells": [
  {
   "cell_type": "markdown",
   "metadata": {},
   "source": [
    "# Protocol"
   ]
  },
  {
   "cell_type": "markdown",
   "metadata": {},
   "source": [
    "```swift\n",
    "protocol classa {\n",
    "   var marks: Int { get set }\n",
    "   var result: Bool { get }\n",
    "   \n",
    "   func attendance() -> String\n",
    "   func markssecured() -> String\n",
    "}\n",
    "\n",
    "protocol classb: classa {\n",
    "   var present: Bool { get set }\n",
    "   var subject: String { get set }\n",
    "   var stname: String { get set }\n",
    "}\n",
    "\n",
    "class classc: classb {\n",
    "   var marks = 96\n",
    "   let result = true\n",
    "   var present = false\n",
    "   var subject = \"Swift 4 Protocols\"\n",
    "   var stname = \"Protocols\"\n",
    "\n",
    "   func attendance() -> String {\n",
    "      return \"The \\(stname) has secured 99% attendance\"\n",
    "   }\n",
    "   func markssecured() -> String {\n",
    "      return \"\\(stname) has scored \\(marks)\"\n",
    "   }\n",
    "}\n",
    "\n",
    "let studdet = classc()\n",
    "studdet.stname = \"Swift 4\"\n",
    "studdet.marks = 98\n",
    "studdet.markssecured()\n",
    "\n",
    "print(studdet.marks)\n",
    "print(studdet.result)\n",
    "print(studdet.present)\n",
    "print(studdet.subject)\n",
    "print(studdet.stname)\n",
    "```"
   ]
  },
  {
   "cell_type": "markdown",
   "metadata": {},
   "source": [
    "# Delegate"
   ]
  },
  {
   "cell_type": "markdown",
   "metadata": {},
   "source": [
    "[Swift From Scratch: Delegation and Properties](https://code.tutsplus.com/tutorials/swift-from-scratch-delegation-and-properties--cms-23445) : textfield"
   ]
  },
  {
   "cell_type": "markdown",
   "metadata": {},
   "source": [
    "![](https://www.appcoda.com/wp-content/uploads/2018/02/image-3.png)"
   ]
  },
  {
   "cell_type": "markdown",
   "metadata": {},
   "source": [
    "```swift\n",
    "class BubbleView: UIView {\n",
    "    override init(frame: CGRect) {\n",
    "        super.init(frame: frame)\n",
    "        setup()\n",
    "    }\n",
    "    required init?(coder aDecoder: NSCoder) {\n",
    "        super.init(coder: aDecoder)\n",
    "        setup()\n",
    "    }\n",
    "    private func setup() {\n",
    "        self.isUserInteractionEnabled = true\n",
    "        let tapGestureRecognizer = UITapGestureRecognizer(target: self, action: #selector(BubbleView.didTapIntoButton))\n",
    "        self.addGestureRecognizer(tapGestureRecognizer)\n",
    "    }\n",
    "    \n",
    "    @objc func didTapIntoButton(_ sender: UITapGestureRecognizer) {\n",
    "    }\n",
    "}\n",
    "\n",
    "\n",
    "protocol BubbleViewDelegate: class {\n",
    "    func userDidTap(into bubbleView: BubbleView)\n",
    "}\n",
    "\n",
    "class BubbleView: UIView {\n",
    "    { ... }\n",
    "    weak var delegate: BubbleViewDelegate?\n",
    "\n",
    "    @objc func didTapIntoButton(_ sender: UITapGestureRecognizer) {\n",
    "        delegate?.userDidTap(into: self)\n",
    "    }\n",
    "}\n",
    "\n",
    "class ContainerViewController: UIViewController {\n",
    "\n",
    "    lazy var bubbleView: BubbleView = {\n",
    "        let bubbleView = BubbleView(frame: CGRect(x: 80, y: 0, width: 160, height: 160))\n",
    "        bubbleView.backgroundColor = .blue\n",
    "        bubbleView.layer.cornerRadius = 80\n",
    "        bubbleView.delegate = self\n",
    "        return bubbleView\n",
    "    }()\n",
    "    override func loadView() {\n",
    "        super.loadView()\n",
    "        view.addSubview(bubbleView)\n",
    "    }\n",
    "}\n",
    "extension ContainerViewController: BubbleViewDelegate {\n",
    "    func userDidTap(into bubbleView: BubbleView) {\n",
    "        let currentBounds = view.bounds\n",
    "        UIView.animate(withDuration: 1.5) {\n",
    "            var frame = bubbleView.frame\n",
    "            frame.origin.y = currentBounds.height\n",
    "            bubbleView.frame = frame\n",
    "        }\n",
    "    }\n",
    "}\n",
    "```"
   ]
  },
  {
   "cell_type": "markdown",
   "metadata": {},
   "source": [
    "# URL"
   ]
  },
  {
   "cell_type": "markdown",
   "metadata": {},
   "source": [
    "```swift\n",
    "if let url = URL(string: urlString){\n",
    "  let session = URLSession(configuration: .default)\n",
    "  let task = session.dataTask(with: url,completionHandler:handle(data: response: error:)) \n",
    "  task.resume()                              \n",
    "}\n",
    "func handle(data: Data?, response: URLResponse?, error: Error?){\n",
    "    \n",
    "}    \n",
    "```"
   ]
  },
  {
   "cell_type": "markdown",
   "metadata": {},
   "source": [
    "# Closures"
   ]
  },
  {
   "cell_type": "markdown",
   "metadata": {},
   "source": [
    "```swift\n",
    "let divide = {\n",
    "   (val1: Int, val2: Int) -> Int in \n",
    "   return val1 / val2 \n",
    "}\n",
    "\n",
    "let result = divide(200, 20)\n",
    "print (result)\n",
    "```"
   ]
  },
  {
   "cell_type": "markdown",
   "metadata": {},
   "source": [
    "### [swift_closures](https://www.tutorialspoint.com/swift/swift_closures.htm)  \n",
    "### [swift official closures](https://docs.swift.org/swift-book/LanguageGuide/Closures.html)  "
   ]
  },
  {
   "cell_type": "markdown",
   "metadata": {},
   "source": [
    "```swift\n",
    "{ (parameters) -> return type in\n",
    "    statements\n",
    "}\n",
    "```"
   ]
  },
  {
   "cell_type": "markdown",
   "metadata": {},
   "source": [
    "```swift\n",
    "func calculator(n1: Int, n2: Int,operation:(Int,Int)->Int) -> Int{\n",
    "  return operation(n1,n2)\n",
    "}    \n",
    "\n",
    "func add(no1:Int,no2:Int)-> Int{\n",
    "  return no1+no2\n",
    "}\n",
    "calculator(n1:2,n2:3,operation:add)\n",
    "\n",
    "or\n",
    "let result = calculator(n1:2,n2:3,operation:{(no1,no2) in no1 + no2})\n",
    "\n",
    "let result = calculator(n1:2,n2:3,operation:{$0 + $1})\n",
    "```"
   ]
  },
  {
   "cell_type": "markdown",
   "metadata": {},
   "source": [
    "# JSON"
   ]
  },
  {
   "cell_type": "markdown",
   "metadata": {},
   "source": [
    "```swift\n",
    "{\n",
    "  weather:[..,\"description\":\"\",...]\n",
    "  main:{...}\n",
    "  \n",
    "}\n",
    "\n",
    "struct WeatherData: Decodable{\n",
    " let name:String\n",
    " let main:Main\n",
    " let weather:[Weather]\n",
    " \n",
    "}\n",
    "struct Weather{\n",
    "    let description:String\n",
    "}\n",
    "\n",
    "func parseJSON(weatherData:Data){\n",
    " let decoder = JSONDecoder()\n",
    " do {\n",
    "     let decodedData = try decoder.decode(WeatherData.self,from:weatherData)\n",
    "     print(decodedData.name)\n",
    " }catch{\n",
    "     print(error)\n",
    " }\n",
    " \n",
    "}\n",
    "\n",
    "```"
   ]
  },
  {
   "cell_type": "markdown",
   "metadata": {},
   "source": [
    "```swift\n",
    "\n",
    "struct WeatherData: Codable {\n",
    "    let name: String\n",
    "    let main: Main\n",
    "    let weather: [Weather]\n",
    "}\n",
    "\n",
    "struct Main: Codable {\n",
    "    let temp: Double\n",
    "}\n",
    "\n",
    "struct Weather: Codable {\n",
    "    let description: String\n",
    "    let id: Int\n",
    "}\n",
    "\n",
    "struct WeatherModel {\n",
    "    let conditionId: Int\n",
    "    let cityName: String\n",
    "    let temperature: Double\n",
    "    \n",
    "    var temperatureString: String {\n",
    "        return String(format: \"%.1f\", temperature)\n",
    "    }\n",
    "    \n",
    "    var conditionName: String {\n",
    "        switch conditionId {\n",
    "        case 200...232:\n",
    "            return \"cloud.bolt\"\n",
    "        case 300...321:\n",
    "            return \"cloud.drizzle\"\n",
    "        case 500...531:\n",
    "            return \"cloud.rain\"\n",
    "        case 600...622:\n",
    "            return \"cloud.snow\"\n",
    "        case 701...781:\n",
    "            return \"cloud.fog\"\n",
    "        case 800:\n",
    "            return \"sun.max\"\n",
    "        case 801...804:\n",
    "            return \"cloud.bolt\"\n",
    "        default:\n",
    "            return \"cloud\"\n",
    "        }\n",
    "    }\n",
    "    \n",
    "}\n",
    "\n",
    "func parseJSON(_ weatherData: Data) -> WeatherModel? {\n",
    "        let decoder = JSONDecoder()\n",
    "        do {\n",
    "            let decodedData = try decoder.decode(WeatherData.self, from: weatherData)\n",
    "            let id = decodedData.weather[0].id\n",
    "            let temp = decodedData.main.temp\n",
    "            let name = decodedData.name\n",
    "            \n",
    "            let weather = WeatherModel(conditionId: id, cityName: name, temperature: temp)\n",
    "            return weather\n",
    "            \n",
    "        } catch {\n",
    "            delegate?.didFailWithError(error: error)\n",
    "            return nil\n",
    "        }\n",
    "    }\n",
    "```"
   ]
  },
  {
   "cell_type": "markdown",
   "metadata": {},
   "source": [
    "# Delegate async thread"
   ]
  },
  {
   "cell_type": "markdown",
   "metadata": {},
   "source": [
    "## DispatchQueue"
   ]
  },
  {
   "cell_type": "markdown",
   "metadata": {},
   "source": [
    "```swift\n",
    "//MARK: - WeatherManagerDelegate\n",
    "\n",
    "\n",
    "extension WeatherViewController: WeatherManagerDelegate {\n",
    "    \n",
    "    func didUpdateWeather(_ weatherManager: WeatherManager, weather: WeatherModel) {\n",
    "        DispatchQueue.main.async {\n",
    "            self.temperatureLabel.text = weather.temperatureString\n",
    "            self.conditionImageView.image = UIImage(systemName: weather.conditionName)\n",
    "            self.cityLabel.text = weather.cityName\n",
    "        }\n",
    "    }\n",
    "    \n",
    "    func didFailWithError(error: Error) {\n",
    "        print(error)\n",
    "    }\n",
    "}\n",
    "\n",
    "```"
   ]
  },
  {
   "cell_type": "markdown",
   "metadata": {},
   "source": []
  }
 ],
 "metadata": {
  "kernelspec": {
   "display_name": "Python 3",
   "language": "python",
   "name": "python3"
  },
  "language_info": {
   "codemirror_mode": {
    "name": "ipython",
    "version": 3
   },
   "file_extension": ".py",
   "mimetype": "text/x-python",
   "name": "python",
   "nbconvert_exporter": "python",
   "pygments_lexer": "ipython3",
   "version": "3.7.4"
  },
  "toc": {
   "base_numbering": 1,
   "nav_menu": {},
   "number_sections": true,
   "sideBar": true,
   "skip_h1_title": false,
   "title_cell": "Table of Contents",
   "title_sidebar": "Contents",
   "toc_cell": false,
   "toc_position": {},
   "toc_section_display": true,
   "toc_window_display": false
  },
  "varInspector": {
   "cols": {
    "lenName": 16,
    "lenType": 16,
    "lenVar": 40
   },
   "kernels_config": {
    "python": {
     "delete_cmd_postfix": "",
     "delete_cmd_prefix": "del ",
     "library": "var_list.py",
     "varRefreshCmd": "print(var_dic_list())"
    },
    "r": {
     "delete_cmd_postfix": ") ",
     "delete_cmd_prefix": "rm(",
     "library": "var_list.r",
     "varRefreshCmd": "cat(var_dic_list()) "
    }
   },
   "types_to_exclude": [
    "module",
    "function",
    "builtin_function_or_method",
    "instance",
    "_Feature"
   ],
   "window_display": false
  }
 },
 "nbformat": 4,
 "nbformat_minor": 2
}
