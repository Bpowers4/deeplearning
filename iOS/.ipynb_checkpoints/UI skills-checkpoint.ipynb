{
 "cells": [
  {
   "cell_type": "markdown",
   "metadata": {},
   "source": [
    "## [Unable to add IBOutlet in swift](https://stackoverflow.com/questions/49379323/unable-to-add-iboutlet-in-swift) \n",
    "\n",
    "![](https://i.stack.imgur.com/7qJGo.png)"
   ]
  },
  {
   "cell_type": "markdown",
   "metadata": {},
   "source": [
    "## [Custom table view cell: IBOutlet label is nil](https://stackoverflow.com/questions/29100930/custom-table-view-cell-iboutlet-label-is-nil)  \n",
    "\n",
    "![](https://i.stack.imgur.com/yP3WM.png)  \n",
    "![](https://i.stack.imgur.com/sk69r.png)  \n",
    "![](https://i.stack.imgur.com/dAODR.png)  \n"
   ]
  },
  {
   "cell_type": "markdown",
   "metadata": {},
   "source": [
    "## [How to add a @IBOutlet of a UITableViewCell object in Swift 4?](https://stackoverflow.com/questions/53669175/how-to-add-a-iboutlet-of-a-uitableviewcell-object-in-swift-4)  \n",
    "\n",
    "![](https://i.stack.imgur.com/Ldbgq.jpg)"
   ]
  }
 ],
 "metadata": {
  "kernelspec": {
   "display_name": "Python 3",
   "language": "python",
   "name": "python3"
  },
  "language_info": {
   "codemirror_mode": {
    "name": "ipython",
    "version": 3
   },
   "file_extension": ".py",
   "mimetype": "text/x-python",
   "name": "python",
   "nbconvert_exporter": "python",
   "pygments_lexer": "ipython3",
   "version": "3.7.4"
  },
  "toc": {
   "base_numbering": 1,
   "nav_menu": {},
   "number_sections": true,
   "sideBar": true,
   "skip_h1_title": false,
   "title_cell": "Table of Contents",
   "title_sidebar": "Contents",
   "toc_cell": false,
   "toc_position": {},
   "toc_section_display": true,
   "toc_window_display": false
  },
  "varInspector": {
   "cols": {
    "lenName": 16,
    "lenType": 16,
    "lenVar": 40
   },
   "kernels_config": {
    "python": {
     "delete_cmd_postfix": "",
     "delete_cmd_prefix": "del ",
     "library": "var_list.py",
     "varRefreshCmd": "print(var_dic_list())"
    },
    "r": {
     "delete_cmd_postfix": ") ",
     "delete_cmd_prefix": "rm(",
     "library": "var_list.r",
     "varRefreshCmd": "cat(var_dic_list()) "
    }
   },
   "types_to_exclude": [
    "module",
    "function",
    "builtin_function_or_method",
    "instance",
    "_Feature"
   ],
   "window_display": false
  }
 },
 "nbformat": 4,
 "nbformat_minor": 2
}
