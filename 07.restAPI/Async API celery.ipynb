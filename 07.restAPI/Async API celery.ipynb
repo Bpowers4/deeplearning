{
 "cells": [
  {
   "cell_type": "markdown",
   "metadata": {},
   "source": [
    "[Using Celery With Flask](https://blog.miguelgrinberg.com/post/using-celery-with-flask)  "
   ]
  },
  {
   "cell_type": "markdown",
   "metadata": {},
   "source": [
    "![](https://blog.miguelgrinberg.com/static/images/flask-celery.png)"
   ]
  },
  {
   "cell_type": "markdown",
   "metadata": {},
   "source": [
    "\n",
    "- The Celery client. This is used to issue background jobs. When working with Flask, the client runs with the Flask application.\n",
    "- The Celery workers. These are the processes that run the background jobs. Celery supports local and remote workers, so you can start with a single worker running on the same machine as the Flask server, and later add more workers as the needs of your application grow.\n",
    "- The message broker. The client communicates with the the workers through a message queue, and Celery supports several ways to implement these queues. The most commonly used brokers are RabbitMQ and Redis.\n"
   ]
  },
  {
   "cell_type": "markdown",
   "metadata": {},
   "source": [
    "[github flask-celery-example](https://github.com/miguelgrinberg/flask-celery-example)"
   ]
  },
  {
   "cell_type": "markdown",
   "metadata": {},
   "source": [
    "![](http://allynh.com/blog/wp-content/uploads/2017/11/Flask_Celery_Redis-676x583.png)"
   ]
  },
  {
   "cell_type": "markdown",
   "metadata": {},
   "source": []
  },
  {
   "cell_type": "code",
   "execution_count": 3,
   "metadata": {},
   "outputs": [],
   "source": [
    "from flask import Flask\n",
    "from celery import Celery\n",
    "\n",
    "app = Flask(__name__)\n",
    "app.config['CELERY_BROKER_URL'] = 'redis://localhost:6379/0'\n",
    "app.config['CELERY_RESULT_BACKEND'] = 'redis://localhost:6379/0'\n",
    "\n",
    "celery = Celery(app.name, broker=app.config['CELERY_BROKER_URL'])\n",
    "celery.conf.update(app.config)"
   ]
  },
  {
   "cell_type": "code",
   "execution_count": 6,
   "metadata": {},
   "outputs": [],
   "source": [
    "@celery.task\n",
    "def my_background_task(arg1, arg2):\n",
    "    # some long running task here\n",
    "    print(arg1,arg2)\n",
    "    return result"
   ]
  },
  {
   "cell_type": "code",
   "execution_count": null,
   "metadata": {},
   "outputs": [],
   "source": [
    "task = my_background_task.apply_async(args=[10, 20])"
   ]
  },
  {
   "cell_type": "markdown",
   "metadata": {},
   "source": [
    "## [Flask:_Multi-Processing_in_Flask](http://wiki.glitchdata.com/index.php/Flask:_Multi-Processing_in_Flask)  \n"
   ]
  },
  {
   "cell_type": "markdown",
   "metadata": {},
   "source": [
    "```python\n",
    "from multiprocessing import Pool\n",
    "def expensive_function(x):\n",
    "        # do your expensive time consuming process\n",
    "        return x*x\n",
    "if __name__ == '__main__':\n",
    "        # start 4 worker processes\n",
    "        pool = Pool(processes=4)\n",
    "        # evaluate \"f(10)\" asynchronously\n",
    "        result = pool.apply_async(expensive_function, [10])\n",
    "        print result.get(timeout=1)\n",
    "```        "
   ]
  },
  {
   "cell_type": "markdown",
   "metadata": {},
   "source": [
    "```python\n",
    "from multiprocessing import Pool\n",
    "from flask import Flask\n",
    "\n",
    "app = Flask(__name__)\n",
    "_pool = None\n",
    "\n",
    "def expensive_function(x):\n",
    "        # import packages that is used in this function\n",
    "        # do your expensive time consuming process\n",
    "        return x*x\n",
    "\n",
    "@app.route('/expensive_calc/<int:x>')\n",
    "def route_expcalc(x):\n",
    "        f = _pool.apply_async(expensive_function,[x])\n",
    "        r = f.get(timeout=2)\n",
    "        return 'Result is %d'%r\n",
    "\n",
    "if __name__=='__main__':\n",
    "        _pool = Pool(processes=4)\n",
    "        try:\n",
    "                # insert production server deployment code\n",
    "                app.run()\n",
    "        except KeyboardInterrupt:\n",
    "                _pool.close()\n",
    "                _pool.join()\n",
    "\n",
    "```"
   ]
  },
  {
   "cell_type": "markdown",
   "metadata": {},
   "source": [
    "[Running Multiprocessing in Flask App(Let’s Spawn) Hell Yeah](https://arshpreetsingh.wordpress.com/2017/09/14/running-multiprocessing-in-flask-applets-spawn-hell-yeah/)  \n",
    "\n",
    "```python\n",
    "from multiprocessing import Pool\n",
    "from flask import Flask\n",
    "from flask import jsonify\n",
    "import ast\n",
    "import pandas as pd\n",
    "import requests\n",
    " \n",
    "app = Flask(__name__)\n",
    "_pool = None\n",
    " \n",
    "# Function that run multiple tasks\n",
    "def get_response(x):\n",
    "\"\"\"returns response for URL list\"\"\"\n",
    "m = requests.get((x),verify=False)\n",
    "return m.text\n",
    " \n",
    "@app.route('/call-me/')\n",
    "def health_check():\n",
    "\"\"\"returns pandas dataframe into HTML for health-check Services\"\"\"\n",
    "resp_pool = _pool.map(get_response,tasks)\n",
    "table_frame= pd.DataFrame([ast.literal_eval(resp) for resp in resp_pool])\n",
    "return table_frame.to_html()\n",
    " \n",
    "if __name__=='__main__':\n",
    "_pool = Pool(processes=12) # this is important part- We\n",
    "try:\n",
    "# insert production server deployment code\n",
    "app.run(use_reloader=True)\n",
    "except KeyboardInterrupt:\n",
    "_pool.close()\n",
    "_pool.join()\n",
    " \n",
    "```"
   ]
  },
  {
   "cell_type": "code",
   "execution_count": null,
   "metadata": {},
   "outputs": [
    {
     "name": "stdout",
     "output_type": "stream",
     "text": [
      " * Serving Flask app \"__main__\" (lazy loading)\n",
      " * Environment: production\n",
      "   WARNING: This is a development server. Do not use it in a production deployment.\n",
      "   Use a production WSGI server instead.\n",
      " * Debug mode: off\n"
     ]
    },
    {
     "name": "stderr",
     "output_type": "stream",
     "text": [
      " * Running on http://127.0.0.1:5000/ (Press CTRL+C to quit)\n"
     ]
    },
    {
     "name": "stdout",
     "output_type": "stream",
     "text": [
      "22 23\n",
      "23 24\n",
      "21 22\n",
      "20 21\n"
     ]
    },
    {
     "name": "stderr",
     "output_type": "stream",
     "text": [
      "127.0.0.1 - - [24/Oct/2019 13:57:44] \"\u001b[37mGET /expensive_calc/20 HTTP/1.1\u001b[0m\" 200 -\n"
     ]
    },
    {
     "name": "stdout",
     "output_type": "stream",
     "text": [
      "<multiprocessing.pool.MapResult object at 0x7f3cb058e358>\n",
      "[41, 43, 45, 47]\n"
     ]
    }
   ],
   "source": [
    "from multiprocessing import Pool\n",
    "from flask import Flask\n",
    "\n",
    "app = Flask(__name__)\n",
    "_pool = None\n",
    "\n",
    "def expensive_function(x):\n",
    "    # import packages that is used in this function\n",
    "    # do your expensive time consuming process\n",
    "    return x*x\n",
    "\n",
    "def doWork(args):\n",
    "    si = args[0]\n",
    "    ei = args[1]\n",
    "    print(si,ei)\n",
    "    return si+ei\n",
    "\n",
    "@app.route('/expensive_calc/<int:x>')\n",
    "def route_expcalc(x):\n",
    "#     f = _pool.apply_async(expensive_function,[x])\n",
    "    f = _pool.map_async(doWork,[(x,x+1),(x+1,x+2),(x+2,x+3),(x+3,x+4)])\n",
    "    r = f.get(timeout=10)\n",
    "\n",
    "    print(f)\n",
    "    print(r)\n",
    "    return 'Result is '+str(r)\n",
    "#     r = f.wait(timeout=10)\n",
    "#     return 'Result is %d'%r\n",
    "\n",
    "if __name__=='__main__':\n",
    "    _pool = Pool(processes=4)\n",
    "    try:\n",
    "        # insert production server deployment code\n",
    "        app.run()\n",
    "    except KeyboardInterrupt:\n",
    "        _pool.close()\n",
    "        _pool.join()"
   ]
  },
  {
   "cell_type": "code",
   "execution_count": null,
   "metadata": {},
   "outputs": [],
   "source": []
  }
 ],
 "metadata": {
  "kernelspec": {
   "display_name": "Python 3",
   "language": "python",
   "name": "python3"
  },
  "language_info": {
   "codemirror_mode": {
    "name": "ipython",
    "version": 3
   },
   "file_extension": ".py",
   "mimetype": "text/x-python",
   "name": "python",
   "nbconvert_exporter": "python",
   "pygments_lexer": "ipython3",
   "version": "3.5.2"
  },
  "toc": {
   "base_numbering": 1,
   "nav_menu": {},
   "number_sections": true,
   "sideBar": true,
   "skip_h1_title": false,
   "title_cell": "Table of Contents",
   "title_sidebar": "Contents",
   "toc_cell": false,
   "toc_position": {},
   "toc_section_display": true,
   "toc_window_display": false
  },
  "varInspector": {
   "cols": {
    "lenName": 16,
    "lenType": 16,
    "lenVar": 40
   },
   "kernels_config": {
    "python": {
     "delete_cmd_postfix": "",
     "delete_cmd_prefix": "del ",
     "library": "var_list.py",
     "varRefreshCmd": "print(var_dic_list())"
    },
    "r": {
     "delete_cmd_postfix": ") ",
     "delete_cmd_prefix": "rm(",
     "library": "var_list.r",
     "varRefreshCmd": "cat(var_dic_list()) "
    }
   },
   "types_to_exclude": [
    "module",
    "function",
    "builtin_function_or_method",
    "instance",
    "_Feature"
   ],
   "window_display": false
  }
 },
 "nbformat": 4,
 "nbformat_minor": 2
}
