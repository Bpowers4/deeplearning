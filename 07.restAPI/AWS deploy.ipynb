{
 "cells": [
  {
   "cell_type": "markdown",
   "metadata": {},
   "source": [
    "[Using docker-compose for Python and Jupyter ](https://dev.to/rosejcday/using-docker-compose-for-python-and-jupyter-4nbd)  \n",
    "\n",
    "[Deploying a Containerized Flask Application with AWS ECS and Docker](https://linuxacademy.com/blog/linux-academy/deploying-a-containerized-flask-application-with-aws-ecs-and-docker/)  \n",
    "\n",
    "[Setting Up a Data Lab Environment — Part 2 — Jupyter notebook in AWS with Docker](https://medium.com/quaintitative/setting-up-a-data-lab-environment-part-2-jupyter-notebook-in-aws-with-docker-a9112b70c5ac)  \n",
    "\n",
    "[Containerize your whole Data Science Environment (or anything you want) with Docker-Compose](https://towardsdatascience.com/containerize-your-whole-data-science-environment-or-anything-you-want-with-docker-compose-e962b8ce8ce5)  \n",
    "\n",
    "[Build a Python Jupyter Notebook Server with Docker & Heroku](https://www.codingforentrepreneurs.com/blog/jupyter-production-server-on-docker-heroku)  \n"
   ]
  },
  {
   "cell_type": "markdown",
   "metadata": {},
   "source": [
    "### install docker bash file\n",
    "\n",
    "```bash\n",
    "#!/bin/bash\n",
    "\n",
    "# Update\n",
    "sudo apt-get update\n",
    "\n",
    "# Install tree\n",
    "sudo apt install tree\n",
    "\n",
    "# Download and install docker\n",
    "# Second line is to change permissions so that there is no need to run docker with sudo\n",
    "\n",
    "curl -sSL https://get.docker.com/ | sh\n",
    "sudo usermod -aG docker ubuntu\n",
    "\n",
    "# Download and install docker-compose\n",
    "sudo curl -L https://github.com/docker/compose/releases/download/1.15.0/docker-compose-`uname -s`-`uname -m` > docker-compose\n",
    "sudo mv docker-compose /usr/local/bin/docker-compose\n",
    "sudo chmod +x /usr/local/bin/docker-compose\n",
    "\n",
    "# Create directories\n",
    "mkdir docker\n",
    "mkdir docker/jupyter\n",
    "mkdir notebook\n",
    "\n",
    "sudo reboot\n",
    "\n",
    "# Not neccesary unless you ran mkdir as root\n",
    "# sudo chown ubuntu -R data\n",
    "# sudo chown ubuntu -R docker\n",
    "# sudo chown ubuntu -R notebook\n",
    "# sudo chown ubuntu -R lib\n",
    "\n",
    "```"
   ]
  },
  {
   "cell_type": "markdown",
   "metadata": {},
   "source": [
    "### docker-compose tensorflow image\n",
    "\n",
    "```yml\n",
    "version: '3'\n",
    "services:\n",
    "  jupyterone:\n",
    "    image: jupyter/tensorflow-notebook\n",
    "    ports:\n",
    "      - \"8888:8888\"\n",
    "    volumes:\n",
    "      - .:/home/jovyan/work\n",
    "```      "
   ]
  },
  {
   "cell_type": "markdown",
   "metadata": {},
   "source": []
  },
  {
   "cell_type": "markdown",
   "metadata": {},
   "source": [
    "### install docker and docker-compose on AWS\n",
    "\n",
    "[install docker and docker-compose on AWS](https://gist.github.com/npearce/6f3c7826c7499587f00957fee62f8ee9)  \n",
    "\n",
    "```bash\n",
    "Docker CE Install\n",
    "\n",
    "sudo amazon-linux-extras install docker\n",
    "sudo service docker start\n",
    "sudo usermod -a -G docker ec2-user\n",
    "\n",
    "Make docker auto-start\n",
    "\n",
    "sudo chkconfig docker on\n",
    "\n",
    "Because you always need it....\n",
    "\n",
    "sudo yum install -y git\n",
    "\n",
    "Reboot to verify it all loads fine on its own.\n",
    "\n",
    "sudo reboot\n",
    "docker-compose install\n",
    "\n",
    "Copy the appropriate docker-compose binary from GitHub:\n",
    "\n",
    "sudo curl -L https://github.com/docker/compose/releases/download/1.22.0/docker-compose-$(uname -s)-$(uname -m) -o /usr/local/bin/docker-compose\n",
    "\n",
    "Fix permissions after download:\n",
    "\n",
    "sudo chmod +x /usr/local/bin/docker-compose\n",
    "\n",
    "Verify success:\n",
    "\n",
    "docker-compose version\n",
    "```"
   ]
  },
  {
   "cell_type": "markdown",
   "metadata": {},
   "source": [
    "### install_docker.sh\n",
    "\n",
    "```bash\n",
    "#!/bin/bash\n",
    "\n",
    "# install docker\n",
    "# Update\n",
    "sudo apt-get update\n",
    "\n",
    "sudo apt-get install \\\n",
    "    apt-transport-https \\\n",
    "    ca-certificates \\\n",
    "    curl \\\n",
    "    gnupg-agent \\\n",
    "    software-properties-common\n",
    "\n",
    "\n",
    "curl -fsSL https://download.docker.com/linux/ubuntu/gpg | sudo apt-key add -\n",
    "\n",
    "sudo add-apt-repository \\\n",
    "   \"deb [arch=amd64] https://download.docker.com/linux/ubuntu \\\n",
    "   $(lsb_release -cs) \\\n",
    "   stable\"\n",
    "\n",
    "sudo apt-get update\n",
    "\n",
    "sudo apt-get install docker-ce docker-ce-cli containerd.io\n",
    "\n",
    "sudo docker run hello-world\n",
    "\n",
    "sudo curl -L \"https://github.com/docker/compose/releases/download/1.24.1/docker-compose-$(uname -s)-$(uname -m)\" -o /usr/local/bin/docker-compose\n",
    "\n",
    "sudo chmod +x /usr/local/bin/docker-compose\n",
    "\n",
    "sudo ln -s /usr/local/bin/docker-compose /usr/bin/docker-compose\n",
    "\n",
    "```"
   ]
  },
  {
   "cell_type": "markdown",
   "metadata": {},
   "source": [
    "[Installing Docker CE on an AWS EC2 instance running Ubuntu 16.04](https://medium.com/@cjus/installing-docker-ce-on-an-aws-ec2-instance-running-ubuntu-16-04-f42fe7e80869)  \n",
    "\n",
    "[install docker](https://gist.github.com/brianz/8458fc666f5156fdbbc2)  \n",
    "\n",
    "[install-docker.md](https://gist.github.com/npearce/6f3c7826c7499587f00957fee62f8ee9)  \n"
   ]
  }
 ],
 "metadata": {
  "kernelspec": {
   "display_name": "Python 3",
   "language": "python",
   "name": "python3"
  },
  "language_info": {
   "codemirror_mode": {
    "name": "ipython",
    "version": 3
   },
   "file_extension": ".py",
   "mimetype": "text/x-python",
   "name": "python",
   "nbconvert_exporter": "python",
   "pygments_lexer": "ipython3",
   "version": "3.5.2"
  },
  "toc": {
   "base_numbering": 1,
   "nav_menu": {},
   "number_sections": true,
   "sideBar": true,
   "skip_h1_title": false,
   "title_cell": "Table of Contents",
   "title_sidebar": "Contents",
   "toc_cell": false,
   "toc_position": {},
   "toc_section_display": true,
   "toc_window_display": false
  },
  "varInspector": {
   "cols": {
    "lenName": 16,
    "lenType": 16,
    "lenVar": 40
   },
   "kernels_config": {
    "python": {
     "delete_cmd_postfix": "",
     "delete_cmd_prefix": "del ",
     "library": "var_list.py",
     "varRefreshCmd": "print(var_dic_list())"
    },
    "r": {
     "delete_cmd_postfix": ") ",
     "delete_cmd_prefix": "rm(",
     "library": "var_list.r",
     "varRefreshCmd": "cat(var_dic_list()) "
    }
   },
   "types_to_exclude": [
    "module",
    "function",
    "builtin_function_or_method",
    "instance",
    "_Feature"
   ],
   "window_display": false
  }
 },
 "nbformat": 4,
 "nbformat_minor": 2
}
