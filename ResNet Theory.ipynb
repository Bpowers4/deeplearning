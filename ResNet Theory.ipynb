{
 "cells": [
  {
   "cell_type": "markdown",
   "metadata": {},
   "source": [
    "[ResNet theory ](https://m.blog.naver.com/laonple/220793640991)"
   ]
  },
  {
   "cell_type": "markdown",
   "metadata": {},
   "source": [
    "![](https://postfiles.pstatic.net/20160713_18/laonple_1468385351383PD12B_PNG/%C0%CC%B9%CC%C1%F6_20.png?type=w2)"
   ]
  },
  {
   "cell_type": "markdown",
   "metadata": {},
   "source": [
    "H(x) = F(x) + x\n",
    "\n",
    "F(x)= 0 in best optimal\n",
    "\n",
    "it is easier for F(x) to learn the residuals, H(x) -x "
   ]
  },
  {
   "cell_type": "markdown",
   "metadata": {},
   "source": [
    "![](https://cn.bing.com/th?id=OIP.IsVOBaAO0RSCIxnyFhQRdQHaDT&pid=Api&rs=1)\n"
   ]
  },
  {
   "cell_type": "markdown",
   "metadata": {},
   "source": [
    "there is two branch(main branch, shortcut branch)"
   ]
  },
  {
   "cell_type": "markdown",
   "metadata": {},
   "source": [
    "![](https://postfiles.pstatic.net/20160718_189/laonple_1468811199865GKy76_PNG/%C0%CC%B9%CC%C1%F6_78.png?type=w2)"
   ]
  },
  {
   "cell_type": "markdown",
   "metadata": {},
   "source": [
    "![](https://postfiles.pstatic.net/20160718_206/laonple_1468811199507eEl6g_PNG/%C0%CC%B9%CC%C1%F6_79.png?type=w2)"
   ]
  },
  {
   "cell_type": "markdown",
   "metadata": {},
   "source": [
    "![](https://postfiles.pstatic.net/20160718_286/laonple_1468811198847PDYa5_PNG/%C0%CC%B9%CC%C1%F6_81.png?type=w2)  \n",
    "![](https://postfiles.pstatic.net/20160718_185/laonple_1468811198568NlCWR_PNG/%C0%CC%B9%CC%C1%F6_82.png?type=w2)"
   ]
  },
  {
   "cell_type": "markdown",
   "metadata": {},
   "source": [
    "## CIFAR-10 testing\n",
    "![](https://postfiles.pstatic.net/20160725_47/laonple_1469403968489MEixi_PNG/%C0%CC%B9%CC%C1%F6_52.png?type=w2)  \n",
    "![](https://postfiles.pstatic.net/20160725_194/laonple_146940396819610zOp_PNG/%C0%CC%B9%CC%C1%F6_54.png?type=w2)  \n",
    "![](https://postfiles.pstatic.net/20160725_178/laonple_1469403967794mV2hN_PNG/%C0%CC%B9%CC%C1%F6_55.png?type=w2)  \n"
   ]
  },
  {
   "cell_type": "markdown",
   "metadata": {},
   "source": [
    "## residual blocks\n",
    "![](https://cdn-images-1.medium.com/max/1600/1*U5wkA4O1IpY-ekXqFh0tUQ.png)  \n"
   ]
  },
  {
   "cell_type": "markdown",
   "metadata": {},
   "source": [
    "![](https://www.pyimagesearch.com/wp-content/uploads/2017/03/imagenet_resnet_identity.png)"
   ]
  },
  {
   "cell_type": "markdown",
   "metadata": {},
   "source": [
    "![](https://miro.medium.com/max/1104/1*iPlZWKddl1AI9u0doMZN_Q.png)"
   ]
  },
  {
   "cell_type": "markdown",
   "metadata": {},
   "source": [
    "## ResNet\n",
    "\n",
    "- 50 layers 3x larger than VGG\n",
    "- Dont count BN/Pooling\n",
    "\n",
    "![](https://www.codeproject.com/KB/AI/1248963/resnet.png)  \n",
    "![](https://ai2-s2-public.s3.amazonaws.com/figures/2017-08-08/7b30817561c8aa87fa4d72ef6a75080000ef5ea0/6-Figure2-1.png)\n",
    "![](https://image.slidesharecdn.com/adl1103-161027023044/95/applied-deep-learning-1103-convolutional-neural-networks-66-638.jpg?cb=1479405398)  "
   ]
  },
  {
   "cell_type": "markdown",
   "metadata": {},
   "source": [
    "## references\n",
    "\n",
    "[vgg,resnet,googlenet](https://towardsdatascience.com/deep-dive-into-the-computer-vision-world-f35cd7349e16)"
   ]
  }
 ],
 "metadata": {
  "kernelspec": {
   "display_name": "Python 3",
   "language": "python",
   "name": "python3"
  },
  "language_info": {
   "codemirror_mode": {
    "name": "ipython",
    "version": 3
   },
   "file_extension": ".py",
   "mimetype": "text/x-python",
   "name": "python",
   "nbconvert_exporter": "python",
   "pygments_lexer": "ipython3",
   "version": "3.5.2"
  },
  "toc": {
   "base_numbering": 1,
   "nav_menu": {},
   "number_sections": true,
   "sideBar": true,
   "skip_h1_title": false,
   "title_cell": "Table of Contents",
   "title_sidebar": "Contents",
   "toc_cell": false,
   "toc_position": {},
   "toc_section_display": true,
   "toc_window_display": false
  },
  "varInspector": {
   "cols": {
    "lenName": 16,
    "lenType": 16,
    "lenVar": 40
   },
   "kernels_config": {
    "python": {
     "delete_cmd_postfix": "",
     "delete_cmd_prefix": "del ",
     "library": "var_list.py",
     "varRefreshCmd": "print(var_dic_list())"
    },
    "r": {
     "delete_cmd_postfix": ") ",
     "delete_cmd_prefix": "rm(",
     "library": "var_list.r",
     "varRefreshCmd": "cat(var_dic_list()) "
    }
   },
   "types_to_exclude": [
    "module",
    "function",
    "builtin_function_or_method",
    "instance",
    "_Feature"
   ],
   "window_display": false
  }
 },
 "nbformat": 4,
 "nbformat_minor": 2
}
