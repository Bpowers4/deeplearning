{
 "cells": [
  {
   "cell_type": "markdown",
   "metadata": {},
   "source": [
    "## L2 Regularization (Ridge Regression)\n",
    "- Data may have outliers, They will pull the line away from the main trend in order to minimize the squared error\n",
    "\n",
    "![](https://cn.bing.com/th?id=OIP.dkdpDUM8cucEH-3NSXfDDgHaDw&pid=Api&rs=1)"
   ]
  },
  {
   "cell_type": "markdown",
   "metadata": {},
   "source": [
    "![](http://www.chioka.in/wp-content/uploads/2013/12/L1-vs-L2-norm-visualization-2.png)"
   ]
  },
  {
   "cell_type": "markdown",
   "metadata": {},
   "source": [
    "![](http://laid.delanover.com/wp-content/uploads/2018/01/reg_formulas.png)"
   ]
  },
  {
   "cell_type": "markdown",
   "metadata": {},
   "source": [
    "## L2 Regularization \n",
    "- Penalize large weights by adding their squared magnitude to the cose\n",
    "\n",
    "$$\n",
    "J = \\sum_{n=1}^{N}(y_{n}-\\hat{y}_{n})^2 + \\lambda |w|^2\\\\\n",
    "|w|^2 = w^Tw = w_{1}^2+w_{2}^2+...+w_{D}^2\\\\\n",
    "$$"
   ]
  },
  {
   "cell_type": "markdown",
   "metadata": {},
   "source": [
    "## Probablistic Perspective\n",
    "\n",
    "- plain squared error maximizes likelihood\n",
    "$$\n",
    "P(data|w)\n",
    "$$\n",
    "\n",
    "- J  = negative log-likelihood\n",
    "- But we are no longer maximizing this, since there are 2 terms\n",
    "\n",
    "$$\n",
    "\\text{likelihood ->} p(Y|X,w) = \\prod_{n=1}^{N}\\frac{1}{\\sqrt{2\\pi\\sigma^{2}}} exp \\bigg\\{ -\\frac{(y_{n}-w^Tx_{n})^2}{2\\sigma^2} \\bigg\\}\\\\\n",
    "\\text{prior ->} P(w) = \\sqrt{\\frac{\\lambda}{2\\pi}}exp\\bigg\\{  -\\frac{\\lambda}{2}w^Tw \\bigg\\}\n",
    "$$"
   ]
  },
  {
   "cell_type": "markdown",
   "metadata": {},
   "source": [
    "$$\n",
    "exp(-J) = [\\prod_{n=1}^{N} exp \\bigg\\{ -(y_{n}-w^Tx_{n})^2 \\bigg\\}] exp\\bigg\\{  -\\lambda w^Tw \\bigg\\}\n",
    "$$"
   ]
  },
  {
   "cell_type": "markdown",
   "metadata": {},
   "source": [
    "- Looks like Bayes rule\n",
    "- This is call MAP - maximum a posterior- means we maximize the posterior\n",
    "- p(W|data)\n",
    "\n",
    "$$\n",
    "J_{OLD} \\propto -ln P(Y|X,w)\\\\\n",
    "J_{NEW} \\propto -ln P(Y|X,w) -ln P(w)\\\\\n",
    "P(w|Y,X) = \\frac{P(Y|X,w)P(w)}{P(Y|X)}\\\\\n",
    "P(w|Y,X) \\propto P(Y|X,w)P(w)\\\\\n",
    "$$"
   ]
  },
  {
   "cell_type": "markdown",
   "metadata": {},
   "source": [
    "## Solving for w\n",
    "\n"
   ]
  }
 ],
 "metadata": {
  "kernelspec": {
   "display_name": "Python 3",
   "language": "python",
   "name": "python3"
  },
  "language_info": {
   "codemirror_mode": {
    "name": "ipython",
    "version": 3
   },
   "file_extension": ".py",
   "mimetype": "text/x-python",
   "name": "python",
   "nbconvert_exporter": "python",
   "pygments_lexer": "ipython3",
   "version": "3.5.2"
  },
  "toc": {
   "base_numbering": 1,
   "nav_menu": {},
   "number_sections": true,
   "sideBar": true,
   "skip_h1_title": false,
   "title_cell": "Table of Contents",
   "title_sidebar": "Contents",
   "toc_cell": false,
   "toc_position": {},
   "toc_section_display": true,
   "toc_window_display": false
  },
  "varInspector": {
   "cols": {
    "lenName": 16,
    "lenType": 16,
    "lenVar": 40
   },
   "kernels_config": {
    "python": {
     "delete_cmd_postfix": "",
     "delete_cmd_prefix": "del ",
     "library": "var_list.py",
     "varRefreshCmd": "print(var_dic_list())"
    },
    "r": {
     "delete_cmd_postfix": ") ",
     "delete_cmd_prefix": "rm(",
     "library": "var_list.r",
     "varRefreshCmd": "cat(var_dic_list()) "
    }
   },
   "types_to_exclude": [
    "module",
    "function",
    "builtin_function_or_method",
    "instance",
    "_Feature"
   ],
   "window_display": false
  }
 },
 "nbformat": 4,
 "nbformat_minor": 2
}
