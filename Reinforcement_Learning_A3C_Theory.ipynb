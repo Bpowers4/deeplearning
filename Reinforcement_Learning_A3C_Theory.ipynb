{
 "cells": [
  {
   "cell_type": "markdown",
   "metadata": {},
   "source": [
    "## A3C \n",
    "- Asynchronous Advantage Actor -Critic\n",
    "- Actor : Policy\n",
    "- Critic : Value\n",
    "- Advantage = G- V(s)"
   ]
  },
  {
   "cell_type": "markdown",
   "metadata": {},
   "source": [
    "## Policy Gradient Review"
   ]
  },
  {
   "cell_type": "markdown",
   "metadata": {},
   "source": [
    "\\begin{equation*}\n",
    "\\pi(a|s,\\theta_p) = NeuralNet(input:s,weight:\\theta_p)\\\\\n",
    "V(a|s,\\theta_v) = NeuralNet(input:s,weight:\\theta_v)\n",
    "\\end{equation*}\n",
    "\n",
    "- For policy loss, backwards from policy gradient, For Value loss, use squared error\n",
    "\\begin{equation*}\n",
    "L_p = -(G- V(s))log\\pi(a|s,\\theta_p)\\\\\n",
    "L_v = (G-V(s,\\theta_v))^2\n",
    "\\end{equation*}\n"
   ]
  },
  {
   "cell_type": "markdown",
   "metadata": {},
   "source": [
    "- Pseudocode\n",
    "\\begin{equation*}\n",
    "\\theta_p = \\theta_p - learningrate* dL_p/d\\theta_p \\\\\n",
    "\\theta_v = \\theta_v - learningrate* dL_v/d\\theta_v\n",
    "\\end{equation*}\n"
   ]
  },
  {
   "cell_type": "markdown",
   "metadata": {},
   "source": [
    "- N-Step return \n",
    "- instead of using TD(0), we use the N-step return\n",
    "\\begin{equation*}\n",
    "V(s)= r + \\gamma r' + \\gamma^2 r'' + \\gamma^3 V(s''')\n",
    "\\end{equation*}\n"
   ]
  },
  {
   "cell_type": "markdown",
   "metadata": {},
   "source": [
    "- Entropy Regularization\n",
    "- Definition of entropy\n",
    "\\begin{equation*}\n",
    "H = - \\sum_{k=1}^n \\pi_k log\\pi_k\n",
    "\\end{equation*}\n",
    "\n",
    "- New loss (C: regularization constant)\n",
    "\\begin{equation*}\n",
    "L_p'= L_p +CH\n",
    "\\end{equation*}\n"
   ]
  },
  {
   "cell_type": "markdown",
   "metadata": {},
   "source": [
    "![](https://cn.bing.com/th?id=OIP.TlKyrDc2rVlD0tNkkderjAHaGs&pid=Api&rs=1&p=0)"
   ]
  },
  {
   "cell_type": "markdown",
   "metadata": {},
   "source": [
    "- A3C simply achieves stability using a different method(parallel agents)"
   ]
  },
  {
   "cell_type": "code",
   "execution_count": null,
   "metadata": {},
   "outputs": [],
   "source": []
  }
 ],
 "metadata": {
  "kernelspec": {
   "display_name": "Python 3",
   "language": "python",
   "name": "python3"
  },
  "language_info": {
   "codemirror_mode": {
    "name": "ipython",
    "version": 3
   },
   "file_extension": ".py",
   "mimetype": "text/x-python",
   "name": "python",
   "nbconvert_exporter": "python",
   "pygments_lexer": "ipython3",
   "version": "3.5.2"
  },
  "toc": {
   "base_numbering": 1,
   "nav_menu": {},
   "number_sections": true,
   "sideBar": true,
   "skip_h1_title": false,
   "title_cell": "Table of Contents",
   "title_sidebar": "Contents",
   "toc_cell": false,
   "toc_position": {},
   "toc_section_display": true,
   "toc_window_display": false
  },
  "varInspector": {
   "cols": {
    "lenName": 16,
    "lenType": 16,
    "lenVar": 40
   },
   "kernels_config": {
    "python": {
     "delete_cmd_postfix": "",
     "delete_cmd_prefix": "del ",
     "library": "var_list.py",
     "varRefreshCmd": "print(var_dic_list())"
    },
    "r": {
     "delete_cmd_postfix": ") ",
     "delete_cmd_prefix": "rm(",
     "library": "var_list.r",
     "varRefreshCmd": "cat(var_dic_list()) "
    }
   },
   "types_to_exclude": [
    "module",
    "function",
    "builtin_function_or_method",
    "instance",
    "_Feature"
   ],
   "window_display": false
  }
 },
 "nbformat": 4,
 "nbformat_minor": 2
}
