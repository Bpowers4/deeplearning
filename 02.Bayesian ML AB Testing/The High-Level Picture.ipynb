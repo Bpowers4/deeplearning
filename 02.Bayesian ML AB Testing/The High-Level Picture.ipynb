{
 "cells": [
  {
   "cell_type": "markdown",
   "metadata": {},
   "source": [
    "#  1) What is Bayesian Machine Learning?"
   ]
  },
  {
   "cell_type": "markdown",
   "metadata": {},
   "source": [
    "## What is Bayesian ML?\n",
    "- We've all had some exposure to \"Bayes\"\n",
    "    - e.g. in grade school we learn Bayes rule\n",
    "    - Note: This is not Bayesian machine learning\n",
    "    - Even MAP(maximum a posterior) is not Bayesian\n",
    "- In college/university, you may encounter Bayes again\n",
    "    - statistics dept/computer science dept\n",
    "    - These 2 are very different even use different programming languages\n",
    "    - lesson: disregard your preconceived notions about what Bayesian ML is\n",
    "    "
   ]
  },
  {
   "cell_type": "markdown",
   "metadata": {},
   "source": [
    "- Focus on the specific application of A/B testing, with an undercurrent of Bayesian machine learning\n",
    "- This course is an introduction to Bayesian ML, as it introduces you to what it means to be Bayesian\n",
    "- We do so by comparing frequentist approaches to Bayesian approaches \n"
   ]
  },
  {
   "cell_type": "markdown",
   "metadata": {},
   "source": [
    "## The Bayesian Approach\n",
    "- Everything is random\n",
    "- More precisely, everything is a random variable\n",
    "- suppose we want to model the height of students in our class as a Gaussian, we thus must find its mean and variance\n",
    "- we don't solve for $\\mu,\\sigma^2$\n",
    "- Instead, we find $p(\\mu,\\sigma^2|X)$\n",
    "- we don't find a number , we find a distribution\n"
   ]
  },
  {
   "cell_type": "markdown",
   "metadata": {},
   "source": [
    "## The Frequentist Approach \n",
    "- Setp 1) Collect Data\n",
    "\n",
    "    - Data : X = {$x_{1},x_{2},...,x_{N}$}\n",
    "- Step 2) Write down likelihood\n",
    "    - Likelihood: L = $\\prod_{i=1}^{N}f(x;\\mu,\\sigma^2)$\n",
    "    \n",
    "- Step 3) Maximize likelihood wrt params\n",
    "    - $\\mu,\\sigma^2$ = $\\underset{\\mu,\\sigma^2}{\\operatorname{argmax}}L$\n",
    "\n"
   ]
  },
  {
   "cell_type": "markdown",
   "metadata": {},
   "source": [
    "## Sampling\n",
    "- If you go the statistics route, you will spend a lot of time on sampling methods\n",
    "- Importance sampling, MCMC, Gibbs,etc\n",
    "- Main idea: numerical approximation of an integral\n",
    "- In deep learning, the main skill we need from calculus is differentiation\n",
    "- In Bayesian ML, the main skill from calculus is integration\n",
    "- Sampling itself can be an entire course"
   ]
  },
  {
   "cell_type": "markdown",
   "metadata": {},
   "source": [
    "## Machine Learning Models\n",
    "- If you go the machine learning route, you'll look at Bayesian predictive models\n",
    "- take linear regression\n",
    "    - y = $w^{T}x$\n",
    "- our job is to find w(a vector of numbers)    "
   ]
  },
  {
   "cell_type": "markdown",
   "metadata": {},
   "source": [
    "## Machine Learning Models(Bayesian)\n",
    "- everything is random\n",
    "- Instead of finding a w, we find the distribution of w\n",
    "- X,Y = training data\n",
    "    - $p(w|X,Y)$\n",
    "- This approach can be applied to many other models\n",
    "- Logistic Regression\n",
    "- Neural Networks\n",
    "- Gaussian Mixture Models\n",
    "    - A more powerful k-means clustering\n",
    "- PCA\n",
    "    - principal components anaysis\n",
    "- Matrix Factorization\n",
    "    - For recommender system\n",
    "    "
   ]
  },
  {
   "cell_type": "markdown",
   "metadata": {},
   "source": [
    "## Bayesian Networks\n",
    "- The previous models were specific models, while Bayes nets are a general model\n",
    "- You can model specific dependencies based on your understanding of the system\n",
    "- e.g. I want to predict whether or not a student will pass my exam\n",
    "    - Input features\n",
    "        -  hours studying\n",
    "        -  hours video games\n",
    "        -  hours sleeping\n",
    "        "
   ]
  },
  {
   "cell_type": "markdown",
   "metadata": {},
   "source": [
    "## Non-Bayesian Example\n",
    "- Just pass all the inputs into a neural network,- no assumption about how the inputs are related\n",
    "- Input features       -> neural network -> pass/fail\n",
    "    -  hours studying\n",
    "    -  hours video games\n",
    "    -  hours sleeping\n"
   ]
  },
  {
   "cell_type": "markdown",
   "metadata": {},
   "source": [
    "## Latent Dirichlet Allocation(LDA)\n",
    "- used for topic modeling\n",
    "- It's a specific example of a Bayes net, but doesn't have its root in a non-Bayesian model such as Logistic Regression\n",
    "- Also a totally different subset of ML(NLP)\n",
    "\n",
    "![](https://upload.wikimedia.org/wikipedia/commons/thumb/4/4d/Smoothed_LDA.png/251px-Smoothed_LDA.png)"
   ]
  },
  {
   "cell_type": "markdown",
   "metadata": {},
   "source": [
    "## Summary\n",
    "\n",
    "- Bayesian machine learning is vast\n",
    "- In many ways it's like Deep learning\n",
    "- Bayesian ML may even be more complex than DL\n",
    "- A/B testing is the most readily applicable of all ML ideas\n"
   ]
  }
 ],
 "metadata": {
  "kernelspec": {
   "display_name": "Python 3",
   "language": "python",
   "name": "python3"
  },
  "language_info": {
   "codemirror_mode": {
    "name": "ipython",
    "version": 3
   },
   "file_extension": ".py",
   "mimetype": "text/x-python",
   "name": "python",
   "nbconvert_exporter": "python",
   "pygments_lexer": "ipython3",
   "version": "3.5.2"
  },
  "toc": {
   "base_numbering": 1,
   "nav_menu": {},
   "number_sections": true,
   "sideBar": true,
   "skip_h1_title": false,
   "title_cell": "Table of Contents",
   "title_sidebar": "Contents",
   "toc_cell": false,
   "toc_position": {},
   "toc_section_display": true,
   "toc_window_display": false
  },
  "varInspector": {
   "cols": {
    "lenName": 16,
    "lenType": 16,
    "lenVar": 40
   },
   "kernels_config": {
    "python": {
     "delete_cmd_postfix": "",
     "delete_cmd_prefix": "del ",
     "library": "var_list.py",
     "varRefreshCmd": "print(var_dic_list())"
    },
    "r": {
     "delete_cmd_postfix": ") ",
     "delete_cmd_prefix": "rm(",
     "library": "var_list.r",
     "varRefreshCmd": "cat(var_dic_list()) "
    }
   },
   "types_to_exclude": [
    "module",
    "function",
    "builtin_function_or_method",
    "instance",
    "_Feature"
   ],
   "window_display": false
  }
 },
 "nbformat": 4,
 "nbformat_minor": 2
}
