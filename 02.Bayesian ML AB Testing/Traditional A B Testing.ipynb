{
 "cells": [
  {
   "cell_type": "markdown",
   "metadata": {},
   "source": [
    "# A/B Testing Problem Setup"
   ]
  },
  {
   "cell_type": "markdown",
   "metadata": {},
   "source": [
    "## A/B Testing\n",
    "- Scenario\n",
    "- You run a Software as a Service(SaaS) startup\n",
    "- You have a landing page where you get people to sign up\n",
    "- Signup = enter email address and click signup button\n",
    "- Not everyone who visits your site will signup\n",
    "- Conversion rate = proportion of people who sign up"
   ]
  },
  {
   "cell_type": "markdown",
   "metadata": {},
   "source": [
    "- Suppose your lead marketer has identified problems with your landing page(not responsive,slow load time, bad copy etc)\n",
    "- They create a new,possibly better page\n",
    "- You (as a data scientist) want to measure which page is better, using data and math\n",
    "- Recall confidence interval concept\n",
    "- we know rate(page 1) = 1/10 vs rate(page 2) = 2/10 is not as good as rate(page 1) = 10/100 vs rate(page 2) = 20/100\n",
    "- How do we quantify this?\n"
   ]
  },
  {
   "cell_type": "markdown",
   "metadata": {},
   "source": [
    "- We quantify this with statistical significance testing\n"
   ]
  },
  {
   "cell_type": "markdown",
   "metadata": {},
   "source": [
    "- Significance level = $\\alpha$ (5%, 1% common)\n",
    "- Is the difference in mean height between men and women statistically siginificant at significance level $\\alpha$?\n",
    "\n",
    "$$\n",
    "\\mu_{1} = ?\\mu_{2}\n",
    "$$"
   ]
  },
  {
   "cell_type": "markdown",
   "metadata": {},
   "source": [
    "## Hypotheses\n",
    "- Null hypothesis(no difference):\n",
    "    - Example: no difference in height between men and women\n",
    "    - Example: no difference in effect between drug and placebo\n",
    "    - $H_{0}: \\mu_{1} = \\mu_{2}  $\n",
    "- Alternative hypothesis(one-sided test):\n",
    "    - $H_{1}: \\mu_{1} > \\mu_{2}$\n",
    "    "
   ]
  },
  {
   "cell_type": "markdown",
   "metadata": {},
   "source": [
    "- Alternative hypothesis(2-sided test):\n",
    "    - Example: test if men taller than women OR women taller than men\n",
    "    - Example: test if drug works better than placebo OR worse than placebo\n",
    "    - $H_{1}: \\mu_{1} \\neq \\mu_{2}$"
   ]
  },
  {
   "cell_type": "markdown",
   "metadata": {},
   "source": [
    "- we will do the 2-sided test($\\neq$)\n",
    "- we will show quantitatively if the 2 groups are different"
   ]
  },
  {
   "cell_type": "markdown",
   "metadata": {},
   "source": [
    "# A/B testing Recipe\n",
    "- Continue our example(height of men vs women, drug vs placebo)\n",
    "- As is typical in frequentist statistics, we will assume data is Gaussian-distributed\n",
    "- We collect some data, 2 lists of heights, one for men, one for women\n",
    "- $X_{1}$= {$x_{11},x_{12},...,x_{1N}$ }\n",
    "- $X_{2}$= {$x_{21},x_{22},...,x_{2N}$ }"
   ]
  },
  {
   "cell_type": "markdown",
   "metadata": {},
   "source": [
    "- We create a test statistics (called __t__)\n",
    "$$\n",
    "t = \\frac{\\bar{X}_{1}- \\bar{X}_{2}}{s_{p}\\sqrt{2/N}}\\\\\n",
    "s_{p} = \\sqrt{\\frac{s_{1}^2+s_{2}^2}{2}}\n",
    "$$\n",
    "\n",
    "- $s_{p}$ = pooled std dev(use unbiased estimates for all s - divided by N-1, not N)\n",
    "- N = size of each group\n",
    "\n",
    "- Refer below sample mean,std dev\n",
    "$$\n",
    "\\hat{\\mu} = \\frac{1}{N}\\sum_{i=1}^{N}x_{i} \\\\\n",
    "\\hat{\\sigma} = \\sqrt{\\frac{1}{N}\\sum_{i=1}^{N}(x_{i}-\\hat{\\mu})^2}\n",
    "$$"
   ]
  },
  {
   "cell_type": "markdown",
   "metadata": {},
   "source": [
    "- Recall estimate of mean - it was a sum of random variables, therefore also random variables\n",
    "- t is also a function of random variables, therefore also a random variables\n",
    "- can be shown that t is t-distributed\n",
    "- we will see t-distribution and other more exotic distribution a lot when studying statistical testing + Bayesian methods"
   ]
  },
  {
   "cell_type": "markdown",
   "metadata": {},
   "source": [
    "## t-distribution\n",
    "- looks like a Gaussian with fatter tails\n",
    "\n",
    "![](https://study.com/cimages/videopreview/o84agbwoq4.jpg)\n",
    "![](https://cn.bing.com/th?id=OIP.-3zt17eY9pfOiFcewnoiEQHaFj&pid=Api&rs=1)\n",
    "![](https://upload.wikimedia.org/wikipedia/commons/thumb/4/41/Student_t_pdf.svg/1200px-Student_t_pdf.svg.png)\n",
    "![](http://www.obg.cuhk.edu.hk/ResearchSupport/StatTools/Pics/t.png)"
   ]
  },
  {
   "cell_type": "markdown",
   "metadata": {},
   "source": [
    "- PDF\n",
    "![](https://www.thoughtco.com/thmb/gAsKXrZg1kekAQnZVxb4J94QklA=/768x0/filters:no_upscale():max_bytes(150000):strip_icc()/tdist-56b749523df78c0b135f5be6.jpg)"
   ]
  },
  {
   "cell_type": "markdown",
   "metadata": {},
   "source": [
    "- we won't use it directly\n",
    "- 1 parameter : $v$ = degree of freedom (df)\n",
    "- for our statistical test, $v$ = 2N -2"
   ]
  },
  {
   "cell_type": "markdown",
   "metadata": {},
   "source": [
    "## Test Statistic\n",
    "- If mean(X1) = mean(X2) -> t = 0\n",
    "    - falls in center of t-distribution\n",
    "- If mean(X1) >> mean(X2) -> t= large\n",
    "    - falls in right tail\n",
    "- If mean(X1) << mean(X2) -> t= small\n",
    "    - falls in left tail\n",
    "    \n",
    "- symmetry -> doesn't matter if we call men = 1, women = 2 or vice versa\n",
    "\n",
    "$$\n",
    "t = \\frac{\\bar{X}_{1}- \\bar{X}_{2}}{s_{p}\\sqrt{2/N}}\\\\\n",
    "s_{p} = \\sqrt{\\frac{s_{1}^2+s_{2}^2}{2}}\n",
    "$$\n"
   ]
  },
  {
   "cell_type": "markdown",
   "metadata": {},
   "source": [
    "## Area under t-dtistribution\n",
    "- Use scipy.stats.t.cdf\n",
    "- If in left tail -> CDF close to 0\n",
    "- If in right tail -> CDF close to 1\n",
    "- For a significance level $\\alpha$ = 0.05, t < -2.776, or t > 2.776\n",
    "- we call that a statistically significant difference\n",
    "\n"
   ]
  },
  {
   "cell_type": "markdown",
   "metadata": {},
   "source": [
    "# Reference\n",
    "[t_distribution calc](http://www.dmbru.dentistry.ubc.ca/Calculating_Companion/applets/t_distribution/t_distribution.php)\n",
    "![](http://kisi.deu.edu.tr/joshua.cowley/StudentTTable.png)"
   ]
  }
 ],
 "metadata": {
  "kernelspec": {
   "display_name": "Python 3",
   "language": "python",
   "name": "python3"
  },
  "language_info": {
   "codemirror_mode": {
    "name": "ipython",
    "version": 3
   },
   "file_extension": ".py",
   "mimetype": "text/x-python",
   "name": "python",
   "nbconvert_exporter": "python",
   "pygments_lexer": "ipython3",
   "version": "3.5.2"
  },
  "toc": {
   "base_numbering": 1,
   "nav_menu": {},
   "number_sections": true,
   "sideBar": true,
   "skip_h1_title": false,
   "title_cell": "Table of Contents",
   "title_sidebar": "Contents",
   "toc_cell": false,
   "toc_position": {},
   "toc_section_display": true,
   "toc_window_display": false
  },
  "varInspector": {
   "cols": {
    "lenName": 16,
    "lenType": 16,
    "lenVar": 40
   },
   "kernels_config": {
    "python": {
     "delete_cmd_postfix": "",
     "delete_cmd_prefix": "del ",
     "library": "var_list.py",
     "varRefreshCmd": "print(var_dic_list())"
    },
    "r": {
     "delete_cmd_postfix": ") ",
     "delete_cmd_prefix": "rm(",
     "library": "var_list.r",
     "varRefreshCmd": "cat(var_dic_list()) "
    }
   },
   "types_to_exclude": [
    "module",
    "function",
    "builtin_function_or_method",
    "instance",
    "_Feature"
   ],
   "window_display": false
  }
 },
 "nbformat": 4,
 "nbformat_minor": 2
}
