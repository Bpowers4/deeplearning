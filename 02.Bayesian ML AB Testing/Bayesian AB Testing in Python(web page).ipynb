{
 "cells": [
  {
   "cell_type": "markdown",
   "metadata": {},
   "source": [
    "[bayesian-ab-testing-in-python](http://www.marcosantoni.com/2016/05/15/bayesian-ab-testing-in-python.html)\n",
    "\n",
    "\n",
    "- Imagine you re-designing your e-commerce website. You have to decide whether the \"Buy Item\" button should be blue or green. You decide to setup an A/B test, so you build two versions of the item page:\n",
    "\n",
    "    - Page A which has a blue button;\n",
    "    - Page B which has a green button.\n"
   ]
  },
  {
   "cell_type": "markdown",
   "metadata": {},
   "source": [
    "## Frequentist vs Bayesian\n",
    "\n",
    "One could simply approximate the effectiveness of each page by computing the success rate on the two pages. E.g. if N=1000 users visited page A, and 50 of them clicked the button, one could say that the likelihood of clicking the button on page A is 50/1000 \\~= 5%. This is the so-called Frequentist approach which envisions the probability in terms of event frequency. However, the following issues might arise on a daily basis:\n",
    "\n",
    "-    what if N is small (e.g. N=50)? Can we still be confident by just computing the success rate?\n",
    "-    What if N is different between page A and page B? Let's say that 500 users visited page A and 2000 users visited page B. How can we combine such imbalanced experiments?\n",
    "-    How large should N be to achieve a 90% confidence in my estimates?\n",
    "\n",
    "We'll now introduce a simple Bayesian solution that allows to run the A/B test and to handle the issues listed above. The code makes use of PyMC package, and it was inspired by reading \"Bayesian Methods for Hackers\"  by Cameron Davidson-Pilon."
   ]
  },
  {
   "cell_type": "markdown",
   "metadata": {},
   "source": [
    "## Evaluate Page A\n",
    "\n",
    "We'll first show how to evaluate the success rate on page A with a Bayesian approach. The goal is to infer the probability of clicking the \"Buy Item\" button on page A. We model this probability as a Bernoulli distribution with parameter $p_{A}$:\n",
    "\n",
    "$$\n",
    "P(click|page=A) = \\left\\{\\begin{array}{ll} p_{A} \\text{ click = 1 } \\\\ 1-p_{A} \\qquad \\text{ click = 0 } \\end{array}\\right.\n",
    "$$\n",
    "\n",
    "\n",
    "So, $p_{A}$ is the parameter indicating the probability of clicking the button on page A. This parameter is unknown and the goal of the experiment is to infer it."
   ]
  },
  {
   "cell_type": "code",
   "execution_count": 6,
   "metadata": {},
   "outputs": [
    {
     "name": "stdout",
     "output_type": "stream",
     "text": [
      "Click-BUY:\n",
      "71\n",
      "Observed frequency:\n",
      "0.04733333333333333\n"
     ]
    }
   ],
   "source": [
    "from pymc import Uniform, rbernoulli, Bernoulli, MCMC\n",
    "from matplotlib import pyplot as plt\n",
    "import numpy as np\n",
    "\n",
    "# true value of p_A (unknown)\n",
    "p_A_true = 0.05\n",
    "# number of users visiting page A\n",
    "N = 1500\n",
    "occurrences = rbernoulli(p_A_true, N)\n",
    "\n",
    "print ('Click-BUY:')\n",
    "print (occurrences.sum())\n",
    "print ('Observed frequency:')\n",
    "print (occurrences.sum() / float(N))"
   ]
  },
  {
   "cell_type": "markdown",
   "metadata": {},
   "source": [
    "- In this code, we are simulating a realisation of the experiment where 1500 users visited page A. Here, occurrences indicate how many visitors have actually clicked on the button in this realisation."
   ]
  },
  {
   "cell_type": "markdown",
   "metadata": {},
   "source": [
    "- The next step consist of defining our prior on the $p_{A}$ parameter. The prior definition is the first step of Bayesian inference and is a way to indicate our prior belief in the variable"
   ]
  },
  {
   "cell_type": "code",
   "execution_count": 7,
   "metadata": {},
   "outputs": [],
   "source": [
    "p_A = Uniform('p_A', lower=0, upper=1)\n",
    "obs = Bernoulli('obs', p_A, value=occurrences, observed=True)"
   ]
  },
  {
   "cell_type": "code",
   "execution_count": 8,
   "metadata": {},
   "outputs": [
    {
     "data": {
      "text/plain": [
       "<pymc.distributions.new_dist_class.<locals>.new_class 'obs' at 0x7ffb940e13c8>"
      ]
     },
     "execution_count": 8,
     "metadata": {},
     "output_type": "execute_result"
    }
   ],
   "source": [
    "obs"
   ]
  },
  {
   "cell_type": "markdown",
   "metadata": {},
   "source": [
    "- In this section, we define the prior of $p_{a}$ to be a uniform distribution. The obs variable indicates the Bernoulli distribution representing the observations of the click events (indeed governed by the papa parameter). The two variables are assigned to Uniform and Bernoulli which are stochastic variable objects part of PyMC. Each variable is associated with a string name (p_A  and obs in this case). The obs variable has the value  and the observed parameter set because we have observed the realisations of the experiment"
   ]
  },
  {
   "cell_type": "code",
   "execution_count": 9,
   "metadata": {},
   "outputs": [
    {
     "name": "stdout",
     "output_type": "stream",
     "text": [
      " [-----------------100%-----------------] 20000 of 20000 complete in 1.0 sec[0.0508619  0.0508619  0.0508619  ... 0.05108415 0.05412778 0.04651627]\n"
     ]
    }
   ],
   "source": [
    "# defining a Monte Carlo Markov Chain model\n",
    "mcmc = MCMC([p_A, obs])\n",
    "# setting the size of the simulations to 20k particles\n",
    "mcmc.sample(20000, 1000)\n",
    "# the resulting posterior distribution is stored in the trace variable\n",
    "print (mcmc.trace('p_A')[:])"
   ]
  },
  {
   "cell_type": "markdown",
   "metadata": {},
   "source": [
    "- In this section, the MCMC model is initialised, and the variables p_A and obs are given to it as input. The sample model will run the Monte Carlo simulations and fit the observed data to the prior belief. The posterior distribution is accessible via the .trace attribute as an array of realisations. We can now visualise the result of the inference."
   ]
  },
  {
   "cell_type": "code",
   "execution_count": 10,
   "metadata": {},
   "outputs": [
    {
     "name": "stderr",
     "output_type": "stream",
     "text": [
      "/home/home9/.virtualenvs/deeplearning/lib/python3.5/site-packages/matplotlib/axes/_axes.py:6521: MatplotlibDeprecationWarning: \n",
      "The 'normed' kwarg was deprecated in Matplotlib 2.1 and will be removed in 3.1. Use 'density' instead.\n",
      "  alternative=\"'density'\", removal=\"3.1\")\n"
     ]
    },
    {
     "data": {
      "image/png": "[encoded data removed]",
      "text/plain": [
       "<Figure size 576x504 with 1 Axes>"
      ]
     },
     "metadata": {
      "needs_background": "light"
     },
     "output_type": "display_data"
    }
   ],
   "source": [
    "%matplotlib inline\n",
    "plt.figure(figsize=(8, 7))\n",
    "plt.hist(mcmc.trace('p_A')[:], bins=35, histtype='stepfilled',\n",
    "normed=True)\n",
    "plt.xlabel('Probability of clicking BUY')\n",
    "plt.ylabel('Density')\n",
    "plt.vlines(p_A_true, 0, 90, linestyle='--', label='True p_A')\n",
    "plt.legend()\n",
    "plt.show()"
   ]
  },
  {
   "cell_type": "markdown",
   "metadata": {},
   "source": [
    "- Then, we might want to answer the question: where am I 90% confident that the true $p_{A}$ lies? That's easy to answer."
   ]
  },
  {
   "cell_type": "code",
   "execution_count": 13,
   "metadata": {},
   "outputs": [
    {
     "name": "stdout",
     "output_type": "stream",
     "text": [
      "There is 90%% probability that p_A is between 0.03927784537463118 and 0.057105909818956864\n"
     ]
    }
   ],
   "source": [
    "p_A_samples = mcmc.trace('p_A')[:]\n",
    "lower_bound = np.percentile(p_A_samples, 5)\n",
    "upper_bound = np.percentile(p_A_samples, 95)\n",
    "print ('There is 90%% probability that p_A is between {} and {}'.format(lower_bound, upper_bound))"
   ]
  },
  {
   "cell_type": "markdown",
   "metadata": {},
   "source": [
    "## Comparing Page A and Page B\n",
    "\n",
    "- We'll now repeat what we have done for page A, and we add a new variable delta indicating the difference between $p_{A}$ and $p_{B}$"
   ]
  },
  {
   "cell_type": "code",
   "execution_count": 15,
   "metadata": {},
   "outputs": [
    {
     "name": "stdout",
     "output_type": "stream",
     "text": [
      "Observed frequency:\n",
      "A\n",
      "0.062\n",
      "B\n",
      "0.034666666666666665\n",
      " [-----------------100%-----------------] 25000 of 25000 complete in 2.0 sec"
     ]
    },
    {
     "data": {
      "image/png": "[encoded data removed]",
      "text/plain": [
       "<Figure size 432x288 with 3 Axes>"
      ]
     },
     "metadata": {
      "needs_background": "light"
     },
     "output_type": "display_data"
    }
   ],
   "source": [
    "from pymc import Uniform, rbernoulli, Bernoulli, MCMC, deterministic\n",
    "from matplotlib import pyplot as plt\n",
    "\n",
    "p_A_true = 0.05\n",
    "p_B_true = 0.04\n",
    "N_A = 1500\n",
    "N_B = 750\n",
    "\n",
    "occurrences_A = rbernoulli(p_A_true, N_A)\n",
    "occurrences_B = rbernoulli(p_B_true, N_B)\n",
    "\n",
    "print ('Observed frequency:')\n",
    "print ('A')\n",
    "print (occurrences_A.sum() / float(N_A))\n",
    "print ('B')\n",
    "print (occurrences_B.sum() / float(N_B))\n",
    "\n",
    "p_A = Uniform('p_A', lower=0, upper=1)\n",
    "p_B = Uniform('p_B', lower=0, upper=1)\n",
    "\n",
    "@deterministic\n",
    "def delta(p_A=p_A, p_B=p_B):\n",
    "    return p_A - p_B\n",
    "\n",
    "obs_A = Bernoulli('obs_A', p_A, value=occurrences_A, observed=True)\n",
    "obs_B = Bernoulli('obs_B', p_B, value=occurrences_B, observed=True)\n",
    "\n",
    "mcmc = MCMC([p_A, p_B, obs_A, obs_B, delta])\n",
    "mcmc.sample(25000, 5000)\n",
    "\n",
    "p_A_samples = mcmc.trace('p_A')[:]\n",
    "p_B_samples = mcmc.trace('p_B')[:]\n",
    "delta_samples = mcmc.trace('delta')[:]\n",
    "\n",
    "plt.subplot(3,1,1)\n",
    "plt.xlim(0, 0.1)\n",
    "plt.hist(p_A_samples, bins=35, histtype='stepfilled', normed=True,color='blue', label='Posterior of p_A')\n",
    "plt.vlines(p_A_true, 0, 90, linestyle='--', label='True p_A(unknown)')\n",
    "plt.xlabel('Probability of clicking BUY via A')\n",
    "plt.legend()\n",
    "plt.subplot(3,1,2)\n",
    "plt.xlim(0, 0.1)\n",
    "plt.hist(p_B_samples, bins=35, histtype='stepfilled', normed=True,color='green', label='Posterior of p_B')\n",
    "plt.vlines(p_B_true, 0, 90, linestyle='--', label='True p_B(unknown)')\n",
    "plt.xlabel('Probability of clicking BUY via B')\n",
    "plt.legend()\n",
    "plt.subplot(3,1,3)\n",
    "plt.xlim(0, 0.1)\n",
    "plt.hist(delta_samples, bins=35, histtype='stepfilled', normed=True,color='red', label='Posterior of delta')\n",
    "plt.vlines(p_A_true - p_B_true, 0, 90, linestyle='--', label='True delta (unknown)')\n",
    "plt.xlabel('p_A - p_B')\n",
    "plt.legend()\n",
    "plt.show()"
   ]
  },
  {
   "cell_type": "markdown",
   "metadata": {},
   "source": [
    "- Then, we can answer a question like: what is the probability that $p_{A}>p_{B}$?"
   ]
  },
  {
   "cell_type": "code",
   "execution_count": 18,
   "metadata": {},
   "outputs": [
    {
     "name": "stdout",
     "output_type": "stream",
     "text": [
      "Probability that p_A > p_B:\n",
      "[ True  True  True ...  True  True  True]\n"
     ]
    }
   ],
   "source": [
    "print ('Probability that p_A > p_B:')\n",
    "print (delta_samples > 0)\n"
   ]
  },
  {
   "cell_type": "code",
   "execution_count": 19,
   "metadata": {},
   "outputs": [
    {
     "data": {
      "text/plain": [
       "0.9978"
      ]
     },
     "execution_count": 19,
     "metadata": {},
     "output_type": "execute_result"
    }
   ],
   "source": [
    "delta_true = delta_samples > 0\n",
    "delta_true.mean()"
   ]
  }
 ],
 "metadata": {
  "kernelspec": {
   "display_name": "Python 3",
   "language": "python",
   "name": "python3"
  },
  "language_info": {
   "codemirror_mode": {
    "name": "ipython",
    "version": 3
   },
   "file_extension": ".py",
   "mimetype": "text/x-python",
   "name": "python",
   "nbconvert_exporter": "python",
   "pygments_lexer": "ipython3",
   "version": "3.5.2"
  },
  "latex_envs": {
   "LaTeX_envs_menu_present": true,
   "autoclose": false,
   "autocomplete": true,
   "bibliofile": "biblio.bib",
   "cite_by": "apalike",
   "current_citInitial": 1,
   "eqLabelWithNumbers": true,
   "eqNumInitial": 1,
   "hotkeys": {
    "equation": "Ctrl-E",
    "itemize": "Ctrl-I"
   },
   "labels_anchors": false,
   "latex_user_defs": false,
   "report_style_numbering": false,
   "user_envs_cfg": false
  },
  "toc": {
   "base_numbering": 1,
   "nav_menu": {},
   "number_sections": true,
   "sideBar": true,
   "skip_h1_title": false,
   "title_cell": "Table of Contents",
   "title_sidebar": "Contents",
   "toc_cell": false,
   "toc_position": {},
   "toc_section_display": true,
   "toc_window_display": false
  },
  "varInspector": {
   "cols": {
    "lenName": 16,
    "lenType": 16,
    "lenVar": 40
   },
   "kernels_config": {
    "python": {
     "delete_cmd_postfix": "",
     "delete_cmd_prefix": "del ",
     "library": "var_list.py",
     "varRefreshCmd": "print(var_dic_list())"
    },
    "r": {
     "delete_cmd_postfix": ") ",
     "delete_cmd_prefix": "rm(",
     "library": "var_list.r",
     "varRefreshCmd": "cat(var_dic_list()) "
    }
   },
   "types_to_exclude": [
    "module",
    "function",
    "builtin_function_or_method",
    "instance",
    "_Feature"
   ],
   "window_display": false
  }
 },
 "nbformat": 4,
 "nbformat_minor": 2
}
