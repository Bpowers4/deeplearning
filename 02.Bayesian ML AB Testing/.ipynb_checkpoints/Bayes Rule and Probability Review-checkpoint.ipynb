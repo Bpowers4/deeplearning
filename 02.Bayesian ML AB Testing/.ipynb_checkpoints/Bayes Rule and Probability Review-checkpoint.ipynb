{
 "cells": [
  {
   "cell_type": "markdown",
   "metadata": {},
   "source": [
    "# 1) Bayes Rule Review"
   ]
  },
  {
   "cell_type": "markdown",
   "metadata": {},
   "source": [
    "## Bayes Rule & Probability Review\n",
    "- You 've probably already seen below formula\n",
    "\n",
    "$$p(A|B) = \\frac{p(A,B)}{p(B)}$$\n",
    "\n",
    "- $p(A|B)$ - conditional\n",
    "- $p(A,B)$ - joint\n",
    "- $p(B)$ - marginal \n",
    "- This is the most basic form, but too abstract\n"
   ]
  },
  {
   "cell_type": "markdown",
   "metadata": {},
   "source": [
    "## Bayes Example\n",
    "\n",
    "- A = {Buy, does not buy} ,B = {USA,Candada,Mexico}\n",
    "- Suppose we want to find p(Buy?|Country)\n",
    "\n",
    "[]()|CA|US|MX|\n",
    "----|---|---|---|\n",
    "Buy = 1(did buy)|20|50|10|\n",
    "Buy = 0(did not buy)|300|500|200|\n",
    "\n",
    "- Marginal probability\n",
    "- p(country=Mexico) = 210/(210+550+320) = 0.19\n",
    "- p(country=US) = 550/(210+550+320) = 0.51\n",
    "- p(country=CA) = 320/(210+550+320) = 0.30"
   ]
  },
  {
   "cell_type": "markdown",
   "metadata": {},
   "source": [
    "## Joint Probabilities\n",
    "- Now let's find p(Buy?,Country)\n",
    "- How many possibilities?\n",
    "- Buy?= 2 possibilities\n",
    "- Country = 3 possibilities\n",
    "- Total possibilities = 2 x 3 = 6\n",
    "- Think of it as an area or volume\n",
    "- In general, total = |RV1| x|RV2|x |RV3| x ... x|RVn|\n",
    "- Grows exponentially as we add more variables\n",
    "- Curse of dimensionality\n",
    "- is a bad thing, because as the volume grows\n",
    "- we need to do more computation\n",
    "- need more samples to get accurate estimates\n",
    "- p(Buy = 1,CA) = 20/1080(210+550+320) = 0.019\n",
    "- p(Buy = 0,CA) = 300/1080(210+550+320) = 0.28\n",
    "- p(Buy = 1,US) = 50/1080(210+550+320) = 0.046\n",
    "- p(Buy = 0,US) = 500/1080(210+550+320) = 0.46\n",
    "- p(Buy = 1,MX) = 10/1080(210+550+320) = 0.0093\n",
    "- p(Buy = 0,MX) = 200/1080(210+550+320) = 0.19\n",
    "\n",
    "- These seem a lot smaller than the marginal \n",
    "- Sum of all possible outcomes must = 1\n",
    "- If number of total possibilities grows exponentially,actual probability values will shrink exponentially\n",
    "- Another consequence of curse of dimensionality\n",
    "- Computers have finite precision-32bit float holds 32bits of info\n",
    "- can't store infinite number of values\n"
   ]
  },
  {
   "cell_type": "markdown",
   "metadata": {},
   "source": [
    "## Underflow\n",
    "- As probability -> 0, eventually computer will round down to 0\n",
    "- called the underflow problem\n",
    "- common in probability \n",
    "- log grows slowly as its argument increases\n"
   ]
  },
  {
   "cell_type": "markdown",
   "metadata": {},
   "source": [
    "## Conditional probabilities\n",
    "\n",
    "- p(Buy = 1|CA) = 0.019/0.30 = 0.06\n",
    "- p(Buy = 0|CA) = 0.28/0.30 = 0.93\n",
    "- p(Buy = 1|US) = 0.046/0.51 = 0.09\n",
    "- p(Buy = 0|US) = 0.46/0.51 = 0.91\n",
    "- p(Buy = 1|MX) = 0.009/0.19 = 0.05\n",
    "- p(Buy = 0|MX) = 0.185/0.19 = 0.97\n",
    "\n",
    "note: some roundoff error\n",
    "- No longer sums to 1, sums to 3 why?\n",
    "- we are given country- the space of random variables is only buy/not buy\n",
    "- country is not random here\n"
   ]
  },
  {
   "cell_type": "markdown",
   "metadata": {},
   "source": [
    "\n",
    "[]()|CA|US|MX|\n",
    "----|---|---|---|\n",
    "Buy = 1(did buy)|20|50|10|\n",
    "Buy = 0(did not buy)|300|500|200|\n",
    "\n",
    "- p(Buy = 1| Country = US) = p(Buy = 1,Country = US)/p(country = US)\n",
    "- = (50/1080)/[(50+500)/1080]\n",
    "- = 0.09"
   ]
  },
  {
   "cell_type": "markdown",
   "metadata": {},
   "source": [
    "## Similar but different problem\n",
    "\n",
    "[]()|CA|US|MX|\n",
    "----|---|---|---|\n",
    "Buy = 1(did buy)|20|50|10|\n",
    "Buy = 0(did not buy)|200|500|100|\n",
    "\n",
    "- p(Buy=1|Country=CA) = 0.1\n",
    "- p(Buy=1|Country=US) = 0.1\n",
    "- p(Buy=1|Country=MX) = 0.1\n",
    "\n",
    "\n"
   ]
  },
  {
   "cell_type": "markdown",
   "metadata": {},
   "source": [
    "## Independence\n",
    "- When 2 variables are independent, the joint becomes the multiple of the marginals, e.g. if A &B are independent:\n",
    "- p(A,B) = p(A)p(B)\n",
    "- so, if Buy & Country are independent\n",
    "- p(Buy|Country) = p(Buy,Country)/p(Country) = p(Buy)p(Country)/p(Country) = p(Buy)"
   ]
  },
  {
   "cell_type": "markdown",
   "metadata": {},
   "source": [
    "## Manipulating Bayes Rule\n",
    "- let's make it look more like the form we'll use in \n",
    "$$\n",
    "p(A|B) = \\frac{p(A,B)}{p(B)}\n",
    "$$\n",
    "\n",
    "- The opposite is also true:\n",
    "$$\n",
    "p(B|A) = \\frac{p(B,A)}{p(A)}\n",
    "$$\n",
    "- Since p(A,B) = p(B,A)\n",
    "$$\n",
    "p(A|B) = \\frac{p(B|A)p(A)}{p(B)}\n",
    "$$"
   ]
  },
  {
   "cell_type": "markdown",
   "metadata": {},
   "source": [
    "$$\n",
    "p(B) = \\sum_{A}^{}{p(A,B)} = \\sum_{A}^{}\\frac{p(B|A)}{p(A)}\n",
    "$$\n",
    "\n",
    "- If working with continuous distributions, sum turns into integral\n",
    "\n",
    "$$\n",
    "p(A|B) = \\frac{p(B|A)p(A)}{\\int{p(B|A)p(A)dA}}\n",
    "$$"
   ]
  },
  {
   "cell_type": "markdown",
   "metadata": {},
   "source": [
    "- Can also think of the bottom term as a normalization constant so that the distribution sums to 1\n",
    "\n",
    "\n",
    "$$\n",
    "p(A|B) \\propto p(B|A)p(A)\n",
    "$$\n",
    "\n",
    "- Many times, we just want the $\\underset{A}{\\operatorname{argmax}}p(A|B)$\n",
    "$$\n",
    "\\underset{A}{\\operatorname{argmax}}p(A|B) = \\underset{A}{\\operatorname{argmax}}p(B|A)p(A)\n",
    "$$"
   ]
  },
  {
   "cell_type": "markdown",
   "metadata": {},
   "source": [
    "## Bayes for classification\n",
    "$$\n",
    "p(y|x) = \\frac{p(x|y)p(y)}{p(x)}\n",
    "$$\n",
    "\n",
    "- p(x|y) is a generative distribution - it tells us what does x look like? given the class is y\n"
   ]
  }
 ],
 "metadata": {
  "kernelspec": {
   "display_name": "Python 3",
   "language": "python",
   "name": "python3"
  },
  "language_info": {
   "codemirror_mode": {
    "name": "ipython",
    "version": 3
   },
   "file_extension": ".py",
   "mimetype": "text/x-python",
   "name": "python",
   "nbconvert_exporter": "python",
   "pygments_lexer": "ipython3",
   "version": "3.5.2"
  },
  "toc": {
   "base_numbering": 1,
   "nav_menu": {},
   "number_sections": true,
   "sideBar": true,
   "skip_h1_title": false,
   "title_cell": "Table of Contents",
   "title_sidebar": "Contents",
   "toc_cell": false,
   "toc_position": {},
   "toc_section_display": true,
   "toc_window_display": false
  },
  "varInspector": {
   "cols": {
    "lenName": 16,
    "lenType": 16,
    "lenVar": 40
   },
   "kernels_config": {
    "python": {
     "delete_cmd_postfix": "",
     "delete_cmd_prefix": "del ",
     "library": "var_list.py",
     "varRefreshCmd": "print(var_dic_list())"
    },
    "r": {
     "delete_cmd_postfix": ") ",
     "delete_cmd_prefix": "rm(",
     "library": "var_list.r",
     "varRefreshCmd": "cat(var_dic_list()) "
    }
   },
   "types_to_exclude": [
    "module",
    "function",
    "builtin_function_or_method",
    "instance",
    "_Feature"
   ],
   "window_display": false
  }
 },
 "nbformat": 4,
 "nbformat_minor": 2
}
