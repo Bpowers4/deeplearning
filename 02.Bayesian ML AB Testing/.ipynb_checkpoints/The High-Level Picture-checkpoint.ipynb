{
 "cells": [
  {
   "cell_type": "markdown",
   "metadata": {},
   "source": [
    "#  1) What is Bayesian Machine Learning?"
   ]
  },
  {
   "cell_type": "markdown",
   "metadata": {},
   "source": [
    "## What is Bayesian ML?\n",
    "- We've all had some exposure to \"Bayes\"\n",
    "    - e.g. in grade school we learn Bayes rule\n",
    "    - Note: This is not Bayesian machine learning\n",
    "    - Even MAP(maximum a posterior) is not Bayesian\n",
    "- In college/university, you may encounter Bayes again\n",
    "    - statistics dept/computer science dept\n",
    "    - These 2 are very different even use different programming languages\n",
    "    - lesson: disregard your preconceived notions about what Bayesian ML is\n",
    "    "
   ]
  },
  {
   "cell_type": "markdown",
   "metadata": {},
   "source": [
    "- Focus on the specific application of A/B testing, with an undercurrent of Bayesian machine learning\n",
    "- This course is an introduction to Bayesian ML, as it introduces you to what it means to be Bayesian\n",
    "- We do so by comparing frequentist approaches to Bayesian approaches \n"
   ]
  },
  {
   "cell_type": "markdown",
   "metadata": {},
   "source": [
    "## The Bayesian Approach\n",
    "- Everything is random\n",
    "- More precisely, everything is a random variable\n",
    "- suppose we want to model the height of students in our class as a Gaussian, we thus must find its mean and variance\n"
   ]
  },
  {
   "cell_type": "markdown",
   "metadata": {},
   "source": []
  }
 ],
 "metadata": {
  "kernelspec": {
   "display_name": "Python 3",
   "language": "python",
   "name": "python3"
  },
  "language_info": {
   "codemirror_mode": {
    "name": "ipython",
    "version": 3
   },
   "file_extension": ".py",
   "mimetype": "text/x-python",
   "name": "python",
   "nbconvert_exporter": "python",
   "pygments_lexer": "ipython3",
   "version": "3.5.2"
  },
  "toc": {
   "base_numbering": 1,
   "nav_menu": {},
   "number_sections": true,
   "sideBar": true,
   "skip_h1_title": false,
   "title_cell": "Table of Contents",
   "title_sidebar": "Contents",
   "toc_cell": false,
   "toc_position": {},
   "toc_section_display": true,
   "toc_window_display": false
  },
  "varInspector": {
   "cols": {
    "lenName": 16,
    "lenType": 16,
    "lenVar": 40
   },
   "kernels_config": {
    "python": {
     "delete_cmd_postfix": "",
     "delete_cmd_prefix": "del ",
     "library": "var_list.py",
     "varRefreshCmd": "print(var_dic_list())"
    },
    "r": {
     "delete_cmd_postfix": ") ",
     "delete_cmd_prefix": "rm(",
     "library": "var_list.r",
     "varRefreshCmd": "cat(var_dic_list()) "
    }
   },
   "types_to_exclude": [
    "module",
    "function",
    "builtin_function_or_method",
    "instance",
    "_Feature"
   ],
   "window_display": false
  }
 },
 "nbformat": 4,
 "nbformat_minor": 2
}
