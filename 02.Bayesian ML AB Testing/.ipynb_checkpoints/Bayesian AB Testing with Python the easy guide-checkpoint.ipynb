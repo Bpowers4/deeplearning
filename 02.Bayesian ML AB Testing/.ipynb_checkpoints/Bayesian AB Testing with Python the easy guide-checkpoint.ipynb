{
 "cells": [
  {
   "cell_type": "markdown",
   "metadata": {},
   "source": [
    "[bayesian-a-b-testing-with-python-the-easy-guide](https://towardsdatascience.com/bayesian-a-b-testing-with-python-the-easy-guide-d638f89e0b8a)\n",
    "\n",
    "- To start the post, then, let me point you the practical difference of the bayesian approach from the classical, ‘frequentist’ one: the difference is in the form in which the metric you want to study actually is. For the frequentists, it’s a simple number, while for __bayesians it’s a distribution__."
   ]
  },
  {
   "cell_type": "markdown",
   "metadata": {},
   "source": [
    "- Conversion Rate (CR, since now on) of a web page, and the results are in the Table 1, below.\n",
    "\n",
    "![](https://miro.medium.com/max/299/1*zwlO_-OlPjcvPPCh5xp_Lw.png)"
   ]
  },
  {
   "cell_type": "markdown",
   "metadata": {},
   "source": [
    "```python\n",
    "from scipy.stats import beta\n",
    "import numpy as np\n",
    "from calc_prob import calc_prob_between\n",
    "\n",
    "#This is the known data: imporessions and conversions for the Control and Test set\n",
    "imps_ctrl,convs_ctrl=16500, 30 \n",
    "imps_test, convs_test=17000, 50\n",
    "\n",
    "# web page views and click beta distribution is the same code as below\n",
    "# class Bandit:\n",
    "#   def __init__(self, name):\n",
    "#     self.clks = 0\n",
    "#     self.views = 0\n",
    "#     self.name = name\n",
    "\n",
    "#   def sample(self):\n",
    "#     # Beta(1, 1) is the prior\n",
    "#     a = 1 + self.clks\n",
    "#     b = 1 + self.views - self.clks\n",
    "#     return np.random.beta(a, b)\n",
    "\n",
    "#   def add_click(self):\n",
    "#     self.clks += 1\n",
    "\n",
    "#   def add_view(self):\n",
    "#     self.views += 1\n",
    "\n",
    "#here we create the Beta functions for the two sets\n",
    "a_C, b_C = convs_ctrl+1, imps_ctrl-convs_ctrl+1\n",
    "beta_C = beta(a_C, b_C)\n",
    "a_T, b_T = convs_test+1, imps_test-convs_test+1\n",
    "beta_T = beta(a_T, b_T)\n",
    "\n",
    "#calculating the lift\n",
    "lift=(beta_T.mean()-beta_C.mean())/beta_C.mean()\n",
    "\n",
    "#calculating the probability for Test to be better than Control\n",
    "prob=calc_prob_between(beta_T, beta_C)\n",
    "\n",
    "print (f\"Test option lift Conversion Rates by {lift*100:2.2f}% with {prob*100:2.1f}% probability.\")\n",
    "#output: Test option lift Conversion Rates by 59.68% with 98.2% probability.\n",
    "```"
   ]
  },
  {
   "cell_type": "markdown",
   "metadata": {},
   "source": [
    "- Each fucntion is built on top of a flat, uninformative one, defined by β(1,1). The more informations (data) we add to this base, the more the function becomes narrower.\n",
    "\n",
    "- Based on the numbers in Table 1, the Test option performs much better than the Control one: almost 60% uplift, with more than 98% probability of being better.\n",
    "\n",
    "- "
   ]
  },
  {
   "cell_type": "markdown",
   "metadata": {},
   "source": [
    "- In the code I initialized two “Beta” functions, one for each option, feeding them with the numbers we had in the table:\n",
    "\n",
    "![](https://miro.medium.com/max/257/1*HjtYZngt7sh3Ujcq7xBsow.png)\n",
    "![](https://miro.medium.com/max/432/1*8CxN7lOhf3ChFg3Mur-6kw.gif)"
   ]
  },
  {
   "cell_type": "markdown",
   "metadata": {},
   "source": [
    "![](https://miro.medium.com/max/329/1*1aA3Dj4gQwlbFeo7x0ZNFw.png)"
   ]
  },
  {
   "cell_type": "markdown",
   "metadata": {},
   "source": [
    "[UTMDABTR-005-05](https://www.johndcook.com//UTMDABTR-005-05.pdf)"
   ]
  },
  {
   "cell_type": "markdown",
   "metadata": {},
   "source": [
    "## in UTMDABTR-005-05\n",
    "\n",
    "$$\n",
    "g(a,b,c,d) = \\int_{0}^{1}\\frac{x^{a-1}(1-x)^{b-1}}{B(a,b)}I_{x}(c,d)dx\\\\\n",
    "h(a,b,c,d) = \\frac{B(a+c,b+d)}{B(a,b)B(c,d)}\\\\\n",
    "h(a,b,c,d) = \\frac{\\Gamma(a+b)\\Gamma(b+d)\\Gamma(a+b)\\Gamma(c+d)}{\\Gamma(a)\\Gamma(b)\\Gamma(c)\\Gamma(d)\\Gamma(a+b+c+d)}\\\\\n",
    "$$"
   ]
  },
  {
   "cell_type": "code",
   "execution_count": 1,
   "metadata": {},
   "outputs": [],
   "source": [
    "from math import lgamma\n",
    "from numba import jit\n",
    "\n",
    "#defining the functions used\n",
    "@jit\n",
    "def h(a, b, c, d):\n",
    "    num = lgamma(a + c) + lgamma(b + d) + lgamma(a + b) + lgamma(c + d)\n",
    "    den = lgamma(a) + lgamma(b) + lgamma(c) + lgamma(d) + lgamma(a + b + c + d)\n",
    "    return np.exp(num - den)\n",
    "\n",
    "@jit\n",
    "def g0(a, b, c):    \n",
    "    return np.exp(lgamma(a + b) + lgamma(a + c) - (lgamma(a + b + c) + lgamma(a)))\n",
    "\n",
    "@jit\n",
    "def hiter(a, b, c, d):\n",
    "    while d > 1:\n",
    "        d -= 1\n",
    "        yield h(a, b, c, d) / d\n",
    "\n",
    "def g(a, b, c, d):\n",
    "    return g0(a, b, c) + sum(hiter(a, b, c, d))\n",
    "\n",
    "def calc_prob_between(beta1, beta2):\n",
    "    return g(beta1.args[0], beta1.args[1], beta2.args[0], beta2.args[1])"
   ]
  },
  {
   "cell_type": "code",
   "execution_count": 8,
   "metadata": {},
   "outputs": [
    {
     "name": "stdout",
     "output_type": "stream",
     "text": [
      "Test option lift Conversion Rates by 59.68  with 98.2  probability.\n"
     ]
    }
   ],
   "source": [
    "from scipy.stats import beta\n",
    "import numpy as np\n",
    "# from calc_prob import calc_prob_between\n",
    "\n",
    "#This is the known data: imporessions and conversions for the Control and Test set\n",
    "imps_ctrl,convs_ctrl=16500, 30 \n",
    "imps_test, convs_test=17000, 50\n",
    "\n",
    "#here we create the Beta functions for the two sets\n",
    "a_C, b_C = convs_ctrl+1, imps_ctrl-convs_ctrl+1\n",
    "beta_C = beta(a_C, b_C)\n",
    "a_T, b_T = convs_test+1, imps_test-convs_test+1\n",
    "beta_T = beta(a_T, b_T)\n",
    "\n",
    "#calculating the lift\n",
    "lift=(beta_T.mean()-beta_C.mean())/beta_C.mean()\n",
    "\n",
    "#calculating the probability for Test to be better than Control\n",
    "prob=calc_prob_between(beta_T, beta_C)\n",
    "\n",
    "print (\"Test option lift Conversion Rates by {:2.2f}  with {:2.1f}  probability.\".format(lift*100,prob*100))\n",
    "#output: Test option lift Conversion Rates by 59.68% with 98.2% probability."
   ]
  },
  {
   "cell_type": "code",
   "execution_count": 12,
   "metadata": {},
   "outputs": [
    {
     "ename": "AttributeError",
     "evalue": "'JointGrid' object has no attribute 'show'",
     "output_type": "error",
     "traceback": [
      "\u001b[0;31m---------------------------------------------------------------------------\u001b[0m",
      "\u001b[0;31mAttributeError\u001b[0m                            Traceback (most recent call last)",
      "\u001b[0;32m<ipython-input-12-daea3fab617c>\u001b[0m in \u001b[0;36m<module>\u001b[0;34m\u001b[0m\n\u001b[1;32m     21\u001b[0m \u001b[0mg\u001b[0m\u001b[0;34m=\u001b[0m\u001b[0msns\u001b[0m\u001b[0;34m.\u001b[0m\u001b[0mjointplot\u001b[0m\u001b[0;34m(\u001b[0m\u001b[0mx\u001b[0m\u001b[0;34m=\u001b[0m\u001b[0mdf\u001b[0m\u001b[0;34m.\u001b[0m\u001b[0mControl\u001b[0m\u001b[0;34m,\u001b[0m \u001b[0my\u001b[0m\u001b[0;34m=\u001b[0m\u001b[0mdf\u001b[0m\u001b[0;34m.\u001b[0m\u001b[0mTest\u001b[0m\u001b[0;34m,\u001b[0m \u001b[0mkind\u001b[0m\u001b[0;34m=\u001b[0m\u001b[0;34m'kde'\u001b[0m\u001b[0;34m,\u001b[0m \u001b[0mn_levels\u001b[0m\u001b[0;34m=\u001b[0m\u001b[0;36m15\u001b[0m\u001b[0;34m)\u001b[0m\u001b[0;34m\u001b[0m\u001b[0m\n\u001b[1;32m     22\u001b[0m \u001b[0mg\u001b[0m\u001b[0;34m.\u001b[0m\u001b[0max_joint\u001b[0m\u001b[0;34m.\u001b[0m\u001b[0mplot\u001b[0m\u001b[0;34m(\u001b[0m\u001b[0;34m[\u001b[0m\u001b[0;36m0.0015\u001b[0m\u001b[0;34m,\u001b[0m \u001b[0mlimit\u001b[0m\u001b[0;34m]\u001b[0m\u001b[0;34m,\u001b[0m \u001b[0;34m[\u001b[0m\u001b[0;36m0.0015\u001b[0m\u001b[0;34m,\u001b[0m \u001b[0mlimit\u001b[0m\u001b[0;34m]\u001b[0m\u001b[0;34m)\u001b[0m\u001b[0;34m\u001b[0m\u001b[0m\n\u001b[0;32m---> 23\u001b[0;31m \u001b[0mg\u001b[0m\u001b[0;34m.\u001b[0m\u001b[0mshow\u001b[0m\u001b[0;34m(\u001b[0m\u001b[0;34m)\u001b[0m\u001b[0;34m\u001b[0m\u001b[0m\n\u001b[0m",
      "\u001b[0;31mAttributeError\u001b[0m: 'JointGrid' object has no attribute 'show'"
     ]
    },
    {
     "data": {
      "image/png": "[encoded data removed]",
      "text/plain": [
       "<Figure size 432x432 with 3 Axes>"
      ]
     },
     "metadata": {
      "needs_background": "light"
     },
     "output_type": "display_data"
    }
   ],
   "source": [
    "%matplotlib inline \n",
    "import seaborn as sns\n",
    "import pandas as pd\n",
    "import numpy as np\n",
    "imps_ctrl,convs_ctrl=16500, 30 \n",
    "imps_test, convs_test=17000, 50\n",
    "\n",
    "#here we create the Beta functions for the two sets\n",
    "a_C, b_C = convs_ctrl+1, imps_ctrl-convs_ctrl+1\n",
    "a_T, b_T = convs_test+1, imps_test-convs_test+1\n",
    "\n",
    "val_C=np.random.beta(a_C, b_C, 1000000)\n",
    "val_T=np.random.beta(a_T, b_T, 1000000)\n",
    "vals=np.vstack([val_C, val_T]).T\n",
    "\n",
    "limit=0.004\n",
    "\n",
    "\n",
    "df=pd.DataFrame(vals, columns=['Control', 'Test'])\n",
    "df=df[df['Control']<limit]\n",
    "df=df[df['Test']<limit]\n",
    "g=sns.jointplot(x=df.Control, y=df.Test, kind='kde', n_levels=15)\n",
    "g.ax_joint.plot([0.0015, limit], [0.0015, limit])\n"
   ]
  }
 ],
 "metadata": {
  "kernelspec": {
   "display_name": "Python 3",
   "language": "python",
   "name": "python3"
  },
  "language_info": {
   "codemirror_mode": {
    "name": "ipython",
    "version": 3
   },
   "file_extension": ".py",
   "mimetype": "text/x-python",
   "name": "python",
   "nbconvert_exporter": "python",
   "pygments_lexer": "ipython3",
   "version": "3.5.2"
  },
  "latex_envs": {
   "LaTeX_envs_menu_present": true,
   "autoclose": false,
   "autocomplete": true,
   "bibliofile": "biblio.bib",
   "cite_by": "apalike",
   "current_citInitial": 1,
   "eqLabelWithNumbers": true,
   "eqNumInitial": 1,
   "hotkeys": {
    "equation": "Ctrl-E",
    "itemize": "Ctrl-I"
   },
   "labels_anchors": false,
   "latex_user_defs": false,
   "report_style_numbering": false,
   "user_envs_cfg": false
  }
 },
 "nbformat": 4,
 "nbformat_minor": 2
}
