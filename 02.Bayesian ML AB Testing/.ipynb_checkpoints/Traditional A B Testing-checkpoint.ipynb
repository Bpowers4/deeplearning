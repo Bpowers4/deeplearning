{
 "cells": [
  {
   "cell_type": "markdown",
   "metadata": {},
   "source": [
    "# A/B Testing Problem Setup"
   ]
  },
  {
   "cell_type": "markdown",
   "metadata": {},
   "source": [
    "## A/B Testing\n",
    "- Scenario\n",
    "- You run a Software as a Service(SaaS) startup\n",
    "- You have a landing page where you get people to sign up\n",
    "- Signup = enter email address and click signup button\n",
    "- Not everyone who visits your site will signup\n",
    "- Conversion rate = proportion of people who sign up"
   ]
  },
  {
   "cell_type": "markdown",
   "metadata": {},
   "source": [
    "- Suppose your lead marketer has identified problems with your landing page(not responsive,slow load time, bad copy etc)\n",
    "- They create a new,possibly better page\n",
    "- You (as a data scientist) want to measure which page is better, using data and math\n",
    "- Recall confidence interval concept\n",
    "- we know rate(page 1) = 1/10 vs rate(page 2) = 2/10 is not as good as rate(page 1) = 10/100 vs rate(page 2) = 20/100\n",
    "- How do we quantify this?\n"
   ]
  },
  {
   "cell_type": "markdown",
   "metadata": {},
   "source": [
    "- We quantify this with statistical significance testing\n"
   ]
  },
  {
   "cell_type": "markdown",
   "metadata": {},
   "source": [
    "- Significance level = $\\alpha$ (5%, 1% common)\n",
    "- Is the difference in mean height between men and women statistically siginificant at significance level $\\alpha$?\n",
    "\n",
    "$$\n",
    "\\mu_{1} = ?\\mu_{2}\n",
    "$$"
   ]
  },
  {
   "cell_type": "markdown",
   "metadata": {},
   "source": [
    "## Hypotheses\n",
    "- Null hypothesis(no difference):\n",
    "    - Example: no difference in height between men and women\n",
    "    - Example: no difference in effect between drug and placebo\n",
    "    - $H_{0}: \\mu_{1} = \\mu_{2}  $\n",
    "- Alternative hypothesis(one-sided test):\n",
    "    - $H_{1}: \\mu_{1} > \\mu_{2}$\n",
    "    "
   ]
  },
  {
   "cell_type": "markdown",
   "metadata": {},
   "source": [
    "- Alternative hypothesis(2-sided test):\n",
    "    - Example: test if men taller than women OR women taller than men\n",
    "    - Example: test if drug works better than placebo OR worse than placebo\n",
    "    - $H_{1}: \\mu_{1} \\neq \\mu_{2}$"
   ]
  },
  {
   "cell_type": "markdown",
   "metadata": {},
   "source": [
    "- we will do the 2-sided test($\\neq$)\n",
    "- we will show quantitatively if the 2 groups are different"
   ]
  },
  {
   "cell_type": "markdown",
   "metadata": {},
   "source": [
    "# A/B testing Recipe\n",
    "- Continue our example(height of men vs women, drug vs placebo)\n",
    "- As is typical in frequentist statistics, we will assume data is Gaussian-distributed\n",
    "- We collect some data, 2 lists of heights, one for men, one for women\n",
    "- $X_{1}$= {$x_{11},x_{12},...,x_{1N}$ }\n",
    "- $X_{2}$= {$x_{21},x_{22},...,x_{2N}$ }"
   ]
  },
  {
   "cell_type": "markdown",
   "metadata": {},
   "source": [
    "- We create a test statistics (called __t__)\n",
    "$$\n",
    "t = \\frac{\\bar{X}_{1}- \\bar{X}_{2}}{s_{p}\\sqrt{2/N}}\\\\\n",
    "s_{p} = \\sqrt{\\frac{s_{1}^2+s_{2}^2}{2}}\n",
    "$$\n",
    "\n",
    "- $s_{p}$ = pooled std dev(use unbiased estimates for all s - divided by N-1, not N)\n",
    "- N = size of each group\n",
    "\n",
    "- Refer below sample mean,std dev\n",
    "$$\n",
    "\\hat{\\mu} = \\frac{1}{N}\\sum_{i=1}^{N}x_{i} \\\\\n",
    "\\hat{\\sigma} = \\sqrt{\\frac{1}{N}\\sum_{i=1}^{N}(x_{i}-\\hat{\\mu})^2}\n",
    "$$"
   ]
  },
  {
   "cell_type": "markdown",
   "metadata": {},
   "source": [
    "- Recall estimate of mean - it was a sum of random variables, therefore also random variables\n",
    "- t is also a function of random variables, therefore also a random variables\n",
    "- can be shown that t is t-distributed\n",
    "- we will see t-distribution and other more exotic distribution a lot when studying statistical testing + Bayesian methods"
   ]
  },
  {
   "cell_type": "markdown",
   "metadata": {},
   "source": [
    "## t-distribution\n",
    "- looks like a Gaussian with fatter tails\n",
    "\n",
    "![](https://study.com/cimages/videopreview/o84agbwoq4.jpg)\n",
    "![](https://cn.bing.com/th?id=OIP.-3zt17eY9pfOiFcewnoiEQHaFj&pid=Api&rs=1)\n",
    "![](https://upload.wikimedia.org/wikipedia/commons/thumb/4/41/Student_t_pdf.svg/1200px-Student_t_pdf.svg.png)\n",
    "![](http://www.obg.cuhk.edu.hk/ResearchSupport/StatTools/Pics/t.png)"
   ]
  },
  {
   "cell_type": "markdown",
   "metadata": {},
   "source": [
    "- PDF\n",
    "![](https://www.thoughtco.com/thmb/gAsKXrZg1kekAQnZVxb4J94QklA=/768x0/filters:no_upscale():max_bytes(150000):strip_icc()/tdist-56b749523df78c0b135f5be6.jpg)"
   ]
  },
  {
   "cell_type": "markdown",
   "metadata": {},
   "source": [
    "- we won't use it directly\n",
    "- 1 parameter : $v$ = degree of freedom (df)\n",
    "- for our statistical test, $v$ = 2N -2"
   ]
  },
  {
   "cell_type": "markdown",
   "metadata": {},
   "source": [
    "## Test Statistic\n",
    "- If mean(X1) = mean(X2) -> t = 0\n",
    "    - falls in center of t-distribution\n",
    "- If mean(X1) >> mean(X2) -> t= large\n",
    "    - falls in right tail\n",
    "- If mean(X1) << mean(X2) -> t= small\n",
    "    - falls in left tail\n",
    "    \n",
    "- symmetry -> doesn't matter if we call men = 1, women = 2 or vice versa\n",
    "\n",
    "$$\n",
    "t = \\frac{\\bar{X}_{1}- \\bar{X}_{2}}{s_{p}\\sqrt{2/N}}\\\\\n",
    "s_{p} = \\sqrt{\\frac{s_{1}^2+s_{2}^2}{2}}\n",
    "$$\n"
   ]
  },
  {
   "cell_type": "markdown",
   "metadata": {},
   "source": [
    "## Area under t-dtistribution\n",
    "- Use scipy.stats.t.cdf\n",
    "- If in left tail -> CDF close to 0\n",
    "- If in right tail -> CDF close to 1\n",
    "- For a significance level $\\alpha$ = 0.05, t < -2.776, or t > 2.776\n",
    "- we call that a statistically significant difference\n",
    "\n"
   ]
  },
  {
   "cell_type": "markdown",
   "metadata": {},
   "source": [
    "# p-values"
   ]
  },
  {
   "cell_type": "markdown",
   "metadata": {},
   "source": [
    "## A/B testing Cont\n",
    "- Previously: I showed you an algorithm to determine whether the difference between 2 groups was statistically significant or not\n",
    "- Algorithm is done, but we need some more terminology\n",
    "- In stats, we are looking for one number < significance level($\\alpha$)\n",
    "- Should be small no matter which tail end we're on"
   ]
  },
  {
   "cell_type": "markdown",
   "metadata": {},
   "source": [
    "## p-value\n",
    "- What's this small number? it's called a p-value\n",
    "- Much controversy\n",
    "- People still discussing it today\n",
    "- Out goal: get to the Bayesian way of doing things\n",
    "- p-value definition\n",
    "    - the probability of obtaining a result equal to or more extreme than what was actually observed, when the null hypothesis is true\n",
    "    "
   ]
  },
  {
   "cell_type": "markdown",
   "metadata": {},
   "source": [
    "- If: average height of men == average height of women (null hypothesis)\n",
    "- Then: p-value is the probability of observing the difference we measured(or any larger difference)\n",
    "- In other words: If t $\\propto$ mean(X1) - mean(X2) is very large, p-value should be very small\n"
   ]
  },
  {
   "cell_type": "markdown",
   "metadata": {},
   "source": [
    "- we want to keep using our significance level $\\alpha$\n",
    "- if p-value < $\\alpha$\n",
    "- difference is statistically significant\n",
    "- we reject the null hypothesis\n",
    "- otherwise:\n",
    "- we cannot reject the null hypothesis\n",
    "- this doesnot mean the null hypothesis is true, it just means we can't reject it with the data we collected"
   ]
  },
  {
   "cell_type": "markdown",
   "metadata": {},
   "source": [
    "- For our example, we want p-value < 5% = 0.05\n",
    "- But the answer we got before(for statistical significance) was:\n",
    "- Area < 0.025 or Area > 0.975\n",
    "- If we get Area >0.975, take 1- Area < 0.025\n",
    "- now we have a small < 0.025\n",
    "- multiply both sides by 2\n",
    "- 2 x( small number) < 0.05\n",
    "- p-value = 2 x(small number)\n",
    "- multiply by 2 only for 2-sided test\n",
    "- one sided test -> we are only checking if X1 > X2, don't multiply by 2\n",
    "- this means the one sided test has more power than the two sided test\n",
    "- it doesn't require a test statistic to be as extreme in order to be significant \n",
    "- in general\n",
    "- the more assumptions you make, the more power your test has\n",
    "- opposite also true: less assumptions, less power\n"
   ]
  },
  {
   "cell_type": "markdown",
   "metadata": {},
   "source": [
    "## Testing Characteristics\n",
    "- we already know if mean(X1) >> mean(X2) or vice versa, t will be larger\n",
    "- what about $s_{p}$ and N?\n",
    "- $t \\propto \\sqrt{N}/s_{p}$\n",
    "- bigger N -> bigger t (smaller p-value)\n",
    "- bigger $s_{p}$ -> smaller t (bigger p-value) \n",
    "\n",
    "$$\n",
    "t = \\frac{\\bar{X}_{1}- \\bar{X}_{2}}{s_{p}\\sqrt{2/N}}\\\\\n",
    "s_{p} = \\sqrt{\\frac{s_{1}^2+s_{2}^2}{2}}\n",
    "$$\n"
   ]
  },
  {
   "cell_type": "markdown",
   "metadata": {},
   "source": [
    "- same situation as with confidence interval\n",
    "- t grows slowly (square root) with N\n",
    "- t decreases faster (inversely proportional) with $s_{p}$"
   ]
  },
  {
   "cell_type": "markdown",
   "metadata": {},
   "source": [
    "## small sample sizes?\n",
    "- t depends on N - if N is small, t is smaller, p-value is bigger\n",
    "- since statistical significance is a function of N, it already takes sample size into account\n",
    "- not correct to say small value of N makes a finding false"
   ]
  },
  {
   "cell_type": "markdown",
   "metadata": {},
   "source": [
    "## Pooled standard deviation\n",
    "- recall: N is the size of each group\n",
    "- what if each group is of a different size? take a weighted combination\n",
    "\n",
    "$$\n",
    "t = \\frac{\\bar{X}_{1}- \\bar{X}_{2}}{s_{p}\\sqrt{ \\frac{1}{n_{1}}+\\frac{1}{n_{2}}  }}\\\\\n",
    "s_{p} = \\sqrt{\\frac{(n_{1}-1)s_{X_{1}}^2+ (n_{2}-1)s_{X_{2}}^2}{n_{1}+n_{2}-2} }\n",
    "$$"
   ]
  },
  {
   "cell_type": "markdown",
   "metadata": {},
   "source": [
    "## Another assumption\n",
    "- not obvious- we've assumed that standard deviation of both groups is the same\n",
    "- what if they're different? use welch's t-test\n",
    "- important: the steps are the same: find t -> find df -> fidn p-value\n",
    "\n",
    "$$\n",
    "t = \\frac{\\bar{X}_{1}- \\bar{X}_{2}}{s_{\\Delta}^{-} }\\\\\n",
    "s_{\\Delta}^{-} = \\sqrt{\\frac{s_{1}^2}{n_{1}}+ \\frac{s_{2}^2}{n_{2}} }\\\\\n",
    "d.f.= \\frac{(s_{1}^2/n_{1}+s_{2}^2/n_{2})^2 }{(s_{1}^2/n_{1})^2/(n_{1}-1)+ (s_{2}^2/n_{2})^2/(n_{2}-1) }\n",
    "$$"
   ]
  },
  {
   "cell_type": "markdown",
   "metadata": {},
   "source": [
    "## More Assumptions\n",
    "- we assumed data was gaussian\n",
    "- we will see what test goes with click data later\n",
    "- what if we don't want to assume a distribution?\n",
    "- use nonparametric tests/distribution-free tests\n",
    "- some popular ones are\n",
    "    - kolmogorov-Smirnov test\n",
    "    - Kruskal-Wallis test\n",
    "    - Mann-Whitney U test\n",
    "- API is the same\n",
    "- less assumptions-> less power -> need more extreme difference for statistically significant p-value"
   ]
  },
  {
   "cell_type": "markdown",
   "metadata": {},
   "source": [
    "## 1-sided vs 2 sided\n",
    "- we did not make the 1 sided assumption\n",
    "- effect of 1 sided test on p-value: it's easier to show significance because we don't multiply area by 2\n",
    "- sometimes you don't want to do 1 sided test\n",
    "- Drug testing- you want to test if drug is better, you also want to test if drug is worse\n",
    "- But if you have an effective drug, and you want to test if a new drug is better, you can use a 1 sided test"
   ]
  },
  {
   "cell_type": "markdown",
   "metadata": {},
   "source": [
    "## Summary\n",
    "- generate test statistics, from that we know its distribution\n",
    "- look to see if it's at the extreme values of the distribution(statistical significance)\n",
    "- if statistically significant, reject the null hypothesis"
   ]
  },
  {
   "cell_type": "markdown",
   "metadata": {},
   "source": [
    "## In Code"
   ]
  },
  {
   "cell_type": "markdown",
   "metadata": {},
   "source": [
    "```python\n",
    "import numpy as np\n",
    "from scipy import stats\n",
    "\n",
    "# generate data\n",
    "N = 10\n",
    "a = np.random.randn(N) + 2 # mean 2, variance 1\n",
    "b = np.random.randn(N) # mean 0, variance 1\n",
    "```"
   ]
  },
  {
   "cell_type": "markdown",
   "metadata": {},
   "source": [
    "```python\n",
    "a,b\n",
    "\n",
    "(array([0.47644157, 2.65279007, 0.66894388, 1.8490248 , 1.60699778,\n",
    "        3.02461137, 1.78354336, 0.17284328, 2.68667113, 1.66448736]),\n",
    " array([ 0.78296108, -0.14376871, -0.87388677, -0.63003727,  1.1729029 ,\n",
    "         0.02082976, -0.5373537 , -0.56871037,  0.10464732,  0.47919825]))\n",
    "```         "
   ]
  },
  {
   "cell_type": "markdown",
   "metadata": {},
   "source": [
    "```python\n",
    "\n",
    "#ddof : int, optional\n",
    "#“Delta Degrees of Freedom”: the divisor used in the calculation is N - ddof, where N represents the number of # elements. By default ddof is zero.\n",
    "# roll your own t-test:\n",
    "var_a = a.var(ddof=1) # unbiased estimator, divide by N-1 instead of N\n",
    "var_b = b.var(ddof=1)\n",
    "```"
   ]
  },
  {
   "cell_type": "markdown",
   "metadata": {},
   "source": [
    "```python\n",
    "var_a,var_b\n",
    "(0.9500324342271126, 0.4466096488668789)\n",
    "```"
   ]
  },
  {
   "cell_type": "markdown",
   "metadata": {},
   "source": [
    "\n",
    "$$\n",
    "t = \\frac{\\bar{X}_{1}- \\bar{X}_{2}}{s_{p}\\sqrt{2/N}}\\\\\n",
    "s_{p} = \\sqrt{\\frac{s_{1}^2+s_{2}^2}{2}}\n",
    "$$\n",
    "```python\n",
    "s = np.sqrt( (var_a + var_b) / 2 ) # balanced standard deviation\n",
    "t = (a.mean() - b.mean()) / (s * np.sqrt(2.0/N)) # t-statistic\n",
    "```"
   ]
  },
  {
   "cell_type": "markdown",
   "metadata": {},
   "source": [
    "```python\n",
    "df = 2*N - 2 # degrees of freedom\n",
    "p = 1 - stats.t.cdf(np.abs(t), df=df) # one-sided test p-value\n",
    "print(\"t:\\t\", t, \"p:\\t\", 2*p) # two-sided test p-value\n",
    "```\n"
   ]
  },
  {
   "cell_type": "markdown",
   "metadata": {},
   "source": [
    "# Reference\n",
    "[t_distribution calc](http://www.dmbru.dentistry.ubc.ca/Calculating_Companion/applets/t_distribution/t_distribution.php)\n",
    "![](http://kisi.deu.edu.tr/joshua.cowley/StudentTTable.png)"
   ]
  }
 ],
 "metadata": {
  "kernelspec": {
   "display_name": "Python 3",
   "language": "python",
   "name": "python3"
  },
  "language_info": {
   "codemirror_mode": {
    "name": "ipython",
    "version": 3
   },
   "file_extension": ".py",
   "mimetype": "text/x-python",
   "name": "python",
   "nbconvert_exporter": "python",
   "pygments_lexer": "ipython3",
   "version": "3.5.2"
  },
  "toc": {
   "base_numbering": 1,
   "nav_menu": {},
   "number_sections": true,
   "sideBar": true,
   "skip_h1_title": false,
   "title_cell": "Table of Contents",
   "title_sidebar": "Contents",
   "toc_cell": false,
   "toc_position": {},
   "toc_section_display": true,
   "toc_window_display": false
  },
  "varInspector": {
   "cols": {
    "lenName": 16,
    "lenType": 16,
    "lenVar": 40
   },
   "kernels_config": {
    "python": {
     "delete_cmd_postfix": "",
     "delete_cmd_prefix": "del ",
     "library": "var_list.py",
     "varRefreshCmd": "print(var_dic_list())"
    },
    "r": {
     "delete_cmd_postfix": ") ",
     "delete_cmd_prefix": "rm(",
     "library": "var_list.r",
     "varRefreshCmd": "cat(var_dic_list()) "
    }
   },
   "types_to_exclude": [
    "module",
    "function",
    "builtin_function_or_method",
    "instance",
    "_Feature"
   ],
   "window_display": false
  }
 },
 "nbformat": 4,
 "nbformat_minor": 2
}
