{
 "cells": [
  {
   "cell_type": "markdown",
   "metadata": {},
   "source": [
    "# Bootstrp Estimates\n",
    "- combining several models could help us get lower bias and lower variance at the same time\n",
    "- Key tool we need first: bootstrapping\n",
    "- resampling\n",
    "- Fascinating result\n",
    "    - same data\n",
    "    - calculate the same thing several times\n",
    "    - better results\n",
    "- but first, let's look at bootstrap for simple parameter estimates like mean\n"
   ]
  },
  {
   "cell_type": "markdown",
   "metadata": {},
   "source": [
    "## Bootstrp Estimates\n",
    "\n",
    "- Given :X = {$x_{1},x_{2},...,x_{N}$}\n",
    "\n",
    "\n",
    "- for b = 1...B:\n",
    "    - $X_{b}$ = sample_with_replacement(X) # size of $X_{b}$ is N\n",
    "    - sample_mean[b] = sum($X_{b}$)/N\n",
    "\n",
    "- calculate mean and variance of {sample_mean[1],...,sample_mean[B]}\n",
    "- big variance -> not confident about value of mean\n",
    "\n",
    "\n"
   ]
  },
  {
   "cell_type": "markdown",
   "metadata": {},
   "source": [
    "- Given X = {1,2,3,4,5}\n",
    "- I sample from this and I get 5\n",
    "- I sample again, I can get 5 again\n",
    "- In fact, it's possible to get {5,5,5,5,5}\n",
    "- If I sampled without replacement, the only possible result is the original dataset"
   ]
  },
  {
   "cell_type": "markdown",
   "metadata": {},
   "source": [
    "```python\n",
    "import numpy as np\n",
    "import matplotlib.pyplot as plt\n",
    "from scipy.stats import norm, t\n",
    "\n",
    "B = 5#200\n",
    "N = 20\n",
    "X = np.random.randn(N)\n",
    "\n",
    "print(\"sample mean of X:\", X.mean())\n",
    "\n",
    "individual_estimates = np.empty(B)\n",
    "for b in range(B):\n",
    "    sample = np.random.choice(X, size=N)\n",
    "    print(sample)\n",
    "    individual_estimates[b] = sample.mean()\n",
    "    \n",
    "sample mean of X: -0.5706147702878009\n",
    "[-0.38012851 -1.16344489 -2.46876863 -0.97304174 -0.87946     0.06087354\n",
    " -1.16344489 -0.60421335 -1.16344489 -0.37301198 -0.20605531 -0.16664872\n",
    "  0.0470683  -0.87946     0.0470683   0.06087354 -0.38012851 -0.60421335\n",
    " -1.15876691 -2.46876863]\n",
    "[-0.48300272  0.6894706  -1.15876691 -1.15876691  0.09769392 -2.46876863\n",
    "  0.6894706  -0.48300272 -0.60421335  0.09769392 -1.55823206 -0.38012851\n",
    "  0.6894706  -0.60421335 -0.14174115  0.16003414 -1.16344489 -0.60421335\n",
    " -1.15876691 -0.60421335]\n",
    "[-0.48300272 -0.60421335 -0.48300272 -1.55823206  0.09769392 -0.60421335\n",
    " -0.16664872 -1.15876691 -0.84203215 -0.38012851 -0.60421335  0.16003414\n",
    "  0.06087354  0.16003414  0.09769392 -0.16664872  0.06087354 -0.48300272\n",
    " -0.38012851 -0.48300272]\n",
    "[ 0.09769392  0.16003414 -0.16664872 -0.14174115 -2.46876863 -0.97304174\n",
    " -0.14174115 -0.14174115  0.06087354 -0.37301198  0.6894706  -0.14174115\n",
    " -0.16664872  0.09769392 -0.60421335  0.06087354  0.09769392  0.09769392\n",
    "  0.06087354 -0.37301198]\n",
    "[-1.06888779 -0.97304174 -0.97304174 -1.16344489 -0.48300272 -1.55823206\n",
    "  0.09769392 -1.15876691 -1.16344489 -1.16344489 -1.16344489 -0.20605531\n",
    " -1.06888779 -0.48300272 -1.16344489 -0.16664872 -0.60421335 -1.16344489\n",
    " -0.20605531 -1.55823206]\n",
    "```    "
   ]
  },
  {
   "cell_type": "markdown",
   "metadata": {},
   "source": [
    "## Result first\n",
    "- Expected value of bootstrapped parameter is equal to the parameter\n",
    "\n",
    "$$\n",
    "E(\\bar{\\theta_{B}})= 0\n",
    "$$"
   ]
  },
  {
   "cell_type": "markdown",
   "metadata": {},
   "source": [
    "- Given \n",
    "$$\n",
    "\\rho\n",
    "$$"
   ]
  }
 ],
 "metadata": {
  "kernelspec": {
   "display_name": "Python 3",
   "language": "python",
   "name": "python3"
  },
  "language_info": {
   "codemirror_mode": {
    "name": "ipython",
    "version": 3
   },
   "file_extension": ".py",
   "mimetype": "text/x-python",
   "name": "python",
   "nbconvert_exporter": "python",
   "pygments_lexer": "ipython3",
   "version": "3.5.2"
  },
  "toc": {
   "base_numbering": 1,
   "nav_menu": {},
   "number_sections": true,
   "sideBar": true,
   "skip_h1_title": false,
   "title_cell": "Table of Contents",
   "title_sidebar": "Contents",
   "toc_cell": false,
   "toc_position": {},
   "toc_section_display": true,
   "toc_window_display": false
  },
  "varInspector": {
   "cols": {
    "lenName": 16,
    "lenType": 16,
    "lenVar": 40
   },
   "kernels_config": {
    "python": {
     "delete_cmd_postfix": "",
     "delete_cmd_prefix": "del ",
     "library": "var_list.py",
     "varRefreshCmd": "print(var_dic_list())"
    },
    "r": {
     "delete_cmd_postfix": ") ",
     "delete_cmd_prefix": "rm(",
     "library": "var_list.r",
     "varRefreshCmd": "cat(var_dic_list()) "
    }
   },
   "types_to_exclude": [
    "module",
    "function",
    "builtin_function_or_method",
    "instance",
    "_Feature"
   ],
   "window_display": false
  }
 },
 "nbformat": 4,
 "nbformat_minor": 2
}
