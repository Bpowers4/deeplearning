{
 "cells": [
  {
   "cell_type": "markdown",
   "metadata": {},
   "source": [
    "# Bootstrp Estimates\n",
    "- combining several models could help us get lower bias and lower variance at the same time\n",
    "- Key tool we need first: bootstrapping\n",
    "- resampling\n",
    "- Fascinating result\n",
    "    - same data\n",
    "    - calculate the same thing several times\n",
    "    - better results\n",
    "- but first, let's look at bootstrap for simple parameter estimates like mean\n"
   ]
  },
  {
   "cell_type": "markdown",
   "metadata": {},
   "source": [
    "## Bootstrp Estimates\n",
    "\n",
    "- Given :X = {$x_{1},x_{2},...,x_{N}$}\n",
    "\n",
    "\n",
    "- for b = 1...B:\n",
    "    - $X_{b}$ = sample_with_replacement(X) # size of $X_{b}$ is N\n",
    "    - sample_mean[b] = sum($X_{b}$)/N\n",
    "\n",
    "- calculate mean and variance of {sample_mean[1],...,sample_mean[B]}\n",
    "- big variance -> not confident about value of mean\n",
    "\n",
    "\n"
   ]
  },
  {
   "cell_type": "markdown",
   "metadata": {},
   "source": [
    "- Given X = {1,2,3,4,5}\n",
    "- I sample from this and I get 5\n",
    "- I sample again, I can get 5 again\n",
    "- In fact, it's possible to get {5,5,5,5,5}\n",
    "- If I sampled without replacement, the only possible result is the original dataset"
   ]
  },
  {
   "cell_type": "markdown",
   "metadata": {},
   "source": [
    "```python\n",
    "import numpy as np\n",
    "import matplotlib.pyplot as plt\n",
    "from scipy.stats import norm, t\n",
    "\n",
    "B = 5#200\n",
    "N = 20\n",
    "X = np.random.randn(N)\n",
    "\n",
    "print(\"sample mean of X:\", X.mean())\n",
    "\n",
    "individual_estimates = np.empty(B)\n",
    "for b in range(B):\n",
    "    sample = np.random.choice(X, size=N)\n",
    "    print(sample)\n",
    "    individual_estimates[b] = sample.mean()\n",
    "    \n",
    "sample mean of X: -0.5706147702878009\n",
    "[-0.38012851 -1.16344489 -2.46876863 -0.97304174 -0.87946     0.06087354\n",
    " -1.16344489 -0.60421335 -1.16344489 -0.37301198 -0.20605531 -0.16664872\n",
    "  0.0470683  -0.87946     0.0470683   0.06087354 -0.38012851 -0.60421335\n",
    " -1.15876691 -2.46876863]\n",
    "[-0.48300272  0.6894706  -1.15876691 -1.15876691  0.09769392 -2.46876863\n",
    "  0.6894706  -0.48300272 -0.60421335  0.09769392 -1.55823206 -0.38012851\n",
    "  0.6894706  -0.60421335 -0.14174115  0.16003414 -1.16344489 -0.60421335\n",
    " -1.15876691 -0.60421335]\n",
    "[-0.48300272 -0.60421335 -0.48300272 -1.55823206  0.09769392 -0.60421335\n",
    " -0.16664872 -1.15876691 -0.84203215 -0.38012851 -0.60421335  0.16003414\n",
    "  0.06087354  0.16003414  0.09769392 -0.16664872  0.06087354 -0.48300272\n",
    " -0.38012851 -0.48300272]\n",
    "[ 0.09769392  0.16003414 -0.16664872 -0.14174115 -2.46876863 -0.97304174\n",
    " -0.14174115 -0.14174115  0.06087354 -0.37301198  0.6894706  -0.14174115\n",
    " -0.16664872  0.09769392 -0.60421335  0.06087354  0.09769392  0.09769392\n",
    "  0.06087354 -0.37301198]\n",
    "[-1.06888779 -0.97304174 -0.97304174 -1.16344489 -0.48300272 -1.55823206\n",
    "  0.09769392 -1.15876691 -1.16344489 -1.16344489 -1.16344489 -0.20605531\n",
    " -1.06888779 -0.48300272 -1.16344489 -0.16664872 -0.60421335 -1.16344489\n",
    " -0.20605531 -1.55823206]\n",
    "```    "
   ]
  },
  {
   "cell_type": "markdown",
   "metadata": {},
   "source": [
    "## Result first\n",
    "- Expected value of bootstrapped parameter is equal to the parameter\n",
    "\n",
    "$$\n",
    "E(\\bar{\\theta_{B}})= 0\n",
    "$$"
   ]
  },
  {
   "cell_type": "markdown",
   "metadata": {},
   "source": [
    "- Given \n",
    "$$\n",
    "\\varrho = corr(\\hat{\\theta_{i}},\\hat{\\theta_{j}}),var(\\hat{\\theta_{i}}) = \\sigma^2\n",
    "$$\n",
    "\n"
   ]
  },
  {
   "cell_type": "markdown",
   "metadata": {},
   "source": [
    "- Then\n",
    "\n",
    "$$\n",
    "var(\\bar{\\theta_{B}}) = \\frac{1-\\varrho}{B}\\sigma^2+ \\varrho\\sigma^2\n",
    "$$"
   ]
  },
  {
   "cell_type": "markdown",
   "metadata": {},
   "source": [
    "- If no correlation between each bootstrap sample,then variance of bootstrapped mean decreases with 1/B\n",
    "- (But there probably will be correlation)"
   ]
  },
  {
   "cell_type": "markdown",
   "metadata": {},
   "source": [
    "## Confidence Interval\n",
    "- +1.96 = norm.cdf(0.975)\n",
    "- -1.96 = norm.cdf(0.025)  \n",
    "\n",
    "- 95%CI $\\approx \\bar{\\theta_{B}} \\pm 1.96std(\\hat{\\theta_{B}})$"
   ]
  },
  {
   "cell_type": "markdown",
   "metadata": {},
   "source": [
    "## Derivation of variance\n",
    "- $\\bar{\\theta_{B}}$ = sample mean of resampled sample means\n",
    "- $\\hat{\\theta_{i}}$ = sample mean of bootstrap sample i \n",
    "- $\\theta$ = original parameter we're trying to estimate\n",
    "\n",
    "$$\n",
    "E(\\bar{\\theta_{B}}) = E\\bigg\\{ \\frac{1}{B}\\sum_{i=1}^{B}\\hat{\\theta_{i}} \\bigg\\} = E\\bigg\\{ \\frac{1}{B}(\\hat{\\theta_{1}} +...+ \\hat{\\theta_{B}}) \\bigg\\} = \\frac{1}{B}BE(\\hat{\\theta})=0\n",
    "$$"
   ]
  },
  {
   "cell_type": "markdown",
   "metadata": {},
   "source": [
    "## Definitions\n",
    "\n",
    "$$\n",
    "E(\\hat{\\theta}) = \\mu \\\\\n",
    "var(\\hat{\\theta}) = E\\bigg\\{  (\\hat{\\theta}- \\mu)^2 \\bigg\\} \n",
    "$$\n",
    "\n",
    "- correlation -1~1\n",
    "\n",
    "$$\n",
    "\\varrho = \\frac{E\\bigg\\{ (\\hat{\\theta_{i}}-\\mu)(\\hat{\\theta_{j}}-\\mu) \\bigg\\}  }{\\sigma^2} \\\\\n",
    "S_{B} = \\sum_{i=1}^{B}\\hat{\\theta_{i}}\\\\\n",
    "\\bar{\\theta_{B}} = \\frac{1}{B}S_{B}\n",
    "$$"
   ]
  },
  {
   "cell_type": "markdown",
   "metadata": {},
   "source": [
    "\n",
    "$$\n",
    "var(\\bar{\\theta_{B}}) = E\\bigg\\{ (\\frac{1}{B}S_{B}-\\mu)^2 \\bigg\\}\\\\\n",
    "var(\\bar{\\theta_{B}}) = \\frac{1}{B^2}E\\bigg\\{ (S_{B}-\\mu B)^2 \\bigg\\}\\\\\n",
    "var(\\bar{\\theta_{B}}) = \\frac{1}{B^2}E\\bigg\\{ (S_{B}^2-2\\mu BS_{B}+\\mu^2B^2) \\bigg\\}\\\\\n",
    "var(\\bar{\\theta_{B}}) = \\frac{1}{B^2}[E\\bigg\\{ S_{B}^2-\\mu^2B^2 \\bigg\\}]\\\\\n",
    "var(\\bar{\\theta_{B}}) = \\frac{1}{B^2}E \\bigg\\{S_{B}^2\\bigg\\}-\\mu^2\\\\\n",
    "$$"
   ]
  },
  {
   "cell_type": "markdown",
   "metadata": {},
   "source": [
    "$$\n",
    "E\\bigg\\{ S_{B}^2\\bigg\\} = E\\bigg\\{ (\\hat{\\theta_{1}}+ \\hat{\\theta_{2}} +...+\\hat{\\theta_{n}})(\\hat{\\theta_{1}}+ \\hat{\\theta_{2}} +...+\\hat{\\theta_{n}})\\bigg\\} \\\\\n",
    "E\\bigg\\{ S_{B}^2\\bigg\\} = BE\\bigg\\{ \\hat{\\theta_{i}}^2\\bigg\\} +B(B-1)E_{i\\neq j}\\bigg\\{ \\hat{\\theta_{i}}\\hat{\\theta_{j}} \\bigg\\}\n",
    "$$"
   ]
  },
  {
   "cell_type": "markdown",
   "metadata": {},
   "source": [
    "$$\n",
    "\\sigma^2 = E\\bigg\\{  (\\hat{\\theta}- \\mu^2)^2 \\bigg\\} = E\\bigg\\{ \\hat{\\theta_{i}^2} \\bigg\\} - \\mu^2\\\\\n",
    "E\\bigg\\{ \\hat{\\theta_{i}^2} \\bigg\\} =  \\sigma^2 + \\mu^2\\\\\n",
    "\\varrho = \\frac{E\\bigg\\{ (\\hat{\\theta_{i}}-\\mu)(\\hat{\\theta_{j}}-\\mu) \\bigg\\}  }{\\sigma^2} = \\frac{E\\bigg\\{ \\hat{\\theta_{i}}\\hat{\\theta_{j}} \\bigg\\}-\\mu^2}{\\sigma^2} \\\\\n",
    "E_{i\\neq j}\\bigg\\{ \\hat{\\theta_{i}}\\hat{\\theta_{j}} \\bigg\\} = \\varrho \\sigma^2 + \\mu^2\n",
    "$$"
   ]
  },
  {
   "cell_type": "markdown",
   "metadata": {},
   "source": [
    "## Derivation of variance \n",
    "\n",
    "$$\n",
    "E\\bigg\\{ S_{B}^2 \\bigg\\} = B(\\sigma^2+\\mu^2) +B(B-1)(\\varrho\\sigma^2+\\mu^2) \\\\\n",
    "E\\bigg\\{ S_{B}^2 \\bigg\\} = B\\sigma^2 +B(B-1)\\varrho\\sigma^2+\\mu^2B^2 \\\\\n",
    "var(\\bar{\\theta_{B}}) = \\frac{1}{B^2} \\bigg\\{ B\\sigma^2 +B(B-1)\\varrho\\sigma^2+\\mu^2B^2 \\bigg\\}-\\mu^2\\\\\n",
    "var(\\bar{\\theta_{B}}) = \\frac{1-\\varrho}{B}\\sigma^2+ \\varrho\\sigma^2\n",
    "$$"
   ]
  },
  {
   "cell_type": "markdown",
   "metadata": {},
   "source": [
    "## Variance analysis\n",
    "\n",
    "- what if correlation is maximum? perfect correlation between bootstrap samples, $\\varrho$ = 1\n",
    "- we get back original variance(no improvement)\n",
    "\n",
    "- if $\\varrho$ = 0, no correlation at all, variance decreases with 1/B\n",
    "\n",
    "$$\n",
    "var(\\bar{\\theta_{B}}) = \\frac{1-\\varrho}{B}\\sigma^2+ \\varrho\\sigma^2\n",
    "$$"
   ]
  },
  {
   "cell_type": "markdown",
   "metadata": {},
   "source": [
    "- Bootstrap mean for any linear model(of which the sample mean is an example) does not greatly improve variance of model.\n",
    "- For linear statistics, it can be shown that $\\varrho$ = N(2N-1) $\\sim=$ 0.5\n",
    "- __Biggest advantege occurs when we use highly nonlinear models like decision trees(will produce highly irregular decision boundaries that don't correlate with each other)__\n"
   ]
  },
  {
   "cell_type": "markdown",
   "metadata": {},
   "source": [
    "## In Code"
   ]
  },
  {
   "cell_type": "markdown",
   "metadata": {},
   "source": [
    "```python\n",
    "import numpy as np\n",
    "import matplotlib.pyplot as plt\n",
    "from scipy.stats import norm, t\n",
    "\n",
    "B = 200\n",
    "N = 20\n",
    "X = np.random.randn(N)\n",
    "\n",
    "print(\"sample mean of X:\", X.mean())\n",
    "sample mean of X: 0.1563485073611091\n",
    "    \n",
    "X\n",
    "array([ 1.74228429, -0.04356298,  0.04848791, -0.39078061, -0.27758132,\n",
    "        0.37184104,  0.06961203, -0.36642179,  0.61395435,  0.09873261,\n",
    "        0.52609411, -0.57723641,  0.68003934, -0.42755743,  0.6616516 ,\n",
    "       -0.42244273, -0.79096184, -0.19334298,  1.16910683,  0.63505413])\n",
    "```"
   ]
  },
  {
   "cell_type": "markdown",
   "metadata": {},
   "source": [
    "```python\n",
    "individual_estimates = np.empty(B)\n",
    "for b in range(B):\n",
    "  sample = np.random.choice(X, size=N)\n",
    "  individual_estimates[b] = sample.mean()\n",
    "\n",
    "individual_estimates.shape,individual_estimates[:3]\n",
    "((200,), array([-0.29211586, -0.31854101, -0.21980161]))\n",
    "```"
   ]
  },
  {
   "cell_type": "markdown",
   "metadata": {},
   "source": [
    "```python\n",
    "bmean = individual_estimates.mean()\n",
    "bstd = individual_estimates.std()\n",
    "lower = bmean + norm.ppf(0.025)*bstd # norm.ppf(0.025) == -1.96\n",
    "upper = bmean + norm.ppf(0.975)*bstd # norm.ppf(0.975) == +1.96\n",
    "print(\"bmean {} bstd {} lower {} upper {}\".format(bmean,bstd,lower,upper))\n",
    "\n",
    "\n",
    "```"
   ]
  },
  {
   "cell_type": "markdown",
   "metadata": {},
   "source": [
    "```python\n",
    "# traditional way of calculating CI\n",
    "lower2 = X.mean() + norm.ppf(0.025)*X.std()/np.sqrt(N)\n",
    "upper2 = X.mean() + norm.ppf(0.975)*X.std()/np.sqrt(N)\n",
    "print(\"lower2 {} upper2 {}\".format(lower2,upper2))\n",
    "bmean 0.25295752347367423 bstd 0.25914871716971505 lower -0.2549646288187241 upper 0.7608796757660725\n",
    "lower2 -0.2774090818636502 upper2 0.6923332456959128\n",
    "\n",
    "```"
   ]
  },
  {
   "cell_type": "markdown",
   "metadata": {},
   "source": [
    "```python\n",
    "plt.hist(individual_estimates, bins=20)\n",
    "plt.axvline(x=lower, linestyle='--', color='g', label=\"lower bound for 95%% CI (bootstrap)\")\n",
    "plt.axvline(x=upper, linestyle='--', color='g', label=\"upper bound for 95%% CI (bootstrap)\")\n",
    "plt.axvline(x=lower2, linestyle='--', color='r', label=\"lower bound for 95%% CI\")\n",
    "plt.axvline(x=upper2, linestyle='--', color='r', label=\"upper bound for 95%% CI\")\n",
    "plt.legend()\n",
    "plt.show()\n",
    "```"
   ]
  },
  {
   "cell_type": "code",
   "execution_count": 9,
   "metadata": {},
   "outputs": [
    {
     "name": "stdout",
     "output_type": "stream",
     "text": [
      "sample mean of X: -0.3284607669221654\n",
      "bmean -0.31485562477267365 bstd 0.19997345488080057 lower -0.7067963942030884 upper 0.07708514465774097\n",
      "lower2 -0.700328727908021 upper2 0.043407194063690036\n"
     ]
    },
    {
     "data": {
      "image/png": "[encoded data removed]",
      "text/plain": [
       "<Figure size 432x288 with 1 Axes>"
      ]
     },
     "metadata": {},
     "output_type": "display_data"
    }
   ],
   "source": [
    "import numpy as np\n",
    "import matplotlib.pyplot as plt\n",
    "from scipy.stats import norm, t\n",
    "\n",
    "B = 200\n",
    "N = 20\n",
    "X = np.random.randn(N)\n",
    "\n",
    "print(\"sample mean of X:\", X.mean())\n",
    "\n",
    "individual_estimates = np.empty(B)\n",
    "for b in range(B):\n",
    "    sample = np.random.choice(X, size=N)\n",
    "    individual_estimates[b] = sample.mean()\n",
    "\n",
    "bmean = individual_estimates.mean()\n",
    "bstd = individual_estimates.std()\n",
    "lower = bmean + norm.ppf(0.025)*bstd # norm.ppf(0.025) == -1.96\n",
    "upper = bmean + norm.ppf(0.975)*bstd # norm.ppf(0.975) == +1.96\n",
    "\n",
    "print(\"bmean {} bstd {} lower {} upper {}\".format(bmean,bstd,lower,upper))\n",
    "# traditional way of calculating CI\n",
    "lower2 = X.mean() + norm.ppf(0.025)*X.std()/np.sqrt(N)\n",
    "upper2 = X.mean() + norm.ppf(0.975)*X.std()/np.sqrt(N)\n",
    "print(\"lower2 {} upper2 {}\".format(lower2,upper2))\n",
    "plt.hist(individual_estimates, bins=20)\n",
    "plt.axvline(x=lower, linestyle='--', color='g', label=\"lower bound for 95%% CI (bootstrap)\")\n",
    "plt.axvline(x=upper, linestyle='--', color='g', label=\"upper bound for 95%% CI (bootstrap)\")\n",
    "plt.axvline(x=lower2, linestyle='--', color='r', label=\"lower bound for 95%% CI\")\n",
    "plt.axvline(x=upper2, linestyle='--', color='r', label=\"upper bound for 95%% CI\")\n",
    "plt.legend()\n",
    "plt.show()\n"
   ]
  },
  {
   "cell_type": "markdown",
   "metadata": {},
   "source": [
    "# Bagging"
   ]
  },
  {
   "cell_type": "markdown",
   "metadata": {},
   "source": [
    "- Bagging : bootstrap aggregation = application of bootstrap to ML models\n",
    "- Looks exactly like bootstrapping except instead of calulating a $\\hat{\\theta}$ , we train a model instead"
   ]
  },
  {
   "cell_type": "markdown",
   "metadata": {},
   "source": []
  }
 ],
 "metadata": {
  "kernelspec": {
   "display_name": "Python 3",
   "language": "python",
   "name": "python3"
  },
  "language_info": {
   "codemirror_mode": {
    "name": "ipython",
    "version": 3
   },
   "file_extension": ".py",
   "mimetype": "text/x-python",
   "name": "python",
   "nbconvert_exporter": "python",
   "pygments_lexer": "ipython3",
   "version": "3.5.2"
  },
  "toc": {
   "base_numbering": 1,
   "nav_menu": {},
   "number_sections": true,
   "sideBar": true,
   "skip_h1_title": false,
   "title_cell": "Table of Contents",
   "title_sidebar": "Contents",
   "toc_cell": false,
   "toc_position": {},
   "toc_section_display": true,
   "toc_window_display": false
  },
  "varInspector": {
   "cols": {
    "lenName": 16,
    "lenType": 16,
    "lenVar": 40
   },
   "kernels_config": {
    "python": {
     "delete_cmd_postfix": "",
     "delete_cmd_prefix": "del ",
     "library": "var_list.py",
     "varRefreshCmd": "print(var_dic_list())"
    },
    "r": {
     "delete_cmd_postfix": ") ",
     "delete_cmd_prefix": "rm(",
     "library": "var_list.r",
     "varRefreshCmd": "cat(var_dic_list()) "
    }
   },
   "types_to_exclude": [
    "module",
    "function",
    "builtin_function_or_method",
    "instance",
    "_Feature"
   ],
   "window_display": false
  }
 },
 "nbformat": 4,
 "nbformat_minor": 2
}
