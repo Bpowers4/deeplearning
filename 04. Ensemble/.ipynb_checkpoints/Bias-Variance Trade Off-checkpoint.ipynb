{
 "cells": [
  {
   "cell_type": "markdown",
   "metadata": {},
   "source": [
    "# Bias-Variance Trade-Off"
   ]
  },
  {
   "cell_type": "markdown",
   "metadata": {},
   "source": [
    "## Irreducible Error\n",
    "- Data-generating processes are noisy\n",
    "- Noise is by definition random(not deterministic)\n",
    "- Can't predict its values, only its statistics(like mean & variance)\n",
    "- Example:\n",
    "- we are in charge of the data-generating process\n",
    "- f(x) = 2x +1 \n",
    "- linear regression\n",
    "- If a machine learning guy is working on our data, we can give him this function, his work is done\n",
    "- but linear regression model is: y = ax+b + $\\epsilon$\n",
    "- $\\epsilon \\sim N(0,\\sigma^2)$ \n",
    "- $\\hat{f}(x)$ = 2x + 1 doesn't achieve 0 error on y = 2x +1+ $\\epsilon$"
   ]
  },
  {
   "cell_type": "markdown",
   "metadata": {},
   "source": [
    "## Bias \n",
    "- Bias here refers to the delta between your average model and the true f(x)\n",
    "- some sources refer to the square of this as bias, we won't\n",
    "$$\n",
    "bias = E[f(x) - \\hat{f}(x)]\n",
    "$$"
   ]
  },
  {
   "cell_type": "markdown",
   "metadata": {},
   "source": [
    "## Variance\n",
    "- Variance from statistics = how much a random variable deviates from its mean in squared units\n",
    "- Variance in the context of bias-variance trade-off is more specific\n",
    "- Variance = statistical variance of predictor over all possible training sets\n",
    "- Suppose we have a model that overfits- gets perfect for any training set\n",
    "- Then the models for each training set are probably very different from each other\n",
    "- Has nothing to do with accuracy\n",
    "- variance just measures how inconsistent a predictor is, over different training sets\n",
    "- remember: goal is not to achieve lowest possible error\n",
    "- goal is to find true f(x)\n",
    "- being close to training points is only a proxy solution"
   ]
  },
  {
   "cell_type": "markdown",
   "metadata": {},
   "source": [
    "## Model Complexity\n",
    "- Variance is a proxy for model complexity\n",
    "- Complexity is a malleable term\n",
    "- can mean different things for different classifiers\n",
    "- ex. deep learning tree = complex, shallow decision tree = not complex\n",
    "- ex.K-nearest neighbor: K = 1complex, K =50 = not complex"
   ]
  },
  {
   "cell_type": "markdown",
   "metadata": {},
   "source": [
    "## Bias-Variance Trade-Off\n",
    "- In ML we strive to minimize error\n",
    "- Overall error is a combination of\n",
    "    - Bias\n",
    "    - Variance\n",
    "    - Irreducible error\n",
    "- Goal is then to make bias and variance as small as possible\n",
    "- It's a tradeoff\n",
    "- we need to balance these\n",
    "- when we lower one, the other increases\n",
    "- Overfit: bias goes down, variance goes up\n",
    "- Underfit: bias goes up, variance goes down\n",
    "\n",
    "![](https://cn.bing.com/th?id=OIP.XRW2556DfOJz2EIz31RoOwHaFu&pid=Api&w=1056&h=816&rs=1)\n",
    "![](https://cn.bing.com/th?id=OIP.-pwwSpcPJcxzDaRH40w95QAAAA&pid=Api&rs=1)"
   ]
  },
  {
   "cell_type": "markdown",
   "metadata": {},
   "source": [
    "## Bias -Variance Decomposition\n",
    "- Expected error = $bias^2$ + variance + irreducible error\n",
    "- Use mean-squared error for derivation for both regression and classification\n",
    "\n"
   ]
  },
  {
   "cell_type": "markdown",
   "metadata": {},
   "source": [
    "## Definition\n",
    "\n",
    "\n",
    "$$\n",
    "y = f(x) + \\epsilon\\\\\n",
    "\\epsilon \\sim N(0,\\sigma^2)\\\\\n",
    "\\hat{f(x)} = \\text{estimate of }f(x)\\\\\n",
    "err = E[(y-\\hat{f(x)})^2]\\\\\n",
    "\\bar{f(x)} = E[\\hat{f(x)}]\\\\\n",
    "= E[(f(x)+\\epsilon -\\hat{f(x)}+\\bar{f(x)}-\\bar{f(x)})^2]\\\\\n",
    "= E[\\epsilon^2]+E[\\epsilon(f(x)-\\bar{f(x)} - (\\hat{f(x)}-\\bar{f(x)}) )]\\\\\n",
    "E[\\epsilon] = 0\\\\\n",
    "E[\\epsilon^2] = \\sigma_{\\epsilon}^2+(E[\\epsilon])^2 = \\sigma_{\\epsilon}^2\\\\\n",
    "E[\\hat{f(x)} - \\bar{f(x)}] = E[\\hat{f(x)}] - E[\\hat{f(x)}] = 0\\\\\n",
    "= [f(x) - \\bar{f(x)}]^2 + E[(\\hat{f(x)} - \\bar{f(x)})^2]+E[\\epsilon^2]\\\\\n",
    "= bias^2 + variance + \\sigma_{\\epsilon}^2\n",
    "$$"
   ]
  },
  {
   "cell_type": "markdown",
   "metadata": {},
   "source": [
    "## Summary\n",
    "- expected error is a combination of bias,variance, and irreducible error\n",
    "- this is not just the error between the true f(x) and f_hat(x)\n",
    "- we never observe f(x), we can only observe y"
   ]
  },
  {
   "cell_type": "markdown",
   "metadata": {},
   "source": [
    "## In Code"
   ]
  },
  {
   "cell_type": "markdown",
   "metadata": {},
   "source": [
    "```python\n",
    "import numpy as np\n",
    "import matplotlib.pyplot as plt\n",
    "from sklearn.linear_model import LinearRegression\n",
    "from sklearn.metrics import mean_squared_error as mse\n",
    "\n",
    "NUM_DATASETS = 50\n",
    "NOISE_VARIANCE = 0.5\n",
    "MAX_POLY = 12\n",
    "N = 25\n",
    "Ntrain = int(0.9*N)\n",
    "\n",
    "np.random.seed(2)\n",
    "```"
   ]
  },
  {
   "cell_type": "markdown",
   "metadata": {},
   "source": [
    "```python\n",
    "# make a dataset with x^D, x^(D-1), ..., x^0\n",
    "def make_poly(x, D):\n",
    "    N = len(x)\n",
    "    X = np.empty((N, D+1))\n",
    "    for d in range(D+1):\n",
    "        X[:,d] = x**d\n",
    "        print(\"x[:,d] {}\".format(X[:,d].shape))\n",
    "        print(\"x {} X[:,d] {}\".format(x,X[:,d]))\n",
    "        if d > 1:\n",
    "            X[:,d] = (X[:,d] - X[:,d].mean()) / X[:,d].std()\n",
    "    return X\n",
    "```"
   ]
  },
  {
   "cell_type": "markdown",
   "metadata": {},
   "source": [
    "```python\n",
    "X = np.linspace(-np.pi, np.pi, N)\n",
    "X\n",
    "Xpoly = make_poly(X, MAX_POLY)\n",
    "\n",
    "array([-3.14159265, -2.87979327, -2.61799388, -2.35619449, -2.0943951 ,\n",
    "       -1.83259571, -1.57079633, -1.30899694, -1.04719755, -0.78539816,\n",
    "       -0.52359878, -0.26179939,  0.        ,  0.26179939,  0.52359878,\n",
    "        0.78539816,  1.04719755,  1.30899694,  1.57079633,  1.83259571,\n",
    "        2.0943951 ,  2.35619449,  2.61799388,  2.87979327,  3.14159265])\n",
    "```"
   ]
  },
  {
   "cell_type": "markdown",
   "metadata": {},
   "source": [
    "```python\n",
    "Xpoly.shape\n",
    "(25,13)\n",
    "```\n"
   ]
  },
  {
   "cell_type": "markdown",
   "metadata": {},
   "source": [
    "```python\n",
    "\n",
    "def f(X):\n",
    "    return np.sin(X)\n",
    "\n",
    "\n",
    "x_axis = np.linspace(-np.pi, np.pi, 100)\n",
    "y_axis = f(x_axis)\n",
    "\n",
    "((100,), (100,))\n",
    "```"
   ]
  },
  {
   "cell_type": "markdown",
   "metadata": {},
   "source": [
    "```python\n",
    "train_scores = np.zeros((NUM_DATASETS, MAX_POLY))\n",
    "test_scores = np.zeros((NUM_DATASETS, MAX_POLY))\n",
    "# squared_biases = np.zeros((NUM_DATASETS, MAX_POLY))\n",
    "# test_predictions = np.zeros((N - Ntrain, NUM_DATASETS, MAX_POLY))\n",
    "train_predictions = np.zeros((Ntrain, NUM_DATASETS, MAX_POLY))\n",
    "prediction_curves = np.zeros((100, NUM_DATASETS, MAX_POLY))\n",
    "\n",
    "train_scores.shape,train_predictions.shape\n",
    "((50, 12), (22, 50, 12))\n",
    "```"
   ]
  },
  {
   "cell_type": "markdown",
   "metadata": {},
   "source": [
    "```python\n",
    "# create the model\n",
    "model = LinearRegression()\n",
    "\n",
    "for k in range(NUM_DATASETS):\n",
    "  Y = f_X + np.random.randn(N)*NOISE_VARIANCE\n",
    "\n",
    "  Xtrain = Xpoly[:Ntrain]\n",
    "  Ytrain = Y[:Ntrain]\n",
    "\n",
    "  Xtest = Xpoly[Ntrain:]\n",
    "  Ytest = Y[Ntrain:]\n",
    "\n",
    "  for d in range(MAX_POLY):\n",
    "    model.fit(Xtrain[:,:d+2], Ytrain)\n",
    "    predictions = model.predict(Xpoly[:,:d+2])\n",
    "\n",
    "    # debug\n",
    "    x_axis_poly = make_poly(x_axis, d+1)\n",
    "    prediction_axis = model.predict(x_axis_poly)\n",
    "    # plt.plot(x_axis, prediction_axis)\n",
    "    # plt.show()\n",
    "\n",
    "    prediction_curves[:,k,d] = prediction_axis\n",
    "\n",
    "    train_prediction = predictions[:Ntrain]\n",
    "    test_prediction = predictions[Ntrain:]\n",
    "\n",
    "    train_predictions[:,k,d] = train_prediction # use this to calculate bias/variance later\n",
    "\n",
    "    train_score = mse(train_prediction, Ytrain)\n",
    "    test_score = mse(test_prediction, Ytest)\n",
    "\n",
    "    train_scores[k,d] = train_score\n",
    "    test_scores[k,d] = test_score\n",
    "```"
   ]
  },
  {
   "cell_type": "markdown",
   "metadata": {},
   "source": [
    "$$\n",
    "= [f(x) - \\bar{f(x)}]^2 + E[(\\hat{f(x)} - \\bar{f(x)})^2]+E[\\epsilon^2]\\\\\n",
    "= bias^2 + variance + \\sigma_{\\epsilon}^2\n",
    "$$\n",
    "\n",
    "\n",
    "```python\n",
    "\n",
    "# calculate the squared bias\n",
    "avg_train_prediction = np.zeros((Ntrain, MAX_POLY))\n",
    "squared_bias = np.zeros(MAX_POLY)\n",
    "f_Xtrain = f_X[:Ntrain]\n",
    "for d in range(MAX_POLY):\n",
    "  for i in range(Ntrain):\n",
    "    avg_train_prediction[i,d] = train_predictions[i,:,d].mean()\n",
    "  squared_bias[d] = ((avg_train_prediction[:,d] - f_Xtrain)**2).mean()\n",
    "\n",
    "# calculate the variance\n",
    "variances = np.zeros((Ntrain, MAX_POLY))\n",
    "for d in range(MAX_POLY):\n",
    "  for i in range(Ntrain):\n",
    "    delta = train_predictions[i,:,d] - avg_train_prediction[i,d]\n",
    "    variances[i,d] = delta.dot(delta) / N\n",
    "variance = variances.mean(axis=0)\n",
    "```"
   ]
  },
  {
   "cell_type": "markdown",
   "metadata": {},
   "source": [
    "# K-nearest Neighbor and Decision Tree"
   ]
  },
  {
   "cell_type": "code",
   "execution_count": 1,
   "metadata": {},
   "outputs": [],
   "source": [
    "%matplotlib inline\n",
    "import numpy as np\n",
    "import matplotlib.pyplot as plt\n",
    "from sklearn.tree import DecisionTreeRegressor, DecisionTreeClassifier\n",
    "from sklearn.neighbors import KNeighborsRegressor, KNeighborsClassifier\n",
    "from sklearn.utils import shuffle\n"
   ]
  },
  {
   "cell_type": "code",
   "execution_count": 2,
   "metadata": {},
   "outputs": [],
   "source": [
    "N = 20\n",
    "Ntrain = 12\n",
    "\n",
    "# create the data\n",
    "X = np.linspace(0, 2*np.pi, N).reshape(N, 1)\n",
    "Y = np.sin(3*X)\n",
    "X, Y = shuffle(X, Y)\n",
    "\n",
    "Xtrain = X[:Ntrain]\n",
    "Ytrain = Y[:Ntrain]\n"
   ]
  },
  {
   "cell_type": "code",
   "execution_count": 5,
   "metadata": {},
   "outputs": [
    {
     "data": {
      "text/plain": [
       "(20, 1)"
      ]
     },
     "execution_count": 5,
     "metadata": {},
     "output_type": "execute_result"
    }
   ],
   "source": [
    "X.shape"
   ]
  },
  {
   "cell_type": "code",
   "execution_count": 6,
   "metadata": {},
   "outputs": [
    {
     "data": {
      "text/plain": [
       "DecisionTreeRegressor(criterion='mse', max_depth=None, max_features=None,\n",
       "           max_leaf_nodes=None, min_impurity_decrease=0.0,\n",
       "           min_impurity_split=None, min_samples_leaf=1,\n",
       "           min_samples_split=2, min_weight_fraction_leaf=0.0,\n",
       "           presort=False, random_state=None, splitter='best')"
      ]
     },
     "execution_count": 6,
     "metadata": {},
     "output_type": "execute_result"
    }
   ],
   "source": [
    "# decision tree - low bias, high variance\n",
    "model = DecisionTreeRegressor() # default max_depth=None\n",
    "model.fit(Xtrain, Ytrain)\n"
   ]
  },
  {
   "cell_type": "code",
   "execution_count": 3,
   "metadata": {},
   "outputs": [],
   "source": [
    "T = 50\n",
    "Xaxis = np.linspace(0, 2*np.pi, T)\n",
    "Yaxis = np.sin(3*Xaxis)\n"
   ]
  },
  {
   "cell_type": "code",
   "execution_count": 11,
   "metadata": {},
   "outputs": [
    {
     "data": {
      "text/plain": [
       "(50,)"
      ]
     },
     "execution_count": 11,
     "metadata": {},
     "output_type": "execute_result"
    }
   ],
   "source": [
    "Xaxis.shape"
   ]
  },
  {
   "cell_type": "code",
   "execution_count": 14,
   "metadata": {},
   "outputs": [
    {
     "data": {
      "image/png": "[encoded data removed]",
      "text/plain": [
       "<Figure size 432x288 with 1 Axes>"
      ]
     },
     "metadata": {},
     "output_type": "display_data"
    }
   ],
   "source": [
    "%matplotlib inline\n",
    "plt.scatter(Xtrain, Ytrain, s=50, alpha=0.7, c='blue')\n",
    "plt.scatter(Xtrain, model.predict(Xtrain.reshape(Ntrain, 1)), s=50, alpha=0.7, c='green')\n",
    "plt.title(\"decision tree - low bias, high variance\")\n",
    "# plt.show()\n",
    "plt.plot(Xaxis, Yaxis)\n",
    "plt.plot(Xaxis, model.predict(Xaxis.reshape(T, 1)))\n",
    "plt.show()\n",
    "\n"
   ]
  },
  {
   "cell_type": "code",
   "execution_count": 4,
   "metadata": {},
   "outputs": [
    {
     "data": {
      "text/plain": [
       "DecisionTreeRegressor(criterion='mse', max_depth=1, max_features=None,\n",
       "           max_leaf_nodes=None, min_impurity_decrease=0.0,\n",
       "           min_impurity_split=None, min_samples_leaf=1,\n",
       "           min_samples_split=2, min_weight_fraction_leaf=0.0,\n",
       "           presort=False, random_state=None, splitter='best')"
      ]
     },
     "execution_count": 4,
     "metadata": {},
     "output_type": "execute_result"
    }
   ],
   "source": [
    "# decision tree - high bias, low variance\n",
    "model = DecisionTreeRegressor(max_depth=1)\n",
    "model.fit(Xtrain, Ytrain)\n",
    "\n"
   ]
  },
  {
   "cell_type": "code",
   "execution_count": 5,
   "metadata": {},
   "outputs": [
    {
     "data": {
      "image/png": "[encoded data removed]",
      "text/plain": [
       "<Figure size 432x288 with 1 Axes>"
      ]
     },
     "metadata": {},
     "output_type": "display_data"
    }
   ],
   "source": [
    "plt.scatter(Xtrain, Ytrain, s=50, alpha=0.7, c='blue')\n",
    "plt.scatter(Xtrain, model.predict(Xtrain.reshape(Ntrain, 1)), s=50, alpha=0.7, c='green')\n",
    "plt.plot(Xaxis, Yaxis)\n",
    "plt.plot(Xaxis, model.predict(Xaxis.reshape(T, 1)))\n",
    "plt.title(\"decision tree - high bias, low variance\")\n",
    "plt.show()\n"
   ]
  },
  {
   "cell_type": "code",
   "execution_count": 4,
   "metadata": {},
   "outputs": [
    {
     "data": {
      "image/png": "[encoded data removed]",
      "text/plain": [
       "<Figure size 432x288 with 1 Axes>"
      ]
     },
     "metadata": {},
     "output_type": "display_data"
    }
   ],
   "source": [
    "\n",
    "# knn - low bias, high variance\n",
    "model = KNeighborsRegressor(n_neighbors=1)\n",
    "model.fit(Xtrain, Ytrain)\n",
    "\n",
    "plt.scatter(Xtrain, Ytrain, s=50, alpha=0.7, c='blue')\n",
    "plt.scatter(Xtrain, model.predict(Xtrain.reshape(Ntrain, 1)), s=50, alpha=0.7, c='green')\n",
    "plt.plot(Xaxis, Yaxis)\n",
    "plt.plot(Xaxis, model.predict(Xaxis.reshape(T, 1)))\n",
    "plt.title(\"knn - low bias, high variance\")\n",
    "plt.show()\n",
    "\n"
   ]
  },
  {
   "cell_type": "code",
   "execution_count": 5,
   "metadata": {},
   "outputs": [
    {
     "data": {
      "image/png": "[encoded data removed]",
      "text/plain": [
       "<Figure size 432x288 with 1 Axes>"
      ]
     },
     "metadata": {},
     "output_type": "display_data"
    }
   ],
   "source": [
    "\n",
    "# knn - high bias, low variance\n",
    "model = KNeighborsRegressor(n_neighbors=10)\n",
    "model.fit(Xtrain, Ytrain)\n",
    "\n",
    "plt.scatter(Xtrain, Ytrain, s=50, alpha=0.7, c='blue')\n",
    "plt.scatter(Xtrain, model.predict(Xtrain.reshape(Ntrain, 1)), s=50, alpha=0.7, c='green')\n",
    "plt.plot(Xaxis, Yaxis)\n",
    "plt.plot(Xaxis, model.predict(Xaxis.reshape(T, 1)))\n",
    "plt.title(\"knn - high bias, low variance\")\n",
    "plt.show()\n"
   ]
  },
  {
   "cell_type": "code",
   "execution_count": null,
   "metadata": {},
   "outputs": [],
   "source": []
  },
  {
   "cell_type": "markdown",
   "metadata": {},
   "source": [
    "# Cross-Validation as a Method for Optimizing model complexity"
   ]
  },
  {
   "cell_type": "markdown",
   "metadata": {},
   "source": [
    "## Cross-Validation\n",
    "- Cross-Validation can help up optimizing the bias-variance trade-off\n",
    "- we've already looked at cross-validation as a way of choosing hyperparamters\n",
    "- Motivation: we didn't just want good training error, we wanted good generalization error too\n",
    "- In polynomial regression example, we saw that test error coincides with sum of $bias^2$+variance\n",
    "- so by optimizing test error, we optimize bias -variance as well"
   ]
  },
  {
   "cell_type": "markdown",
   "metadata": {},
   "source": [
    "- before: used cross-validation to find best hyperparameters\n",
    "- Now: use cross-validation to find best model complexity(which is actually just choosing hyperparameters)\n",
    "- Before: used cross-validation to optimize generalization error\n",
    "- Now: use cross-validation to optimize bias^2 + variance (correspons to generalization error)\n",
    "- just a slightly different perspective, we are still doing the same thing"
   ]
  },
  {
   "cell_type": "markdown",
   "metadata": {},
   "source": [
    "## K-Fold Cross-Validation\n",
    "- popular way to choose hyperparameters\n",
    "- split data into K parts(typical values for K = 3,5,10)\n",
    "- Loop K times\n",
    "- In each iteration, take 1 part out(use it for validation), use the rest for training\n",
    "- Ex. for K = 3\n",
    "\n",
    "\n",
    "|[]()| []() | []()| []()|\n",
    "|--|--|--|--|\n",
    "|Iteration 1| validation | training| training|\n",
    "|Iteration 2| training | validation| training|\n",
    "|Iteration 3| training | training| validation|\n",
    "\n"
   ]
  },
  {
   "cell_type": "markdown",
   "metadata": {},
   "source": [
    "```python\n",
    "scores = []\n",
    "sz = N/K\n",
    "for i in xrange(K):\n",
    "    Xvalid,Yvalid = X[i*sz: (i+1)*sz],Y[i*sz: (i+1)*sz]\n",
    "    Xtrain,Ytrain = concat(X[0: (i)*sz],X[(i+1)*sz: N]),concat(Y[0: (i)*sz],Y[(i+1)*sz: N])\n",
    "    model.fit(Xtrain,Ytrain)\n",
    "    scores.append(model.score(Xvalid,Yvalid))\n",
    "return scores\n",
    "\n",
    "```"
   ]
  },
  {
   "cell_type": "markdown",
   "metadata": {},
   "source": [
    "- Return K different scores(accuracies)\n",
    "- Can simply use the mean\n",
    "- Can also use statistical testing to check if one hyperparameter setting is statistically significantly better than another"
   ]
  },
  {
   "cell_type": "markdown",
   "metadata": {},
   "source": [
    "## Sci-kit learn\n",
    "\n",
    "```python\n",
    "from sklearn import cross_validation\n",
    "scores = cross_validation.cross_val_score(model,X,Y,cv=K)\n",
    "```\n",
    "\n",
    "- SKLearn version requires you to conform to their API\n",
    "- fit(),predict() and score() function + more\n"
   ]
  },
  {
   "cell_type": "markdown",
   "metadata": {},
   "source": []
  },
  {
   "cell_type": "markdown",
   "metadata": {},
   "source": []
  }
 ],
 "metadata": {
  "kernelspec": {
   "display_name": "Python 3",
   "language": "python",
   "name": "python3"
  },
  "language_info": {
   "codemirror_mode": {
    "name": "ipython",
    "version": 3
   },
   "file_extension": ".py",
   "mimetype": "text/x-python",
   "name": "python",
   "nbconvert_exporter": "python",
   "pygments_lexer": "ipython3",
   "version": "3.5.2"
  },
  "toc": {
   "base_numbering": 1,
   "nav_menu": {},
   "number_sections": true,
   "sideBar": true,
   "skip_h1_title": false,
   "title_cell": "Table of Contents",
   "title_sidebar": "Contents",
   "toc_cell": false,
   "toc_position": {},
   "toc_section_display": true,
   "toc_window_display": false
  },
  "varInspector": {
   "cols": {
    "lenName": 16,
    "lenType": 16,
    "lenVar": 40
   },
   "kernels_config": {
    "python": {
     "delete_cmd_postfix": "",
     "delete_cmd_prefix": "del ",
     "library": "var_list.py",
     "varRefreshCmd": "print(var_dic_list())"
    },
    "r": {
     "delete_cmd_postfix": ") ",
     "delete_cmd_prefix": "rm(",
     "library": "var_list.r",
     "varRefreshCmd": "cat(var_dic_list()) "
    }
   },
   "types_to_exclude": [
    "module",
    "function",
    "builtin_function_or_method",
    "instance",
    "_Feature"
   ],
   "window_display": false
  }
 },
 "nbformat": 4,
 "nbformat_minor": 2
}
