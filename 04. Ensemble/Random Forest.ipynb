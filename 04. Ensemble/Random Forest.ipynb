{
 "cells": [
  {
   "cell_type": "markdown",
   "metadata": {},
   "source": [
    "# Random Forest"
   ]
  },
  {
   "cell_type": "markdown",
   "metadata": {},
   "source": [
    "- If we have B(B numbers of sample mean) IID random variables, variance of the sum/sample mean is\n",
    "\n",
    "$$\n",
    "var(\\bar{\\theta_{B}}) = \\frac{1}{B}\\sigma^2\n",
    "$$\n",
    "\n",
    "- If we have B ID(identically distributed, not independent), then variance of the sum is \n",
    "\n",
    "$$\n",
    "var(\\bar{\\theta_{B}}) = \\frac{1-\\varrho}{B}\\sigma^2+ \\varrho\\sigma^2\n",
    "$$"
   ]
  },
  {
   "cell_type": "markdown",
   "metadata": {},
   "source": [
    "- Random forest tries to reduce this correlation $\\varrho$\n",
    "- i.e. build a set of trees decorrelated from each other\n",
    "- Recall bagging: by having many trees of arbitrary depth, we can ensure they overfit(0 bias) to their own training samples(and thus will probably be very different from each other)\n",
    "- why? we want $\\varrho$ -> 0\n",
    "- is there anything else we can do to ensure decorrelation(other than just letting each tree overfit?)"
   ]
  },
  {
   "cell_type": "markdown",
   "metadata": {},
   "source": [
    "- We can achieve low bias easily with trees simply by adding more nodes\n",
    "- suppose each tree in ensemble has low bias\n",
    "- each tree has same expected value,then expected value of sum of trees also has the same expected value\n",
    "- so the ensemble also has low bias\n"
   ]
  },
  {
   "cell_type": "markdown",
   "metadata": {},
   "source": [
    "- How does random forest decorrelate the trees?\n",
    "- before: we randomly chose which samples to train on\n",
    "- Now: we can also choose which features to train on\n",
    "- how many do we choose? d<< D , matrix is N(input rows) x D(features)\n",
    "$$\n",
    "\\text{classification} = d = floor(\\sqrt{D})\\\\\n",
    "\\text{regression} = d = floor(D/3)\\\\\n",
    "$$\n",
    "\n",
    "- recommendations by inventors\n",
    "- classification : as low as 1\n",
    "- regression : as low as 5\n",
    "- best: what works for your specific dataset"
   ]
  },
  {
   "cell_type": "markdown",
   "metadata": {},
   "source": [
    "## Random forest Training\n",
    "\n",
    "```python\n",
    "for b = 1,...,B:\n",
    "    Xb,Yb = sample_with_replacement(X,Y)\n",
    "    model = DecisionTree()\n",
    "    while not at terminal node and not reached max_depth:\n",
    "        select d features randomly\n",
    "        choose best split from the d features(i.e. max.information gain)\n",
    "        add split to model\n",
    "    models.append(model)\n",
    "    \n",
    "\n",
    "```"
   ]
  },
  {
   "cell_type": "markdown",
   "metadata": {},
   "source": [
    "- just like bagging, we need to get bootstrap sample\n",
    "- sometimes Random Forest is called feature bagging\n",
    "- these are not ensembles of vanilla decision tree\n",
    "- we've changed how they make splits\n",
    "- so you can't build a random forest using built-in decision tree class\n"
   ]
  },
  {
   "cell_type": "markdown",
   "metadata": {},
   "source": [
    "- What if many features are just noise?\n",
    "- what if random forest chooses only noise to split on?\n",
    "- If we have 3 relevant + 100 irrelevant inputs, probability of choosing a relevant feature for d = floor(sqrt(103)) = 10 is \n",
    "- If we had 6 relevant variables this would go up to 46%\n",
    "- we will later learn an algorithm that doesn't have this problem"
   ]
  },
  {
   "cell_type": "markdown",
   "metadata": {},
   "source": [
    "- Big advantage: requires very little tuning\n",
    "- can let all trees go to arbitrary depth without incurring much penalty\n",
    "- perform well are fast\n",
    "- when people come to deep learning in searh of an API, I just recommend random forest instead\n",
    "- neural networks have many more hyperparameters, are sensitive to those choices\n"
   ]
  },
  {
   "cell_type": "markdown",
   "metadata": {},
   "source": [
    "# Random Forest Regressor"
   ]
  },
  {
   "cell_type": "markdown",
   "metadata": {},
   "source": [
    "## random forest regression\n",
    "- we will apply to real data\n",
    "- no more 2-d plots\n",
    "\n",
    "- housing price dataset"
   ]
  },
  {
   "cell_type": "markdown",
   "metadata": {},
   "source": [
    "- use Sklearn random forest\n",
    "- all features are numerical except for one binary(already 0/1)\n",
    "- no feature engineering or feature selection "
   ]
  },
  {
   "cell_type": "code",
   "execution_count": 1,
   "metadata": {},
   "outputs": [],
   "source": [
    "import numpy as np\n",
    "import pandas as pd\n",
    "import matplotlib.pyplot as plt\n",
    "from sklearn.preprocessing import LabelEncoder, StandardScaler\n",
    "from sklearn.ensemble import RandomForestRegressor\n",
    "from sklearn.linear_model import LinearRegression\n",
    "from sklearn.tree import DecisionTreeRegressor\n",
    "from sklearn.model_selection import cross_val_score\n",
    "\n",
    "from future.utils import iteritems"
   ]
  },
  {
   "cell_type": "markdown",
   "metadata": {},
   "source": [
    "```txt\n",
    "Attribute Information:\n",
    "\n",
    "    1. CRIM      per capita crime rate by town\n",
    "    2. ZN        proportion of residential land zoned for lots over \n",
    "                 25,000 sq.ft.\n",
    "    3. INDUS     proportion of non-retail business acres per town\n",
    "    4. CHAS      Charles River dummy variable (= 1 if tract bounds \n",
    "                 river; 0 otherwise)\n",
    "    5. NOX       nitric oxides concentration (parts per 10 million)\n",
    "    6. RM        average number of rooms per dwelling\n",
    "    7. AGE       proportion of owner-occupied units built prior to 1940\n",
    "    8. DIS       weighted distances to five Boston employment centres\n",
    "    9. RAD       index of accessibility to radial highways\n",
    "    10. TAX      full-value property-tax rate per $10,000\n",
    "    11. PTRATIO  pupil-teacher ratio by town\n",
    "    12. B        1000(Bk - 0.63)^2 where Bk is the proportion of blacks \n",
    "                 by town\n",
    "    13. LSTAT    % lower status of the population\n",
    "    14. MEDV     Median value of owner-occupied homes in $1000's\n",
    "```"
   ]
  },
  {
   "cell_type": "code",
   "execution_count": 2,
   "metadata": {},
   "outputs": [],
   "source": [
    "NUMERICAL_COLS = [\n",
    "  'crim', # numerical\n",
    "  'zn', # numerical\n",
    "  'nonretail', # numerical\n",
    "  'nox', # numerical\n",
    "  'rooms', # numerical\n",
    "  'age', # numerical\n",
    "  'dis', # numerical\n",
    "  'rad', # numerical\n",
    "  'tax', # numerical\n",
    "  'ptratio', # numerical\n",
    "  'b', # numerical\n",
    "  'lstat', # numerical\n",
    "]\n",
    "\n",
    "NO_TRANSFORM = ['river']\n",
    "\n"
   ]
  },
  {
   "cell_type": "markdown",
   "metadata": {},
   "source": [
    "```python\n",
    "StandardScaler : normalize the real data\n",
    "```"
   ]
  },
  {
   "cell_type": "code",
   "execution_count": 3,
   "metadata": {},
   "outputs": [],
   "source": [
    "# transforms data from dataframe to numerical matrix\n",
    "# we want to use the scales found in training when transforming the test set\n",
    "# so only call fit() once\n",
    "# call transform() for any subsequent data\n",
    "class DataTransformer:\n",
    "  def fit(self, df):\n",
    "    self.scalers = {}\n",
    "    for col in NUMERICAL_COLS:\n",
    "      scaler = StandardScaler()\n",
    "      scaler.fit(df[col].values.reshape(-1, 1))\n",
    "      self.scalers[col] = scaler\n",
    "\n",
    "  def transform(self, df):\n",
    "    N, _ = df.shape\n",
    "    D = len(NUMERICAL_COLS) + len(NO_TRANSFORM)\n",
    "    X = np.zeros((N, D))\n",
    "    i = 0\n",
    "    for col, scaler in iteritems(self.scalers):\n",
    "      X[:,i] = scaler.transform(df[col].values.reshape(-1, 1)).flatten()\n",
    "      i += 1\n",
    "    for col in NO_TRANSFORM:\n",
    "      X[:,i] = df[col]\n",
    "      i += 1\n",
    "    return X\n",
    "\n",
    "  def fit_transform(self, df):\n",
    "    self.fit(df)\n",
    "    return self.transform(df)\n",
    "\n"
   ]
  },
  {
   "cell_type": "code",
   "execution_count": 4,
   "metadata": {},
   "outputs": [],
   "source": [
    "def get_data():\n",
    "  # regex allows arbitrary number of spaces in separator\n",
    "  df = pd.read_csv('./data/housing.data', header=None, sep=r\"\\s*\", engine='python')\n",
    "  df.columns = [\n",
    "    'crim', # numerical\n",
    "    'zn', # numerical\n",
    "    'nonretail', # numerical\n",
    "    'river', # binary\n",
    "    'nox', # numerical\n",
    "    'rooms', # numerical\n",
    "    'age', # numerical\n",
    "    'dis', # numerical\n",
    "    'rad', # numerical\n",
    "    'tax', # numerical\n",
    "    'ptratio', # numerical\n",
    "    'b', # numerical\n",
    "    'lstat', # numerical\n",
    "    'medv', # numerical -- this is the target\n",
    "  ]\n",
    "  print(\"df.shape {}\".format(df.shape))\n",
    "  # transform the data\n",
    "  transformer = DataTransformer()\n",
    "\n",
    "  # shuffle the data\n",
    "  N = len(df)\n",
    "  train_idx = np.random.choice(N, size=int(0.7*N), replace=False)\n",
    "  test_idx = [i for i in range(N) if i not in train_idx]\n",
    "  df_train = df.loc[train_idx]\n",
    "  df_test = df.loc[test_idx]\n",
    "\n",
    "  print(\"df_train.shape {}\".format(df_train.shape))\n",
    "  Xtrain = transformer.fit_transform(df_train)\n",
    "  Ytrain = np.log(df_train['medv'].values)\n",
    "  Xtest = transformer.transform(df_test)\n",
    "  Ytest = np.log(df_test['medv'].values)\n",
    "  return Xtrain, Ytrain, Xtest, Ytest\n"
   ]
  },
  {
   "cell_type": "code",
   "execution_count": 5,
   "metadata": {},
   "outputs": [
    {
     "name": "stdout",
     "output_type": "stream",
     "text": [
      "df.shape (506, 14)\n",
      "df_train.shape (354, 14)\n"
     ]
    },
    {
     "name": "stderr",
     "output_type": "stream",
     "text": [
      "/home/home9second/.virtualenvs/deeplearning/lib/python3.5/site-packages/pandas/io/parsers.py:2379: FutureWarning: split() requires a non-empty pattern match.\n",
      "  yield pat.split(line.strip())\n",
      "/home/home9second/.virtualenvs/deeplearning/lib/python3.5/site-packages/pandas/io/parsers.py:2381: FutureWarning: split() requires a non-empty pattern match.\n",
      "  yield pat.split(line.strip())\n",
      "/home/home9second/.virtualenvs/deeplearning/lib/python3.5/site-packages/sklearn/utils/validation.py:590: DataConversionWarning: Data with input dtype int64 was converted to float64 by StandardScaler.\n",
      "  warnings.warn(msg, DataConversionWarning)\n",
      "/home/home9second/.virtualenvs/deeplearning/lib/python3.5/site-packages/sklearn/utils/validation.py:590: DataConversionWarning: Data with input dtype int64 was converted to float64 by StandardScaler.\n",
      "  warnings.warn(msg, DataConversionWarning)\n",
      "/home/home9second/.virtualenvs/deeplearning/lib/python3.5/site-packages/sklearn/utils/validation.py:590: DataConversionWarning: Data with input dtype int64 was converted to float64 by StandardScaler.\n",
      "  warnings.warn(msg, DataConversionWarning)\n"
     ]
    }
   ],
   "source": [
    "\n",
    "Xtrain, Ytrain, Xtest, Ytest = get_data()\n"
   ]
  },
  {
   "cell_type": "code",
   "execution_count": 6,
   "metadata": {},
   "outputs": [
    {
     "data": {
      "text/plain": [
       "((354, 13), (354,))"
      ]
     },
     "execution_count": 6,
     "metadata": {},
     "output_type": "execute_result"
    }
   ],
   "source": [
    "Xtrain.shape,Ytrain.shape"
   ]
  },
  {
   "cell_type": "code",
   "execution_count": 9,
   "metadata": {
    "scrolled": true
   },
   "outputs": [
    {
     "data": {
      "text/plain": [
       "array([3.21084365, 3.314186  , 2.83907846, 2.99071973, 2.96527307,\n",
       "       3.13983262, 3.74478709, 3.04452244, 2.95491028, 3.61630876,\n",
       "       1.94591015, 2.92852352, 2.77881927, 3.21887582, 3.09104245,\n",
       "       2.17475172, 3.06805294, 3.22286785, 3.91202301, 3.15700042,\n",
       "       2.11625551, 2.69462718, 3.16547505, 2.97552957, 2.09186406,\n",
       "       2.77881927, 3.01062089, 3.13983262, 3.17805383, 3.35689712,\n",
       "       3.56104608, 2.62466859, 3.02529108, 3.6558396 , 2.42480273,\n",
       "       3.06339092, 1.97408103, 2.74727091, 3.11351531, 3.20680324,\n",
       "       2.87919846, 3.91202301, 2.85647021, 3.03974916, 3.91202301,\n",
       "       3.50254988, 2.66025954, 3.10009229, 3.8286414 , 3.05400118,\n",
       "       3.27336401, 3.09557761, 3.06339092, 2.83907846, 3.35340672,\n",
       "       3.19867312, 2.97552957, 3.13549422, 3.54673969, 3.29953373,\n",
       "       2.8507065 , 3.01062089, 3.40452517, 2.68102153, 3.02042489,\n",
       "       3.09104245, 2.92316158, 3.13983262, 3.07731226, 3.35689712,\n",
       "       2.61006979, 3.17387846, 3.07731226, 3.21887582, 2.14006616,\n",
       "       3.16968558, 2.84490938, 3.42751469, 3.17805383, 2.7080502 ,\n",
       "       2.6461748 , 3.16968558, 2.97552957, 3.59731226, 3.91202301,\n",
       "       2.99573227, 3.28091122, 3.06339092, 2.62466859, 2.87356464,\n",
       "       2.50959926, 3.21084365, 3.19458313, 2.60268969, 2.39789527,\n",
       "       2.4765384 , 2.87919846, 3.56671182, 3.17387846, 2.34180581,\n",
       "       3.13983262, 2.94443898, 2.79116511, 2.96527307, 2.91235066,\n",
       "       2.17475172, 3.20680324, 2.58776404, 3.58905912, 2.84490938,\n",
       "       3.4339872 , 3.09104245, 3.21887582, 3.17387846, 3.91202301,\n",
       "       3.11351531, 2.92852352, 3.37073817, 1.97408103, 3.0155349 ,\n",
       "       3.0301337 , 2.57261223, 2.32238772, 2.87919846, 2.89037176,\n",
       "       3.13113691, 2.66722821, 3.38777436, 3.02529108, 3.54385368,\n",
       "       2.59525471, 3.03495299, 2.9601051 , 3.55248683, 1.84054963,\n",
       "       2.57261223, 3.35689712, 2.7080502 , 2.91235066, 2.38876279,\n",
       "       3.17387846, 3.91202301, 2.67414865, 2.97041447, 2.58776404,\n",
       "       2.73436751, 3.45631668, 3.32862669, 2.58021683, 3.03495299,\n",
       "       3.0056826 , 2.8678989 , 3.77276094, 2.89591194, 3.21887582,\n",
       "       2.85647021, 3.19867312, 3.03974916, 3.19458313, 3.10009229,\n",
       "       2.58776404, 3.7208625 , 3.28091122, 1.7227666 , 2.94968834,\n",
       "       2.67414865, 3.08648664, 2.90142159, 2.6461748 , 3.00071982,\n",
       "       2.86220088, 2.82137889, 2.97041447, 2.74727091, 3.27336401,\n",
       "       3.48124009, 3.91202301, 2.84490938, 2.71469474, 3.21084365,\n",
       "       3.49347266, 3.03495299, 2.94968834, 2.01490302, 2.98061864,\n",
       "       3.73050113, 2.74727091, 2.62466859, 3.44998755, 3.8815638 ,\n",
       "       3.10009229, 2.65324196, 2.70136121, 2.94968834, 3.0155349 ,\n",
       "       2.14006616, 3.07731226, 3.08648664, 3.07731226, 3.33576958,\n",
       "       2.34180581, 2.90142159, 3.50254988, 3.5204608 , 3.07269331,\n",
       "       2.93916192, 3.45315712, 3.21887582, 2.74727091, 2.90690106,\n",
       "       2.9601051 , 2.95491028, 3.32862669, 2.59525471, 3.13983262,\n",
       "       2.75366071, 2.86220088, 3.41772668, 3.84374416, 2.86220088,\n",
       "       2.54160199, 3.47196645, 2.99071973, 3.14415228, 3.27714473,\n",
       "       3.20274644, 2.91777073, 3.06339092, 2.32238772, 3.02529108,\n",
       "       2.78501124, 3.04927304, 2.61006979, 2.77258872, 3.44041809,\n",
       "       3.55248683, 2.35137526, 3.48737508, 3.5085559 , 3.04452244,\n",
       "       3.21084365, 3.44998755, 1.97408103, 3.08190997, 2.88480071,\n",
       "       2.90142159, 3.16547505, 2.9601051 , 3.09104245, 2.93916192,\n",
       "       3.16968558, 2.99573227, 3.09104245, 3.11794991, 3.38777436,\n",
       "       3.12676054, 3.14845336, 2.99071973, 2.7080502 , 2.57261223,\n",
       "       3.12236492, 3.34638915, 2.12823171, 3.19047635, 2.4765384 ,\n",
       "       2.72129543, 3.10906096, 3.10009229, 2.83321334, 3.58629287,\n",
       "       2.93916192, 2.63905733, 3.13113691, 3.13113691, 2.99573227,\n",
       "       3.00071982, 3.39785848, 3.42426265, 2.62466859, 3.55820113,\n",
       "       2.72129543, 3.07731226, 3.20680324, 3.34990409, 3.04452244,\n",
       "       2.87919846, 2.63188884, 2.38876279, 3.63495111, 2.94443898,\n",
       "       3.06805294, 3.11794991, 3.19047635, 3.02529108, 2.52572864,\n",
       "       3.26575941, 2.99573227, 3.314186  , 2.59525471, 3.28091122,\n",
       "       2.98568194, 3.4657359 , 3.80220814, 3.20274644, 3.14845336,\n",
       "       3.87743156, 2.92316158, 3.81551211, 3.78418963, 3.49953328,\n",
       "       2.6461748 , 3.16124671, 3.14845336, 3.91202301, 1.94591015,\n",
       "       3.91202301, 3.47815842, 3.45315712, 3.02529108, 2.83907846,\n",
       "       2.45958884, 3.14415228, 2.80336038, 2.68102153, 2.74727091,\n",
       "       2.79728133, 2.53369681, 3.19867312, 3.22684399, 3.55248683,\n",
       "       3.02529108, 3.29953373, 3.43720782, 3.91202301, 3.59456877,\n",
       "       3.14415228, 2.72129543, 3.19458313, 2.8094027 , 2.90690106,\n",
       "       3.21887582, 3.19458313, 3.33220451, 3.13113691, 2.93916192,\n",
       "       3.07269331, 3.18221184, 3.37073817, 3.05400118, 3.08190997,\n",
       "       2.16332303, 3.41114771, 3.10458668, 2.91777073])"
      ]
     },
     "execution_count": 9,
     "metadata": {},
     "output_type": "execute_result"
    }
   ],
   "source": [
    "Ytrain"
   ]
  },
  {
   "cell_type": "markdown",
   "metadata": {},
   "source": [
    "[sklearn.ensemble.RandomForestRegressor](https://scikit-learn.org/stable/modules/generated/sklearn.ensemble.RandomForestRegressor.html)  \n",
    "\n",
    "```python\n",
    "# A random forest regressor.\n",
    "\n",
    "# A random forest is a meta estimator that fits a number of classifying decision trees on various sub-samples of the dataset and uses averaging to improve the predictive accuracy and control over-fitting. The sub-sample size is always the same as the original input sample size but the samples are drawn with replacement if bootstrap=True (default).\n",
    "\n",
    "\n",
    "```\n",
    "\n",
    "- n_estimators : integer, optional (default=10)\n",
    "\n",
    "    The number of trees in the forest.\n",
    "\n",
    "    Changed in version 0.20: The default value of n_estimators will change from 10 in version 0.20 to 100 in version 0.22.\n",
    "    \n",
    "- criterion : string, optional (default=”mse”)\n",
    "\n",
    "    The function to measure the quality of a split. Supported criteria are “mse” for the mean squared error, which is equal to variance reduction as feature selection criterion, and “mae” for the mean absolute error.\n",
    "\n",
    "    New in version 0.18: Mean Absolute Error (MAE) criterion.\n",
    "- max_depth : integer or None, optional (default=None)\n",
    "\n",
    "    The maximum depth of the tree. If None, then nodes are expanded until all leaves are pure or until all leaves contain less than min_samples_split samples.\n",
    "- min_samples_split : int, float, optional (default=2)\n",
    "\n",
    "    The minimum number of samples required to split an internal node:\n",
    "\n",
    "    If int, then consider min_samples_split as the minimum number.\n",
    "    If float, then min_samples_split is a fraction and ceil(min_samples_split * n_samples) are the minimum number of samples for each split.\n",
    "\n",
    "    \n"
   ]
  },
  {
   "cell_type": "code",
   "execution_count": 17,
   "metadata": {},
   "outputs": [],
   "source": [
    "model = RandomForestRegressor(n_estimators=100) # try 10, 20, 50, 100, 200\n",
    "model.fit(Xtrain, Ytrain)\n",
    "predictions = model.predict(Xtest)\n"
   ]
  },
  {
   "cell_type": "code",
   "execution_count": 18,
   "metadata": {},
   "outputs": [
    {
     "name": "stdout",
     "output_type": "stream",
     "text": [
      "ymin: 2.0 ymax: 4.0\n"
     ]
    },
    {
     "data": {
      "image/png": "[encoded data removed]",
      "text/plain": [
       "<Figure size 432x288 with 1 Axes>"
      ]
     },
     "metadata": {},
     "output_type": "display_data"
    },
    {
     "data": {
      "image/png": "[encoded data removed]",
      "text/plain": [
       "<Figure size 432x288 with 1 Axes>"
      ]
     },
     "metadata": {},
     "output_type": "display_data"
    }
   ],
   "source": [
    "%matplotlib inline\n",
    "\n",
    "# plot predictions vs targets\n",
    "plt.scatter(Ytest, predictions)\n",
    "plt.xlabel(\"target\")\n",
    "plt.ylabel(\"prediction\")\n",
    "ymin = np.round( min( min(Ytest), min(predictions) ) )\n",
    "ymax = np.ceil( max( max(Ytest), max(predictions) ) )\n",
    "print(\"ymin:\", ymin, \"ymax:\", ymax)\n",
    "r = range(int(ymin), int(ymax) + 1)\n",
    "plt.plot(r, r)\n",
    "plt.show()\n",
    "\n",
    "plt.plot(Ytest, label='targets')\n",
    "plt.plot(predictions, label='predictions')\n",
    "plt.legend()\n",
    "plt.show()\n"
   ]
  },
  {
   "cell_type": "markdown",
   "metadata": {},
   "source": [
    "[sklearn.model_selection.cross_val_score](https://scikit-learn.org/stable/modules/generated/sklearn.model_selection.cross_val_score.html)  "
   ]
  },
  {
   "cell_type": "code",
   "execution_count": 19,
   "metadata": {},
   "outputs": [
    {
     "name": "stderr",
     "output_type": "stream",
     "text": [
      "/home/home9second/.virtualenvs/deeplearning/lib/python3.5/site-packages/sklearn/model_selection/_split.py:1943: FutureWarning: You should specify a value for 'cv' instead of relying on the default value. The default value will change from 3 to 5 in version 0.22.\n",
      "  warnings.warn(CV_WARNING, FutureWarning)\n",
      "/home/home9second/.virtualenvs/deeplearning/lib/python3.5/site-packages/sklearn/model_selection/_split.py:1943: FutureWarning: You should specify a value for 'cv' instead of relying on the default value. The default value will change from 3 to 5 in version 0.22.\n",
      "  warnings.warn(CV_WARNING, FutureWarning)\n"
     ]
    },
    {
     "name": "stdout",
     "output_type": "stream",
     "text": [
      "CV single tree: 0.6359539399041506\n",
      "CV baseline: 0.7075110620648992\n"
     ]
    },
    {
     "name": "stderr",
     "output_type": "stream",
     "text": [
      "/home/home9second/.virtualenvs/deeplearning/lib/python3.5/site-packages/sklearn/model_selection/_split.py:1943: FutureWarning: You should specify a value for 'cv' instead of relying on the default value. The default value will change from 3 to 5 in version 0.22.\n",
      "  warnings.warn(CV_WARNING, FutureWarning)\n"
     ]
    },
    {
     "name": "stdout",
     "output_type": "stream",
     "text": [
      "CV forest: 0.7891930219300543\n",
      "test score single tree: 0.5739146081090266\n",
      "test score baseline: 0.7928374669775282\n",
      "test score forest: 0.8546568914082502\n"
     ]
    }
   ],
   "source": [
    "# do a quick baseline test\n",
    "baseline = LinearRegression()\n",
    "single_tree = DecisionTreeRegressor()\n",
    "print(\"CV single tree:\", cross_val_score(single_tree, Xtrain, Ytrain).mean())\n",
    "print(\"CV baseline:\", cross_val_score(baseline, Xtrain, Ytrain).mean())\n",
    "print(\"CV forest:\", cross_val_score(model, Xtrain, Ytrain).mean())\n",
    "\n",
    "# test score\n",
    "single_tree.fit(Xtrain, Ytrain)\n",
    "baseline.fit(Xtrain, Ytrain)\n",
    "print(\"test score single tree:\", single_tree.score(Xtest, Ytest))\n",
    "print(\"test score baseline:\", baseline.score(Xtest, Ytest))\n",
    "print(\"test score forest:\", model.score(Xtest, Ytest))\n",
    "\n"
   ]
  },
  {
   "cell_type": "markdown",
   "metadata": {},
   "source": [
    "## Random Forest Classification In Code"
   ]
  },
  {
   "cell_type": "code",
   "execution_count": 20,
   "metadata": {},
   "outputs": [],
   "source": [
    "\n",
    "import numpy as np\n",
    "import pandas as pd\n",
    "import matplotlib.pyplot as plt\n",
    "from sklearn.preprocessing import LabelEncoder, StandardScaler\n",
    "from sklearn.tree import DecisionTreeClassifier\n",
    "from sklearn.ensemble import RandomForestClassifier\n",
    "from sklearn.linear_model import LogisticRegression\n",
    "from sklearn.model_selection import cross_val_score\n"
   ]
  },
  {
   "cell_type": "code",
   "execution_count": 36,
   "metadata": {},
   "outputs": [],
   "source": [
    "NUMERICAL_COLS = ()\n",
    "CATEGORICAL_COLS = np.arange(22) + 1 # 1..22 inclusive\n",
    "\n",
    "# transforms data from dataframe to numerical matrix\n",
    "# one-hot encodes categories and normalizes numerical columns\n",
    "# we want to use the scales found in training when transforming the test set\n",
    "# so only call fit() once\n",
    "# call transform() for any subsequent data\n",
    "class DataTransformer:\n",
    "  def fit(self, df):\n",
    "    self.labelEncoders = {}\n",
    "    self.scalers = {}\n",
    "    for col in NUMERICAL_COLS:\n",
    "      scaler = StandardScaler()\n",
    "      scaler.fit(df[col].reshape(-1, 1))\n",
    "      self.scalers[col] = scaler\n",
    "\n",
    "    for col in CATEGORICAL_COLS:\n",
    "      encoder = LabelEncoder()\n",
    "      # in case the train set does not have 'missing' value but test set does\n",
    "      values = df[col].tolist()\n",
    "      values.append('missing')\n",
    "      encoder.fit(values)\n",
    "      self.labelEncoders[col] = encoder\n",
    "\n",
    "    # find dimensionality\n",
    "    self.D = len(NUMERICAL_COLS)\n",
    "    for col, encoder in iteritems(self.labelEncoders):\n",
    "      print(\"encoder.classes_ {} len:{}\".format(encoder.classes_,len(encoder.classes_)))\n",
    "      self.D += len(encoder.classes_)\n",
    "    print(\"dimensionality:\", self.D)\n",
    "\n",
    "  def transform(self, df):\n",
    "    N, _ = df.shape\n",
    "    X = np.zeros((N, self.D))\n",
    "    i = 0\n",
    "    for col, scaler in iteritems(self.scalers):\n",
    "      X[:,i] = scaler.transform(df[col].values.reshape(-1, 1)).flatten()\n",
    "      i += 1\n",
    "\n",
    "    for col, encoder in iteritems(self.labelEncoders):\n",
    "      # print \"transforming col:\", col\n",
    "      K = len(encoder.classes_)\n",
    "      X[np.arange(N), encoder.transform(df[col]) + i] = 1\n",
    "      i += K\n",
    "    return X\n",
    "\n",
    "  def fit_transform(self, df):\n",
    "    self.fit(df)\n",
    "    return self.transform(df)\n"
   ]
  },
  {
   "cell_type": "code",
   "execution_count": 31,
   "metadata": {},
   "outputs": [],
   "source": [
    "\n",
    "def replace_missing(df):\n",
    "  # standard method of replacement for numerical columns is median\n",
    "  for col in NUMERICAL_COLS:\n",
    "    print(\"numerical col {}\".format(col))\n",
    "    if np.any(df[col].isnull()):\n",
    "      med = np.median(df[ col ][ df[col].notnull() ])\n",
    "      df.loc[ df[col].isnull(), col ] = med\n",
    "\n",
    "  # set a special value = 'missing'\n",
    "  for col in CATEGORICAL_COLS:\n",
    "    print(\"CATEGORICAL_COLS col {}\".format(col))\n",
    "    if np.any(df[col].isnull()):\n",
    "      print(col)\n",
    "      df.loc[ df[col].isnull(), col ] = 'missing'\n",
    "\n"
   ]
  },
  {
   "cell_type": "markdown",
   "metadata": {},
   "source": [
    "[Mushroom dataset](https://archive.ics.uci.edu/ml/datasets/Mushroom)"
   ]
  },
  {
   "cell_type": "code",
   "execution_count": 23,
   "metadata": {},
   "outputs": [],
   "source": [
    "\n",
    "def get_data():\n",
    "  df = pd.read_csv('./data/mushroom.data', header=None)\n",
    "\n",
    "  # replace label column: e/p --> 0/1\n",
    "  # e = edible = 0, p = poisonous = 1\n",
    "  df[0] = df.apply(lambda row: 0 if row[0] == 'e' else 1, axis=1)\n",
    "\n",
    "  # check if there is missing data\n",
    "  replace_missing(df)\n",
    "\n",
    "  # transform the data\n",
    "  transformer = DataTransformer()\n",
    "\n",
    "  X = transformer.fit_transform(df)\n",
    "  Y = df[0].values\n",
    "  return X, Y\n"
   ]
  },
  {
   "cell_type": "code",
   "execution_count": 27,
   "metadata": {},
   "outputs": [
    {
     "data": {
      "text/plain": [
       "(8124, 23)"
      ]
     },
     "execution_count": 27,
     "metadata": {},
     "output_type": "execute_result"
    }
   ],
   "source": [
    "df = pd.read_csv('./data/mushroom.data', header=None)\n",
    "df.shape\n"
   ]
  },
  {
   "cell_type": "code",
   "execution_count": 30,
   "metadata": {},
   "outputs": [
    {
     "data": {
      "text/html": [
       "<div>\n",
       "<style scoped>\n",
       "    .dataframe tbody tr th:only-of-type {\n",
       "        vertical-align: middle;\n",
       "    }\n",
       "\n",
       "    .dataframe tbody tr th {\n",
       "        vertical-align: top;\n",
       "    }\n",
       "\n",
       "    .dataframe thead th {\n",
       "        text-align: right;\n",
       "    }\n",
       "</style>\n",
       "<table border=\"1\" class=\"dataframe\">\n",
       "  <thead>\n",
       "    <tr style=\"text-align: right;\">\n",
       "      <th></th>\n",
       "      <th>0</th>\n",
       "      <th>1</th>\n",
       "      <th>2</th>\n",
       "      <th>3</th>\n",
       "      <th>4</th>\n",
       "      <th>5</th>\n",
       "      <th>6</th>\n",
       "      <th>7</th>\n",
       "      <th>8</th>\n",
       "      <th>9</th>\n",
       "      <th>...</th>\n",
       "      <th>13</th>\n",
       "      <th>14</th>\n",
       "      <th>15</th>\n",
       "      <th>16</th>\n",
       "      <th>17</th>\n",
       "      <th>18</th>\n",
       "      <th>19</th>\n",
       "      <th>20</th>\n",
       "      <th>21</th>\n",
       "      <th>22</th>\n",
       "    </tr>\n",
       "  </thead>\n",
       "  <tbody>\n",
       "    <tr>\n",
       "      <th>0</th>\n",
       "      <td>1</td>\n",
       "      <td>x</td>\n",
       "      <td>s</td>\n",
       "      <td>n</td>\n",
       "      <td>t</td>\n",
       "      <td>p</td>\n",
       "      <td>f</td>\n",
       "      <td>c</td>\n",
       "      <td>n</td>\n",
       "      <td>k</td>\n",
       "      <td>...</td>\n",
       "      <td>s</td>\n",
       "      <td>w</td>\n",
       "      <td>w</td>\n",
       "      <td>p</td>\n",
       "      <td>w</td>\n",
       "      <td>o</td>\n",
       "      <td>p</td>\n",
       "      <td>k</td>\n",
       "      <td>s</td>\n",
       "      <td>u</td>\n",
       "    </tr>\n",
       "    <tr>\n",
       "      <th>1</th>\n",
       "      <td>0</td>\n",
       "      <td>x</td>\n",
       "      <td>s</td>\n",
       "      <td>y</td>\n",
       "      <td>t</td>\n",
       "      <td>a</td>\n",
       "      <td>f</td>\n",
       "      <td>c</td>\n",
       "      <td>b</td>\n",
       "      <td>k</td>\n",
       "      <td>...</td>\n",
       "      <td>s</td>\n",
       "      <td>w</td>\n",
       "      <td>w</td>\n",
       "      <td>p</td>\n",
       "      <td>w</td>\n",
       "      <td>o</td>\n",
       "      <td>p</td>\n",
       "      <td>n</td>\n",
       "      <td>n</td>\n",
       "      <td>g</td>\n",
       "    </tr>\n",
       "    <tr>\n",
       "      <th>2</th>\n",
       "      <td>0</td>\n",
       "      <td>b</td>\n",
       "      <td>s</td>\n",
       "      <td>w</td>\n",
       "      <td>t</td>\n",
       "      <td>l</td>\n",
       "      <td>f</td>\n",
       "      <td>c</td>\n",
       "      <td>b</td>\n",
       "      <td>n</td>\n",
       "      <td>...</td>\n",
       "      <td>s</td>\n",
       "      <td>w</td>\n",
       "      <td>w</td>\n",
       "      <td>p</td>\n",
       "      <td>w</td>\n",
       "      <td>o</td>\n",
       "      <td>p</td>\n",
       "      <td>n</td>\n",
       "      <td>n</td>\n",
       "      <td>m</td>\n",
       "    </tr>\n",
       "    <tr>\n",
       "      <th>3</th>\n",
       "      <td>1</td>\n",
       "      <td>x</td>\n",
       "      <td>y</td>\n",
       "      <td>w</td>\n",
       "      <td>t</td>\n",
       "      <td>p</td>\n",
       "      <td>f</td>\n",
       "      <td>c</td>\n",
       "      <td>n</td>\n",
       "      <td>n</td>\n",
       "      <td>...</td>\n",
       "      <td>s</td>\n",
       "      <td>w</td>\n",
       "      <td>w</td>\n",
       "      <td>p</td>\n",
       "      <td>w</td>\n",
       "      <td>o</td>\n",
       "      <td>p</td>\n",
       "      <td>k</td>\n",
       "      <td>s</td>\n",
       "      <td>u</td>\n",
       "    </tr>\n",
       "    <tr>\n",
       "      <th>4</th>\n",
       "      <td>0</td>\n",
       "      <td>x</td>\n",
       "      <td>s</td>\n",
       "      <td>g</td>\n",
       "      <td>f</td>\n",
       "      <td>n</td>\n",
       "      <td>f</td>\n",
       "      <td>w</td>\n",
       "      <td>b</td>\n",
       "      <td>k</td>\n",
       "      <td>...</td>\n",
       "      <td>s</td>\n",
       "      <td>w</td>\n",
       "      <td>w</td>\n",
       "      <td>p</td>\n",
       "      <td>w</td>\n",
       "      <td>o</td>\n",
       "      <td>e</td>\n",
       "      <td>n</td>\n",
       "      <td>a</td>\n",
       "      <td>g</td>\n",
       "    </tr>\n",
       "  </tbody>\n",
       "</table>\n",
       "<p>5 rows × 23 columns</p>\n",
       "</div>"
      ],
      "text/plain": [
       "   0  1  2  3  4  5  6  7  8  9   ... 13 14 15 16 17 18 19 20 21 22\n",
       "0   1  x  s  n  t  p  f  c  n  k  ...  s  w  w  p  w  o  p  k  s  u\n",
       "1   0  x  s  y  t  a  f  c  b  k  ...  s  w  w  p  w  o  p  n  n  g\n",
       "2   0  b  s  w  t  l  f  c  b  n  ...  s  w  w  p  w  o  p  n  n  m\n",
       "3   1  x  y  w  t  p  f  c  n  n  ...  s  w  w  p  w  o  p  k  s  u\n",
       "4   0  x  s  g  f  n  f  w  b  k  ...  s  w  w  p  w  o  e  n  a  g\n",
       "\n",
       "[5 rows x 23 columns]"
      ]
     },
     "execution_count": 30,
     "metadata": {},
     "output_type": "execute_result"
    }
   ],
   "source": [
    "df.head()\n",
    "df[0] = df.apply(lambda row: 0 if row[0] == 'e' else 1, axis=1)\n",
    "df.head()"
   ]
  },
  {
   "cell_type": "code",
   "execution_count": null,
   "metadata": {},
   "outputs": [],
   "source": []
  },
  {
   "cell_type": "code",
   "execution_count": 37,
   "metadata": {},
   "outputs": [
    {
     "name": "stdout",
     "output_type": "stream",
     "text": [
      "CATEGORICAL_COLS col 1\n",
      "CATEGORICAL_COLS col 2\n",
      "CATEGORICAL_COLS col 3\n",
      "CATEGORICAL_COLS col 4\n",
      "CATEGORICAL_COLS col 5\n",
      "CATEGORICAL_COLS col 6\n",
      "CATEGORICAL_COLS col 7\n",
      "CATEGORICAL_COLS col 8\n",
      "CATEGORICAL_COLS col 9\n",
      "CATEGORICAL_COLS col 10\n",
      "CATEGORICAL_COLS col 11\n",
      "CATEGORICAL_COLS col 12\n",
      "CATEGORICAL_COLS col 13\n",
      "CATEGORICAL_COLS col 14\n",
      "CATEGORICAL_COLS col 15\n",
      "CATEGORICAL_COLS col 16\n",
      "CATEGORICAL_COLS col 17\n",
      "CATEGORICAL_COLS col 18\n",
      "CATEGORICAL_COLS col 19\n",
      "CATEGORICAL_COLS col 20\n",
      "CATEGORICAL_COLS col 21\n",
      "CATEGORICAL_COLS col 22\n",
      "encoder.classes_ ['b' 'c' 'f' 'k' 'missing' 's' 'x'] len:7\n",
      "encoder.classes_ ['f' 'g' 'missing' 's' 'y'] len:5\n",
      "encoder.classes_ ['b' 'c' 'e' 'g' 'missing' 'n' 'p' 'r' 'u' 'w' 'y'] len:11\n",
      "encoder.classes_ ['f' 'missing' 't'] len:3\n",
      "encoder.classes_ ['a' 'c' 'f' 'l' 'm' 'missing' 'n' 'p' 's' 'y'] len:10\n",
      "encoder.classes_ ['a' 'f' 'missing'] len:3\n",
      "encoder.classes_ ['c' 'missing' 'w'] len:3\n",
      "encoder.classes_ ['b' 'missing' 'n'] len:3\n",
      "encoder.classes_ ['b' 'e' 'g' 'h' 'k' 'missing' 'n' 'o' 'p' 'r' 'u' 'w' 'y'] len:13\n",
      "encoder.classes_ ['e' 'missing' 't'] len:3\n",
      "encoder.classes_ ['?' 'b' 'c' 'e' 'missing' 'r'] len:6\n",
      "encoder.classes_ ['f' 'k' 'missing' 's' 'y'] len:5\n",
      "encoder.classes_ ['f' 'k' 'missing' 's' 'y'] len:5\n",
      "encoder.classes_ ['b' 'c' 'e' 'g' 'missing' 'n' 'o' 'p' 'w' 'y'] len:10\n",
      "encoder.classes_ ['b' 'c' 'e' 'g' 'missing' 'n' 'o' 'p' 'w' 'y'] len:10\n",
      "encoder.classes_ ['missing' 'p'] len:2\n",
      "encoder.classes_ ['missing' 'n' 'o' 'w' 'y'] len:5\n",
      "encoder.classes_ ['missing' 'n' 'o' 't'] len:4\n",
      "encoder.classes_ ['e' 'f' 'l' 'missing' 'n' 'p'] len:6\n",
      "encoder.classes_ ['b' 'h' 'k' 'missing' 'n' 'o' 'r' 'u' 'w' 'y'] len:10\n",
      "encoder.classes_ ['a' 'c' 'missing' 'n' 's' 'v' 'y'] len:7\n",
      "encoder.classes_ ['d' 'g' 'l' 'm' 'missing' 'p' 'u' 'w'] len:8\n",
      "dimensionality: 139\n"
     ]
    }
   ],
   "source": [
    "X, Y = get_data()\n"
   ]
  },
  {
   "cell_type": "code",
   "execution_count": 25,
   "metadata": {},
   "outputs": [
    {
     "data": {
      "text/plain": [
       "((8124, 139), (8124,))"
      ]
     },
     "execution_count": 25,
     "metadata": {},
     "output_type": "execute_result"
    }
   ],
   "source": [
    "X.shape,Y.shape"
   ]
  },
  {
   "cell_type": "code",
   "execution_count": 33,
   "metadata": {},
   "outputs": [
    {
     "data": {
      "text/plain": [
       "array([0., 0., 0., 0., 0., 0., 1., 0., 0., 0., 1., 0., 0., 0., 0., 0., 0.,\n",
       "       1., 0., 0., 0., 0., 0., 0., 0., 1., 0., 0., 0., 0., 0., 0., 0., 1.,\n",
       "       0., 0., 0., 1., 0., 1., 0., 0., 0., 0., 1., 0., 0., 0., 0., 1., 0.,\n",
       "       0., 0., 0., 0., 0., 0., 0., 1., 0., 0., 0., 0., 0., 1., 0., 0., 0.,\n",
       "       0., 0., 1., 0., 0., 0., 0., 1., 0., 0., 0., 0., 0., 0., 0., 0., 0.,\n",
       "       1., 0., 0., 0., 0., 0., 0., 0., 0., 0., 1., 0., 0., 1., 0., 0., 0.,\n",
       "       1., 0., 0., 0., 1., 0., 0., 0., 0., 0., 0., 1., 0., 0., 1., 0., 0.,\n",
       "       0., 0., 0., 0., 0., 0., 0., 0., 0., 1., 0., 0., 0., 0., 0., 0., 0.,\n",
       "       0., 1., 0.])"
      ]
     },
     "execution_count": 33,
     "metadata": {},
     "output_type": "execute_result"
    }
   ],
   "source": [
    "X[0]"
   ]
  },
  {
   "cell_type": "code",
   "execution_count": 26,
   "metadata": {},
   "outputs": [
    {
     "name": "stderr",
     "output_type": "stream",
     "text": [
      "/home/home9second/.virtualenvs/deeplearning/lib/python3.5/site-packages/sklearn/linear_model/logistic.py:432: FutureWarning: Default solver will be changed to 'lbfgs' in 0.22. Specify a solver to silence this warning.\n",
      "  FutureWarning)\n",
      "/home/home9second/.virtualenvs/deeplearning/lib/python3.5/site-packages/sklearn/linear_model/logistic.py:432: FutureWarning: Default solver will be changed to 'lbfgs' in 0.22. Specify a solver to silence this warning.\n",
      "  FutureWarning)\n",
      "/home/home9second/.virtualenvs/deeplearning/lib/python3.5/site-packages/sklearn/linear_model/logistic.py:432: FutureWarning: Default solver will be changed to 'lbfgs' in 0.22. Specify a solver to silence this warning.\n",
      "  FutureWarning)\n",
      "/home/home9second/.virtualenvs/deeplearning/lib/python3.5/site-packages/sklearn/linear_model/logistic.py:432: FutureWarning: Default solver will be changed to 'lbfgs' in 0.22. Specify a solver to silence this warning.\n",
      "  FutureWarning)\n",
      "/home/home9second/.virtualenvs/deeplearning/lib/python3.5/site-packages/sklearn/linear_model/logistic.py:432: FutureWarning: Default solver will be changed to 'lbfgs' in 0.22. Specify a solver to silence this warning.\n",
      "  FutureWarning)\n",
      "/home/home9second/.virtualenvs/deeplearning/lib/python3.5/site-packages/sklearn/linear_model/logistic.py:432: FutureWarning: Default solver will be changed to 'lbfgs' in 0.22. Specify a solver to silence this warning.\n",
      "  FutureWarning)\n",
      "/home/home9second/.virtualenvs/deeplearning/lib/python3.5/site-packages/sklearn/linear_model/logistic.py:432: FutureWarning: Default solver will be changed to 'lbfgs' in 0.22. Specify a solver to silence this warning.\n",
      "  FutureWarning)\n",
      "/home/home9second/.virtualenvs/deeplearning/lib/python3.5/site-packages/sklearn/linear_model/logistic.py:432: FutureWarning: Default solver will be changed to 'lbfgs' in 0.22. Specify a solver to silence this warning.\n",
      "  FutureWarning)\n"
     ]
    },
    {
     "name": "stdout",
     "output_type": "stream",
     "text": [
      "CV baseline: 0.9274806301152012\n",
      "CV one tree: 0.9189967902719056\n",
      "CV forest: 0.9467059074512238\n"
     ]
    }
   ],
   "source": [
    "# do a quick baseline test\n",
    "baseline = LogisticRegression()\n",
    "print(\"CV baseline:\", cross_val_score(baseline, X, Y, cv=8).mean())\n",
    "\n",
    "# single tree\n",
    "tree = DecisionTreeClassifier()\n",
    "print(\"CV one tree:\", cross_val_score(tree, X, Y, cv=8).mean())\n",
    "\n",
    "model = RandomForestClassifier(n_estimators=20) # try 10, 20, 50, 100, 200\n",
    "print(\"CV forest:\", cross_val_score(model, X, Y, cv=8).mean())\n"
   ]
  },
  {
   "cell_type": "markdown",
   "metadata": {},
   "source": [
    "# Random Forest & Bagging Trees"
   ]
  },
  {
   "cell_type": "code",
   "execution_count": 2,
   "metadata": {},
   "outputs": [],
   "source": [
    "import numpy as np\n",
    "import pandas as pd\n",
    "import matplotlib.pyplot as plt\n",
    "from sklearn.ensemble import RandomForestRegressor, BaggingRegressor, RandomForestClassifier, BaggingClassifier\n",
    "\n"
   ]
  },
  {
   "cell_type": "code",
   "execution_count": 13,
   "metadata": {},
   "outputs": [],
   "source": [
    "\n",
    "from sklearn.tree import DecisionTreeClassifier, DecisionTreeRegressor\n",
    "\n",
    "class BaggedTreeRegressor:\n",
    "  def __init__(self, n_estimators, max_depth=None):\n",
    "    self.B = n_estimators\n",
    "    self.max_depth = max_depth\n",
    "\n",
    "  def fit(self, X, Y):\n",
    "    N = len(X)\n",
    "    self.models = []\n",
    "    for b in range(self.B):\n",
    "      idx = np.random.choice(N, size=N, replace=True)\n",
    "      Xb = X[idx]\n",
    "      Yb = Y[idx]\n",
    "\n",
    "      model = DecisionTreeRegressor(max_depth=self.max_depth)\n",
    "      model.fit(Xb, Yb)\n",
    "      self.models.append(model)\n",
    "\n",
    "  def predict(self, X):\n",
    "    predictions = np.zeros(len(X))\n",
    "    for model in self.models:\n",
    "      predictions += model.predict(X)\n",
    "    return predictions / self.B\n",
    "\n",
    "  def score(self, X, Y):\n",
    "    d1 = Y - self.predict(X)\n",
    "    d2 = Y - Y.mean()\n",
    "    return 1 - d1.dot(d1) / d2.dot(d2)\n",
    "\n"
   ]
  },
  {
   "cell_type": "code",
   "execution_count": 3,
   "metadata": {},
   "outputs": [],
   "source": [
    "# make simple regression data\n",
    "N = 15\n",
    "D = 100\n",
    "X = (np.random.random((N, D)) - 0.5)*10\n",
    "Y = X.sum(axis=1)**2 + 0.5*np.random.randn(N)\n",
    "Ntrain = N//2\n",
    "Xtrain = X[:Ntrain]\n",
    "Ytrain = Y[:Ntrain]\n",
    "Xtest = X[Ntrain:]\n",
    "Ytest = Y[Ntrain:]\n"
   ]
  },
  {
   "cell_type": "code",
   "execution_count": 9,
   "metadata": {},
   "outputs": [
    {
     "data": {
      "text/plain": [
       "((7, 100), (7,))"
      ]
     },
     "execution_count": 9,
     "metadata": {},
     "output_type": "execute_result"
    }
   ],
   "source": [
    "Xtrain.shape,Ytrain.shape"
   ]
  },
  {
   "cell_type": "code",
   "execution_count": 11,
   "metadata": {},
   "outputs": [
    {
     "data": {
      "text/plain": [
       "array([ 2.59983426e+03,  3.59412331e+03,  4.24266769e+01, -3.88995030e-01,\n",
       "        1.17746870e+00,  1.11266881e+03,  1.91209048e+03])"
      ]
     },
     "execution_count": 11,
     "metadata": {},
     "output_type": "execute_result"
    }
   ],
   "source": [
    "Ytrain"
   ]
  },
  {
   "cell_type": "code",
   "execution_count": 14,
   "metadata": {
    "scrolled": true
   },
   "outputs": [
    {
     "name": "stdout",
     "output_type": "stream",
     "text": [
      "num_trees: 0\n",
      "num_trees: 10\n",
      "num_trees: 20\n",
      "num_trees: 30\n",
      "num_trees: 40\n",
      "num_trees: 50\n",
      "num_trees: 60\n",
      "num_trees: 70\n",
      "num_trees: 80\n",
      "num_trees: 90\n",
      "num_trees: 100\n",
      "num_trees: 110\n",
      "num_trees: 120\n",
      "num_trees: 130\n",
      "num_trees: 140\n",
      "num_trees: 150\n",
      "num_trees: 160\n",
      "num_trees: 170\n",
      "num_trees: 180\n",
      "num_trees: 190\n",
      "num_trees: 200\n",
      "num_trees: 210\n",
      "num_trees: 220\n",
      "num_trees: 230\n",
      "num_trees: 240\n",
      "num_trees: 250\n",
      "num_trees: 260\n",
      "num_trees: 270\n",
      "num_trees: 280\n",
      "num_trees: 290\n"
     ]
    }
   ],
   "source": [
    "T = 300\n",
    "test_error_rf = np.empty(T)\n",
    "test_error_bag = np.empty(T)\n",
    "for num_trees in range(T):\n",
    "  if num_trees == 0:\n",
    "    test_error_rf[num_trees] = None\n",
    "    test_error_bag[num_trees] = None\n",
    "  else:\n",
    "    rf = RandomForestRegressor(n_estimators=num_trees)\n",
    "    # rf = RandomForestClassifier(n_estimators=num_trees)\n",
    "    rf.fit(Xtrain, Ytrain)\n",
    "    test_error_rf[num_trees] = rf.score(Xtest, Ytest)\n",
    "\n",
    "    bg = BaggedTreeRegressor(n_estimators=num_trees)\n",
    "    # bg = BaggedTreeClassifier(n_estimators=num_trees)\n",
    "    bg.fit(Xtrain, Ytrain)\n",
    "    test_error_bag[num_trees] = bg.score(Xtest, Ytest)\n",
    "\n",
    "  if num_trees % 10 == 0:\n",
    "    print(\"num_trees:\", num_trees)\n"
   ]
  },
  {
   "cell_type": "code",
   "execution_count": 15,
   "metadata": {},
   "outputs": [
    {
     "data": {
      "image/png": "[encoded data removed]",
      "text/plain": [
       "<Figure size 432x288 with 1 Axes>"
      ]
     },
     "metadata": {},
     "output_type": "display_data"
    }
   ],
   "source": [
    "%matplotlib inline\n",
    "plt.plot(test_error_rf, label='rf')\n",
    "plt.plot(test_error_bag, label='bag')\n",
    "plt.legend()\n",
    "plt.show()\n"
   ]
  },
  {
   "cell_type": "markdown",
   "metadata": {},
   "source": [
    "## RandomForest Imple by ourself\n",
    "\n",
    "```python\n",
    "class NotAsRandomForest:\n",
    "  def __init__(self, n_estimators):\n",
    "    self.B = n_estimators\n",
    "\n",
    "  def fit(self, X, Y, M=None):\n",
    "    N, D = X.shape\n",
    "    if M is None:\n",
    "      M = int(np.sqrt(D))\n",
    "\n",
    "    self.models = []\n",
    "    self.features = []\n",
    "    for b in range(self.B):\n",
    "      tree = DecisionTreeClassifier()\n",
    "\n",
    "      # sample features\n",
    "      features = np.random.choice(D, size=M, replace=False)\n",
    "\n",
    "      # sample training samples\n",
    "      idx = np.random.choice(N, size=N, replace=True)\n",
    "      Xb = X[idx]\n",
    "      Yb = Y[idx]\n",
    "\n",
    "      tree.fit(Xb[:, features], Yb)\n",
    "      self.features.append(features)\n",
    "      self.models.append(tree)\n",
    "\n",
    "  def predict(self, X):\n",
    "    N = len(X)\n",
    "    P = np.zeros(N)\n",
    "    for features, tree in zip(self.features, self.models):\n",
    "      P += tree.predict(X[:, features])\n",
    "    return np.round(P / self.B)\n",
    "\n",
    "  def score(self, X, Y):\n",
    "    P = self.predict(X)\n",
    "    return np.mean(P == Y)\n",
    "```"
   ]
  },
  {
   "cell_type": "markdown",
   "metadata": {},
   "source": [
    "# Connecting to Deep Learning"
   ]
  },
  {
   "cell_type": "markdown",
   "metadata": {},
   "source": [
    "- Random Forests are connected to deep learning in an interesting way\n",
    "- not only we we randomly select training samples, we also randomly select features at each node spilit\n"
   ]
  },
  {
   "cell_type": "markdown",
   "metadata": {},
   "source": [
    "## Dropout Regularization\n",
    "\n",
    "- Drop nodes with probability 20~50%\n",
    "- That's throwing away half the features"
   ]
  },
  {
   "cell_type": "markdown",
   "metadata": {},
   "source": [
    "- Each node can be used or not used\n",
    "- 2 states of being for each node\n",
    "- if neural network has N nodes, then there are 2^N different possibilities\n"
   ]
  },
  {
   "cell_type": "markdown",
   "metadata": {},
   "source": [
    "- Dropout emulates an ensemble of 2^N networks by randomly dropping nodes\n",
    "- During training: Drop node with probability\n",
    "- During prediction: Don't drop anything, multiply every layer by 1-p \n",
    "- allows you to make an ensemble without making an ensemble\n",
    "- similar to random forest: randomly selecting which features to look at\n",
    "- if you're doing batch training, the sub-network is also seeing a random subset of training samples also"
   ]
  },
  {
   "cell_type": "code",
   "execution_count": null,
   "metadata": {},
   "outputs": [],
   "source": []
  }
 ],
 "metadata": {
  "kernelspec": {
   "display_name": "Python 3",
   "language": "python",
   "name": "python3"
  },
  "language_info": {
   "codemirror_mode": {
    "name": "ipython",
    "version": 3
   },
   "file_extension": ".py",
   "mimetype": "text/x-python",
   "name": "python",
   "nbconvert_exporter": "python",
   "pygments_lexer": "ipython3",
   "version": "3.5.2"
  },
  "toc": {
   "base_numbering": 1,
   "nav_menu": {},
   "number_sections": true,
   "sideBar": true,
   "skip_h1_title": false,
   "title_cell": "Table of Contents",
   "title_sidebar": "Contents",
   "toc_cell": false,
   "toc_position": {},
   "toc_section_display": true,
   "toc_window_display": false
  },
  "varInspector": {
   "cols": {
    "lenName": 16,
    "lenType": 16,
    "lenVar": 40
   },
   "kernels_config": {
    "python": {
     "delete_cmd_postfix": "",
     "delete_cmd_prefix": "del ",
     "library": "var_list.py",
     "varRefreshCmd": "print(var_dic_list())"
    },
    "r": {
     "delete_cmd_postfix": ") ",
     "delete_cmd_prefix": "rm(",
     "library": "var_list.r",
     "varRefreshCmd": "cat(var_dic_list()) "
    }
   },
   "types_to_exclude": [
    "module",
    "function",
    "builtin_function_or_method",
    "instance",
    "_Feature"
   ],
   "window_display": false
  }
 },
 "nbformat": 4,
 "nbformat_minor": 2
}
