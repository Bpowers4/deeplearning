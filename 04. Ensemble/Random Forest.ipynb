{
 "cells": [
  {
   "cell_type": "markdown",
   "metadata": {},
   "source": [
    "# Random Forest"
   ]
  },
  {
   "cell_type": "markdown",
   "metadata": {},
   "source": [
    "- If we have B(B numbers of sample mean) IID random variables, variance of the sum/sample mean is\n",
    "\n",
    "$$\n",
    "var(\\bar{\\theta_{B}}) = \\frac{1}{B}\\sigma^2\n",
    "$$\n",
    "\n",
    "- If we have B ID(identically distributed, not independent), then variance of the sum is \n",
    "\n",
    "$$\n",
    "var(\\bar{\\theta_{B}}) = \\frac{1-\\varrho}{B}\\sigma^2+ \\varrho\\sigma^2\n",
    "$$"
   ]
  },
  {
   "cell_type": "markdown",
   "metadata": {},
   "source": [
    "- Random forest tries to reduce this correlation $\\varrho$\n",
    "- i.e. build a set of trees decorrelated from each other\n",
    "- Recall bagging: by having many trees of arbitrary depth, we can ensure they overfit(0 bias) to their own training samples(and thus will probably be very different from each other)\n",
    "- why? we want $\\varrho$ -> 0\n",
    "- is there anything else we can do to ensure decorrelation(other than just letting each tree overfit?)"
   ]
  },
  {
   "cell_type": "markdown",
   "metadata": {},
   "source": [
    "- We can achieve low bias easily with trees simply by adding more nodes\n",
    "- suppose each tree in ensemble has low bias\n",
    "- each tree has same expected value,then expected value of sum of trees also has the same expected value\n",
    "- so the ensemble also has low bias\n"
   ]
  },
  {
   "cell_type": "markdown",
   "metadata": {},
   "source": [
    "- How does random forest decorrelate the trees?\n",
    "- before: we randomly chose which samples to train on\n",
    "- Now: we can also choose which features to train on\n",
    "- how many do we choose? d<< D , matrix is N(input rows) x D(features)\n",
    "$$\n",
    "\\text{classification} = d = floor(\\sqrt{D})\\\\\n",
    "\\text{regression} = d = floor(D/3)\\\\\n",
    "$$\n",
    "\n",
    "- recommendations by inventors\n",
    "- classification : as low as 1\n",
    "- regression : as low as 5\n",
    "- best: what works for your specific dataset"
   ]
  },
  {
   "cell_type": "markdown",
   "metadata": {},
   "source": [
    "## Random forest Training\n",
    "\n",
    "```python\n",
    "for b = 1,...,B:\n",
    "    Xb,Yb = sample_with_replacement(X,Y)\n",
    "    model = DecisionTree()\n",
    "    while not at terminal node and not reached max_depth:\n",
    "        select d features randomly\n",
    "        choose best split from the d features(i.e. max.information gain)\n",
    "        add split to model\n",
    "    models.append(model)\n",
    "    \n",
    "\n",
    "```"
   ]
  },
  {
   "cell_type": "markdown",
   "metadata": {},
   "source": [
    "- just like bagging, we need to get bootstrap sample\n",
    "- sometimes Random Forest is called feature bagging\n",
    "- these are not ensembles of vanilla decision tree\n",
    "- we've changed how they make splits\n",
    "- so you can't build a random forest using built-in decision tree class\n"
   ]
  },
  {
   "cell_type": "markdown",
   "metadata": {},
   "source": [
    "- What if many features are just noise?\n",
    "- what if random forest chooses only noise to split on?\n",
    "- If we have 3 relevant + 100 irrelevant inputs, probability of choosing a relevant feature for d = floor(sqrt(103)) = 10 is \n",
    "- If we had 6 relevant variables this would go up to 46%\n",
    "- we will later learn an algorithm that doesn't have this problem"
   ]
  },
  {
   "cell_type": "markdown",
   "metadata": {},
   "source": [
    "- Big advantage: requires very little tuning\n",
    "- can let all trees go to arbitrary depth without incurring much penalty\n",
    "- perform well are fast\n",
    "- when people come to deep learning in searh of an API, I just recommend random forest instead\n",
    "- neural networks have many more hyperparameters, are sensitive to those choices\n"
   ]
  },
  {
   "cell_type": "markdown",
   "metadata": {},
   "source": [
    "# Random Forest Regressor"
   ]
  },
  {
   "cell_type": "markdown",
   "metadata": {},
   "source": [
    "## random forest regression\n",
    "- we will apply to real data\n",
    "- no more 2-d plots\n",
    "\n",
    "- housing price dataset"
   ]
  },
  {
   "cell_type": "markdown",
   "metadata": {},
   "source": [
    "- use Sklearn random forest\n",
    "- all features are numerical except for one binary(already 0/1)\n",
    "- no feature engineering or feature selection "
   ]
  },
  {
   "cell_type": "code",
   "execution_count": 9,
   "metadata": {},
   "outputs": [],
   "source": [
    "import numpy as np\n",
    "import pandas as pd\n",
    "import matplotlib.pyplot as plt\n",
    "from sklearn.preprocessing import LabelEncoder, StandardScaler\n",
    "from sklearn.ensemble import RandomForestRegressor\n",
    "from sklearn.linear_model import LinearRegression\n",
    "from sklearn.tree import DecisionTreeRegressor\n",
    "from sklearn.model_selection import cross_val_score\n",
    "\n",
    "from future.utils import iteritems"
   ]
  },
  {
   "cell_type": "markdown",
   "metadata": {},
   "source": [
    "```txt\n",
    "Attribute Information:\n",
    "\n",
    "    1. CRIM      per capita crime rate by town\n",
    "    2. ZN        proportion of residential land zoned for lots over \n",
    "                 25,000 sq.ft.\n",
    "    3. INDUS     proportion of non-retail business acres per town\n",
    "    4. CHAS      Charles River dummy variable (= 1 if tract bounds \n",
    "                 river; 0 otherwise)\n",
    "    5. NOX       nitric oxides concentration (parts per 10 million)\n",
    "    6. RM        average number of rooms per dwelling\n",
    "    7. AGE       proportion of owner-occupied units built prior to 1940\n",
    "    8. DIS       weighted distances to five Boston employment centres\n",
    "    9. RAD       index of accessibility to radial highways\n",
    "    10. TAX      full-value property-tax rate per $10,000\n",
    "    11. PTRATIO  pupil-teacher ratio by town\n",
    "    12. B        1000(Bk - 0.63)^2 where Bk is the proportion of blacks \n",
    "                 by town\n",
    "    13. LSTAT    % lower status of the population\n",
    "    14. MEDV     Median value of owner-occupied homes in $1000's\n",
    "```"
   ]
  },
  {
   "cell_type": "code",
   "execution_count": 4,
   "metadata": {},
   "outputs": [],
   "source": [
    "NUMERICAL_COLS = [\n",
    "  'crim', # numerical\n",
    "  'zn', # numerical\n",
    "  'nonretail', # numerical\n",
    "  'nox', # numerical\n",
    "  'rooms', # numerical\n",
    "  'age', # numerical\n",
    "  'dis', # numerical\n",
    "  'rad', # numerical\n",
    "  'tax', # numerical\n",
    "  'ptratio', # numerical\n",
    "  'b', # numerical\n",
    "  'lstat', # numerical\n",
    "]\n",
    "\n",
    "NO_TRANSFORM = ['river']\n",
    "\n"
   ]
  },
  {
   "cell_type": "markdown",
   "metadata": {},
   "source": [
    "```python\n",
    "StandardScaler : normalize the real data\n",
    "```"
   ]
  },
  {
   "cell_type": "code",
   "execution_count": 5,
   "metadata": {},
   "outputs": [],
   "source": [
    "# transforms data from dataframe to numerical matrix\n",
    "# we want to use the scales found in training when transforming the test set\n",
    "# so only call fit() once\n",
    "# call transform() for any subsequent data\n",
    "class DataTransformer:\n",
    "  def fit(self, df):\n",
    "    self.scalers = {}\n",
    "    for col in NUMERICAL_COLS:\n",
    "      scaler = StandardScaler()\n",
    "      scaler.fit(df[col].values.reshape(-1, 1))\n",
    "      self.scalers[col] = scaler\n",
    "\n",
    "  def transform(self, df):\n",
    "    N, _ = df.shape\n",
    "    D = len(NUMERICAL_COLS) + len(NO_TRANSFORM)\n",
    "    X = np.zeros((N, D))\n",
    "    i = 0\n",
    "    for col, scaler in iteritems(self.scalers):\n",
    "      X[:,i] = scaler.transform(df[col].values.reshape(-1, 1)).flatten()\n",
    "      i += 1\n",
    "    for col in NO_TRANSFORM:\n",
    "      X[:,i] = df[col]\n",
    "      i += 1\n",
    "    return X\n",
    "\n",
    "  def fit_transform(self, df):\n",
    "    self.fit(df)\n",
    "    return self.transform(df)\n",
    "\n"
   ]
  },
  {
   "cell_type": "code",
   "execution_count": 15,
   "metadata": {},
   "outputs": [],
   "source": [
    "def get_data():\n",
    "  # regex allows arbitrary number of spaces in separator\n",
    "  df = pd.read_csv('./data/housing.data', header=None, sep=r\"\\s*\", engine='python')\n",
    "  df.columns = [\n",
    "    'crim', # numerical\n",
    "    'zn', # numerical\n",
    "    'nonretail', # numerical\n",
    "    'river', # binary\n",
    "    'nox', # numerical\n",
    "    'rooms', # numerical\n",
    "    'age', # numerical\n",
    "    'dis', # numerical\n",
    "    'rad', # numerical\n",
    "    'tax', # numerical\n",
    "    'ptratio', # numerical\n",
    "    'b', # numerical\n",
    "    'lstat', # numerical\n",
    "    'medv', # numerical -- this is the target\n",
    "  ]\n",
    "  print(\"df.shape {}\".format(df.shape))\n",
    "  # transform the data\n",
    "  transformer = DataTransformer()\n",
    "\n",
    "  # shuffle the data\n",
    "  N = len(df)\n",
    "  train_idx = np.random.choice(N, size=int(0.7*N), replace=False)\n",
    "  test_idx = [i for i in range(N) if i not in train_idx]\n",
    "  df_train = df.loc[train_idx]\n",
    "  df_test = df.loc[test_idx]\n",
    "\n",
    "  print(\"df_train.shape {}\".format(df_train.shape))\n",
    "  Xtrain = transformer.fit_transform(df_train)\n",
    "  Ytrain = np.log(df_train['medv'].values)\n",
    "  Xtest = transformer.transform(df_test)\n",
    "  Ytest = np.log(df_test['medv'].values)\n",
    "  return Xtrain, Ytrain, Xtest, Ytest\n"
   ]
  },
  {
   "cell_type": "code",
   "execution_count": 16,
   "metadata": {},
   "outputs": [
    {
     "name": "stdout",
     "output_type": "stream",
     "text": [
      "df.shape (506, 14)\n",
      "df_train.shape (354, 14)\n"
     ]
    },
    {
     "name": "stderr",
     "output_type": "stream",
     "text": [
      "/home/home9second/.virtualenvs/deeplearning/lib/python3.5/site-packages/pandas/io/parsers.py:2379: FutureWarning: split() requires a non-empty pattern match.\n",
      "  yield pat.split(line.strip())\n",
      "/home/home9second/.virtualenvs/deeplearning/lib/python3.5/site-packages/pandas/io/parsers.py:2381: FutureWarning: split() requires a non-empty pattern match.\n",
      "  yield pat.split(line.strip())\n",
      "/home/home9second/.virtualenvs/deeplearning/lib/python3.5/site-packages/sklearn/utils/validation.py:590: DataConversionWarning: Data with input dtype int64 was converted to float64 by StandardScaler.\n",
      "  warnings.warn(msg, DataConversionWarning)\n",
      "/home/home9second/.virtualenvs/deeplearning/lib/python3.5/site-packages/sklearn/utils/validation.py:590: DataConversionWarning: Data with input dtype int64 was converted to float64 by StandardScaler.\n",
      "  warnings.warn(msg, DataConversionWarning)\n",
      "/home/home9second/.virtualenvs/deeplearning/lib/python3.5/site-packages/sklearn/utils/validation.py:590: DataConversionWarning: Data with input dtype int64 was converted to float64 by StandardScaler.\n",
      "  warnings.warn(msg, DataConversionWarning)\n"
     ]
    }
   ],
   "source": [
    "\n",
    "Xtrain, Ytrain, Xtest, Ytest = get_data()\n"
   ]
  },
  {
   "cell_type": "code",
   "execution_count": 14,
   "metadata": {},
   "outputs": [
    {
     "data": {
      "text/plain": [
       "((354, 13), (354,))"
      ]
     },
     "execution_count": 14,
     "metadata": {},
     "output_type": "execute_result"
    }
   ],
   "source": [
    "Xtrain.shape,Ytrain.shape"
   ]
  },
  {
   "cell_type": "markdown",
   "metadata": {},
   "source": [
    "[sklearn.ensemble.RandomForestRegressor](https://scikit-learn.org/stable/modules/generated/sklearn.ensemble.RandomForestRegressor.html)  \n",
    "\n",
    "```python\n",
    "# A random forest regressor.\n",
    "\n",
    "# A random forest is a meta estimator that fits a number of classifying decision trees on various sub-samples of the dataset and uses averaging to improve the predictive accuracy and control over-fitting. The sub-sample size is always the same as the original input sample size but the samples are drawn with replacement if bootstrap=True (default).\n",
    "\n",
    "\n",
    "```\n",
    "\n",
    "- n_estimators : integer, optional (default=10)\n",
    "\n",
    "    The number of trees in the forest.\n",
    "\n",
    "    Changed in version 0.20: The default value of n_estimators will change from 10 in version 0.20 to 100 in version 0.22.\n",
    "    \n",
    "- criterion : string, optional (default=”mse”)\n",
    "\n",
    "    The function to measure the quality of a split. Supported criteria are “mse” for the mean squared error, which is equal to variance reduction as feature selection criterion, and “mae” for the mean absolute error.\n",
    "\n",
    "    New in version 0.18: Mean Absolute Error (MAE) criterion.\n",
    "- max_depth : integer or None, optional (default=None)\n",
    "\n",
    "    The maximum depth of the tree. If None, then nodes are expanded until all leaves are pure or until all leaves contain less than min_samples_split samples.\n",
    "- min_samples_split : int, float, optional (default=2)\n",
    "\n",
    "    The minimum number of samples required to split an internal node:\n",
    "\n",
    "    If int, then consider min_samples_split as the minimum number.\n",
    "    If float, then min_samples_split is a fraction and ceil(min_samples_split * n_samples) are the minimum number of samples for each split.\n",
    "\n",
    "    \n"
   ]
  },
  {
   "cell_type": "code",
   "execution_count": 17,
   "metadata": {},
   "outputs": [],
   "source": [
    "model = RandomForestRegressor(n_estimators=100) # try 10, 20, 50, 100, 200\n",
    "model.fit(Xtrain, Ytrain)\n",
    "predictions = model.predict(Xtest)\n"
   ]
  },
  {
   "cell_type": "code",
   "execution_count": 18,
   "metadata": {},
   "outputs": [
    {
     "name": "stdout",
     "output_type": "stream",
     "text": [
      "ymin: 2.0 ymax: 4.0\n"
     ]
    },
    {
     "data": {
      "image/png": "[encoded data removed]",
      "text/plain": [
       "<Figure size 432x288 with 1 Axes>"
      ]
     },
     "metadata": {},
     "output_type": "display_data"
    },
    {
     "data": {
      "image/png": "[encoded data removed]",
      "text/plain": [
       "<Figure size 432x288 with 1 Axes>"
      ]
     },
     "metadata": {},
     "output_type": "display_data"
    }
   ],
   "source": [
    "%matplotlib inline\n",
    "\n",
    "# plot predictions vs targets\n",
    "plt.scatter(Ytest, predictions)\n",
    "plt.xlabel(\"target\")\n",
    "plt.ylabel(\"prediction\")\n",
    "ymin = np.round( min( min(Ytest), min(predictions) ) )\n",
    "ymax = np.ceil( max( max(Ytest), max(predictions) ) )\n",
    "print(\"ymin:\", ymin, \"ymax:\", ymax)\n",
    "r = range(int(ymin), int(ymax) + 1)\n",
    "plt.plot(r, r)\n",
    "plt.show()\n",
    "\n",
    "plt.plot(Ytest, label='targets')\n",
    "plt.plot(predictions, label='predictions')\n",
    "plt.legend()\n",
    "plt.show()\n"
   ]
  },
  {
   "cell_type": "markdown",
   "metadata": {},
   "source": [
    "[sklearn.model_selection.cross_val_score](https://scikit-learn.org/stable/modules/generated/sklearn.model_selection.cross_val_score.html)  "
   ]
  },
  {
   "cell_type": "code",
   "execution_count": 19,
   "metadata": {},
   "outputs": [
    {
     "name": "stderr",
     "output_type": "stream",
     "text": [
      "/home/home9second/.virtualenvs/deeplearning/lib/python3.5/site-packages/sklearn/model_selection/_split.py:1943: FutureWarning: You should specify a value for 'cv' instead of relying on the default value. The default value will change from 3 to 5 in version 0.22.\n",
      "  warnings.warn(CV_WARNING, FutureWarning)\n",
      "/home/home9second/.virtualenvs/deeplearning/lib/python3.5/site-packages/sklearn/model_selection/_split.py:1943: FutureWarning: You should specify a value for 'cv' instead of relying on the default value. The default value will change from 3 to 5 in version 0.22.\n",
      "  warnings.warn(CV_WARNING, FutureWarning)\n"
     ]
    },
    {
     "name": "stdout",
     "output_type": "stream",
     "text": [
      "CV single tree: 0.6359539399041506\n",
      "CV baseline: 0.7075110620648992\n"
     ]
    },
    {
     "name": "stderr",
     "output_type": "stream",
     "text": [
      "/home/home9second/.virtualenvs/deeplearning/lib/python3.5/site-packages/sklearn/model_selection/_split.py:1943: FutureWarning: You should specify a value for 'cv' instead of relying on the default value. The default value will change from 3 to 5 in version 0.22.\n",
      "  warnings.warn(CV_WARNING, FutureWarning)\n"
     ]
    },
    {
     "name": "stdout",
     "output_type": "stream",
     "text": [
      "CV forest: 0.7891930219300543\n",
      "test score single tree: 0.5739146081090266\n",
      "test score baseline: 0.7928374669775282\n",
      "test score forest: 0.8546568914082502\n"
     ]
    }
   ],
   "source": [
    "# do a quick baseline test\n",
    "baseline = LinearRegression()\n",
    "single_tree = DecisionTreeRegressor()\n",
    "print(\"CV single tree:\", cross_val_score(single_tree, Xtrain, Ytrain).mean())\n",
    "print(\"CV baseline:\", cross_val_score(baseline, Xtrain, Ytrain).mean())\n",
    "print(\"CV forest:\", cross_val_score(model, Xtrain, Ytrain).mean())\n",
    "\n",
    "# test score\n",
    "single_tree.fit(Xtrain, Ytrain)\n",
    "baseline.fit(Xtrain, Ytrain)\n",
    "print(\"test score single tree:\", single_tree.score(Xtest, Ytest))\n",
    "print(\"test score baseline:\", baseline.score(Xtest, Ytest))\n",
    "print(\"test score forest:\", model.score(Xtest, Ytest))\n",
    "\n"
   ]
  },
  {
   "cell_type": "markdown",
   "metadata": {},
   "source": [
    "## Random Forest Classification In Code"
   ]
  },
  {
   "cell_type": "code",
   "execution_count": 20,
   "metadata": {},
   "outputs": [],
   "source": [
    "\n",
    "import numpy as np\n",
    "import pandas as pd\n",
    "import matplotlib.pyplot as plt\n",
    "from sklearn.preprocessing import LabelEncoder, StandardScaler\n",
    "from sklearn.tree import DecisionTreeClassifier\n",
    "from sklearn.ensemble import RandomForestClassifier\n",
    "from sklearn.linear_model import LogisticRegression\n",
    "from sklearn.model_selection import cross_val_score\n"
   ]
  },
  {
   "cell_type": "code",
   "execution_count": 36,
   "metadata": {},
   "outputs": [],
   "source": [
    "NUMERICAL_COLS = ()\n",
    "CATEGORICAL_COLS = np.arange(22) + 1 # 1..22 inclusive\n",
    "\n",
    "# transforms data from dataframe to numerical matrix\n",
    "# one-hot encodes categories and normalizes numerical columns\n",
    "# we want to use the scales found in training when transforming the test set\n",
    "# so only call fit() once\n",
    "# call transform() for any subsequent data\n",
    "class DataTransformer:\n",
    "  def fit(self, df):\n",
    "    self.labelEncoders = {}\n",
    "    self.scalers = {}\n",
    "    for col in NUMERICAL_COLS:\n",
    "      scaler = StandardScaler()\n",
    "      scaler.fit(df[col].reshape(-1, 1))\n",
    "      self.scalers[col] = scaler\n",
    "\n",
    "    for col in CATEGORICAL_COLS:\n",
    "      encoder = LabelEncoder()\n",
    "      # in case the train set does not have 'missing' value but test set does\n",
    "      values = df[col].tolist()\n",
    "      values.append('missing')\n",
    "      encoder.fit(values)\n",
    "      self.labelEncoders[col] = encoder\n",
    "\n",
    "    # find dimensionality\n",
    "    self.D = len(NUMERICAL_COLS)\n",
    "    for col, encoder in iteritems(self.labelEncoders):\n",
    "      print(\"encoder.classes_ {} len:{}\".format(encoder.classes_,len(encoder.classes_)))\n",
    "      self.D += len(encoder.classes_)\n",
    "    print(\"dimensionality:\", self.D)\n",
    "\n",
    "  def transform(self, df):\n",
    "    N, _ = df.shape\n",
    "    X = np.zeros((N, self.D))\n",
    "    i = 0\n",
    "    for col, scaler in iteritems(self.scalers):\n",
    "      X[:,i] = scaler.transform(df[col].values.reshape(-1, 1)).flatten()\n",
    "      i += 1\n",
    "\n",
    "    for col, encoder in iteritems(self.labelEncoders):\n",
    "      # print \"transforming col:\", col\n",
    "      K = len(encoder.classes_)\n",
    "      X[np.arange(N), encoder.transform(df[col]) + i] = 1\n",
    "      i += K\n",
    "    return X\n",
    "\n",
    "  def fit_transform(self, df):\n",
    "    self.fit(df)\n",
    "    return self.transform(df)\n"
   ]
  },
  {
   "cell_type": "code",
   "execution_count": 31,
   "metadata": {},
   "outputs": [],
   "source": [
    "\n",
    "def replace_missing(df):\n",
    "  # standard method of replacement for numerical columns is median\n",
    "  for col in NUMERICAL_COLS:\n",
    "    print(\"numerical col {}\".format(col))\n",
    "    if np.any(df[col].isnull()):\n",
    "      med = np.median(df[ col ][ df[col].notnull() ])\n",
    "      df.loc[ df[col].isnull(), col ] = med\n",
    "\n",
    "  # set a special value = 'missing'\n",
    "  for col in CATEGORICAL_COLS:\n",
    "    print(\"CATEGORICAL_COLS col {}\".format(col))\n",
    "    if np.any(df[col].isnull()):\n",
    "      print(col)\n",
    "      df.loc[ df[col].isnull(), col ] = 'missing'\n",
    "\n"
   ]
  },
  {
   "cell_type": "markdown",
   "metadata": {},
   "source": [
    "[Mushroom dataset](https://archive.ics.uci.edu/ml/datasets/Mushroom)"
   ]
  },
  {
   "cell_type": "code",
   "execution_count": 23,
   "metadata": {},
   "outputs": [],
   "source": [
    "\n",
    "def get_data():\n",
    "  df = pd.read_csv('./data/mushroom.data', header=None)\n",
    "\n",
    "  # replace label column: e/p --> 0/1\n",
    "  # e = edible = 0, p = poisonous = 1\n",
    "  df[0] = df.apply(lambda row: 0 if row[0] == 'e' else 1, axis=1)\n",
    "\n",
    "  # check if there is missing data\n",
    "  replace_missing(df)\n",
    "\n",
    "  # transform the data\n",
    "  transformer = DataTransformer()\n",
    "\n",
    "  X = transformer.fit_transform(df)\n",
    "  Y = df[0].values\n",
    "  return X, Y\n"
   ]
  },
  {
   "cell_type": "code",
   "execution_count": 27,
   "metadata": {},
   "outputs": [
    {
     "data": {
      "text/plain": [
       "(8124, 23)"
      ]
     },
     "execution_count": 27,
     "metadata": {},
     "output_type": "execute_result"
    }
   ],
   "source": [
    "df = pd.read_csv('./data/mushroom.data', header=None)\n",
    "df.shape\n"
   ]
  },
  {
   "cell_type": "code",
   "execution_count": 30,
   "metadata": {},
   "outputs": [
    {
     "data": {
      "text/html": [
       "<div>\n",
       "<style scoped>\n",
       "    .dataframe tbody tr th:only-of-type {\n",
       "        vertical-align: middle;\n",
       "    }\n",
       "\n",
       "    .dataframe tbody tr th {\n",
       "        vertical-align: top;\n",
       "    }\n",
       "\n",
       "    .dataframe thead th {\n",
       "        text-align: right;\n",
       "    }\n",
       "</style>\n",
       "<table border=\"1\" class=\"dataframe\">\n",
       "  <thead>\n",
       "    <tr style=\"text-align: right;\">\n",
       "      <th></th>\n",
       "      <th>0</th>\n",
       "      <th>1</th>\n",
       "      <th>2</th>\n",
       "      <th>3</th>\n",
       "      <th>4</th>\n",
       "      <th>5</th>\n",
       "      <th>6</th>\n",
       "      <th>7</th>\n",
       "      <th>8</th>\n",
       "      <th>9</th>\n",
       "      <th>...</th>\n",
       "      <th>13</th>\n",
       "      <th>14</th>\n",
       "      <th>15</th>\n",
       "      <th>16</th>\n",
       "      <th>17</th>\n",
       "      <th>18</th>\n",
       "      <th>19</th>\n",
       "      <th>20</th>\n",
       "      <th>21</th>\n",
       "      <th>22</th>\n",
       "    </tr>\n",
       "  </thead>\n",
       "  <tbody>\n",
       "    <tr>\n",
       "      <th>0</th>\n",
       "      <td>1</td>\n",
       "      <td>x</td>\n",
       "      <td>s</td>\n",
       "      <td>n</td>\n",
       "      <td>t</td>\n",
       "      <td>p</td>\n",
       "      <td>f</td>\n",
       "      <td>c</td>\n",
       "      <td>n</td>\n",
       "      <td>k</td>\n",
       "      <td>...</td>\n",
       "      <td>s</td>\n",
       "      <td>w</td>\n",
       "      <td>w</td>\n",
       "      <td>p</td>\n",
       "      <td>w</td>\n",
       "      <td>o</td>\n",
       "      <td>p</td>\n",
       "      <td>k</td>\n",
       "      <td>s</td>\n",
       "      <td>u</td>\n",
       "    </tr>\n",
       "    <tr>\n",
       "      <th>1</th>\n",
       "      <td>0</td>\n",
       "      <td>x</td>\n",
       "      <td>s</td>\n",
       "      <td>y</td>\n",
       "      <td>t</td>\n",
       "      <td>a</td>\n",
       "      <td>f</td>\n",
       "      <td>c</td>\n",
       "      <td>b</td>\n",
       "      <td>k</td>\n",
       "      <td>...</td>\n",
       "      <td>s</td>\n",
       "      <td>w</td>\n",
       "      <td>w</td>\n",
       "      <td>p</td>\n",
       "      <td>w</td>\n",
       "      <td>o</td>\n",
       "      <td>p</td>\n",
       "      <td>n</td>\n",
       "      <td>n</td>\n",
       "      <td>g</td>\n",
       "    </tr>\n",
       "    <tr>\n",
       "      <th>2</th>\n",
       "      <td>0</td>\n",
       "      <td>b</td>\n",
       "      <td>s</td>\n",
       "      <td>w</td>\n",
       "      <td>t</td>\n",
       "      <td>l</td>\n",
       "      <td>f</td>\n",
       "      <td>c</td>\n",
       "      <td>b</td>\n",
       "      <td>n</td>\n",
       "      <td>...</td>\n",
       "      <td>s</td>\n",
       "      <td>w</td>\n",
       "      <td>w</td>\n",
       "      <td>p</td>\n",
       "      <td>w</td>\n",
       "      <td>o</td>\n",
       "      <td>p</td>\n",
       "      <td>n</td>\n",
       "      <td>n</td>\n",
       "      <td>m</td>\n",
       "    </tr>\n",
       "    <tr>\n",
       "      <th>3</th>\n",
       "      <td>1</td>\n",
       "      <td>x</td>\n",
       "      <td>y</td>\n",
       "      <td>w</td>\n",
       "      <td>t</td>\n",
       "      <td>p</td>\n",
       "      <td>f</td>\n",
       "      <td>c</td>\n",
       "      <td>n</td>\n",
       "      <td>n</td>\n",
       "      <td>...</td>\n",
       "      <td>s</td>\n",
       "      <td>w</td>\n",
       "      <td>w</td>\n",
       "      <td>p</td>\n",
       "      <td>w</td>\n",
       "      <td>o</td>\n",
       "      <td>p</td>\n",
       "      <td>k</td>\n",
       "      <td>s</td>\n",
       "      <td>u</td>\n",
       "    </tr>\n",
       "    <tr>\n",
       "      <th>4</th>\n",
       "      <td>0</td>\n",
       "      <td>x</td>\n",
       "      <td>s</td>\n",
       "      <td>g</td>\n",
       "      <td>f</td>\n",
       "      <td>n</td>\n",
       "      <td>f</td>\n",
       "      <td>w</td>\n",
       "      <td>b</td>\n",
       "      <td>k</td>\n",
       "      <td>...</td>\n",
       "      <td>s</td>\n",
       "      <td>w</td>\n",
       "      <td>w</td>\n",
       "      <td>p</td>\n",
       "      <td>w</td>\n",
       "      <td>o</td>\n",
       "      <td>e</td>\n",
       "      <td>n</td>\n",
       "      <td>a</td>\n",
       "      <td>g</td>\n",
       "    </tr>\n",
       "  </tbody>\n",
       "</table>\n",
       "<p>5 rows × 23 columns</p>\n",
       "</div>"
      ],
      "text/plain": [
       "   0  1  2  3  4  5  6  7  8  9   ... 13 14 15 16 17 18 19 20 21 22\n",
       "0   1  x  s  n  t  p  f  c  n  k  ...  s  w  w  p  w  o  p  k  s  u\n",
       "1   0  x  s  y  t  a  f  c  b  k  ...  s  w  w  p  w  o  p  n  n  g\n",
       "2   0  b  s  w  t  l  f  c  b  n  ...  s  w  w  p  w  o  p  n  n  m\n",
       "3   1  x  y  w  t  p  f  c  n  n  ...  s  w  w  p  w  o  p  k  s  u\n",
       "4   0  x  s  g  f  n  f  w  b  k  ...  s  w  w  p  w  o  e  n  a  g\n",
       "\n",
       "[5 rows x 23 columns]"
      ]
     },
     "execution_count": 30,
     "metadata": {},
     "output_type": "execute_result"
    }
   ],
   "source": [
    "df.head()\n",
    "df[0] = df.apply(lambda row: 0 if row[0] == 'e' else 1, axis=1)\n",
    "df.head()"
   ]
  },
  {
   "cell_type": "code",
   "execution_count": null,
   "metadata": {},
   "outputs": [],
   "source": []
  },
  {
   "cell_type": "code",
   "execution_count": 37,
   "metadata": {},
   "outputs": [
    {
     "name": "stdout",
     "output_type": "stream",
     "text": [
      "CATEGORICAL_COLS col 1\n",
      "CATEGORICAL_COLS col 2\n",
      "CATEGORICAL_COLS col 3\n",
      "CATEGORICAL_COLS col 4\n",
      "CATEGORICAL_COLS col 5\n",
      "CATEGORICAL_COLS col 6\n",
      "CATEGORICAL_COLS col 7\n",
      "CATEGORICAL_COLS col 8\n",
      "CATEGORICAL_COLS col 9\n",
      "CATEGORICAL_COLS col 10\n",
      "CATEGORICAL_COLS col 11\n",
      "CATEGORICAL_COLS col 12\n",
      "CATEGORICAL_COLS col 13\n",
      "CATEGORICAL_COLS col 14\n",
      "CATEGORICAL_COLS col 15\n",
      "CATEGORICAL_COLS col 16\n",
      "CATEGORICAL_COLS col 17\n",
      "CATEGORICAL_COLS col 18\n",
      "CATEGORICAL_COLS col 19\n",
      "CATEGORICAL_COLS col 20\n",
      "CATEGORICAL_COLS col 21\n",
      "CATEGORICAL_COLS col 22\n",
      "encoder.classes_ ['b' 'c' 'f' 'k' 'missing' 's' 'x'] len:7\n",
      "encoder.classes_ ['f' 'g' 'missing' 's' 'y'] len:5\n",
      "encoder.classes_ ['b' 'c' 'e' 'g' 'missing' 'n' 'p' 'r' 'u' 'w' 'y'] len:11\n",
      "encoder.classes_ ['f' 'missing' 't'] len:3\n",
      "encoder.classes_ ['a' 'c' 'f' 'l' 'm' 'missing' 'n' 'p' 's' 'y'] len:10\n",
      "encoder.classes_ ['a' 'f' 'missing'] len:3\n",
      "encoder.classes_ ['c' 'missing' 'w'] len:3\n",
      "encoder.classes_ ['b' 'missing' 'n'] len:3\n",
      "encoder.classes_ ['b' 'e' 'g' 'h' 'k' 'missing' 'n' 'o' 'p' 'r' 'u' 'w' 'y'] len:13\n",
      "encoder.classes_ ['e' 'missing' 't'] len:3\n",
      "encoder.classes_ ['?' 'b' 'c' 'e' 'missing' 'r'] len:6\n",
      "encoder.classes_ ['f' 'k' 'missing' 's' 'y'] len:5\n",
      "encoder.classes_ ['f' 'k' 'missing' 's' 'y'] len:5\n",
      "encoder.classes_ ['b' 'c' 'e' 'g' 'missing' 'n' 'o' 'p' 'w' 'y'] len:10\n",
      "encoder.classes_ ['b' 'c' 'e' 'g' 'missing' 'n' 'o' 'p' 'w' 'y'] len:10\n",
      "encoder.classes_ ['missing' 'p'] len:2\n",
      "encoder.classes_ ['missing' 'n' 'o' 'w' 'y'] len:5\n",
      "encoder.classes_ ['missing' 'n' 'o' 't'] len:4\n",
      "encoder.classes_ ['e' 'f' 'l' 'missing' 'n' 'p'] len:6\n",
      "encoder.classes_ ['b' 'h' 'k' 'missing' 'n' 'o' 'r' 'u' 'w' 'y'] len:10\n",
      "encoder.classes_ ['a' 'c' 'missing' 'n' 's' 'v' 'y'] len:7\n",
      "encoder.classes_ ['d' 'g' 'l' 'm' 'missing' 'p' 'u' 'w'] len:8\n",
      "dimensionality: 139\n"
     ]
    }
   ],
   "source": [
    "X, Y = get_data()\n"
   ]
  },
  {
   "cell_type": "code",
   "execution_count": 25,
   "metadata": {},
   "outputs": [
    {
     "data": {
      "text/plain": [
       "((8124, 139), (8124,))"
      ]
     },
     "execution_count": 25,
     "metadata": {},
     "output_type": "execute_result"
    }
   ],
   "source": [
    "X.shape,Y.shape"
   ]
  },
  {
   "cell_type": "code",
   "execution_count": 33,
   "metadata": {},
   "outputs": [
    {
     "data": {
      "text/plain": [
       "array([0., 0., 0., 0., 0., 0., 1., 0., 0., 0., 1., 0., 0., 0., 0., 0., 0.,\n",
       "       1., 0., 0., 0., 0., 0., 0., 0., 1., 0., 0., 0., 0., 0., 0., 0., 1.,\n",
       "       0., 0., 0., 1., 0., 1., 0., 0., 0., 0., 1., 0., 0., 0., 0., 1., 0.,\n",
       "       0., 0., 0., 0., 0., 0., 0., 1., 0., 0., 0., 0., 0., 1., 0., 0., 0.,\n",
       "       0., 0., 1., 0., 0., 0., 0., 1., 0., 0., 0., 0., 0., 0., 0., 0., 0.,\n",
       "       1., 0., 0., 0., 0., 0., 0., 0., 0., 0., 1., 0., 0., 1., 0., 0., 0.,\n",
       "       1., 0., 0., 0., 1., 0., 0., 0., 0., 0., 0., 1., 0., 0., 1., 0., 0.,\n",
       "       0., 0., 0., 0., 0., 0., 0., 0., 0., 1., 0., 0., 0., 0., 0., 0., 0.,\n",
       "       0., 1., 0.])"
      ]
     },
     "execution_count": 33,
     "metadata": {},
     "output_type": "execute_result"
    }
   ],
   "source": [
    "X[0]"
   ]
  },
  {
   "cell_type": "code",
   "execution_count": 26,
   "metadata": {},
   "outputs": [
    {
     "name": "stderr",
     "output_type": "stream",
     "text": [
      "/home/home9second/.virtualenvs/deeplearning/lib/python3.5/site-packages/sklearn/linear_model/logistic.py:432: FutureWarning: Default solver will be changed to 'lbfgs' in 0.22. Specify a solver to silence this warning.\n",
      "  FutureWarning)\n",
      "/home/home9second/.virtualenvs/deeplearning/lib/python3.5/site-packages/sklearn/linear_model/logistic.py:432: FutureWarning: Default solver will be changed to 'lbfgs' in 0.22. Specify a solver to silence this warning.\n",
      "  FutureWarning)\n",
      "/home/home9second/.virtualenvs/deeplearning/lib/python3.5/site-packages/sklearn/linear_model/logistic.py:432: FutureWarning: Default solver will be changed to 'lbfgs' in 0.22. Specify a solver to silence this warning.\n",
      "  FutureWarning)\n",
      "/home/home9second/.virtualenvs/deeplearning/lib/python3.5/site-packages/sklearn/linear_model/logistic.py:432: FutureWarning: Default solver will be changed to 'lbfgs' in 0.22. Specify a solver to silence this warning.\n",
      "  FutureWarning)\n",
      "/home/home9second/.virtualenvs/deeplearning/lib/python3.5/site-packages/sklearn/linear_model/logistic.py:432: FutureWarning: Default solver will be changed to 'lbfgs' in 0.22. Specify a solver to silence this warning.\n",
      "  FutureWarning)\n",
      "/home/home9second/.virtualenvs/deeplearning/lib/python3.5/site-packages/sklearn/linear_model/logistic.py:432: FutureWarning: Default solver will be changed to 'lbfgs' in 0.22. Specify a solver to silence this warning.\n",
      "  FutureWarning)\n",
      "/home/home9second/.virtualenvs/deeplearning/lib/python3.5/site-packages/sklearn/linear_model/logistic.py:432: FutureWarning: Default solver will be changed to 'lbfgs' in 0.22. Specify a solver to silence this warning.\n",
      "  FutureWarning)\n",
      "/home/home9second/.virtualenvs/deeplearning/lib/python3.5/site-packages/sklearn/linear_model/logistic.py:432: FutureWarning: Default solver will be changed to 'lbfgs' in 0.22. Specify a solver to silence this warning.\n",
      "  FutureWarning)\n"
     ]
    },
    {
     "name": "stdout",
     "output_type": "stream",
     "text": [
      "CV baseline: 0.9274806301152012\n",
      "CV one tree: 0.9189967902719056\n",
      "CV forest: 0.9467059074512238\n"
     ]
    }
   ],
   "source": [
    "# do a quick baseline test\n",
    "baseline = LogisticRegression()\n",
    "print(\"CV baseline:\", cross_val_score(baseline, X, Y, cv=8).mean())\n",
    "\n",
    "# single tree\n",
    "tree = DecisionTreeClassifier()\n",
    "print(\"CV one tree:\", cross_val_score(tree, X, Y, cv=8).mean())\n",
    "\n",
    "model = RandomForestClassifier(n_estimators=20) # try 10, 20, 50, 100, 200\n",
    "print(\"CV forest:\", cross_val_score(model, X, Y, cv=8).mean())\n"
   ]
  }
 ],
 "metadata": {
  "kernelspec": {
   "display_name": "Python 3",
   "language": "python",
   "name": "python3"
  },
  "language_info": {
   "codemirror_mode": {
    "name": "ipython",
    "version": 3
   },
   "file_extension": ".py",
   "mimetype": "text/x-python",
   "name": "python",
   "nbconvert_exporter": "python",
   "pygments_lexer": "ipython3",
   "version": "3.5.2"
  },
  "toc": {
   "base_numbering": 1,
   "nav_menu": {},
   "number_sections": true,
   "sideBar": true,
   "skip_h1_title": false,
   "title_cell": "Table of Contents",
   "title_sidebar": "Contents",
   "toc_cell": false,
   "toc_position": {},
   "toc_section_display": true,
   "toc_window_display": false
  },
  "varInspector": {
   "cols": {
    "lenName": 16,
    "lenType": 16,
    "lenVar": 40
   },
   "kernels_config": {
    "python": {
     "delete_cmd_postfix": "",
     "delete_cmd_prefix": "del ",
     "library": "var_list.py",
     "varRefreshCmd": "print(var_dic_list())"
    },
    "r": {
     "delete_cmd_postfix": ") ",
     "delete_cmd_prefix": "rm(",
     "library": "var_list.r",
     "varRefreshCmd": "cat(var_dic_list()) "
    }
   },
   "types_to_exclude": [
    "module",
    "function",
    "builtin_function_or_method",
    "instance",
    "_Feature"
   ],
   "window_display": false
  }
 },
 "nbformat": 4,
 "nbformat_minor": 2
}
