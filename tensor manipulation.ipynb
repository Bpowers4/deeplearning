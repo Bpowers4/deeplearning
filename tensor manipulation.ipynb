{
 "cells": [
  {
   "cell_type": "code",
   "execution_count": 1,
   "metadata": {},
   "outputs": [],
   "source": [
    "import tensorflow as tf\n",
    "import numpy as np"
   ]
  },
  {
   "cell_type": "code",
   "execution_count": 2,
   "metadata": {},
   "outputs": [],
   "source": [
    "sess = tf.InteractiveSession()"
   ]
  },
  {
   "cell_type": "code",
   "execution_count": 59,
   "metadata": {},
   "outputs": [
    {
     "name": "stdout",
     "output_type": "stream",
     "text": [
      "sample_action [1 3 0 0 0 3 2 3 2 1]\n",
      "prob shape [10  4]\n",
      "probs [[0.05250511 0.11507613 0.43345686 0.39896191]\n",
      " [0.23405947 0.36866694 0.24263212 0.15464147]\n",
      " [0.43506061 0.22602385 0.05310279 0.28581275]\n",
      " [0.62278721 0.18162029 0.09237892 0.10321358]\n",
      " [0.66690505 0.16614643 0.10617012 0.0607784 ]\n",
      " [0.47990563 0.17025682 0.03672309 0.31311446]\n",
      " [0.16691537 0.32921654 0.38473608 0.11913201]\n",
      " [0.12581995 0.27618882 0.43824516 0.15974607]\n",
      " [0.14783997 0.02847501 0.46850921 0.35517582]\n",
      " [0.01824223 0.64242409 0.03558982 0.30374386]]\n",
      "reduce_sum of probs [1. 1. 1. 1. 1. 1. 1. 1. 1. 1.]\n",
      "reduce_sum of probs * log(probs) [-1.13249331 -1.34005373 -1.21205302 -1.05916245 -0.9767024  -1.13869121\n",
      " -1.28555103 -1.27072011 -1.10683038 -0.83796813]\n"
     ]
    }
   ],
   "source": [
    "logits= np.random.randn(10,4)\n",
    "probs = tf.nn.softmax(logits)\n",
    "cdist = tf.distributions.Categorical(logits)\n",
    "sample_action = cdist.sample()\n",
    "print(\"sample_action {}\".format(sample_action.eval()))\n",
    "print(\"prob shape {}\".format(tf.shape(probs).eval()))\n",
    "print(\"probs {}\".format(probs.eval()))\n",
    "print(\"reduce_sum of probs {}\".format(tf.reduce_sum(probs, axis=1).eval()))\n",
    "print(\"reduce_sum of probs * log(probs) {}\".format(tf.reduce_sum(probs * tf.log(probs), axis=1).eval()))"
   ]
  },
  {
   "cell_type": "code",
   "execution_count": 96,
   "metadata": {},
   "outputs": [
    {
     "name": "stdout",
     "output_type": "stream",
     "text": [
      "states shape (10, 84, 84, 4)\n",
      "batch_size 10\n",
      "range [0 1 2 3 4 5 6 7 8 9]\n",
      "shape of probs[1] 4\n",
      "gather_indices [ 1  4  9 13 16 21 24 29 33 38]\n",
      "reshape of probs [0.05250511 0.11507613 0.43345686 0.39896191 0.23405947 0.36866694\n",
      " 0.24263212 0.15464147 0.43506061 0.22602385 0.05310279 0.28581275\n",
      " 0.62278721 0.18162029 0.09237892 0.10321358 0.66690505 0.16614643\n",
      " 0.10617012 0.0607784  0.47990563 0.17025682 0.03672309 0.31311446\n",
      " 0.16691537 0.32921654 0.38473608 0.11913201 0.12581995 0.27618882\n",
      " 0.43824516 0.15974607 0.14783997 0.02847501 0.46850921 0.35517582\n",
      " 0.01824223 0.64242409 0.03558982 0.30374386]\n",
      "selected_action_probs [0.11507613 0.23405947 0.22602385 0.18162029 0.66690505 0.17025682\n",
      " 0.16691537 0.27618882 0.02847501 0.03558982]\n"
     ]
    }
   ],
   "source": [
    "states = np.arange(10*84*84*4).reshape(10,84,84,4)\n",
    "actions = [np.random.randint(4) for i in range(10)]\n",
    "actions = np.array(actions)#.reshape(10,4)\n",
    "\n",
    "batch_size = tf.shape(states)[0]\n",
    "print(\"states shape {}\".format(states.shape))\n",
    "print(\"batch_size {}\".format(batch_size.eval()))\n",
    "print(\"range {}\".format(tf.range(batch_size).eval()))    \n",
    "print(\"shape of probs[1] {}\".format(tf.shape(probs)[1].eval()))\n",
    "\n",
    "gather_indices = tf.range(batch_size) * tf.shape(probs)[1] + actions\n",
    "print(\"gather_indices {}\".format(gather_indices.eval()))\n",
    "print(\"reshape of probs {}\".format(tf.reshape(probs,[-1]).eval()))\n",
    "reshape_probs = tf.reshape(probs,[-1]).eval()\n",
    "# print(\"gather of probs {}\".format(tf.gather(reshape_probs,[1,2]).eval()))\n",
    "selected_action_probs = tf.gather(tf.reshape(probs, [-1]), gather_indices)\n",
    "print(\"selected_action_probs {}\".format(selected_action_probs.eval()))"
   ]
  },
  {
   "cell_type": "code",
   "execution_count": 54,
   "metadata": {},
   "outputs": [
    {
     "name": "stdout",
     "output_type": "stream",
     "text": [
      "0.7058824\n"
     ]
    }
   ],
   "source": [
    "input_ = 180.\n",
    "input_ = tf.to_float(input_) / 255.0\n",
    "print(input_.eval())"
   ]
  },
  {
   "cell_type": "markdown",
   "metadata": {},
   "source": [
    "- tf.train.RMSPropOptimizer(learning_rate,decay,momentum,epsilon,...)\n"
   ]
  },
  {
   "cell_type": "code",
   "execution_count": 99,
   "metadata": {},
   "outputs": [
    {
     "data": {
      "text/plain": [
       "(2, 5, 4)"
      ]
     },
     "execution_count": 99,
     "metadata": {},
     "output_type": "execute_result"
    }
   ],
   "source": [
    "frame = np.arange(10).reshape(2,5)\n",
    "outframe = np.stack([frame] * 4, axis=2)\n",
    "outframe.shape\n"
   ]
  },
  {
   "cell_type": "code",
   "execution_count": 3,
   "metadata": {},
   "outputs": [
    {
     "name": "stdout",
     "output_type": "stream",
     "text": [
      "expand_next_frame (84, 84, 1)\n"
     ]
    },
    {
     "data": {
      "text/plain": [
       "(84, 84, 4)"
      ]
     },
     "execution_count": 3,
     "metadata": {},
     "output_type": "execute_result"
    }
   ],
   "source": [
    "state = np.arange(84*84*4).reshape(84,84,4)\n",
    "state.shape\n",
    "next_frame = np.zeros(84*84).reshape(84,84)\n",
    "expand_next_frame = np.expand_dims(next_frame, 2)\n",
    "print(\"expand_next_frame {}\".format(expand_next_frame.shape))\n",
    "state = np.append(state[:,:,1:], np.expand_dims(next_frame, 2), axis=2)\n",
    "state.shape"
   ]
  },
  {
   "cell_type": "code",
   "execution_count": 125,
   "metadata": {},
   "outputs": [
    {
     "data": {
      "text/plain": [
       "array([[0., 0., 0., ..., 0., 0., 0.],\n",
       "       [0., 0., 0., ..., 0., 0., 0.],\n",
       "       [0., 0., 0., ..., 0., 0., 0.],\n",
       "       ...,\n",
       "       [0., 0., 0., ..., 0., 0., 0.],\n",
       "       [0., 0., 0., ..., 0., 0., 0.],\n",
       "       [0., 0., 0., ..., 0., 0., 0.]])"
      ]
     },
     "execution_count": 125,
     "metadata": {},
     "output_type": "execute_result"
    }
   ],
   "source": [
    "next_frame"
   ]
  },
  {
   "cell_type": "code",
   "execution_count": 126,
   "metadata": {},
   "outputs": [],
   "source": [
    "transposed_state = np.transpose(state,(2,0,1))"
   ]
  },
  {
   "cell_type": "code",
   "execution_count": 131,
   "metadata": {},
   "outputs": [
    {
     "data": {
      "text/plain": [
       "array([[3.0000e+00, 7.0000e+00, 1.1000e+01, ..., 3.2700e+02, 3.3100e+02,\n",
       "        3.3500e+02],\n",
       "       [3.3900e+02, 3.4300e+02, 3.4700e+02, ..., 6.6300e+02, 6.6700e+02,\n",
       "        6.7100e+02],\n",
       "       [6.7500e+02, 6.7900e+02, 6.8300e+02, ..., 9.9900e+02, 1.0030e+03,\n",
       "        1.0070e+03],\n",
       "       ...,\n",
       "       [2.7219e+04, 2.7223e+04, 2.7227e+04, ..., 2.7543e+04, 2.7547e+04,\n",
       "        2.7551e+04],\n",
       "       [2.7555e+04, 2.7559e+04, 2.7563e+04, ..., 2.7879e+04, 2.7883e+04,\n",
       "        2.7887e+04],\n",
       "       [2.7891e+04, 2.7895e+04, 2.7899e+04, ..., 2.8215e+04, 2.8219e+04,\n",
       "        2.8223e+04]])"
      ]
     },
     "execution_count": 131,
     "metadata": {},
     "output_type": "execute_result"
    }
   ],
   "source": [
    "transposed_state[2]"
   ]
  },
  {
   "cell_type": "code",
   "execution_count": 133,
   "metadata": {},
   "outputs": [
    {
     "name": "stdout",
     "output_type": "stream",
     "text": [
      "a=testa\n",
      "b=testb\n",
      "c=testc\n",
      "args=('excess', 'more excess')\n"
     ]
    }
   ],
   "source": [
    "def foo(a,b,c,*args):\n",
    "    print (\"a=%s\" % (a,))\n",
    "    print (\"b=%s\" % (b,))\n",
    "    print (\"c=%s\" % (c,))\n",
    "    print (\"args=%s\" % (args,))\n",
    "\n",
    "argtuple = (\"testa\",\"testb\",\"testc\",\"excess\",\"more excess\")\n",
    "foo(*argtuple)"
   ]
  },
  {
   "cell_type": "code",
   "execution_count": 134,
   "metadata": {},
   "outputs": [
    {
     "name": "stdout",
     "output_type": "stream",
     "text": [
      "a=testa\n",
      "b=testb\n",
      "c=testc\n",
      "args={'excessarg': 'string'}\n"
     ]
    }
   ],
   "source": [
    "def foo(a,b,c,**args):\n",
    "    print (\"a=%s\" % (a,))\n",
    "    print (\"b=%s\" % (b,))\n",
    "    print (\"c=%s\" % (c,))\n",
    "    print (\"args=%s\" % (args,))\n",
    "\n",
    "argdict = dict(a=\"testa\", b=\"testb\", c=\"testc\", excessarg=\"string\")\n",
    "foo(**argdict)"
   ]
  },
  {
   "cell_type": "code",
   "execution_count": 139,
   "metadata": {},
   "outputs": [
    {
     "name": "stdout",
     "output_type": "stream",
     "text": [
      "[[1, 2, 3, 4, 5]]\n",
      "[1, 2, 3, 4, 5]\n",
      "(1,)\n",
      "(2,)\n",
      "(3,)\n",
      "(4,)\n",
      "(5,)\n"
     ]
    }
   ],
   "source": [
    "def foo(args):\n",
    "    print(args)\n",
    "    print(*args)\n",
    "    for _val in zip(*args):\n",
    "        print(_val)\n",
    "\n",
    "l = [[1,2,3,4,5]]\n",
    "foo(l)"
   ]
  },
  {
   "cell_type": "code",
   "execution_count": 148,
   "metadata": {},
   "outputs": [
    {
     "data": {
      "text/plain": [
       "([1.8569534, 4.6423836], 5.3851647)"
      ]
     },
     "execution_count": 148,
     "metadata": {},
     "output_type": "execute_result"
    }
   ],
   "source": [
    "sess.run(tf.clip_by_global_norm([2.0,5.0], 5.0))"
   ]
  },
  {
   "cell_type": "code",
   "execution_count": 4,
   "metadata": {},
   "outputs": [],
   "source": [
    "# coordinator for threads\n",
    "coord = tf.train.Coordinator()"
   ]
  },
  {
   "cell_type": "code",
   "execution_count": 5,
   "metadata": {},
   "outputs": [
    {
     "data": {
      "text/plain": [
       "[0.5, 1.25, 2.0, 2.75, 3.5]"
      ]
     },
     "execution_count": 5,
     "metadata": {},
     "output_type": "execute_result"
    }
   ],
   "source": [
    "import itertools as it\n",
    "count_with_floats = it.count(start=0.5, step=0.75)\n",
    "list(next(count_with_floats) for _ in range(5))"
   ]
  }
 ],
 "metadata": {
  "kernelspec": {
   "display_name": "Python 3",
   "language": "python",
   "name": "python3"
  },
  "language_info": {
   "codemirror_mode": {
    "name": "ipython",
    "version": 3
   },
   "file_extension": ".py",
   "mimetype": "text/x-python",
   "name": "python",
   "nbconvert_exporter": "python",
   "pygments_lexer": "ipython3",
   "version": "3.5.2"
  },
  "toc": {
   "base_numbering": 1,
   "nav_menu": {},
   "number_sections": true,
   "sideBar": true,
   "skip_h1_title": false,
   "title_cell": "Table of Contents",
   "title_sidebar": "Contents",
   "toc_cell": false,
   "toc_position": {},
   "toc_section_display": true,
   "toc_window_display": false
  },
  "varInspector": {
   "cols": {
    "lenName": 16,
    "lenType": 16,
    "lenVar": 40
   },
   "kernels_config": {
    "python": {
     "delete_cmd_postfix": "",
     "delete_cmd_prefix": "del ",
     "library": "var_list.py",
     "varRefreshCmd": "print(var_dic_list())"
    },
    "r": {
     "delete_cmd_postfix": ") ",
     "delete_cmd_prefix": "rm(",
     "library": "var_list.r",
     "varRefreshCmd": "cat(var_dic_list()) "
    }
   },
   "types_to_exclude": [
    "module",
    "function",
    "builtin_function_or_method",
    "instance",
    "_Feature"
   ],
   "window_display": false
  }
 },
 "nbformat": 4,
 "nbformat_minor": 2
}
