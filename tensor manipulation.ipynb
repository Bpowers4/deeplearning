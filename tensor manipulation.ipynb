{
 "cells": [
  {
   "cell_type": "code",
   "execution_count": 1,
   "metadata": {},
   "outputs": [],
   "source": [
    "import tensorflow as tf\n",
    "import numpy as np"
   ]
  },
  {
   "cell_type": "code",
   "execution_count": 2,
   "metadata": {},
   "outputs": [],
   "source": [
    "sess = tf.InteractiveSession()"
   ]
  },
  {
   "cell_type": "code",
   "execution_count": 59,
   "metadata": {},
   "outputs": [
    {
     "name": "stdout",
     "output_type": "stream",
     "text": [
      "sample_action [1 3 0 0 0 3 2 3 2 1]\n",
      "prob shape [10  4]\n",
      "probs [[0.05250511 0.11507613 0.43345686 0.39896191]\n",
      " [0.23405947 0.36866694 0.24263212 0.15464147]\n",
      " [0.43506061 0.22602385 0.05310279 0.28581275]\n",
      " [0.62278721 0.18162029 0.09237892 0.10321358]\n",
      " [0.66690505 0.16614643 0.10617012 0.0607784 ]\n",
      " [0.47990563 0.17025682 0.03672309 0.31311446]\n",
      " [0.16691537 0.32921654 0.38473608 0.11913201]\n",
      " [0.12581995 0.27618882 0.43824516 0.15974607]\n",
      " [0.14783997 0.02847501 0.46850921 0.35517582]\n",
      " [0.01824223 0.64242409 0.03558982 0.30374386]]\n",
      "reduce_sum of probs [1. 1. 1. 1. 1. 1. 1. 1. 1. 1.]\n",
      "reduce_sum of probs * log(probs) [-1.13249331 -1.34005373 -1.21205302 -1.05916245 -0.9767024  -1.13869121\n",
      " -1.28555103 -1.27072011 -1.10683038 -0.83796813]\n"
     ]
    }
   ],
   "source": [
    "logits= np.random.randn(10,4)\n",
    "probs = tf.nn.softmax(logits)\n",
    "cdist = tf.distributions.Categorical(logits)\n",
    "sample_action = cdist.sample()\n",
    "print(\"sample_action {}\".format(sample_action.eval()))\n",
    "print(\"prob shape {}\".format(tf.shape(probs).eval()))\n",
    "print(\"probs {}\".format(probs.eval()))\n",
    "print(\"reduce_sum of probs {}\".format(tf.reduce_sum(probs, axis=1).eval()))\n",
    "print(\"reduce_sum of probs * log(probs) {}\".format(tf.reduce_sum(probs * tf.log(probs), axis=1).eval()))"
   ]
  },
  {
   "cell_type": "code",
   "execution_count": 96,
   "metadata": {},
   "outputs": [
    {
     "name": "stdout",
     "output_type": "stream",
     "text": [
      "states shape (10, 84, 84, 4)\n",
      "batch_size 10\n",
      "range [0 1 2 3 4 5 6 7 8 9]\n",
      "shape of probs[1] 4\n",
      "gather_indices [ 1  4  9 13 16 21 24 29 33 38]\n",
      "reshape of probs [0.05250511 0.11507613 0.43345686 0.39896191 0.23405947 0.36866694\n",
      " 0.24263212 0.15464147 0.43506061 0.22602385 0.05310279 0.28581275\n",
      " 0.62278721 0.18162029 0.09237892 0.10321358 0.66690505 0.16614643\n",
      " 0.10617012 0.0607784  0.47990563 0.17025682 0.03672309 0.31311446\n",
      " 0.16691537 0.32921654 0.38473608 0.11913201 0.12581995 0.27618882\n",
      " 0.43824516 0.15974607 0.14783997 0.02847501 0.46850921 0.35517582\n",
      " 0.01824223 0.64242409 0.03558982 0.30374386]\n",
      "selected_action_probs [0.11507613 0.23405947 0.22602385 0.18162029 0.66690505 0.17025682\n",
      " 0.16691537 0.27618882 0.02847501 0.03558982]\n"
     ]
    }
   ],
   "source": [
    "states = np.arange(10*84*84*4).reshape(10,84,84,4)\n",
    "actions = [np.random.randint(4) for i in range(10)]\n",
    "actions = np.array(actions)#.reshape(10,4)\n",
    "\n",
    "batch_size = tf.shape(states)[0]\n",
    "print(\"states shape {}\".format(states.shape))\n",
    "print(\"batch_size {}\".format(batch_size.eval()))\n",
    "print(\"range {}\".format(tf.range(batch_size).eval()))    \n",
    "print(\"shape of probs[1] {}\".format(tf.shape(probs)[1].eval()))\n",
    "\n",
    "gather_indices = tf.range(batch_size) * tf.shape(probs)[1] + actions\n",
    "print(\"gather_indices {}\".format(gather_indices.eval()))\n",
    "print(\"reshape of probs {}\".format(tf.reshape(probs,[-1]).eval()))\n",
    "reshape_probs = tf.reshape(probs,[-1]).eval()\n",
    "# print(\"gather of probs {}\".format(tf.gather(reshape_probs,[1,2]).eval()))\n",
    "selected_action_probs = tf.gather(tf.reshape(probs, [-1]), gather_indices)\n",
    "print(\"selected_action_probs {}\".format(selected_action_probs.eval()))"
   ]
  },
  {
   "cell_type": "code",
   "execution_count": 54,
   "metadata": {},
   "outputs": [
    {
     "name": "stdout",
     "output_type": "stream",
     "text": [
      "0.7058824\n"
     ]
    }
   ],
   "source": [
    "input_ = 180.\n",
    "input_ = tf.to_float(input_) / 255.0\n",
    "print(input_.eval())"
   ]
  },
  {
   "cell_type": "markdown",
   "metadata": {},
   "source": [
    "- tf.train.RMSPropOptimizer(learning_rate,decay,momentum,epsilon,...)\n"
   ]
  },
  {
   "cell_type": "code",
   "execution_count": 99,
   "metadata": {},
   "outputs": [
    {
     "data": {
      "text/plain": [
       "(2, 5, 4)"
      ]
     },
     "execution_count": 99,
     "metadata": {},
     "output_type": "execute_result"
    }
   ],
   "source": [
    "frame = np.arange(10).reshape(2,5)\n",
    "outframe = np.stack([frame] * 4, axis=2)\n",
    "outframe.shape\n"
   ]
  },
  {
   "cell_type": "code",
   "execution_count": 3,
   "metadata": {},
   "outputs": [
    {
     "name": "stdout",
     "output_type": "stream",
     "text": [
      "expand_next_frame (84, 84, 1)\n"
     ]
    },
    {
     "data": {
      "text/plain": [
       "(84, 84, 4)"
      ]
     },
     "execution_count": 3,
     "metadata": {},
     "output_type": "execute_result"
    }
   ],
   "source": [
    "state = np.arange(84*84*4).reshape(84,84,4)\n",
    "state.shape\n",
    "next_frame = np.zeros(84*84).reshape(84,84)\n",
    "expand_next_frame = np.expand_dims(next_frame, 2)\n",
    "print(\"expand_next_frame {}\".format(expand_next_frame.shape))\n",
    "state = np.append(state[:,:,1:], np.expand_dims(next_frame, 2), axis=2)\n",
    "state.shape"
   ]
  },
  {
   "cell_type": "code",
   "execution_count": 125,
   "metadata": {},
   "outputs": [
    {
     "data": {
      "text/plain": [
       "array([[0., 0., 0., ..., 0., 0., 0.],\n",
       "       [0., 0., 0., ..., 0., 0., 0.],\n",
       "       [0., 0., 0., ..., 0., 0., 0.],\n",
       "       ...,\n",
       "       [0., 0., 0., ..., 0., 0., 0.],\n",
       "       [0., 0., 0., ..., 0., 0., 0.],\n",
       "       [0., 0., 0., ..., 0., 0., 0.]])"
      ]
     },
     "execution_count": 125,
     "metadata": {},
     "output_type": "execute_result"
    }
   ],
   "source": [
    "next_frame"
   ]
  },
  {
   "cell_type": "code",
   "execution_count": 126,
   "metadata": {},
   "outputs": [],
   "source": [
    "transposed_state = np.transpose(state,(2,0,1))"
   ]
  },
  {
   "cell_type": "code",
   "execution_count": 131,
   "metadata": {},
   "outputs": [
    {
     "data": {
      "text/plain": [
       "array([[3.0000e+00, 7.0000e+00, 1.1000e+01, ..., 3.2700e+02, 3.3100e+02,\n",
       "        3.3500e+02],\n",
       "       [3.3900e+02, 3.4300e+02, 3.4700e+02, ..., 6.6300e+02, 6.6700e+02,\n",
       "        6.7100e+02],\n",
       "       [6.7500e+02, 6.7900e+02, 6.8300e+02, ..., 9.9900e+02, 1.0030e+03,\n",
       "        1.0070e+03],\n",
       "       ...,\n",
       "       [2.7219e+04, 2.7223e+04, 2.7227e+04, ..., 2.7543e+04, 2.7547e+04,\n",
       "        2.7551e+04],\n",
       "       [2.7555e+04, 2.7559e+04, 2.7563e+04, ..., 2.7879e+04, 2.7883e+04,\n",
       "        2.7887e+04],\n",
       "       [2.7891e+04, 2.7895e+04, 2.7899e+04, ..., 2.8215e+04, 2.8219e+04,\n",
       "        2.8223e+04]])"
      ]
     },
     "execution_count": 131,
     "metadata": {},
     "output_type": "execute_result"
    }
   ],
   "source": [
    "transposed_state[2]"
   ]
  },
  {
   "cell_type": "code",
   "execution_count": 133,
   "metadata": {},
   "outputs": [
    {
     "name": "stdout",
     "output_type": "stream",
     "text": [
      "a=testa\n",
      "b=testb\n",
      "c=testc\n",
      "args=('excess', 'more excess')\n"
     ]
    }
   ],
   "source": [
    "def foo(a,b,c,*args):\n",
    "    print (\"a=%s\" % (a,))\n",
    "    print (\"b=%s\" % (b,))\n",
    "    print (\"c=%s\" % (c,))\n",
    "    print (\"args=%s\" % (args,))\n",
    "\n",
    "argtuple = (\"testa\",\"testb\",\"testc\",\"excess\",\"more excess\")\n",
    "foo(*argtuple)"
   ]
  },
  {
   "cell_type": "code",
   "execution_count": 134,
   "metadata": {},
   "outputs": [
    {
     "name": "stdout",
     "output_type": "stream",
     "text": [
      "a=testa\n",
      "b=testb\n",
      "c=testc\n",
      "args={'excessarg': 'string'}\n"
     ]
    }
   ],
   "source": [
    "def foo(a,b,c,**args):\n",
    "    print (\"a=%s\" % (a,))\n",
    "    print (\"b=%s\" % (b,))\n",
    "    print (\"c=%s\" % (c,))\n",
    "    print (\"args=%s\" % (args,))\n",
    "\n",
    "argdict = dict(a=\"testa\", b=\"testb\", c=\"testc\", excessarg=\"string\")\n",
    "foo(**argdict)"
   ]
  },
  {
   "cell_type": "code",
   "execution_count": 139,
   "metadata": {},
   "outputs": [
    {
     "name": "stdout",
     "output_type": "stream",
     "text": [
      "[[1, 2, 3, 4, 5]]\n",
      "[1, 2, 3, 4, 5]\n",
      "(1,)\n",
      "(2,)\n",
      "(3,)\n",
      "(4,)\n",
      "(5,)\n"
     ]
    }
   ],
   "source": [
    "def foo(args):\n",
    "    print(args)\n",
    "    print(*args)\n",
    "    for _val in zip(*args):\n",
    "        print(_val)\n",
    "\n",
    "l = [[1,2,3,4,5]]\n",
    "foo(l)"
   ]
  },
  {
   "cell_type": "code",
   "execution_count": 148,
   "metadata": {},
   "outputs": [
    {
     "data": {
      "text/plain": [
       "([1.8569534, 4.6423836], 5.3851647)"
      ]
     },
     "execution_count": 148,
     "metadata": {},
     "output_type": "execute_result"
    }
   ],
   "source": [
    "sess.run(tf.clip_by_global_norm([2.0,5.0], 5.0))"
   ]
  },
  {
   "cell_type": "code",
   "execution_count": 4,
   "metadata": {},
   "outputs": [],
   "source": [
    "# coordinator for threads\n",
    "coord = tf.train.Coordinator()"
   ]
  },
  {
   "cell_type": "code",
   "execution_count": 5,
   "metadata": {},
   "outputs": [
    {
     "data": {
      "text/plain": [
       "[0.5, 1.25, 2.0, 2.75, 3.5]"
      ]
     },
     "execution_count": 5,
     "metadata": {},
     "output_type": "execute_result"
    }
   ],
   "source": [
    "import itertools as it\n",
    "count_with_floats = it.count(start=0.5, step=0.75)\n",
    "list(next(count_with_floats) for _ in range(5))"
   ]
  },
  {
   "cell_type": "code",
   "execution_count": 16,
   "metadata": {},
   "outputs": [],
   "source": [
    "action_onehot = tf.one_hot([0, 1,  0], 2).eval()"
   ]
  },
  {
   "cell_type": "code",
   "execution_count": 18,
   "metadata": {},
   "outputs": [
    {
     "name": "stdout",
     "output_type": "stream",
     "text": [
      "(3, 2)\n",
      "[[1. 0.]\n",
      " [0. 1.]\n",
      " [1. 0.]]\n"
     ]
    }
   ],
   "source": [
    "print(action_onehot.shape)\n",
    "print(action_onehot)"
   ]
  },
  {
   "cell_type": "code",
   "execution_count": 4,
   "metadata": {},
   "outputs": [
    {
     "data": {
      "text/plain": [
       "1000.0"
      ]
     },
     "execution_count": 4,
     "metadata": {},
     "output_type": "execute_result"
    }
   ],
   "source": [
    "1e3"
   ]
  },
  {
   "cell_type": "markdown",
   "metadata": {},
   "source": [
    "### reduce_max"
   ]
  },
  {
   "cell_type": "markdown",
   "metadata": {},
   "source": [
    "[calculate-max-of-a-tensorflow-tensor](https://www.aiworkbox.com/lessons/calculate-max-of-a-tensorflow-tensor)"
   ]
  },
  {
   "cell_type": "code",
   "execution_count": 3,
   "metadata": {},
   "outputs": [],
   "source": [
    "random_int_var = tf.get_variable(\"random_int_var\",\n",
    "                                 initializer=tf.random_uniform([2, 3, 4],\n",
    "                                                               minval=0,\n",
    "                                                               maxval=20,\n",
    "                                                               dtype=tf.int32))"
   ]
  },
  {
   "cell_type": "code",
   "execution_count": 5,
   "metadata": {},
   "outputs": [
    {
     "name": "stdout",
     "output_type": "stream",
     "text": [
      "[[[ 2 15  9 18]\n",
      "  [ 5  7  7  0]\n",
      "  [18  3 17  5]]\n",
      "\n",
      " [[15 12  6  1]\n",
      "  [19 14 16  7]\n",
      "  [10 19 13 14]]]\n"
     ]
    }
   ],
   "source": [
    "init_var = tf.global_variables_initializer()\n",
    "sess.run(init_var)\n",
    "print(sess.run(random_int_var))"
   ]
  },
  {
   "cell_type": "code",
   "execution_count": 7,
   "metadata": {},
   "outputs": [
    {
     "name": "stdout",
     "output_type": "stream",
     "text": [
      "[[18  7 18]\n",
      " [15 19 19]]\n"
     ]
    }
   ],
   "source": [
    "print(sess.run(tf.reduce_max(random_int_var,axis= -1)))"
   ]
  },
  {
   "cell_type": "markdown",
   "metadata": {},
   "source": [
    "[scatternd](https://www.tensorflow.org/api_docs/python/tf/scatter_nd)\n",
    "\n",
    "![](https://www.tensorflow.org/images/ScatterNd1.png)"
   ]
  },
  {
   "cell_type": "code",
   "execution_count": 8,
   "metadata": {},
   "outputs": [
    {
     "name": "stdout",
     "output_type": "stream",
     "text": [
      "[ 0 11  0 10  9  0  0 12]\n"
     ]
    }
   ],
   "source": [
    "indices = tf.constant([[4], [3], [1], [7]])\n",
    "updates = tf.constant([9, 10, 11, 12])\n",
    "shape = tf.constant([8])\n",
    "scatter = tf.scatter_nd(indices, updates, shape)\n",
    "with tf.Session() as sess:\n",
    "  print(sess.run(scatter))\n"
   ]
  },
  {
   "cell_type": "markdown",
   "metadata": {},
   "source": [
    "### boolean_mask"
   ]
  },
  {
   "cell_type": "code",
   "execution_count": 1,
   "metadata": {},
   "outputs": [],
   "source": [
    "import tensorflow as tf\n",
    "import numpy as np"
   ]
  },
  {
   "cell_type": "code",
   "execution_count": 2,
   "metadata": {},
   "outputs": [],
   "source": [
    "batch_item = tf.get_variable(\"batch_item\",\n",
    "                                 initializer=tf.random_uniform([10, 25],\n",
    "                                                               minval=0,\n",
    "                                                               maxval=10,\n",
    "                                                               dtype=tf.float32))"
   ]
  },
  {
   "cell_type": "code",
   "execution_count": 3,
   "metadata": {
    "scrolled": true
   },
   "outputs": [
    {
     "name": "stdout",
     "output_type": "stream",
     "text": [
      "[[8.59433    7.9664564  3.3884418  2.959404   8.9796715  0.17459631\n",
      "  4.686191   1.9722736  3.3611429  2.9821408  0.0342977  5.9760675\n",
      "  9.6206665  6.4000106  4.7016106  2.161795   9.35574    1.8032289\n",
      "  0.269202   4.8897624  8.107533   2.8859198  0.43307543 2.3865807\n",
      "  5.9412646 ]\n",
      " [6.1229267  2.2228634  4.574299   2.409619   0.47965288 7.307167\n",
      "  3.5909688  5.0035763  5.367388   2.881316   0.9480381  8.158475\n",
      "  2.2852528  0.3503883  9.57233    9.913822   2.3953867  0.18403888\n",
      "  6.253934   1.0150552  8.429917   2.467041   3.6928594  0.7664454\n",
      "  1.3392794 ]\n",
      " [3.9279854  1.5616298  9.974927   7.2506847  2.507043   0.9481108\n",
      "  4.4507146  1.252408   5.290909   9.906596   0.8854866  1.1535144\n",
      "  1.2830997  7.4291325  7.6091633  7.878511   8.549244   8.237146\n",
      "  7.512783   7.5756035  6.263311   4.9645004  5.836109   1.3225031\n",
      "  1.1137915 ]\n",
      " [7.518853   3.6708832  9.846251   0.84967613 9.1403475  5.657159\n",
      "  6.496443   9.457251   2.375549   4.906397   8.19791    9.979845\n",
      "  7.143793   2.6786983  1.1126673  8.999162   3.9418662  1.0999012\n",
      "  6.7536616  3.414439   9.236222   5.084606   2.0820034  7.175162\n",
      "  6.472485  ]\n",
      " [6.4443626  4.5732727  6.1928263  1.2717235  2.9691577  6.8883634\n",
      "  5.3774     8.830811   2.1289158  3.101821   0.22481441 3.747667\n",
      "  4.521172   1.6903436  7.715354   9.476263   2.020117   8.038144\n",
      "  2.8037274  9.077754   9.7775135  9.775341   7.4161873  8.248181\n",
      "  6.4713135 ]\n",
      " [2.6462948  3.2545507  9.026023   5.543115   8.969489   8.606076\n",
      "  1.7343223  2.5041199  7.94608    8.2010565  3.5855174  0.79808235\n",
      "  3.5383081  6.950536   4.777356   8.299527   9.835258   0.3247857\n",
      "  9.489593   5.6714797  4.2770376  4.122142   2.629671   1.8441308\n",
      "  4.693781  ]\n",
      " [9.114696   5.655391   7.5751295  3.3850217  2.7832794  9.973645\n",
      "  8.160869   2.2254813  2.4377477  8.75847    6.3141584  8.71674\n",
      "  3.2909536  5.0264072  8.21013    6.7054796  0.1946783  8.859462\n",
      "  4.7245407  0.727191   1.3940871  5.943102   9.461698   8.2600765\n",
      "  5.3412795 ]\n",
      " [2.5068963  3.1208992  9.832594   9.186571   6.251956   3.345648\n",
      "  1.8933487  2.822268   9.181164   8.883352   7.247908   8.528063\n",
      "  9.21113    5.137953   0.04255772 4.329934   4.145173   7.012639\n",
      "  7.9214716  8.880436   4.804307   2.0888138  2.9154384  5.5903015\n",
      "  1.7534697 ]\n",
      " [9.680336   8.585948   1.5702236  8.401493   0.17368674 2.3236525\n",
      "  6.925392   0.8629358  4.9392104  3.7955487  9.288225   0.97420454\n",
      "  4.339155   8.662506   8.327899   0.9553087  1.1348534  2.5728738\n",
      "  4.657593   6.9570494  7.272643   1.2325013  1.1379397  8.475794\n",
      "  7.276685  ]\n",
      " [6.69513    3.18964    8.510513   6.6638765  9.0763645  9.537699\n",
      "  1.7502213  4.0850973  1.2910593  3.5759747  9.092393   5.134895\n",
      "  9.862428   6.1344624  8.486585   8.055967   5.53115    0.5116582\n",
      "  7.196089   6.991867   8.2329235  1.4001036  7.9825926  4.3339276\n",
      "  9.805418  ]]\n"
     ]
    }
   ],
   "source": [
    "sess = tf.InteractiveSession()\n",
    "init_var = tf.global_variables_initializer()\n",
    "sess.run(init_var)\n",
    "\n",
    "print(sess.run(batch_item))"
   ]
  },
  {
   "cell_type": "code",
   "execution_count": 6,
   "metadata": {},
   "outputs": [],
   "source": [
    "index = 0\n",
    "confidences = tf.expand_dims(batch_item[..., index], axis=-1)\n",
    "class_id = tf.fill(dims=tf.shape(confidences), value=tf.to_float(index))\n",
    "box_coordinates = batch_item[...,-4:]\n",
    "single_class = tf.concat([class_id, confidences, box_coordinates], axis=-1)\n",
    "\n",
    "\n",
    "threshold_met = single_class[:,1] > 5\n",
    "single_class = tf.boolean_mask(tensor=single_class,\n",
    "                               mask=threshold_met)"
   ]
  },
  {
   "cell_type": "code",
   "execution_count": 7,
   "metadata": {},
   "outputs": [
    {
     "name": "stdout",
     "output_type": "stream",
     "text": [
      "[[0.]\n",
      " [0.]\n",
      " [0.]\n",
      " [0.]\n",
      " [0.]\n",
      " [0.]\n",
      " [0.]\n",
      " [0.]\n",
      " [0.]\n",
      " [0.]] [10  1]\n"
     ]
    }
   ],
   "source": [
    "print(sess.run(class_id),sess.run(tf.shape(class_id)))"
   ]
  },
  {
   "cell_type": "code",
   "execution_count": 8,
   "metadata": {},
   "outputs": [
    {
     "name": "stdout",
     "output_type": "stream",
     "text": [
      "[[0.         8.730918   4.609034   0.23979783 9.534487   5.2389145 ]\n",
      " [0.         5.041697   5.850618   2.5402284  6.893468   5.334305  ]\n",
      " [0.         5.8045235  7.3003397  8.596873   0.28927803 4.547657  ]\n",
      " [0.         5.863278   3.895644   7.443939   7.8275275  5.6249332 ]\n",
      " [0.         9.993277   7.395463   1.372019   9.579853   3.0407023 ]\n",
      " [0.         9.616355   1.629206   8.20386    8.431232   0.9219861 ]] [6 6]\n"
     ]
    }
   ],
   "source": [
    "print(sess.run(single_class),sess.run(tf.shape(single_class)))"
   ]
  },
  {
   "cell_type": "code",
   "execution_count": 9,
   "metadata": {},
   "outputs": [],
   "source": [
    "scores = single_class[...,1]\n",
    "\n",
    "# `tf.image.non_max_suppression()` needs the box coordinates in the format `(ymin, xmin, ymax, xmax)`.\n",
    "xmin = tf.expand_dims(single_class[...,-4], axis=-1)\n",
    "ymin = tf.expand_dims(single_class[...,-3], axis=-1)\n",
    "xmax = tf.expand_dims(single_class[...,-2], axis=-1)\n",
    "ymax = tf.expand_dims(single_class[...,-1], axis=-1)\n",
    "boxes = tf.concat(values=[ymin, xmin, ymax, xmax], axis=-1)\n",
    "\n",
    "maxima_indices = tf.image.non_max_suppression(boxes=boxes,\n",
    "                                              scores=scores,\n",
    "                                              max_output_size=10,\n",
    "                                              iou_threshold=0.45,\n",
    "                                              name='non_maximum_suppresion')\n",
    "maxima = tf.gather(params=single_class,\n",
    "                   indices=maxima_indices,\n",
    "                   axis=0)"
   ]
  },
  {
   "cell_type": "code",
   "execution_count": 10,
   "metadata": {},
   "outputs": [
    {
     "name": "stdout",
     "output_type": "stream",
     "text": [
      "[[0.         9.993277   7.395463   1.372019   9.579853   3.0407023 ]\n",
      " [0.         9.616355   1.629206   8.20386    8.431232   0.9219861 ]\n",
      " [0.         8.730918   4.609034   0.23979783 9.534487   5.2389145 ]\n",
      " [0.         5.863278   3.895644   7.443939   7.8275275  5.6249332 ]\n",
      " [0.         5.8045235  7.3003397  8.596873   0.28927803 4.547657  ]\n",
      " [0.         5.041697   5.850618   2.5402284  6.893468   5.334305  ]] [4 5 0 3 2 1]\n"
     ]
    }
   ],
   "source": [
    "print(sess.run(maxima),sess.run(maxima_indices))"
   ]
  },
  {
   "cell_type": "code",
   "execution_count": 11,
   "metadata": {},
   "outputs": [],
   "source": [
    "# Make sure `single_class` is exactly `self.nms_max_output_size` elements long.\n",
    "padded_single_class = tf.pad(tensor=maxima,\n",
    "                             paddings=[[0, 10 - tf.shape(maxima)[0]], [0, 0]],\n",
    "                             mode='CONSTANT',\n",
    "                             constant_values=0.0)"
   ]
  },
  {
   "cell_type": "code",
   "execution_count": 12,
   "metadata": {},
   "outputs": [
    {
     "name": "stdout",
     "output_type": "stream",
     "text": [
      "[[0.         9.993277   7.395463   1.372019   9.579853   3.0407023 ]\n",
      " [0.         9.616355   1.629206   8.20386    8.431232   0.9219861 ]\n",
      " [0.         8.730918   4.609034   0.23979783 9.534487   5.2389145 ]\n",
      " [0.         5.863278   3.895644   7.443939   7.8275275  5.6249332 ]\n",
      " [0.         5.8045235  7.3003397  8.596873   0.28927803 4.547657  ]\n",
      " [0.         5.041697   5.850618   2.5402284  6.893468   5.334305  ]\n",
      " [0.         0.         0.         0.         0.         0.        ]\n",
      " [0.         0.         0.         0.         0.         0.        ]\n",
      " [0.         0.         0.         0.         0.         0.        ]\n",
      " [0.         0.         0.         0.         0.         0.        ]]\n"
     ]
    }
   ],
   "source": [
    "print(sess.run(padded_single_class))"
   ]
  },
  {
   "cell_type": "code",
   "execution_count": 4,
   "metadata": {},
   "outputs": [],
   "source": [
    "tf_confidence_thresh = 6.0\n",
    "iou_threshold = 0.45\n",
    "tf_nms_max_output_size =10\n",
    "n_classes = 21\n",
    "# Create a function that filters the predictions for one single class.\n",
    "def filter_single_class(index):\n",
    "\n",
    "    # From a tensor of shape (n_boxes, n_classes + 4 coordinates) extract\n",
    "    # a tensor of shape (n_boxes, 1 + 4 coordinates) that contains the\n",
    "    # confidnece values for just one class, determined by `index`.\n",
    "    confidences = tf.expand_dims(batch_item[..., index], axis=-1)\n",
    "    class_id = tf.fill(dims=tf.shape(confidences), value=tf.to_float(index))\n",
    "    box_coordinates = batch_item[...,-4:]\n",
    "\n",
    "    single_class = tf.concat([class_id, confidences, box_coordinates], axis=-1)\n",
    "\n",
    "    # Apply confidence thresholding with respect to the class defined by `index`.\n",
    "    threshold_met = single_class[:,1] > tf_confidence_thresh\n",
    "    single_class = tf.boolean_mask(tensor=single_class,\n",
    "                                   mask=threshold_met)\n",
    "\n",
    "    # If any boxes made the threshold, perform NMS.\n",
    "    def perform_nms():\n",
    "        scores = single_class[...,1]\n",
    "\n",
    "        # `tf.image.non_max_suppression()` needs the box coordinates in the format `(ymin, xmin, ymax, xmax)`.\n",
    "        xmin = tf.expand_dims(single_class[...,-4], axis=-1)\n",
    "        ymin = tf.expand_dims(single_class[...,-3], axis=-1)\n",
    "        xmax = tf.expand_dims(single_class[...,-2], axis=-1)\n",
    "        ymax = tf.expand_dims(single_class[...,-1], axis=-1)\n",
    "        boxes = tf.concat(values=[ymin, xmin, ymax, xmax], axis=-1)\n",
    "\n",
    "        maxima_indices = tf.image.non_max_suppression(boxes=boxes,\n",
    "                                                      scores=scores,\n",
    "                                                      max_output_size=tf_nms_max_output_size,\n",
    "                                                      iou_threshold=iou_threshold,\n",
    "                                                      name='non_maximum_suppresion')\n",
    "        maxima = tf.gather(params=single_class,\n",
    "                           indices=maxima_indices,\n",
    "                           axis=0)\n",
    "        return maxima\n",
    "\n",
    "    def no_confident_predictions():\n",
    "        return tf.constant(value=0.0, shape=(1,6))\n",
    "\n",
    "    single_class_nms = tf.cond(tf.equal(tf.size(single_class), 0), no_confident_predictions, perform_nms)\n",
    "\n",
    "    # Make sure `single_class` is exactly `self.nms_max_output_size` elements long.\n",
    "    padded_single_class = tf.pad(tensor=single_class_nms,\n",
    "                                 paddings=[[0, tf_nms_max_output_size - tf.shape(single_class_nms)[0]], [0, 0]],\n",
    "                                 mode='CONSTANT',\n",
    "                                 constant_values=0.0)\n",
    "\n",
    "    return padded_single_class"
   ]
  },
  {
   "cell_type": "code",
   "execution_count": 5,
   "metadata": {},
   "outputs": [],
   "source": [
    "# Iterate `filter_single_class()` over all class indices.\n",
    "filtered_single_classes = tf.map_fn(fn=lambda i: filter_single_class(i),\n",
    "                                    elems=tf.range(1,n_classes),\n",
    "                                    dtype=tf.float32,\n",
    "                                    parallel_iterations=128,\n",
    "                                    back_prop=False,\n",
    "                                    swap_memory=False,\n",
    "                                    infer_shape=True,\n",
    "                                    name='loop_over_classes')"
   ]
  },
  {
   "cell_type": "code",
   "execution_count": 7,
   "metadata": {
    "scrolled": true
   },
   "outputs": [
    {
     "name": "stdout",
     "output_type": "stream",
     "text": [
      "[[[ 1.          8.585948    1.2325013   1.1379397   8.475794\n",
      "    7.276685  ]\n",
      "  [ 1.          7.9664564   2.8859198   0.43307543  2.3865807\n",
      "    5.9412646 ]\n",
      "  [ 0.          0.          0.          0.          0.\n",
      "    0.        ]\n",
      "  ...\n",
      "  [ 0.          0.          0.          0.          0.\n",
      "    0.        ]\n",
      "  [ 0.          0.          0.          0.          0.\n",
      "    0.        ]\n",
      "  [ 0.          0.          0.          0.          0.\n",
      "    0.        ]]\n",
      "\n",
      " [[ 2.          9.974927    4.9645004   5.836109    1.3225031\n",
      "    1.1137915 ]\n",
      "  [ 2.          9.846251    5.084606    2.0820034   7.175162\n",
      "    6.472485  ]\n",
      "  [ 2.          9.832594    2.0888138   2.9154384   5.5903015\n",
      "    1.7534697 ]\n",
      "  ...\n",
      "  [ 0.          0.          0.          0.          0.\n",
      "    0.        ]\n",
      "  [ 0.          0.          0.          0.          0.\n",
      "    0.        ]\n",
      "  [ 0.          0.          0.          0.          0.\n",
      "    0.        ]]\n",
      "\n",
      " [[ 3.          9.186571    2.0888138   2.9154384   5.5903015\n",
      "    1.7534697 ]\n",
      "  [ 3.          8.401493    1.2325013   1.1379397   8.475794\n",
      "    7.276685  ]\n",
      "  [ 3.          7.2506847   4.9645004   5.836109    1.3225031\n",
      "    1.1137915 ]\n",
      "  ...\n",
      "  [ 0.          0.          0.          0.          0.\n",
      "    0.        ]\n",
      "  [ 0.          0.          0.          0.          0.\n",
      "    0.        ]\n",
      "  [ 0.          0.          0.          0.          0.\n",
      "    0.        ]]\n",
      "\n",
      " ...\n",
      "\n",
      " [[18.          9.489593    4.122142    2.629671    1.8441308\n",
      "    4.693781  ]\n",
      "  [18.          7.9214716   2.0888138   2.9154384   5.5903015\n",
      "    1.7534697 ]\n",
      "  [18.          7.512783    4.9645004   5.836109    1.3225031\n",
      "    1.1137915 ]\n",
      "  ...\n",
      "  [ 0.          0.          0.          0.          0.\n",
      "    0.        ]\n",
      "  [ 0.          0.          0.          0.          0.\n",
      "    0.        ]\n",
      "  [ 0.          0.          0.          0.          0.\n",
      "    0.        ]]\n",
      "\n",
      " [[19.          9.077754    9.775341    7.4161873   8.248181\n",
      "    6.4713135 ]\n",
      "  [19.          8.880436    2.0888138   2.9154384   5.5903015\n",
      "    1.7534697 ]\n",
      "  [19.          7.5756035   4.9645004   5.836109    1.3225031\n",
      "    1.1137915 ]\n",
      "  ...\n",
      "  [ 0.          0.          0.          0.          0.\n",
      "    0.        ]\n",
      "  [ 0.          0.          0.          0.          0.\n",
      "    0.        ]\n",
      "  [ 0.          0.          0.          0.          0.\n",
      "    0.        ]]\n",
      "\n",
      " [[20.          9.7775135   9.775341    7.4161873   8.248181\n",
      "    6.4713135 ]\n",
      "  [20.          9.236222    5.084606    2.0820034   7.175162\n",
      "    6.472485  ]\n",
      "  [20.          8.429917    2.467041    3.6928594   0.7664454\n",
      "    1.3392794 ]\n",
      "  ...\n",
      "  [ 0.          0.          0.          0.          0.\n",
      "    0.        ]\n",
      "  [ 0.          0.          0.          0.          0.\n",
      "    0.        ]\n",
      "  [ 0.          0.          0.          0.          0.\n",
      "    0.        ]]] [20 10  6]\n"
     ]
    }
   ],
   "source": [
    "print(sess.run(filtered_single_classes),sess.run(tf.shape(filtered_single_classes)))"
   ]
  }
 ],
 "metadata": {
  "kernelspec": {
   "display_name": "Python 3",
   "language": "python",
   "name": "python3"
  },
  "language_info": {
   "codemirror_mode": {
    "name": "ipython",
    "version": 3
   },
   "file_extension": ".py",
   "mimetype": "text/x-python",
   "name": "python",
   "nbconvert_exporter": "python",
   "pygments_lexer": "ipython3",
   "version": "3.5.2"
  },
  "toc": {
   "base_numbering": 1,
   "nav_menu": {},
   "number_sections": true,
   "sideBar": true,
   "skip_h1_title": false,
   "title_cell": "Table of Contents",
   "title_sidebar": "Contents",
   "toc_cell": false,
   "toc_position": {},
   "toc_section_display": true,
   "toc_window_display": false
  },
  "varInspector": {
   "cols": {
    "lenName": 16,
    "lenType": 16,
    "lenVar": 40
   },
   "kernels_config": {
    "python": {
     "delete_cmd_postfix": "",
     "delete_cmd_prefix": "del ",
     "library": "var_list.py",
     "varRefreshCmd": "print(var_dic_list())"
    },
    "r": {
     "delete_cmd_postfix": ") ",
     "delete_cmd_prefix": "rm(",
     "library": "var_list.r",
     "varRefreshCmd": "cat(var_dic_list()) "
    }
   },
   "types_to_exclude": [
    "module",
    "function",
    "builtin_function_or_method",
    "instance",
    "_Feature"
   ],
   "window_display": false
  }
 },
 "nbformat": 4,
 "nbformat_minor": 2
}
