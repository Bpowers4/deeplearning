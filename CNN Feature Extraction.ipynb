{
 "cells": [
  {
   "cell_type": "markdown",
   "metadata": {},
   "source": [
    "### Load Network and See feature map"
   ]
  },
  {
   "cell_type": "code",
   "execution_count": 7,
   "metadata": {},
   "outputs": [
    {
     "name": "stderr",
     "output_type": "stream",
     "text": [
      "Using TensorFlow backend.\n"
     ]
    }
   ],
   "source": [
    "# from sklearn.preprocessing import MinMaxScaler\n",
    "from sklearn import preprocessing\n",
    "from keras.models import Model, load_model\n",
    "from keras.layers import Convolution2D, MaxPooling2D, Dropout, Flatten, Dense\n",
    "\n",
    "# import metrics\n",
    "\n",
    "from keras.layers import Input, Dense, GRU, Embedding,Lambda\n",
    "from keras.optimizers import RMSprop\n",
    "from keras.callbacks import ModelCheckpoint, TensorBoard\n",
    "from keras import regularizers\n",
    "from keras.utils import to_categorical\n",
    "from keras.callbacks import EarlyStopping\n",
    "from keras.layers.merge import concatenate as concat\n",
    "\n",
    "from keras.models import Sequential\n",
    "from keras.layers import Dense\n",
    "from keras.layers import LSTM\n",
    "\n",
    "from sklearn.metrics import mean_squared_error\n",
    "from keras.layers.core import Dense, Activation, Dropout\n",
    "from tensorflow.python.keras.models import load_model\n",
    "from keras.models import model_from_json\n",
    "\n",
    "from time import time\n",
    "import numpy as np\n",
    "import pandas as pd\n",
    "import keras.backend as K\n",
    "from keras.engine.topology import Layer, InputSpec\n",
    "from keras.optimizers import SGD,Adam\n",
    "from keras import callbacks\n",
    "from keras.initializers import VarianceScaling\n",
    "from sklearn.cluster import KMeans\n",
    "\n",
    "\n"
   ]
  },
  {
   "cell_type": "code",
   "execution_count": 8,
   "metadata": {},
   "outputs": [
    {
     "name": "stdout",
     "output_type": "stream",
     "text": [
      "WARNING:tensorflow:From /home/home9/.virtualenvs/deeplearning/lib/python3.5/site-packages/tensorflow/python/framework/op_def_library.py:263: colocate_with (from tensorflow.python.framework.ops) is deprecated and will be removed in a future version.\n",
      "Instructions for updating:\n",
      "Colocations handled automatically by placer.\n"
     ]
    },
    {
     "name": "stderr",
     "output_type": "stream",
     "text": [
      "/home/home9/.virtualenvs/deeplearning/lib/python3.5/site-packages/ipykernel_launcher.py:2: UserWarning: Update your `Conv2D` call to the Keras 2 API: `Conv2D(24, (5, 5), input_shape=(200, 300,..., strides=(2, 2), activation=\"elu\")`\n",
      "  \n",
      "/home/home9/.virtualenvs/deeplearning/lib/python3.5/site-packages/ipykernel_launcher.py:5: UserWarning: Update your `Conv2D` call to the Keras 2 API: `Conv2D(64, (3, 3), activation=\"elu\")`\n",
      "  \"\"\"\n",
      "/home/home9/.virtualenvs/deeplearning/lib/python3.5/site-packages/ipykernel_launcher.py:15: UserWarning: Update your `Conv2D` call to the Keras 2 API: `Conv2D(128, (3, 3), activation=\"elu\")`\n",
      "  from ipykernel import kernelapp as app\n",
      "/home/home9/.virtualenvs/deeplearning/lib/python3.5/site-packages/ipykernel_launcher.py:17: UserWarning: Update your `Conv2D` call to the Keras 2 API: `Conv2D(128, (3, 3), activation=\"elu\")`\n"
     ]
    },
    {
     "name": "stdout",
     "output_type": "stream",
     "text": [
      "load weight success\n"
     ]
    }
   ],
   "source": [
    "model = Sequential()\n",
    "model.add(Convolution2D(24, 5, 5, subsample=(2, 2), input_shape=(200, 300, 3), activation='elu'))\n",
    "# model.add(Convolution2D(36, 5, 5, subsample=(2, 2), activation='elu'))\n",
    "# model.add(Convolution2D(48, 5, 5, subsample=(2, 2), activation='elu'))\n",
    "model.add(Convolution2D(64, 3, 3, activation='elu'))\n",
    "model.add(MaxPooling2D(pool_size=(2, 2)))\n",
    "\n",
    "'''\n",
    "model.add(Convolution2D(24, 5, 5, subsample=(2, 2), input_shape=(200, 300, 3), activation='elu'))\n",
    "model.add(Convolution2D(36, 5, 5, subsample=(2, 2), activation='elu'))\n",
    "model.add(Convolution2D(48, 5, 5, subsample=(2, 2), activation='elu'))\n",
    "model.add(Convolution2D(64, 3, 3, activation='elu'))\n",
    "'''\n",
    "\n",
    "model.add(Convolution2D(128, 3, 3, activation='elu'))\n",
    "model.add(MaxPooling2D(pool_size=(2, 2)))\n",
    "model.add(Convolution2D(128, 3, 3, activation='elu'))\n",
    "model.add(MaxPooling2D(pool_size=(2, 2)))\n",
    "model.add(MaxPooling2D(pool_size=(2, 2)))\n",
    "#   model.add(Dropout(0.5))\n",
    "\n",
    "\n",
    "model.add(Flatten())\n",
    "\n",
    "model.add(Dense(90, activation = 'elu'))\n",
    "#   model.add(Dropout(0.5))\n",
    "\n",
    "model.add(Dense(60, activation = 'elu'))\n",
    "\n",
    "model.add(Dense(30, activation = 'elu'))\n",
    "#   model.add(Dropout(0.5))\n",
    "\n",
    "model.add(Dense(10, activation = 'elu'))\n",
    "#   model.add(Dropout(0.5))\n",
    "\n",
    "# model.add(Dense(4))\n",
    "\n",
    "model.add(Dense(2,activation='softmax'))\n",
    "\n",
    "\n",
    "\n",
    "filepath='./CNNModel/cnnmodel.h5'\n",
    "try:\n",
    "    model.load_weights(filepath)\n",
    "    print(\"load weight success\")\n",
    "except:\n",
    "    print(\"load weight failed\")\n",
    "    pass\n",
    "\n",
    "optimizer = Adam(lr=1e-4)\n",
    "model.compile(optimizer=optimizer, loss='categorical_crossentropy',metrics=['categorical_accuracy'])\n"
   ]
  },
  {
   "cell_type": "code",
   "execution_count": null,
   "metadata": {},
   "outputs": [],
   "source": [
    "# try:\n",
    "#     model = load_model('./CNNModel/cnnmodel.h5')\n",
    "# except:\n",
    "#     pass\n",
    "# model.summary()"
   ]
  },
  {
   "cell_type": "code",
   "execution_count": 15,
   "metadata": {},
   "outputs": [],
   "source": [
    "%matplotlib inline\n",
    "import gzip \n",
    "count = 0\n",
    "try:\n",
    "    np_data = []\n",
    "    with gzip.open( './data/KS11/test_pic.npy.gz', 'r') as infile:\n",
    "        while True:\n",
    "            try:\n",
    "                np_data.append(np.load(infile))\n",
    "#                 plt.imshow(np_data_list[-1])\n",
    "#                 plt.show()\n",
    "#                 if count > 100:\n",
    "#                     break\n",
    "                count += 1\n",
    "            except:\n",
    "                break \n",
    "    np_data = np.array(np_data)  \n",
    "except Exception as e:\n",
    "    print(e)\n",
    "    "
   ]
  },
  {
   "cell_type": "code",
   "execution_count": 16,
   "metadata": {},
   "outputs": [],
   "source": [
    "np_data = np_data/255\n"
   ]
  },
  {
   "cell_type": "code",
   "execution_count": 17,
   "metadata": {},
   "outputs": [
    {
     "data": {
      "text/plain": [
       "<matplotlib.image.AxesImage at 0x7f23d04f64e0>"
      ]
     },
     "execution_count": 17,
     "metadata": {},
     "output_type": "execute_result"
    },
    {
     "data": {
      "image/png": "[encoded data removed]",
      "text/plain": [
       "<Figure size 432x288 with 1 Axes>"
      ]
     },
     "metadata": {
      "needs_background": "light"
     },
     "output_type": "display_data"
    }
   ],
   "source": [
    "%matplotlib inline\n",
    "\n",
    "import matplotlib.pyplot as plt \n",
    "# plt.imshow(np_data[0])\n",
    "# tmpnp = np_data[100]\n",
    "# tmpnp = tmpnp/255\n",
    "plt.imshow(np_data[0])\n",
    "# plt.show()\n",
    "# plt.savefig('./temp.png')"
   ]
  },
  {
   "cell_type": "code",
   "execution_count": 18,
   "metadata": {},
   "outputs": [
    {
     "name": "stdout",
     "output_type": "stream",
     "text": [
      "(245, 2)\n"
     ]
    }
   ],
   "source": [
    "_input = np_data\n",
    "y_pred = model.predict(_input)\n",
    "print(y_pred.shape)\n",
    "cls_pred = np.argmax(y_pred, axis=1)\n",
    "# cls_pred"
   ]
  },
  {
   "cell_type": "code",
   "execution_count": 23,
   "metadata": {},
   "outputs": [
    {
     "name": "stderr",
     "output_type": "stream",
     "text": [
      "/home/home9/.virtualenvs/deeplearning/lib/python3.5/site-packages/sklearn/preprocessing/_encoders.py:414: FutureWarning: The handling of integer data will change in version 0.22. Currently, the categories are determined based on the range [0, max(values)], while in the future they will be determined based on the unique values.\n",
      "If you want the future behaviour and silence this warning, you can specify \"categories='auto'\".\n",
      "In case you used a LabelEncoder before this OneHotEncoder to convert the categories to integers, then you can now use the OneHotEncoder directly.\n",
      "  warnings.warn(msg, FutureWarning)\n"
     ]
    },
    {
     "data": {
      "text/plain": [
       "(245, 2)"
      ]
     },
     "execution_count": 23,
     "metadata": {},
     "output_type": "execute_result"
    }
   ],
   "source": [
    "from sklearn.preprocessing import OneHotEncoder\n",
    "\n",
    "one_hot = OneHotEncoder() # one hot encode the target classes\n",
    "\n",
    "df_test = pd.read_pickle('./data/KS11/df_test.pkl')\n",
    "               \n",
    "# print(\"df_train {}\".format(df_train.shape))\n",
    "\n",
    "df_test['id'] = 0\n",
    "df_test.loc[(df_test['signal_5ma'] == 9) , ['id']] = 1\n",
    "df_test.loc[(df_test['signal_5ma'] == 8) , ['id']] = 1\n",
    "df_test.loc[(df_test['signal_5ma'] == -9) , ['id']] = 0\n",
    "df_test.loc[(df_test['signal_5ma'] == 0) , ['id']] = 0\n",
    "\n",
    "_valin = df_test['id'].values\n",
    "\n",
    "\n",
    "np_target = one_hot.fit_transform(np.reshape(_valin, (-1,1)) ).toarray()\n",
    "np_target.shape"
   ]
  },
  {
   "cell_type": "code",
   "execution_count": 24,
   "metadata": {},
   "outputs": [
    {
     "data": {
      "text/plain": [
       "0.5387755102040817"
      ]
     },
     "execution_count": 24,
     "metadata": {},
     "output_type": "execute_result"
    }
   ],
   "source": [
    "res = (cls_pred == _valin)\n",
    "correct_num = np.where(res == True)\n",
    "\n",
    "success_rate = correct_num[0].shape[0]/cls_pred.shape[0]\n",
    "success_rate\n",
    "\n"
   ]
  },
  {
   "cell_type": "code",
   "execution_count": 47,
   "metadata": {},
   "outputs": [
    {
     "name": "stdout",
     "output_type": "stream",
     "text": [
      "784/784 [==============================] - 7s 9ms/step\n"
     ]
    }
   ],
   "source": [
    "_evalresult = model.evaluate(x=np_data,y=np_target)"
   ]
  },
  {
   "cell_type": "code",
   "execution_count": 52,
   "metadata": {},
   "outputs": [
    {
     "data": {
      "text/plain": [
       "5.786425656674605"
      ]
     },
     "execution_count": 52,
     "metadata": {},
     "output_type": "execute_result"
    }
   ],
   "source": [
    "_evalresult"
   ]
  },
  {
   "cell_type": "markdown",
   "metadata": {},
   "source": [
    "### Visualize weights layers"
   ]
  },
  {
   "cell_type": "code",
   "execution_count": 10,
   "metadata": {},
   "outputs": [],
   "source": [
    "import math \n",
    "\n",
    "def plot_conv_weights(weights, input_channel=0):\n",
    "    # Get the lowest and highest values for the weights.\n",
    "    # This is used to correct the colour intensity across\n",
    "    # the images so they can be compared with each other.\n",
    "    w_min = np.min(weights)\n",
    "    w_max = np.max(weights)\n",
    "\n",
    "    # Number of filters used in the conv. layer.\n",
    "    num_filters = weights.shape[3]\n",
    "\n",
    "    # Number of grids to plot.\n",
    "    # Rounded-up, square-root of the number of filters.\n",
    "    num_grids = math.ceil(math.sqrt(num_filters))\n",
    "    \n",
    "    # Create figure with a grid of sub-plots.\n",
    "    fig, axes = plt.subplots(num_grids, num_grids)\n",
    "\n",
    "    # Plot all the filter-weights.\n",
    "    for i, ax in enumerate(axes.flat):\n",
    "        # Only plot the valid filter-weights.\n",
    "        if i<num_filters:\n",
    "            # Get the weights for the i'th filter of the input channel.\n",
    "            # See new_conv_layer() for details on the format\n",
    "            # of this 4-dim tensor.\n",
    "            img = weights[:, :, input_channel, i]\n",
    "\n",
    "            # Plot image.\n",
    "            ax.imshow(img, vmin=w_min, vmax=w_max,\n",
    "                      interpolation='nearest', cmap='seismic')\n",
    "        \n",
    "        # Remove ticks from the plot.\n",
    "        ax.set_xticks([])\n",
    "        ax.set_yticks([])\n",
    "    \n",
    "    # Ensure the plot is shown correctly with multiple plots\n",
    "    # in a single Notebook cell.\n",
    "    plt.show()"
   ]
  },
  {
   "cell_type": "code",
   "execution_count": 11,
   "metadata": {},
   "outputs": [
    {
     "name": "stdout",
     "output_type": "stream",
     "text": [
      "_________________________________________________________________\n",
      "Layer (type)                 Output Shape              Param #   \n",
      "=================================================================\n",
      "conv2d_1 (Conv2D)            (None, 98, 148, 24)       1824      \n",
      "_________________________________________________________________\n",
      "conv2d_2 (Conv2D)            (None, 96, 146, 64)       13888     \n",
      "_________________________________________________________________\n",
      "max_pooling2d_1 (MaxPooling2 (None, 48, 73, 64)        0         \n",
      "_________________________________________________________________\n",
      "conv2d_3 (Conv2D)            (None, 46, 71, 128)       73856     \n",
      "_________________________________________________________________\n",
      "max_pooling2d_2 (MaxPooling2 (None, 23, 35, 128)       0         \n",
      "_________________________________________________________________\n",
      "conv2d_4 (Conv2D)            (None, 21, 33, 128)       147584    \n",
      "_________________________________________________________________\n",
      "max_pooling2d_3 (MaxPooling2 (None, 10, 16, 128)       0         \n",
      "_________________________________________________________________\n",
      "max_pooling2d_4 (MaxPooling2 (None, 5, 8, 128)         0         \n",
      "_________________________________________________________________\n",
      "flatten_1 (Flatten)          (None, 5120)              0         \n",
      "_________________________________________________________________\n",
      "dense_1 (Dense)              (None, 90)                460890    \n",
      "_________________________________________________________________\n",
      "dense_2 (Dense)              (None, 60)                5460      \n",
      "_________________________________________________________________\n",
      "dense_3 (Dense)              (None, 30)                1830      \n",
      "_________________________________________________________________\n",
      "dense_4 (Dense)              (None, 10)                310       \n",
      "_________________________________________________________________\n",
      "dense_5 (Dense)              (None, 2)                 22        \n",
      "=================================================================\n",
      "Total params: 705,664\n",
      "Trainable params: 705,664\n",
      "Non-trainable params: 0\n",
      "_________________________________________________________________\n"
     ]
    }
   ],
   "source": [
    "model.summary()"
   ]
  },
  {
   "cell_type": "code",
   "execution_count": 44,
   "metadata": {},
   "outputs": [
    {
     "data": {
      "text/plain": [
       "<keras.layers.core.Dense at 0x7f4596615c88>"
      ]
     },
     "execution_count": 44,
     "metadata": {},
     "output_type": "execute_result"
    }
   ],
   "source": [
    "layer_conv1 = model.layers[10]\n",
    "layer_conv1"
   ]
  },
  {
   "cell_type": "code",
   "execution_count": 45,
   "metadata": {},
   "outputs": [
    {
     "data": {
      "text/plain": [
       "(60, 30)"
      ]
     },
     "execution_count": 45,
     "metadata": {},
     "output_type": "execute_result"
    }
   ],
   "source": [
    "weights_conv1 = layer_conv1.get_weights()[0]\n",
    "weights_conv1.shape"
   ]
  },
  {
   "cell_type": "code",
   "execution_count": 34,
   "metadata": {},
   "outputs": [
    {
     "data": {
      "image/png": "[encoded data removed]",
      "text/plain": [
       "<Figure size 432x288 with 25 Axes>"
      ]
     },
     "metadata": {},
     "output_type": "display_data"
    }
   ],
   "source": [
    "plot_conv_weights(weights=weights_conv1, input_channel=1)"
   ]
  },
  {
   "cell_type": "markdown",
   "metadata": {},
   "source": [
    "### get layer output"
   ]
  },
  {
   "cell_type": "code",
   "execution_count": 14,
   "metadata": {},
   "outputs": [],
   "source": [
    "layer_name = 'dense_4'\n",
    "intermediate_layer_model = Model(inputs=model.input,\n",
    "                                 outputs=model.get_layer(layer_name).output)\n",
    "intermediate_output = intermediate_layer_model.predict(np_data)"
   ]
  },
  {
   "cell_type": "code",
   "execution_count": 15,
   "metadata": {},
   "outputs": [
    {
     "name": "stdout",
     "output_type": "stream",
     "text": [
      "(245, 10)\n"
     ]
    },
    {
     "data": {
      "text/plain": [
       "array([-0.22774929,  0.59358585,  0.5918297 ,  0.6881008 , -0.24005187,\n",
       "       -0.5853784 , -0.3865024 , -0.09876883,  0.151473  , -0.43833733],\n",
       "      dtype=float32)"
      ]
     },
     "execution_count": 15,
     "metadata": {},
     "output_type": "execute_result"
    }
   ],
   "source": [
    "print(intermediate_output.shape)\n",
    "intermediate_output[0]"
   ]
  },
  {
   "cell_type": "markdown",
   "metadata": {},
   "source": [
    "### Keras softmax classification "
   ]
  },
  {
   "cell_type": "code",
   "execution_count": null,
   "metadata": {},
   "outputs": [],
   "source": [
    "import numpy as np\n",
    "from sklearn.datasets import load_wine\n",
    "from sklearn.preprocessing import MinMaxScaler, OneHotEncoder\n",
    "from keras.layers import Dense, Input, concatenate, Dropout\n",
    "from keras.models import Model\n",
    "from keras.optimizers import rmsprop\n",
    "\n",
    "dataset = load_wine()\n",
    "\n",
    "ensemble_num = 10 # number of sub-networks\n",
    "bootstrap_size = 0.8 # 80% size of original (training) dataset\n",
    "training_size = 0.8 # 80% for training, 20% for test\n",
    "\n",
    "num_hidden_neurons = 10 # number of neurons in hidden layer\n",
    "dropout = 0.25 # percentage of weights dropped out before softmax output (this prevents overfitting)\n",
    "\n",
    "epochs = 200 # number of epochs (complete training episodes over the training set) to run\n",
    "batch = 10 # mini batch size for better convergence\n",
    "\n",
    "# get the holdout training and test set\n",
    "temp = []\n",
    "scaler = MinMaxScaler()\n",
    "one_hot = OneHotEncoder() # one hot encode the target classes\n",
    "dataset['data'] = scaler.fit_transform(dataset['data'])\n",
    "dataset['target'] = one_hot.fit_transform(np.reshape(dataset['target'], (-1,1)) ).toarray()\n",
    "for i in range(len(dataset.data)):\n",
    "    temp.append([dataset['data'][i], np.array(dataset['target'][i])])\n",
    "\n",
    "# shuffle the row of data and targets\n",
    "temp = np.array(temp)\n",
    "np.random.shuffle(temp)\n",
    "# holdout training and test stop index\n",
    "stop = int(training_size*len(dataset.data))\n",
    "\n",
    "train_X = np.array([x for x in temp[:stop,0]])\n",
    "train_Y = np.array([x for x in temp[:stop,1]])\n",
    "test_X = np.array([x for x in temp[stop:,0]])\n",
    "test_Y = np.array([x for x in temp[stop:,1]])\n",
    "\n",
    "# now build the ensemble neural network\n",
    "# first, let's build the individual sub-networks, each\n",
    "# as a Keras functional model.\n",
    "sub_net_outputs = []\n",
    "sub_net_inputs = []\n",
    "for i in range(ensemble_num):\n",
    "    # two hidden layers to keep it simple\n",
    "    # specify input shape to the shape of the training set\n",
    "    net_input = Input(shape = (train_X.shape[1],))\n",
    "    sub_net_inputs.append(net_input)\n",
    "    y = Dense(num_hidden_neurons)(net_input)\n",
    "    y = Dense(num_hidden_neurons)(y)\n",
    "    y = Dropout(dropout)(y)\n",
    "    sub_net_outputs.append(y) # sub_nets contains the output tensors\n",
    "\n",
    "# now concatenate the output tensors\n",
    "y = concatenate(sub_net_outputs)\n",
    "\n",
    "# final softmax output layer\n",
    "y = Dense(train_Y[0].shape[0], activation='softmax')(y)\n",
    "\n",
    "# now build the whole funtional model\n",
    "model = Model(inputs=sub_net_inputs, outputs=y)\n",
    "model.compile(optimizer='rmsprop', loss='categorical_crossentropy')\n",
    "\n",
    "print(\"Begin training...\")\n",
    "\n",
    "# train the model\n",
    "model.fit( [train_X] * ensemble_num, train_Y,validation_data=[ [test_X] * ensemble_num, test_Y],\n",
    "          epochs=epochs, batch_size=batch)"
   ]
  },
  {
   "cell_type": "code",
   "execution_count": null,
   "metadata": {},
   "outputs": [],
   "source": [
    "from keras.preprocessing.image import ImageDataGenerator\n",
    "width, height, channels = trainX.shape[1], trainX.shape[2], 1\n",
    "trainX = trainX.reshape((trainX.shape[0], width, height, channels))\n",
    "testX = testX.reshape((testX.shape[0], width, height, channels))\n",
    "# one hot encode target values\n",
    "trainY = to_categorical(trainY)\n",
    "testY = to_categorical(testY)\n",
    "\n",
    "datagen = ImageDataGenerator(rescale=1.0/255.0)\n",
    "# prepare an iterators to scale images\n",
    "train_iterator = datagen.flow(trainX, trainY, batch_size=64)\n",
    "print(train_iterator)\n",
    "test_iterator = datagen.flow(testX, testY, batch_size=64)\n",
    "print('Batches train=%d, test=%d' % (len(train_iterator), len(test_iterator)))\n",
    "# confirm the scaling works\n",
    "batchX, batchy = train_iterator.next()\n"
   ]
  }
 ],
 "metadata": {
  "kernelspec": {
   "display_name": "Python 3",
   "language": "python",
   "name": "python3"
  },
  "language_info": {
   "codemirror_mode": {
    "name": "ipython",
    "version": 3
   },
   "file_extension": ".py",
   "mimetype": "text/x-python",
   "name": "python",
   "nbconvert_exporter": "python",
   "pygments_lexer": "ipython3",
   "version": "3.5.2"
  },
  "toc": {
   "base_numbering": 1,
   "nav_menu": {},
   "number_sections": true,
   "sideBar": true,
   "skip_h1_title": false,
   "title_cell": "Table of Contents",
   "title_sidebar": "Contents",
   "toc_cell": false,
   "toc_position": {},
   "toc_section_display": true,
   "toc_window_display": false
  },
  "varInspector": {
   "cols": {
    "lenName": 16,
    "lenType": 16,
    "lenVar": 40
   },
   "kernels_config": {
    "python": {
     "delete_cmd_postfix": "",
     "delete_cmd_prefix": "del ",
     "library": "var_list.py",
     "varRefreshCmd": "print(var_dic_list())"
    },
    "r": {
     "delete_cmd_postfix": ") ",
     "delete_cmd_prefix": "rm(",
     "library": "var_list.r",
     "varRefreshCmd": "cat(var_dic_list()) "
    }
   },
   "types_to_exclude": [
    "module",
    "function",
    "builtin_function_or_method",
    "instance",
    "_Feature"
   ],
   "window_display": false
  }
 },
 "nbformat": 4,
 "nbformat_minor": 2
}
