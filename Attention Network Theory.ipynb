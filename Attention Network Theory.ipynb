{
 "cells": [
  {
   "cell_type": "markdown",
   "metadata": {},
   "source": [
    "### Attention Intro\n",
    "- we know that LSTM and GRU can learn long-term dependencies but how long?\n",
    "- Doing a maxpool over RNN states is like doing a maxpool over CNN features\n",
    "- it's essentially saying pick the most important feature\n",
    "- By taking the last RNN state, we hope the RNN has both found the relevant feature and remembered it all the way to the end\n"
   ]
  },
  {
   "cell_type": "markdown",
   "metadata": {},
   "source": [
    "### Attention\n",
    "- Encoder is now bidirectional LSTM (output shape = Tx X 2M)"
   ]
  },
  {
   "cell_type": "markdown",
   "metadata": {},
   "source": [
    "### Attention vs Regular Seq2Seq\n",
    "![](https://talbaumel.github.io/blog/attention/img/att.jpg)"
   ]
  },
  {
   "cell_type": "markdown",
   "metadata": {},
   "source": [
    "![](https://3qeqpr26caki16dnhd19sv6by6v-wpengine.netdna-ssl.com/wp-content/uploads/2017/08/Feeding-Hidden-State-as-Input-to-Decoder.png)"
   ]
  },
  {
   "cell_type": "markdown",
   "metadata": {},
   "source": [
    "- Seq2Seq is side by side network \n",
    "- encoder generates the h(Tx) to input of the decoder's state\n",
    "\n",
    "- Attention is different, encoder throws out the output (h(1),h(2),...h(Tx)) as the input of Attention network"
   ]
  },
  {
   "cell_type": "markdown",
   "metadata": {},
   "source": [
    "### Attention Architecture\n",
    "![](https://lilianweng.github.io/lil-log/assets/images/encoder-decoder-attention.png)"
   ]
  },
  {
   "cell_type": "markdown",
   "metadata": {},
   "source": [
    "\\begin{equation*}\n",
    "context = \\sum_{t'=1}^{T_x} \\alpha(t') h(t') \n",
    "\\end{equation*}\n"
   ]
  },
  {
   "cell_type": "markdown",
   "metadata": {},
   "source": [
    "- Encoder: Bidirectionan RNN\n",
    "- Decoder: General LSTM\n",
    "- How do we calculate the $\\alpha$\n"
   ]
  },
  {
   "cell_type": "markdown",
   "metadata": {},
   "source": [
    "- t is for the output sequence(t = 1 ... $T_y$)\n",
    "- $t'$ is for the input sequence($t' = 1,...,T_x)$\n",
    "- For a signle step of the output(t) I need to look over all of the h(s) ($t'= 1...,T_x)$\n"
   ]
  },
  {
   "cell_type": "markdown",
   "metadata": {},
   "source": [
    "\\begin{equation*}\n",
    "\\alpha_{t'} =  NeuralNet([S_{t-1},h_{t'}]),t' = 1,...,T_x\n",
    "\\end{equation*}\n"
   ]
  },
  {
   "cell_type": "markdown",
   "metadata": {},
   "source": [
    "- input vector is concatenation of s(t-1) and $h(t')$ why?\n",
    "- Where I pay attention depends on not just the hidden states, but where I am in the output"
   ]
  },
  {
   "cell_type": "markdown",
   "metadata": {},
   "source": [
    "### Calculating attention weights\n",
    "- z = concat[ s(t-1),$h(t')$] \n",
    "- z = $tanh(W_1 z + b_1)$ # layer 1 of ANN\n",
    "- z = softmax($W_2 z + b_2)$ # layer 2 of ANN\n",
    "- Alphas must sum to 1 over time\n",
    "$\\sum_{t'=1}^{T_x} \\alpha(t') = 1 $\n",
    "- we use this special softmax over time\n",
    "\\begin{equation*}\n",
    "\\alpha(t') = \\frac{exp(out(t'))}{\\sum_{\\tau=1}^{T_x} exp(out(\\tau))}\n",
    "\\end{equation*}\n"
   ]
  },
  {
   "cell_type": "markdown",
   "metadata": {},
   "source": [
    "- out(1) = NeuralNet([s(t-1),h(1)])\n",
    "- out(2) = NeuralNet([s(t-1),h(2)])\n",
    "...\n",
    "- out($T_x$) = NeuralNet([s(t-1),h($T_x$)])\n",
    "- $\\alpha = softmax(out)$"
   ]
  },
  {
   "cell_type": "markdown",
   "metadata": {},
   "source": [
    "### Pseudocode\n",
    "- h = encoder(input)\n",
    "- s = 0\n",
    "- for t in range($T_y$):  \n",
    "      alphas = neural_net(s,h)  \n",
    "      context = dot(alphas,h)  \n",
    "      o,s = decoder_lstm(context,initial_state =s )  \n",
    "      output_prediction = dense(o)  \n"
   ]
  },
  {
   "cell_type": "markdown",
   "metadata": {},
   "source": [
    "\\begin{array}{}\n",
    "s(t-1) & \\ra{} & Decoder & \\ra{} & s(t)\\\\\n",
    "& &\\uparrow{context\\ vector}& & \\\\\n",
    "\\end{array}\n"
   ]
  },
  {
   "cell_type": "markdown",
   "metadata": {},
   "source": [
    "### Teacher Forcing\n",
    "\n",
    "- Training: input(t) = [context(t),target(t-1)]\n",
    "- Prediction: input(t) = [context(t),y(t-1)]\n",
    "\n",
    "\\begin{array}{}\n",
    "s(t-1) & \\ra{} & Decoder & \\ra{} & s(t)\\\\\n",
    "& & \\uparrow{}  & &\\\\\n",
    "& & concat  & &\\\\\n",
    "& &context\\uparrow{} \\uparrow{y(t-1)}& & \\\\\n",
    "\\end{array}\n"
   ]
  },
  {
   "cell_type": "markdown",
   "metadata": {},
   "source": [
    "### Structure\n",
    "- Regular decoder\n",
    "    - x = LSTM(M,return_sequence= True)(x)\n",
    "    - y = Dense(V)(x) \n",
    "- __Attenstion__\n",
    "    - for each output step 1 ... Ty  \n",
    "          alphas = attention(s,h) # already runs Tx times  \n",
    "          context = alphas.dot(h)\n",
    "          output,s = lstm(context)\n",
    "- Key: s changes at each iteration, so it can't all be calculated at once"
   ]
  },
  {
   "cell_type": "markdown",
   "metadata": {},
   "source": [
    "### Encoder\n",
    "- LSTM has latent dimension = $M_1$\n",
    "- shape of h($t'$) = 2$M_1$\n",
    "- shape of sequence of h's = ($T_x,2M_1)$  \n",
    "\n",
    "\\begin{array}{}\n",
    "h(1) &  & h(2) & & h(t') & & h(T_x) \\\\\n",
    "\\uparrow{} & & \\uparrow{} & & \\uparrow{} & & \\uparrow{} \\\\\n",
    "\\fbox{LSTM} & \\leftarrow{} & \\fbox{LSTM}&\\leftarrow{} & \\fbox{LSTM} &\\leftarrow{} & \\fbox{LSTM} \\\\ \n",
    "\\fbox{LSTM} & \\rightarrow{} & \\fbox{LSTM}& \\rightarrow{} & \\fbox{LSTM} & \\rightarrow{} & \\fbox{LSTM} \\\\ \n",
    "\\uparrow{} & & \\uparrow{} & & \\uparrow{} & & \\uparrow{} \\\\\n",
    "x(1) &  & x(2) & & x(t') & & x(T_x) \\\\\n",
    "\\end{array}\n",
    "\n"
   ]
  },
  {
   "cell_type": "markdown",
   "metadata": {},
   "source": [
    "### Decoder\n",
    "- encoder:$h(t') = 2M_1$\n",
    "- decoder concat: $[s(t-1),h(t')]$ = $M_2 + 2M_1$"
   ]
  },
  {
   "cell_type": "markdown",
   "metadata": {},
   "source": [
    "- $\\alpha(t') shape = 1$"
   ]
  },
  {
   "cell_type": "markdown",
   "metadata": {},
   "source": [
    "- $\\alpha$ will actually have the shape:($N, T_x',1)$"
   ]
  },
  {
   "cell_type": "markdown",
   "metadata": {},
   "source": [
    "- Keras 2.1.5 allows you to pass in axis = 1 into softmax"
   ]
  },
  {
   "cell_type": "markdown",
   "metadata": {},
   "source": [
    "### Keeping track of shapes\n",
    "- $(T_x',1) (T_x',2M_1) -> (1, 2M_1)$\n",
    "- $\\alpha * h = \\sum_{t'}^{T_x} \\alpha(t')h(t')$"
   ]
  },
  {
   "cell_type": "markdown",
   "metadata": {},
   "source": [
    "- h = encoder(input)\n",
    "- s = 0, c = 0\n",
    "- outputs = []\n",
    "- for t in range($T_y$):\n",
    "        context = do_attention(s,h) # s(t-1),h(1)... $h(T_x)$\n",
    "        o,s,c = decoder_lstm(context,init= [s,c])\n",
    "        probabilities = final_dense(o)\n",
    "        ouputs.append(probabilities)\n",
    "- model = Model(input,outputs)       "
   ]
  },
  {
   "cell_type": "markdown",
   "metadata": {},
   "source": []
  }
 ],
 "metadata": {
  "kernelspec": {
   "display_name": "Python 3",
   "language": "python",
   "name": "python3"
  },
  "language_info": {
   "codemirror_mode": {
    "name": "ipython",
    "version": 3
   },
   "file_extension": ".py",
   "mimetype": "text/x-python",
   "name": "python",
   "nbconvert_exporter": "python",
   "pygments_lexer": "ipython3",
   "version": "3.5.2"
  },
  "toc": {
   "base_numbering": 1,
   "nav_menu": {},
   "number_sections": true,
   "sideBar": true,
   "skip_h1_title": false,
   "title_cell": "Table of Contents",
   "title_sidebar": "Contents",
   "toc_cell": false,
   "toc_position": {},
   "toc_section_display": true,
   "toc_window_display": false
  },
  "varInspector": {
   "cols": {
    "lenName": 16,
    "lenType": 16,
    "lenVar": 40
   },
   "kernels_config": {
    "python": {
     "delete_cmd_postfix": "",
     "delete_cmd_prefix": "del ",
     "library": "var_list.py",
     "varRefreshCmd": "print(var_dic_list())"
    },
    "r": {
     "delete_cmd_postfix": ") ",
     "delete_cmd_prefix": "rm(",
     "library": "var_list.r",
     "varRefreshCmd": "cat(var_dic_list()) "
    }
   },
   "types_to_exclude": [
    "module",
    "function",
    "builtin_function_or_method",
    "instance",
    "_Feature"
   ],
   "window_display": false
  }
 },
 "nbformat": 4,
 "nbformat_minor": 2
}
