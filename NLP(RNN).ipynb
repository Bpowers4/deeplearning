{
 "cells": [
  {
   "cell_type": "markdown",
   "metadata": {},
   "source": [
    "### GRU\n",
    "- Gates allow you to remember or forget values \n",
    "![](https://camo.githubusercontent.com/95a102b5d99519445225116914b2cb76f4c75df9/68747470733a2f2f696d6167652e736c696465736861726563646e2e636f6d2f6e6c70646c3036666f72736c6964657368617265656e6768656c7665746963612d3136303730363032323732332f39352f726563656e742d70726f67726573732d696e2d726e6e2d616e642d6e6c702d352d3633382e6a70673f63623d31343637383433363034)"
   ]
  },
  {
   "cell_type": "markdown",
   "metadata": {},
   "source": [
    "#### GRU\n",
    "\\begin{equation*}\n",
    "z_t = Update\\ gate \\\\ \n",
    "r_t = reset\\ gate  \\\\\n",
    "\\hat{h}_t =  Candidate\\ state\\\\\n",
    "h_t = Next\\ State\\\\\n",
    "\\end{equation*}\n"
   ]
  },
  {
   "cell_type": "markdown",
   "metadata": {},
   "source": [
    "#### LSTM\n",
    "\\begin{equation*}\n",
    "Forget\\ gate = f_t \\\\ \n",
    "Input\\ gate= i_t  \\\\\n",
    "Output\\ gate = O_t \\\\\n",
    "Candidate\\ cell = \\hat{c}_t \\\\\n",
    "Cell\\ state = c_t\\\\\n",
    "Hiddel\\ state = h_t\n",
    "\\end{equation*}\n"
   ]
  },
  {
   "cell_type": "markdown",
   "metadata": {},
   "source": [
    "### In Keras\n",
    "- Normally, a layer outputs one thing\n",
    "  - output = Dense(128)(input)\n",
    "- For recurrent units, we can return hidden state as well( pass in return_state = True)\n",
    "- output,h = GRU(128,return_state=True)(input)\n",
    "- output,h = LSTM(128,return_state = True)(input)\n",
    "\n",
    "- output,h ,c = LSTM(128, return_state=True,return_sequence=True)(input)\n",
    "__output is a sequence but h,c is not a sequence__"
   ]
  },
  {
   "cell_type": "markdown",
   "metadata": {},
   "source": [
    "### RNN Input\n",
    "- T x D\n",
    "- T = sequence length, D= input dimensionality\n",
    "- \"The quick brown fox jumps\"\n",
    "- if we have 5 words and my word vectors are of size 50, then the input to my LSTM or GRU will be of size 5 x 50\n",
    "\n",
    "### RNN Input Example\n",
    "- For example, suppose we measure the temperature at 10 different weather stations every hour for one day\n",
    "- then D = 10, T = 24\n",
    "- RNN input size is 24 x 10"
   ]
  },
  {
   "cell_type": "markdown",
   "metadata": {},
   "source": [
    "### Spam Classification\n",
    "- given some input x(1),...,x(100), I get some output y(1),...,y(100)\n",
    "- we only have one question: Is this email spam or not?\n",
    "    - The answer is either \"yes\" or \"no\"\n",
    "- It makes sense to take y(100) as my answer, since only y(100) has seen the entire email\n",
    "- __In Keras, just set return_sequence= False, automatically returns last output y(100)__"
   ]
  },
  {
   "cell_type": "markdown",
   "metadata": {},
   "source": [
    "### Fancy method\n",
    "\n",
    "\\begin{equation*}\n",
    "h^* = global\\ max\\ pool\\ {h(t)}\\\\\n",
    "\\end{equation*}\n"
   ]
  },
  {
   "cell_type": "markdown",
   "metadata": {},
   "source": [
    "### Categories of Tasks\n",
    "![](https://cn.bing.com/th?id=OIP.RsRIEyJyfgvisdW363CbDwHaCU&pid=Api&rs=1&p=0)"
   ]
  },
  {
   "cell_type": "markdown",
   "metadata": {},
   "source": [
    "- one to one : FeedForward\n",
    "- one to many: Poetry generation\n",
    "- many to one : Spam classification, Sentiment Analysis\n",
    "- meny to many : Machine Translation, Chatbots, Questions Answering\n",
    "- many to many 2 : Parts of speech named entity"
   ]
  },
  {
   "cell_type": "markdown",
   "metadata": {},
   "source": [
    "### Code"
   ]
  },
  {
   "cell_type": "code",
   "execution_count": 1,
   "metadata": {},
   "outputs": [
    {
     "name": "stderr",
     "output_type": "stream",
     "text": [
      "Using TensorFlow backend.\n"
     ]
    }
   ],
   "source": [
    "from keras.models import Model\n",
    "from keras.layers import Input, LSTM, GRU\n",
    "import numpy as np\n",
    "import matplotlib.pyplot as plt\n",
    "\n",
    "import keras.backend as K\n",
    "if len(K.tensorflow_backend._get_available_gpus()) > 0:\n",
    "    from keras.layers import CuDNNLSTM as LSTM\n",
    "    from keras.layers import CuDNNGRU as GRU\n"
   ]
  },
  {
   "cell_type": "code",
   "execution_count": 2,
   "metadata": {},
   "outputs": [],
   "source": [
    "T = 8\n",
    "D = 2\n",
    "M = 3\n"
   ]
  },
  {
   "cell_type": "code",
   "execution_count": 4,
   "metadata": {},
   "outputs": [
    {
     "data": {
      "text/plain": [
       "(1, 8, 2)"
      ]
     },
     "execution_count": 4,
     "metadata": {},
     "output_type": "execute_result"
    }
   ],
   "source": [
    "X = np.random.randn(1, T, D)\n",
    "X.shape"
   ]
  },
  {
   "cell_type": "code",
   "execution_count": 6,
   "metadata": {},
   "outputs": [
    {
     "name": "stdout",
     "output_type": "stream",
     "text": [
      "lstm1:\n",
      "o:[[-0.26979086  0.343693    0.21850814]] (1, 3)\n",
      "h: [[-0.26979086  0.343693    0.21850814]]\n",
      "c: [[-0.6403028  0.7597804  0.5214866]]\n"
     ]
    }
   ],
   "source": [
    "def lstm1():\n",
    "    input_ = Input(shape=(T, D))\n",
    "    rnn = LSTM(M, return_state=True)\n",
    "    x = rnn(input_)\n",
    "\n",
    "    model = Model(inputs=input_, outputs=x)\n",
    "    o, h, c = model.predict(X)\n",
    "    print(\"o:{} {}\".format(o,o.shape))\n",
    "    print(\"h:\", h)\n",
    "    print(\"c:\", c)\n",
    "\n",
    "print(\"lstm1:\")\n",
    "lstm1()\n",
    "    \n"
   ]
  },
  {
   "cell_type": "code",
   "execution_count": 7,
   "metadata": {},
   "outputs": [
    {
     "name": "stdout",
     "output_type": "stream",
     "text": [
      "lstm2:\n",
      "o: [[[-0.05568678 -0.09679367 -0.09874348]\n",
      "  [-0.18587263 -0.04110741 -0.02611397]\n",
      "  [-0.35044768  0.01810769  0.07335648]\n",
      "  [-0.36604235  0.07233787  0.10123552]\n",
      "  [-0.3669878   0.14892781  0.28963414]\n",
      "  [-0.1463219   0.06596465  0.07457601]\n",
      "  [-0.15173775 -0.14319791 -0.08914054]\n",
      "  [-0.2898902  -0.06707459 -0.03496142]]]\n",
      "h: [[-0.2898902  -0.06707459 -0.03496142]]\n",
      "c: [[-0.64311373 -0.13506934 -0.05812597]]\n"
     ]
    }
   ],
   "source": [
    "def lstm2():\n",
    "    input_ = Input(shape=(T, D))\n",
    "    rnn = LSTM(M, return_state=True, return_sequences=True)\n",
    "    # rnn = GRU(M, return_state=True)\n",
    "    x = rnn(input_)\n",
    "\n",
    "    model = Model(inputs=input_, outputs=x)\n",
    "    o, h, c = model.predict(X)\n",
    "    print(\"o:\", o)\n",
    "    print(\"h:\", h)\n",
    "    print(\"c:\", c)\n",
    "\n",
    "print(\"lstm2:\")\n",
    "lstm2()\n"
   ]
  },
  {
   "cell_type": "code",
   "execution_count": 8,
   "metadata": {},
   "outputs": [
    {
     "name": "stdout",
     "output_type": "stream",
     "text": [
      "gru1:\n",
      "o: [[-0.20170054 -0.51547587 -0.3959277 ]]\n",
      "h: [[-0.20170054 -0.51547587 -0.3959277 ]]\n"
     ]
    }
   ],
   "source": [
    "def gru1():\n",
    "    input_ = Input(shape=(T, D))\n",
    "    rnn = GRU(M, return_state=True)\n",
    "    x = rnn(input_)\n",
    "\n",
    "    model = Model(inputs=input_, outputs=x)\n",
    "    o, h = model.predict(X)\n",
    "    print(\"o:\", o)\n",
    "    print(\"h:\", h)\n",
    "\n",
    "print(\"gru1:\")\n",
    "gru1()"
   ]
  },
  {
   "cell_type": "code",
   "execution_count": 10,
   "metadata": {},
   "outputs": [
    {
     "name": "stdout",
     "output_type": "stream",
     "text": [
      "gru2:\n",
      "o:[[[ 0.11412916 -0.12037048 -0.08807308]\n",
      "  [-0.04899482 -0.13237429 -0.37075138]\n",
      "  [-0.2735762  -0.22598538 -0.97016907]\n",
      "  [-0.42028093 -0.15863864 -0.68616873]\n",
      "  [-0.689677    0.0127814  -0.52059066]\n",
      "  [-0.21001369 -0.05192477 -0.16916846]\n",
      "  [ 0.03749506 -0.22877488 -0.17279106]\n",
      "  [-0.06917083 -0.19794294 -0.40561715]]] (1, 8, 3)\n",
      "h: [[-0.06917083 -0.19794294 -0.40561715]]\n"
     ]
    }
   ],
   "source": [
    "def gru2():\n",
    "    input_ = Input(shape=(T, D))\n",
    "    rnn = GRU(M, return_state=True, return_sequences=True)\n",
    "    x = rnn(input_)\n",
    "\n",
    "    model = Model(inputs=input_, outputs=x)\n",
    "    o, h = model.predict(X)\n",
    "    print(\"o:{} {}\".format(o,o.shape))\n",
    "    print(\"h:\", h)\n",
    "\n",
    "print(\"gru2:\")\n",
    "gru2()    "
   ]
  }
 ],
 "metadata": {
  "kernelspec": {
   "display_name": "Python 3",
   "language": "python",
   "name": "python3"
  },
  "language_info": {
   "codemirror_mode": {
    "name": "ipython",
    "version": 3
   },
   "file_extension": ".py",
   "mimetype": "text/x-python",
   "name": "python",
   "nbconvert_exporter": "python",
   "pygments_lexer": "ipython3",
   "version": "3.5.2"
  },
  "toc": {
   "base_numbering": 1,
   "nav_menu": {},
   "number_sections": true,
   "sideBar": true,
   "skip_h1_title": false,
   "title_cell": "Table of Contents",
   "title_sidebar": "Contents",
   "toc_cell": false,
   "toc_position": {},
   "toc_section_display": true,
   "toc_window_display": false
  },
  "varInspector": {
   "cols": {
    "lenName": 16,
    "lenType": 16,
    "lenVar": 40
   },
   "kernels_config": {
    "python": {
     "delete_cmd_postfix": "",
     "delete_cmd_prefix": "del ",
     "library": "var_list.py",
     "varRefreshCmd": "print(var_dic_list())"
    },
    "r": {
     "delete_cmd_postfix": ") ",
     "delete_cmd_prefix": "rm(",
     "library": "var_list.r",
     "varRefreshCmd": "cat(var_dic_list()) "
    }
   },
   "types_to_exclude": [
    "module",
    "function",
    "builtin_function_or_method",
    "instance",
    "_Feature"
   ],
   "window_display": false
  }
 },
 "nbformat": 4,
 "nbformat_minor": 2
}
