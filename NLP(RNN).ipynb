{
 "cells": [
  {
   "cell_type": "markdown",
   "metadata": {},
   "source": [
    "### Numerical Calculation (RNN)\n",
    "\n",
    "- suppose\n",
    "    - T = 20(sequence length)\n",
    "    - D = 10 (input dimensionality)\n",
    "    - M = 15 (hidden layer size)\n",
    "    - K = 3 ( number of output classes)\n",
    "- input to hidden  = 10 x 15 = 150\n",
    "- hidden to hidden = 15 x 15 = 225\n",
    "- hidden to output = 15 x 3 = 45\n",
    "\n",
    "#### numerical calculation(feedforward)\n",
    "\n",
    "- suppose\n",
    "    - T = 20(sequence length)\n",
    "    - D = 10 (input dimensionality)\n",
    "    - M = 15 (hidden layer size)\n",
    "    - K = 3 ( number of output classes)\n",
    "- input to hidden  = T x D x T x M = 60000\n",
    "- hidden to output = T x M x T x K = 18000\n"
   ]
  },
  {
   "cell_type": "markdown",
   "metadata": {},
   "source": [
    "### GRU\n",
    "- Gates allow you to remember or forget values \n",
    "![](https://camo.githubusercontent.com/95a102b5d99519445225116914b2cb76f4c75df9/68747470733a2f2f696d6167652e736c696465736861726563646e2e636f6d2f6e6c70646c3036666f72736c6964657368617265656e6768656c7665746963612d3136303730363032323732332f39352f726563656e742d70726f67726573732d696e2d726e6e2d616e642d6e6c702d352d3633382e6a70673f63623d31343637383433363034)"
   ]
  },
  {
   "cell_type": "markdown",
   "metadata": {},
   "source": [
    "#### GRU\n",
    "\\begin{equation*}\n",
    "z_t = Update\\ gate \\\\ \n",
    "r_t = reset\\ gate  \\\\\n",
    "\\hat{h}_t =  Candidate\\ state\\\\\n",
    "h_t = Next\\ State\\\\\n",
    "\\end{equation*}\n"
   ]
  },
  {
   "cell_type": "markdown",
   "metadata": {},
   "source": [
    "#### LSTM\n",
    "\\begin{equation*}\n",
    "Forget\\ gate = f_t \\\\ \n",
    "Input\\ gate= i_t  \\\\\n",
    "Output\\ gate = O_t \\\\\n",
    "Candidate\\ cell = \\hat{c}_t \\\\\n",
    "Cell\\ state = c_t\\\\\n",
    "Hiddel\\ state = h_t\n",
    "\\end{equation*}\n"
   ]
  },
  {
   "cell_type": "markdown",
   "metadata": {},
   "source": [
    "### In Keras\n",
    "- Normally, a layer outputs one thing\n",
    "  - output = Dense(128)(input)\n",
    "- For recurrent units, we can return hidden state as well( pass in return_state = True)\n",
    "- output,h = GRU(128,return_state=True)(input)\n",
    "- output,h = LSTM(128,return_state = True)(input)\n",
    "\n",
    "- output,h ,c = LSTM(128, return_state=True,return_sequence=True)(input)\n",
    "__output is a sequence but h,c is not a sequence__"
   ]
  },
  {
   "cell_type": "markdown",
   "metadata": {},
   "source": [
    "### RNN Input\n",
    "- T x D\n",
    "- T = sequence length, D= input dimensionality\n",
    "- \"The quick brown fox jumps\"\n",
    "- if we have 5 words and my word vectors are of size 50, then the input to my LSTM or GRU will be of size 5 x 50\n",
    "\n",
    "### RNN Input Example\n",
    "- For example, suppose we measure the temperature at 10 different weather stations every hour for one day\n",
    "- then D = 10, T = 24\n",
    "- RNN input size is 24 x 10"
   ]
  },
  {
   "cell_type": "markdown",
   "metadata": {},
   "source": [
    "### Spam Classification\n",
    "- given some input x(1),...,x(100), I get some output y(1),...,y(100)\n",
    "- we only have one question: Is this email spam or not?\n",
    "    - The answer is either \"yes\" or \"no\"\n",
    "- It makes sense to take y(100) as my answer, since only y(100) has seen the entire email\n",
    "- __In Keras, just set return_sequence= False, automatically returns last output y(100)__"
   ]
  },
  {
   "cell_type": "markdown",
   "metadata": {},
   "source": [
    "### Fancy method\n",
    "\n",
    "\\begin{equation*}\n",
    "h^* = global\\ max\\ pool\\ {h(t)}\\\\\n",
    "\\end{equation*}\n"
   ]
  },
  {
   "cell_type": "markdown",
   "metadata": {},
   "source": [
    "### Categories of Tasks\n",
    "![](https://cn.bing.com/th?id=OIP.RsRIEyJyfgvisdW363CbDwHaCU&pid=Api&rs=1&p=0)"
   ]
  },
  {
   "cell_type": "markdown",
   "metadata": {},
   "source": [
    "- one to one : FeedForward\n",
    "- one to many: Poetry generation\n",
    "- many to one : Spam classification, Sentiment Analysis\n",
    "- meny to many : Machine Translation, Chatbots, Questions Answering\n",
    "- many to many 2 : Parts of speech named entity"
   ]
  },
  {
   "cell_type": "markdown",
   "metadata": {},
   "source": [
    "### Code"
   ]
  },
  {
   "cell_type": "code",
   "execution_count": 1,
   "metadata": {},
   "outputs": [
    {
     "name": "stderr",
     "output_type": "stream",
     "text": [
      "Using TensorFlow backend.\n"
     ]
    }
   ],
   "source": [
    "from keras.models import Model\n",
    "from keras.layers import Input, LSTM, GRU\n",
    "import numpy as np\n",
    "import matplotlib.pyplot as plt\n",
    "\n",
    "import keras.backend as K\n",
    "if len(K.tensorflow_backend._get_available_gpus()) > 0:\n",
    "    from keras.layers import CuDNNLSTM as LSTM\n",
    "    from keras.layers import CuDNNGRU as GRU\n"
   ]
  },
  {
   "cell_type": "code",
   "execution_count": 2,
   "metadata": {},
   "outputs": [],
   "source": [
    "T = 8\n",
    "D = 2\n",
    "M = 3\n"
   ]
  },
  {
   "cell_type": "code",
   "execution_count": 3,
   "metadata": {},
   "outputs": [
    {
     "name": "stdout",
     "output_type": "stream",
     "text": [
      "(1, 8, 2)\n"
     ]
    }
   ],
   "source": [
    "X = np.random.randn(1, T, D)\n",
    "print(X.shape)"
   ]
  },
  {
   "cell_type": "code",
   "execution_count": 4,
   "metadata": {},
   "outputs": [
    {
     "name": "stdout",
     "output_type": "stream",
     "text": [
      "lstm1:\n",
      "o:[[ 0.25899306  0.07822097 -0.22339009]] (1, 3)\n",
      "h: [[ 0.25899306  0.07822097 -0.22339009]]\n",
      "c: [[ 0.63566405  0.22161505 -0.34867376]]\n"
     ]
    }
   ],
   "source": [
    "def lstm1():\n",
    "    input_ = Input(shape=(T, D))\n",
    "    rnn = LSTM(M, return_state=True)\n",
    "    x = rnn(input_)\n",
    "\n",
    "    model = Model(inputs=input_, outputs=x)\n",
    "    o, h, c = model.predict(X)\n",
    "    print(\"o:{} {}\".format(o,o.shape))\n",
    "    print(\"h:\", h)\n",
    "    print(\"c:\", c)\n",
    "\n",
    "print(\"lstm1:\")\n",
    "lstm1()\n",
    "    \n"
   ]
  },
  {
   "cell_type": "code",
   "execution_count": 5,
   "metadata": {},
   "outputs": [
    {
     "name": "stdout",
     "output_type": "stream",
     "text": [
      "lstm2:\n",
      "o: [[[ 0.01824485  0.04186786  0.18939623]\n",
      "  [ 0.14611624  0.05766922  0.08710869]\n",
      "  [ 0.34080002 -0.01078751 -0.05276807]\n",
      "  [ 0.01505907 -0.00545329 -0.06489272]\n",
      "  [ 0.26224163  0.04613005 -0.04816915]\n",
      "  [-0.19226253 -0.11242486 -0.12610993]\n",
      "  [-0.29883868 -0.26215795 -0.1649565 ]\n",
      "  [-0.13354035 -0.10853981 -0.1754228 ]]]\n",
      "o.shape: (1, 8, 3)\n",
      "h: [[-0.13354035 -0.10853981 -0.1754228 ]]\n",
      "c: [[-0.35682207 -0.2680019  -0.27919272]]\n",
      "X:[[[-1.37472998 -0.52175927]\n",
      "  [-0.00436552  0.68916345]\n",
      "  [ 1.53497601  1.64563988]\n",
      "  [ 0.24716274 -0.59502862]\n",
      "  [-0.06654198  1.38419831]\n",
      "  [ 1.9396882  -0.42683302]\n",
      "  [ 1.85916794 -1.05389072]\n",
      "  [-1.76138438  0.47224838]]]\n"
     ]
    }
   ],
   "source": [
    "def lstm2():\n",
    "    input_ = Input(shape=(T, D))\n",
    "    rnn = LSTM(M, return_state=True, return_sequences=True)\n",
    "    # rnn = GRU(M, return_state=True)\n",
    "    x = rnn(input_)\n",
    "\n",
    "    model = Model(inputs=input_, outputs=x)\n",
    "    o, h, c = model.predict(X)\n",
    "    print(\"o:\", o)\n",
    "    print(\"o.shape:\", o.shape)\n",
    "    print(\"h:\", h)\n",
    "    print(\"c:\", c)\n",
    "\n",
    "print(\"lstm2:\")\n",
    "lstm2()\n",
    "print(\"X:{}\".format(X))"
   ]
  },
  {
   "cell_type": "code",
   "execution_count": 7,
   "metadata": {},
   "outputs": [
    {
     "name": "stdout",
     "output_type": "stream",
     "text": [
      "gru1:\n",
      "o: [[-0.27315468  0.0828017   0.03757757]]\n",
      "o.shape: (1, 3)\n",
      "h: [[-0.27315468  0.0828017   0.03757757]]\n"
     ]
    }
   ],
   "source": [
    "def gru1():\n",
    "    input_ = Input(shape=(T, D))\n",
    "    rnn = GRU(M, return_state=True)\n",
    "    x = rnn(input_)\n",
    "\n",
    "    model = Model(inputs=input_, outputs=x)\n",
    "    o, h = model.predict(X)\n",
    "    print(\"o:\", o)\n",
    "    print(\"o.shape:\", o.shape)\n",
    "    print(\"h:\", h)\n",
    "\n",
    "print(\"gru1:\")\n",
    "gru1()"
   ]
  },
  {
   "cell_type": "code",
   "execution_count": 8,
   "metadata": {},
   "outputs": [
    {
     "name": "stdout",
     "output_type": "stream",
     "text": [
      "gru2:\n",
      "o:[[[ 0.12943846 -0.07717463 -0.02388917]\n",
      "  [ 0.28738564 -0.04693612 -0.1245046 ]\n",
      "  [ 0.20431     0.06732592 -0.23698243]\n",
      "  [-0.15020794  0.05190871 -0.03193881]\n",
      "  [ 0.33300433  0.06397247 -0.21179497]\n",
      "  [-0.56458634  0.11294359  0.09440236]\n",
      "  [-0.85476255  0.17229506  0.37410137]\n",
      "  [-0.2616035   0.02520172  0.07869992]]] (1, 8, 3)\n",
      "h: [[-0.2616035   0.02520172  0.07869992]]\n"
     ]
    }
   ],
   "source": [
    "def gru2():\n",
    "    input_ = Input(shape=(T, D))\n",
    "    rnn = GRU(M, return_state=True, return_sequences=True)\n",
    "    x = rnn(input_)\n",
    "\n",
    "    model = Model(inputs=input_, outputs=x)\n",
    "    o, h = model.predict(X)\n",
    "    print(\"o:{} {}\".format(o,o.shape))\n",
    "    print(\"h:\", h)\n",
    "\n",
    "print(\"gru2:\")\n",
    "gru2()    "
   ]
  }
 ],
 "metadata": {
  "kernelspec": {
   "display_name": "Python 3",
   "language": "python",
   "name": "python3"
  },
  "language_info": {
   "codemirror_mode": {
    "name": "ipython",
    "version": 3
   },
   "file_extension": ".py",
   "mimetype": "text/x-python",
   "name": "python",
   "nbconvert_exporter": "python",
   "pygments_lexer": "ipython3",
   "version": "3.5.2"
  },
  "toc": {
   "base_numbering": 1,
   "nav_menu": {},
   "number_sections": true,
   "sideBar": true,
   "skip_h1_title": false,
   "title_cell": "Table of Contents",
   "title_sidebar": "Contents",
   "toc_cell": false,
   "toc_position": {},
   "toc_section_display": true,
   "toc_window_display": false
  },
  "varInspector": {
   "cols": {
    "lenName": 16,
    "lenType": 16,
    "lenVar": 40
   },
   "kernels_config": {
    "python": {
     "delete_cmd_postfix": "",
     "delete_cmd_prefix": "del ",
     "library": "var_list.py",
     "varRefreshCmd": "print(var_dic_list())"
    },
    "r": {
     "delete_cmd_postfix": ") ",
     "delete_cmd_prefix": "rm(",
     "library": "var_list.r",
     "varRefreshCmd": "cat(var_dic_list()) "
    }
   },
   "types_to_exclude": [
    "module",
    "function",
    "builtin_function_or_method",
    "instance",
    "_Feature"
   ],
   "window_display": false
  }
 },
 "nbformat": 4,
 "nbformat_minor": 2
}
