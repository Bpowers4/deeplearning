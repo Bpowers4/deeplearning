{
 "cells": [
  {
   "cell_type": "code",
   "execution_count": null,
   "metadata": {},
   "outputs": [],
   "source": [
    "import numpy as np\n",
    "from sklearn.datasets import load_wine\n",
    "from sklearn.preprocessing import MinMaxScaler, OneHotEncoder\n",
    "from keras.layers import Dense, Input, concatenate, Dropout\n",
    "from keras.models import Model\n",
    "from keras.optimizers import rmsprop\n",
    "\n",
    "dataset = load_wine()\n",
    "\n",
    "ensemble_num = 10 # number of sub-networks\n",
    "bootstrap_size = 0.8 # 80% size of original (training) dataset\n",
    "training_size = 0.8 # 80% for training, 20% for test\n",
    "\n",
    "num_hidden_neurons = 10 # number of neurons in hidden layer\n",
    "dropout = 0.25 # percentage of weights dropped out before softmax output (this prevents overfitting)\n",
    "\n",
    "epochs = 200 # number of epochs (complete training episodes over the training set) to run\n",
    "batch = 10 # mini batch size for better convergence\n",
    "\n",
    "# get the holdout training and test set\n",
    "temp = []\n",
    "scaler = MinMaxScaler()\n",
    "one_hot = OneHotEncoder() # one hot encode the target classes\n",
    "dataset['data'] = scaler.fit_transform(dataset['data'])\n",
    "dataset['target'] = one_hot.fit_transform(np.reshape(dataset['target'], (-1,1)) ).toarray()\n",
    "for i in range(len(dataset.data)):\n",
    "    temp.append([dataset['data'][i], np.array(dataset['target'][i])])\n",
    "\n",
    "# shuffle the row of data and targets\n",
    "temp = np.array(temp)\n",
    "np.random.shuffle(temp)\n",
    "# holdout training and test stop index\n",
    "stop = int(training_size*len(dataset.data))\n",
    "\n",
    "train_X = np.array([x for x in temp[:stop,0]])\n",
    "train_Y = np.array([x for x in temp[:stop,1]])\n",
    "test_X = np.array([x for x in temp[stop:,0]])\n",
    "test_Y = np.array([x for x in temp[stop:,1]])\n",
    "\n",
    "# now build the ensemble neural network\n",
    "# first, let's build the individual sub-networks, each\n",
    "# as a Keras functional model.\n",
    "sub_net_outputs = []\n",
    "sub_net_inputs = []\n",
    "for i in range(ensemble_num):\n",
    "    # two hidden layers to keep it simple\n",
    "    # specify input shape to the shape of the training set\n",
    "    net_input = Input(shape = (train_X.shape[1],))\n",
    "    sub_net_inputs.append(net_input)\n",
    "    y = Dense(num_hidden_neurons)(net_input)\n",
    "    y = Dense(num_hidden_neurons)(y)\n",
    "    y = Dropout(dropout)(y)\n",
    "    sub_net_outputs.append(y) # sub_nets contains the output tensors\n",
    "\n",
    "# now concatenate the output tensors\n",
    "y = concatenate(sub_net_outputs)\n",
    "\n",
    "# final softmax output layer\n",
    "y = Dense(train_Y[0].shape[0], activation='softmax')(y)\n",
    "\n",
    "# now build the whole funtional model\n",
    "model = Model(inputs=sub_net_inputs, outputs=y)\n",
    "model.compile(optimizer='rmsprop', loss='categorical_crossentropy')\n",
    "\n",
    "print(\"Begin training...\")\n",
    "\n",
    "# train the model\n",
    "model.fit( [train_X] * ensemble_num, train_Y,validation_data=[ [test_X] * ensemble_num, test_Y],\n",
    "          epochs=epochs, batch_size=batch)"
   ]
  },
  {
   "cell_type": "code",
   "execution_count": null,
   "metadata": {},
   "outputs": [],
   "source": [
    "from keras.preprocessing.image import ImageDataGenerator\n",
    "width, height, channels = trainX.shape[1], trainX.shape[2], 1\n",
    "trainX = trainX.reshape((trainX.shape[0], width, height, channels))\n",
    "testX = testX.reshape((testX.shape[0], width, height, channels))\n",
    "# one hot encode target values\n",
    "trainY = to_categorical(trainY)\n",
    "testY = to_categorical(testY)\n",
    "\n",
    "datagen = ImageDataGenerator(rescale=1.0/255.0)\n",
    "# prepare an iterators to scale images\n",
    "train_iterator = datagen.flow(trainX, trainY, batch_size=64)\n",
    "print(train_iterator)\n",
    "test_iterator = datagen.flow(testX, testY, batch_size=64)\n",
    "print('Batches train=%d, test=%d' % (len(train_iterator), len(test_iterator)))\n",
    "# confirm the scaling works\n",
    "batchX, batchy = train_iterator.next()\n"
   ]
  }
 ],
 "metadata": {
  "kernelspec": {
   "display_name": "Python 3",
   "language": "python",
   "name": "python3"
  },
  "language_info": {
   "codemirror_mode": {
    "name": "ipython",
    "version": 3
   },
   "file_extension": ".py",
   "mimetype": "text/x-python",
   "name": "python",
   "nbconvert_exporter": "python",
   "pygments_lexer": "ipython3",
   "version": "3.5.2"
  },
  "toc": {
   "base_numbering": 1,
   "nav_menu": {},
   "number_sections": true,
   "sideBar": true,
   "skip_h1_title": false,
   "title_cell": "Table of Contents",
   "title_sidebar": "Contents",
   "toc_cell": false,
   "toc_position": {},
   "toc_section_display": true,
   "toc_window_display": false
  },
  "varInspector": {
   "cols": {
    "lenName": 16,
    "lenType": 16,
    "lenVar": 40
   },
   "kernels_config": {
    "python": {
     "delete_cmd_postfix": "",
     "delete_cmd_prefix": "del ",
     "library": "var_list.py",
     "varRefreshCmd": "print(var_dic_list())"
    },
    "r": {
     "delete_cmd_postfix": ") ",
     "delete_cmd_prefix": "rm(",
     "library": "var_list.r",
     "varRefreshCmd": "cat(var_dic_list()) "
    }
   },
   "types_to_exclude": [
    "module",
    "function",
    "builtin_function_or_method",
    "instance",
    "_Feature"
   ],
   "window_display": false
  }
 },
 "nbformat": 4,
 "nbformat_minor": 2
}
