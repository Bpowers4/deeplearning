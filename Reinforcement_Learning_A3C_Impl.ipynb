{
 "cells": [
  {
   "cell_type": "markdown",
   "metadata": {},
   "source": [
    "- main (global policy and value networks)\n",
    "    - Create and coordinate workers \n",
    "    - check CPUs available, create threads and workers\n",
    "    - Initialize global thread safe counter,every workers know when to quit\n",
    "    \n",
    "- worker (contains local policy and value networks)\n",
    "    - copy weights from global network\n",
    "    - play episodes\n",
    "    - send gradients back to master\n",
    "\n",
    "\\begin{equation*}\n",
    "g_{local} = \\frac {\\partial L(\\theta_{local})}{\\partial \\theta_{local}} \\\\\n",
    "\\theta_{global} = \\theta_{global} - \\eta g_{local}\\\\\n",
    "\\end{equation*}\n",
    "    \n",
    "- nets\n",
    "    - definition of poilicy and value network\n",
    "    - variable scopes\n",
    "    - \"reuse\" arguments"
   ]
  },
  {
   "cell_type": "code",
   "execution_count": 1,
   "metadata": {},
   "outputs": [],
   "source": [
    "import tensorflow as tf"
   ]
  },
  {
   "cell_type": "code",
   "execution_count": null,
   "metadata": {},
   "outputs": [],
   "source": [
    "class PolicyNetwork:\n",
    "    def __init__(self, num_outputs, reg=0.01):\n",
    "        \n",
    "        self.num_outputs = num_outputs\n",
    "        \n",
    "        self.states = tf.placeholder(shape=[None, 84, 84, 4], dtype=tf.uint8, name=\"X\")\n",
    "        \n",
    "        # Advantage = G - V(s)\n",
    "        self.advantage = tf.placeholder(shape=[None], dtype=tf.float32, name=\"y\")\n",
    "        \n",
    "        # Selected actions\n",
    "        self.actions = tf.placeholder(shape=[None], dtype=tf.int32, name=\"actions\")\n",
    "        \n",
    "        # Since we set reuse=False here, that means we MUST\n",
    "        # create the PolicyNetwork before creating the ValueNetwork\n",
    "        # ValueNetwork will use reuse=True\n",
    "        with tf.variable_scope(\"shared\", reuse=False):\n",
    "            fc1 = build_feature_extractor(self.states)\n",
    "        \n",
    "        # Use a separate scope for output and loss\n",
    "        with tf.variable_scope(\"policy_network\"):\n",
    "            self.logits = tf.contrib.layers.fully_connected(fc1, num_outputs, activation_fn=None)\n",
    "            self.probs = tf.nn.softmax(self.logits)\n",
    "            \n",
    "            # Sample an action\n",
    "            cdist = tf.distributions.Categorical(logits=self.logits)\n",
    "            self.sample_action = cdist.sample()\n",
    "            \n",
    "            # Add regularization to increase exploration\n",
    "            self.entropy = -tf.reduce_sum(self.probs * tf.log(self.probs), axis=1)\n",
    "            \n",
    "            # Get the predictions for the chosen actions only\n",
    "            batch_size = tf.shape(self.states)[0]\n",
    "            gather_indices = tf.range(batch_size) * tf.shape(self.probs)[1] + self.actions\n",
    "            self.selected_action_probs = tf.gather(tf.reshape(self.probs, [-1]), gather_indices)\n"
   ]
  },
  {
   "cell_type": "markdown",
   "metadata": {},
   "source": [
    "### Scratch"
   ]
  },
  {
   "cell_type": "code",
   "execution_count": 2,
   "metadata": {},
   "outputs": [],
   "source": [
    "sess = tf.InteractiveSession()"
   ]
  },
  {
   "cell_type": "code",
   "execution_count": 29,
   "metadata": {},
   "outputs": [
    {
     "data": {
      "text/plain": [
       "0"
      ]
     },
     "execution_count": 29,
     "metadata": {},
     "output_type": "execute_result"
    }
   ],
   "source": [
    "import numpy as np\n",
    "cdist = tf.distributions.Categorical(logits=np.log([0.6,0.1,0.4]))\n",
    "sess.run(cdist.sample())"
   ]
  },
  {
   "cell_type": "code",
   "execution_count": 38,
   "metadata": {},
   "outputs": [
    {
     "data": {
      "text/plain": [
       "(5,)"
      ]
     },
     "execution_count": 38,
     "metadata": {},
     "output_type": "execute_result"
    }
   ],
   "source": [
    "batch_size = 5\n",
    "outrange = sess.run(tf.range(batch_size))\n",
    "outrange.shape"
   ]
  },
  {
   "cell_type": "code",
   "execution_count": 53,
   "metadata": {},
   "outputs": [
    {
     "data": {
      "text/plain": [
       "3"
      ]
     },
     "execution_count": 53,
     "metadata": {},
     "output_type": "execute_result"
    }
   ],
   "source": [
    "X = tf.placeholder(tf.float32,[None,4])\n",
    "Y = tf.placeholder(tf.float32,[None,3])\n",
    "\n",
    "W = tf.Variable(tf.zeros([4,3]),name='weight')\n",
    "b = tf.Variable(tf.zeros([3]),name='bias')\n",
    "H = tf.nn.softmax(tf.matmul(X,W)+b)\n",
    "\n",
    "# sess.run(H.eval())\n",
    "# sess.run(tf.constant([0,1,2,3]))\n",
    "\n",
    "sess.run(tf.shape(tf.nn.softmax(tf.constant([0.1,0.3,0.6])))[0])\n"
   ]
  },
  {
   "cell_type": "code",
   "execution_count": 59,
   "metadata": {},
   "outputs": [
    {
     "data": {
      "text/plain": [
       "array([ 0,  3,  6,  9, 12], dtype=int32)"
      ]
     },
     "execution_count": 59,
     "metadata": {},
     "output_type": "execute_result"
    }
   ],
   "source": [
    "actions = tf.constant([0,1,2,3,4])\n",
    "gather_indices = tf.range(5) * tf.shape(tf.zeros([2,3]))[1] #+ actions\n",
    "sess.run(gather_indices)"
   ]
  }
 ],
 "metadata": {
  "kernelspec": {
   "display_name": "Python 3",
   "language": "python",
   "name": "python3"
  },
  "language_info": {
   "codemirror_mode": {
    "name": "ipython",
    "version": 3
   },
   "file_extension": ".py",
   "mimetype": "text/x-python",
   "name": "python",
   "nbconvert_exporter": "python",
   "pygments_lexer": "ipython3",
   "version": "3.5.2"
  },
  "toc": {
   "base_numbering": 1,
   "nav_menu": {},
   "number_sections": true,
   "sideBar": true,
   "skip_h1_title": false,
   "title_cell": "Table of Contents",
   "title_sidebar": "Contents",
   "toc_cell": false,
   "toc_position": {},
   "toc_section_display": true,
   "toc_window_display": false
  },
  "varInspector": {
   "cols": {
    "lenName": 16,
    "lenType": 16,
    "lenVar": 40
   },
   "kernels_config": {
    "python": {
     "delete_cmd_postfix": "",
     "delete_cmd_prefix": "del ",
     "library": "var_list.py",
     "varRefreshCmd": "print(var_dic_list())"
    },
    "r": {
     "delete_cmd_postfix": ") ",
     "delete_cmd_prefix": "rm(",
     "library": "var_list.r",
     "varRefreshCmd": "cat(var_dic_list()) "
    }
   },
   "types_to_exclude": [
    "module",
    "function",
    "builtin_function_or_method",
    "instance",
    "_Feature"
   ],
   "window_display": false
  }
 },
 "nbformat": 4,
 "nbformat_minor": 2
}
