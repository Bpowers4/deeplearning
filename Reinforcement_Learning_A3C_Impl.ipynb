{
 "cells": [
  {
   "cell_type": "markdown",
   "metadata": {},
   "source": [
    "- main (global policy and value networks)\n",
    "    - Create and coordinate workers \n",
    "    - check CPUs available, create threads and workers\n",
    "    - Initialize global thread safe counter,every workers know when to quit\n",
    "    \n",
    "- worker (contains local policy and value networks)\n",
    "    - copy weights from global network\n",
    "    - play episodes\n",
    "    - send gradients back to master\n",
    "\n",
    "\\begin{equation*}\n",
    "g_{local} = \\frac {\\partial L(\\theta_{local})}{\\partial \\theta_{local}} \\\\\n",
    "\\theta_{global} = \\theta_{global} - \\eta g_{local}\n",
    "\\end{equation*}\n",
    "    \n",
    "- nets\n",
    "    - definition of poilicy and value network\n",
    "    - variable scopes\n",
    "    - \"reuse\" arguments"
   ]
  },
  {
   "cell_type": "code",
   "execution_count": null,
   "metadata": {},
   "outputs": [],
   "source": []
  }
 ],
 "metadata": {
  "kernelspec": {
   "display_name": "Python 3",
   "language": "python",
   "name": "python3"
  },
  "language_info": {
   "codemirror_mode": {
    "name": "ipython",
    "version": 3
   },
   "file_extension": ".py",
   "mimetype": "text/x-python",
   "name": "python",
   "nbconvert_exporter": "python",
   "pygments_lexer": "ipython3",
   "version": "3.5.2"
  },
  "toc": {
   "base_numbering": 1,
   "nav_menu": {},
   "number_sections": true,
   "sideBar": true,
   "skip_h1_title": false,
   "title_cell": "Table of Contents",
   "title_sidebar": "Contents",
   "toc_cell": false,
   "toc_position": {},
   "toc_section_display": true,
   "toc_window_display": false
  },
  "varInspector": {
   "cols": {
    "lenName": 16,
    "lenType": 16,
    "lenVar": 40
   },
   "kernels_config": {
    "python": {
     "delete_cmd_postfix": "",
     "delete_cmd_prefix": "del ",
     "library": "var_list.py",
     "varRefreshCmd": "print(var_dic_list())"
    },
    "r": {
     "delete_cmd_postfix": ") ",
     "delete_cmd_prefix": "rm(",
     "library": "var_list.r",
     "varRefreshCmd": "cat(var_dic_list()) "
    }
   },
   "types_to_exclude": [
    "module",
    "function",
    "builtin_function_or_method",
    "instance",
    "_Feature"
   ],
   "window_display": false
  }
 },
 "nbformat": 4,
 "nbformat_minor": 2
}
