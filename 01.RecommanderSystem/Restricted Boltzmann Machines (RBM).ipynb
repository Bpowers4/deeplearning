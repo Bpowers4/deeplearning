{
 "cells": [
  {
   "cell_type": "markdown",
   "metadata": {},
   "source": [
    "# Restricted Boltzmann Machines for Collaborative Filtering\n",
    "- Ruslan Salakhutdinov and Andriy Mnih are authours of this paper"
   ]
  },
  {
   "cell_type": "markdown",
   "metadata": {},
   "source": [
    "## RBM architecture\n",
    "\n",
    "![](https://viblo.asia/uploads/e416dffb-642d-4a95-ae27-85cb1b57511b.png)\n",
    "\n",
    "[RBM blog](https://viblo.asia/p/restricted-boltzmann-machine-an-overview-aWj531oQZ6m)\n",
    "\n"
   ]
  },
  {
   "cell_type": "markdown",
   "metadata": {},
   "source": [
    "- Visible - v\n",
    "- Hidden - h\n",
    "- Can calculate h from v (v -> h)\n",
    "- Can also calculate v from h! (h -> v)"
   ]
  },
  {
   "cell_type": "markdown",
   "metadata": {},
   "source": [
    "## Bernoulli RBMs\n",
    "\n",
    "- Both visible and hidden units can only take on the values 0 and 1\n",
    "- What's Bernoulli?\n",
    "    - Binary random variable - only 2 outcomes\n",
    "    - Coin toss\n",
    "    - whether or not user clicks on advertisement\n",
    "    - whether or not user signs up for website\n",
    "- very useful for web-based applications\n"
   ]
  },
  {
   "cell_type": "markdown",
   "metadata": {},
   "source": [
    "## Key calculations\n",
    "\n",
    "- very intuitive\n",
    "- How to calculate h from v\n",
    "\n",
    "$$\n",
    "\\text{vector form} = p(h=1 |v) = \\sigma(W^{T}v+c)\\\\\n",
    "\\text{Scalar form} = p(h_{j} = 1|v) = \\sigma(\\sum_{i=1}^{D}W_{ij}v_{i}+c_{j}), i = 1...D,j = 1,...M\\\\\n",
    "\\text{len}(v) = D, \\text{len}(h) = M\n",
    "$$"
   ]
  },
  {
   "cell_type": "markdown",
   "metadata": {},
   "source": [
    "- going from h to v\n",
    "- W is a shared weight\n",
    "\n",
    "$$\n",
    "\\text{vector form} = p(v=1 |h) = \\sigma(Wh+b)\\\\\n",
    "\\text{Scalar form} = p(v_{i} = 1|h) = \\sigma(\\sum_{j=1}^{M}W_{ij}h_{j}+b_{i}), i = 1...D,j = 1,...M\\\\\n",
    "\\text{len}(v) = D, \\text{len}(h) = M\n",
    "$$"
   ]
  },
  {
   "cell_type": "markdown",
   "metadata": {},
   "source": [
    "## Both\n",
    "\n",
    "- we only get probabilities\n",
    "- What if I want the actual h?\n",
    "- There's no fixed value - it's a nonsense question\n",
    "- It's like a coin- I can flip the coin to grab a sample\n",
    "- e.g if p($h_{i}=1$|v) = 0.5\n",
    "- sample = np.random.random(p.shape) < p\n",
    "\n",
    "$$\n",
    "p(h=1 |v) = \\sigma(W^{T}v+c)\\\\\n",
    "p(v=1 |h) = \\sigma(Wh+b)\n",
    "$$"
   ]
  },
  {
   "cell_type": "markdown",
   "metadata": {},
   "source": [
    "## Relaxing the Bernoulli constraint\n",
    "\n",
    "- when going from h->v, simply use p(h=1|v) itself as input\n",
    "\n",
    "$$\n",
    "\\tilde{h} = p(h=1|v) = \\sigma(W^{T}v+c)\\\\\n",
    "p(v' = 1|h) = \\sigma(W\\tilde{h}+b)\n",
    "$$"
   ]
  },
  {
   "cell_type": "markdown",
   "metadata": {},
   "source": [
    "## Comparison to Autoencoder\n",
    "- looks familiar\n",
    "\n",
    "$$\n",
    "h = \\sigma(W^{T}v + c)\\\\\n",
    "v' = \\sigma(Wh + b)\n",
    "$$\n",
    "\n",
    "![](https://image.slidesharecdn.com/ucl-irdm-deeplearning-160429080538/95/deep-learning-55-638.jpg?cb=1461917930)"
   ]
  },
  {
   "cell_type": "markdown",
   "metadata": {},
   "source": [
    "- v -> h->v' in RBM, the cross entropy (distance between v and v') will go down as we train, even though we don't optimize it"
   ]
  },
  {
   "cell_type": "markdown",
   "metadata": {},
   "source": [
    "# Motivation Behind RBMs"
   ]
  },
  {
   "cell_type": "markdown",
   "metadata": {},
   "source": [
    "## Boltzmann Machine\n",
    "- Energy of a Boltzmann machine\n",
    "- Goal is to find some equilibrium\n",
    "- Looks like a neural network equation, has a weight matrix, bias term\n",
    "\n",
    "$$\n",
    "E = -(\\sum_{i,j}^{}W_{ij}s_{i}s_{j}+ \\sum_{i}^{}b_{i}s_{i})\n",
    "$$"
   ]
  },
  {
   "cell_type": "markdown",
   "metadata": {},
   "source": [
    "## Training a Boltzmann Machine\n",
    "- Boltzmann machines are difficult to train\n",
    "- only works on trivial examples\n",
    "- Restricted Boltzmann machines do train well, and scale up to non-trivial problems\n",
    "\n",
    "$$\n",
    "G = \\sum_{v}^{}P^{+}(v)ln(\\frac{P^{+}(v)}{P^{-}(v)})\n",
    "$$"
   ]
  },
  {
   "cell_type": "markdown",
   "metadata": {},
   "source": [
    "## Restricted Boltzmann Machine\n",
    "- Discard any connections between hidden-hidden and visible-visible\n",
    "\n",
    "![](https://cn.bing.com/th?id=OIP.TWt5Uc1QlbKUoJvObnUzgQHaDi&pid=Api&rs=1)"
   ]
  },
  {
   "cell_type": "markdown",
   "metadata": {},
   "source": [
    "## Energy of an EBM\n",
    "\n",
    "$$\n",
    "E(v,h) = -(\\sum_{i=1}^{D}\\sum_{j=1}^{M}W_{ij}v_{i}h_{j}+\\sum_{i=1}^{D}b_{i}v_{i}+\\sum_{j=1}^{M}c_{j}h_{j})\\\\\n",
    "E(v,h) = -(v^{T}Wh+b^{T}v+c^{T}h)\n",
    "$$"
   ]
  },
  {
   "cell_type": "markdown",
   "metadata": {},
   "source": [
    "## Action plan\n",
    "- How does the energy function lead us to a probabilistic model?\n",
    "- How does the probabilistic model lead us to the neural network equations?\n",
    "    - It's quite remarkable that this energy function could lead us back to the same neural network equations we are already familiar with"
   ]
  },
  {
   "cell_type": "markdown",
   "metadata": {},
   "source": [
    "## Probability Model\n",
    "$$\n",
    "p(v,h) \\propto e^{-E(v,h)}\\\\\n",
    "p(v,h) = \\frac{1}{Z}e^{-E(v,h)}, Z = \\sum_{v}^{}\\sum_{h}^{}e^{-E(v,h)}\\\\\n",
    "\\text{so that}: \\sum_{v}^{}\\sum_{h}^{}p(v,h) = 1\n",
    "$$"
   ]
  },
  {
   "cell_type": "markdown",
   "metadata": {},
   "source": [
    "## Why?\n",
    "- General outline: $p_{i}$ is the probability that a system is in a microstate with energy $E_{i}$\n",
    "- T = temperature, Z = partition function\n",
    "\n",
    "$$\n",
    "p_{i} \\propto e^{-E_{i}/(kT)}\\\\\n",
    "p_{i} = \\frac{1}{Z}e^{-E_{i}/(kT)}, Z = \\sum_{i}^{}e^{-E_{i}/(kT)}\\\\\n",
    "$$"
   ]
  }
 ],
 "metadata": {
  "kernelspec": {
   "display_name": "Python 3",
   "language": "python",
   "name": "python3"
  },
  "language_info": {
   "codemirror_mode": {
    "name": "ipython",
    "version": 3
   },
   "file_extension": ".py",
   "mimetype": "text/x-python",
   "name": "python",
   "nbconvert_exporter": "python",
   "pygments_lexer": "ipython3",
   "version": "3.5.2"
  },
  "toc": {
   "base_numbering": 1,
   "nav_menu": {},
   "number_sections": true,
   "sideBar": true,
   "skip_h1_title": false,
   "title_cell": "Table of Contents",
   "title_sidebar": "Contents",
   "toc_cell": false,
   "toc_position": {},
   "toc_section_display": true,
   "toc_window_display": false
  },
  "varInspector": {
   "cols": {
    "lenName": 16,
    "lenType": 16,
    "lenVar": 40
   },
   "kernels_config": {
    "python": {
     "delete_cmd_postfix": "",
     "delete_cmd_prefix": "del ",
     "library": "var_list.py",
     "varRefreshCmd": "print(var_dic_list())"
    },
    "r": {
     "delete_cmd_postfix": ") ",
     "delete_cmd_prefix": "rm(",
     "library": "var_list.r",
     "varRefreshCmd": "cat(var_dic_list()) "
    }
   },
   "types_to_exclude": [
    "module",
    "function",
    "builtin_function_or_method",
    "instance",
    "_Feature"
   ],
   "window_display": false
  }
 },
 "nbformat": 4,
 "nbformat_minor": 2
}
