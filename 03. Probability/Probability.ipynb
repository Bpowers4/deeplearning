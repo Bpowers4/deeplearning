{
 "cells": [
  {
   "cell_type": "markdown",
   "metadata": {},
   "source": [
    "# Expectation(Random Variable)\n",
    "\n",
    "The expectation of a random variable is a number that attempts to capture the center of that random variable's distribution. It can be interpreted as the long-run average of many independent samples from the given distribution. More precisely, it is defined as the probability-weighted sum of all possible values in the random variable's support"
   ]
  },
  {
   "cell_type": "markdown",
   "metadata": {},
   "source": [
    "$$\n",
    "\\text{E}[X] = \\sum_{x \\in \\mathcal{X}}xP(x)\n",
    "$$"
   ]
  },
  {
   "cell_type": "markdown",
   "metadata": {},
   "source": [
    "# Variance\n",
    "Whereas expectation provides a measure of centrality, the variance of a random variable quantifies the spread of that random variable's distribution. The variance is the average value of the squared difference between the random variable and its expectation\n",
    "\n",
    "$$\n",
    "\\text{Var}(X) = \\text{E}[(X - \\text{E}[X])^2] \\\\\n",
    "\\text{Var}(X) = \\text{E}(X^2) - \\text{E(X)}^2\n",
    "$$"
   ]
  },
  {
   "cell_type": "markdown",
   "metadata": {},
   "source": [
    "- Example, compute the variance of a die roll, a uniform random variable over the sample space  $\\Omega$ = {1,2,3,4,5,6}\n",
    "\n",
    "$$\n",
    "Var(X) = E[X- E(X)]^2\\\\\n",
    "       = E(X^2) - E(X)^2 \\\\\n",
    "       = (\\sum_{k=1}^{6}k^2 \\cdot \\frac{1}{6}) - (3.5)^2 \\\\\n",
    "       = \\frac{1}{6}\\cdot(1+4+9+16+25+36) - 3.5^2\\\\\n",
    "       = \\frac{1}{6}\\cdot91 - 3.5^2\\\\\n",
    "       \\approx 2.92\n",
    "$$\n"
   ]
  },
  {
   "cell_type": "markdown",
   "metadata": {},
   "source": [
    "# Discrete Random Variable"
   ]
  },
  {
   "cell_type": "markdown",
   "metadata": {},
   "source": [
    "[probability-distributions](https://seeing-theory.brown.edu/probability-distributions/index.html)"
   ]
  },
  {
   "cell_type": "markdown",
   "metadata": {},
   "source": [
    "- A discrete random variable has a finite or countable number of possible values\n",
    "- if X is a discrete random vatiable, then these exists unique nonnegative function f(x), and F(x), such that the following are true\n",
    "\n",
    "$$\n",
    "P(X = x) = f(x)\\\\\n",
    "P(X < x) = F(x)\n",
    "$$\n",
    "\n",
    "- f(x) is the probability mass function \n",
    "- F(x) is the cumulative distribution fuction "
   ]
  },
  {
   "cell_type": "markdown",
   "metadata": {},
   "source": [
    "### Bernoulli distribution \n",
    "\n",
    "$$\n",
    "f(x;p) = \\begin{cases} p & \\text{if } x = 1 \\\\ 1-p & \\text{if } x = 0 \\end{cases}\n",
    "$$"
   ]
  },
  {
   "cell_type": "markdown",
   "metadata": {},
   "source": [
    "### A binomial random variable\n",
    "is the sum of n independent Bernoulli random variables with parameter p. It is frequently used to model the number of successes in a specified number of identical binary experiments, such as the number of heads in five coin tosses.\n",
    "\n",
    "$$\n",
    "f(x; n,p) = \\binom{n}{x}p^{x}(1-p)^{n-x}\n",
    "$$"
   ]
  },
  {
   "cell_type": "markdown",
   "metadata": {},
   "source": [
    "### A Poisson random variable\n",
    "counts the number of events occurring in a fixed interval of time or space, given that these events occur with an average rate λ. This distribution has been used to model events such as meteor showers and goals in a soccer match\n",
    "\n",
    "$$\n",
    "f(x;\\lambda) = \\dfrac{\\lambda^{x}e^{-\\lambda}}{x!}\n",
    "$$"
   ]
  },
  {
   "cell_type": "markdown",
   "metadata": {},
   "source": [
    "# Continuous Random Variable"
   ]
  },
  {
   "cell_type": "markdown",
   "metadata": {},
   "source": [
    "If X is a continuous random variable, then there exists unique nonnegative functions, f(x) and F(x), such that the following are true:\n",
    "$$\n",
    "P(a \\le X \\le b) = \\int_{a}^{b}f(x)dx\\\\\n",
    "P(X \\lt x) = F(x)\n",
    "$$"
   ]
  },
  {
   "cell_type": "markdown",
   "metadata": {},
   "source": [
    "### Uniform distribution\n",
    "\n",
    "$$\n",
    "f(x;a,b) = \\left\\{\\begin{array}{ll} \\dfrac{1}{b-a} \\text{ for } x \\in [a,b]\\\\ 0 \\qquad \\text{ otherwise } \\end{array}\\right.\n",
    "$$"
   ]
  },
  {
   "cell_type": "markdown",
   "metadata": {},
   "source": [
    "### Normal (Gaussian) distribution\n",
    "\n",
    "$$\n",
    "f(x;\\mu, \\sigma^2) = \\dfrac{1}{\\sqrt{2\\pi\\sigma^{2}}} e^{-\\dfrac{(x-\\mu)^{2}}{2\\sigma^{2}}}\n",
    "$$"
   ]
  },
  {
   "cell_type": "markdown",
   "metadata": {},
   "source": [
    "### Beta distribution\n",
    "The beta distribution is a general family of continuous probability distributions bound between 0 and 1. The beta distribution is frequently used as a conjugate prior distribution in Bayesian statistics  \n",
    "\n",
    "$$\n",
    "f(x;\\alpha,\\beta) = \\dfrac{\\Gamma(\\alpha + \\beta)x^{\\alpha - 1}(1-x)^{\\beta - 1}}{\\Gamma(\\alpha)\\Gamma(\\beta)}\n",
    "$$"
   ]
  },
  {
   "cell_type": "markdown",
   "metadata": {},
   "source": [
    "# Reference\n",
    "[basic-probability](https://seeing-theory.brown.edu/doc/basic-probability.pdf)"
   ]
  }
 ],
 "metadata": {
  "kernelspec": {
   "display_name": "Python 3",
   "language": "python",
   "name": "python3"
  },
  "language_info": {
   "codemirror_mode": {
    "name": "ipython",
    "version": 3
   },
   "file_extension": ".py",
   "mimetype": "text/x-python",
   "name": "python",
   "nbconvert_exporter": "python",
   "pygments_lexer": "ipython3",
   "version": "3.5.2"
  },
  "toc": {
   "base_numbering": 1,
   "nav_menu": {},
   "number_sections": true,
   "sideBar": true,
   "skip_h1_title": false,
   "title_cell": "Table of Contents",
   "title_sidebar": "Contents",
   "toc_cell": false,
   "toc_position": {},
   "toc_section_display": true,
   "toc_window_display": false
  },
  "varInspector": {
   "cols": {
    "lenName": 16,
    "lenType": 16,
    "lenVar": 40
   },
   "kernels_config": {
    "python": {
     "delete_cmd_postfix": "",
     "delete_cmd_prefix": "del ",
     "library": "var_list.py",
     "varRefreshCmd": "print(var_dic_list())"
    },
    "r": {
     "delete_cmd_postfix": ") ",
     "delete_cmd_prefix": "rm(",
     "library": "var_list.r",
     "varRefreshCmd": "cat(var_dic_list()) "
    }
   },
   "types_to_exclude": [
    "module",
    "function",
    "builtin_function_or_method",
    "instance",
    "_Feature"
   ],
   "window_display": false
  }
 },
 "nbformat": 4,
 "nbformat_minor": 2
}
